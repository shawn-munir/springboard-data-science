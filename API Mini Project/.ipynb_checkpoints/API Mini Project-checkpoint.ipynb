{
 "cells": [
  {
   "cell_type": "markdown",
   "id": "864a7432",
   "metadata": {},
   "source": [
    "This exercise will require you to pull some data from https://data.nasdaq.com/ (formerly Quandl API).\n",
    "\n",
    "As a first step, you will need to register a free account on the https://data.nasdaq.com/ website.\n",
    "\n",
    "After you register, you will be provided with a unique API key, that you should store:\n",
    "\n",
    "Note: Use a .env file and put your key in there and python-dotenv to access it in this notebook.\n",
    "\n",
    "The code below uses a key that was used when generating this project but has since been deleted. Never submit your keys to source control. There is a .env-example file in this repository to illusrtate what you need. Copy that to a file called .env and use your own api key in that .env file. Make sure you also have a .gitignore file with a line for .env added to it.\n",
    "\n",
    "The standard Python gitignore is here you can just copy that."
   ]
  },
  {
   "cell_type": "code",
   "execution_count": 6,
   "id": "229eb00f",
   "metadata": {},
   "outputs": [
    {
     "name": "stdout",
     "output_type": "stream",
     "text": [
      "None\n"
     ]
    }
   ],
   "source": [
    "# get api key from your .env file\n",
    "import os\n",
    "from dotenv import load_dotenv\n",
    "\n",
    "load_dotenv()\n",
    "API_KEY = os.getenv('NASDAQ_API_KEY')\n",
    "\n",
    "print(API_KEY)"
   ]
  },
  {
   "cell_type": "markdown",
   "id": "237f644f",
   "metadata": {},
   "source": [
    "Nasdaq Data has a large number of data sources, but, unfortunately, most of them require a Premium subscription. Still, there are also a good number of free datasets.\n",
    "\n",
    "For this mini project, we will focus on equities data from the Frankfurt Stock Exhange (FSE), which is available for free. We'll try and analyze the stock prices of a company called Carl Zeiss Meditec, which manufactures tools for eye examinations, as well as medical lasers for laser eye surgery: https://www.zeiss.com/meditec/int/home.html. The company is listed under the stock ticker AFX_X.\n",
    "\n",
    "You can find the detailed Nasdaq Data API instructions here: https://docs.data.nasdaq.com/docs/in-depth-usage\n",
    "\n",
    "While there is a dedicated Python package for connecting to the Nasdaq API, we would prefer that you use the requests package, which can be easily downloaded using pip or conda. You can find the documentation for the package here: http://docs.python-requests.org/en/master/\n",
    "\n",
    "Finally, apart from the requests package, you are encouraged to not use any third party Python packages, such as pandas, and instead focus on what's available in the Python Standard Library (the collections module might come in handy: https://pymotw.com/3/collections/). Also, since you won't have access to DataFrames, you are encouraged to us Python's native data structures - preferably dictionaries, though some questions can also be answered using lists. You can read more on these data structures here: https://docs.python.org/3/tutorial/datastructures.html\n",
    "\n",
    "Keep in mind that the JSON responses you will be getting from the API map almost one-to-one to Python's dictionaries. Unfortunately, they can be very nested, so make sure you read up on indexing dictionaries in the documentation provided above."
   ]
  },
  {
   "cell_type": "code",
   "execution_count": 4,
   "id": "67ba44ef",
   "metadata": {},
   "outputs": [],
   "source": [
    "# First, import the relevant modules\n",
    "import requests\n",
    "import collections\n",
    "import json"
   ]
  },
  {
   "cell_type": "markdown",
   "id": "156b6644",
   "metadata": {},
   "source": [
    "\n",
    "Note: API's can change a bit with each version, for this exercise it is reccomended to use the nasdaq api at https://data.nasdaq.com/api/v3/. This is the same api as what used to be quandl so https://www.quandl.com/api/v3/ should work too.\n",
    "\n",
    "Hint: We are looking for the AFX_X data on the datasets/FSE/ dataset."
   ]
  },
  {
   "cell_type": "code",
   "execution_count": 16,
   "id": "ef009221",
   "metadata": {},
   "outputs": [
    {
     "name": "stdout",
     "output_type": "stream",
     "text": [
      "{'dataset_data': {'limit': None, 'transform': None, 'column_index': None, 'column_names': ['Date', 'Open', 'High', 'Low', 'Close', 'Change', 'Traded Volume', 'Turnover', 'Last Price of the Day', 'Daily Traded Units', 'Daily Turnover'], 'start_date': '2020-11-30', 'end_date': '2020-12-01', 'frequency': 'daily', 'data': [['2020-12-01', 112.2, 112.2, 111.5, 112.0, None, 51.0, 5703.0, None, None, None], ['2020-11-30', 111.0, 113.6, 111.0, 112.1, None, 315.0, 35111.5, None, None, None]], 'collapse': None, 'order': None}}\n"
     ]
    }
   ],
   "source": [
    "# Now, call the Nasdaq API and pull out a small sample of the data (only one day) to get a glimpse\n",
    "# into the JSON structure that will be returned\n",
    "\n",
    "#nice! so we looked at the documentation which says the template is:\n",
    "#\"https://data.nasdaq.com/api/v3/datasets/WIKI/FB/data.json?api_key=YOURAPIKEY\"\n",
    "#we know this request is for/to get 'time-series' data, based on it following the syntax of 'datasets'\n",
    "#and not 'databases'('metadata for a time-series database') or 'metadata' (for time-series metadata) based on instructions given\n",
    "#and they're telling us here that instead of WIKI it's FSE >> FRANKFURT STOCK EXCHANGE!, and instead of Facebook stock\n",
    "#we're interested in AFX_X!\n",
    "\n",
    "url = 'https://data.nasdaq.com/api/v3/datasets/FSE/AFX_X/data.json?apikey=API_KEY&start_date=2020-11-30&end_date=2020-12-01'\n",
    "\n",
    "#and i guess the API key worked even tho it doesn't return anything above?\n",
    "\n",
    "r = requests.get(url)\n",
    "\n",
    "json_data = r.json()\n",
    "\n",
    "print(json_data)"
   ]
  },
  {
   "cell_type": "code",
   "execution_count": null,
   "id": "ee020111",
   "metadata": {},
   "outputs": [],
   "source": [
    "#nice! so the simple way we learned how to make an API request worked!"
   ]
  },
  {
   "cell_type": "code",
   "execution_count": null,
   "id": "db7a59d0",
   "metadata": {},
   "outputs": [],
   "source": [
    "#oh wow - okay, so i found my mistake which is why things were looking so simple before! i put 'metadata' instead of just 'data'\n",
    "#i guess 'metadata' keeps it very high level / summary / macro and standard data gives you all the micro details!\n",
    "\n",
    "#so yeah, def doesn't only give you one day by default! you gotta tell it, otherwise it'll literally give you every\n",
    "#single day in the range!"
   ]
  },
  {
   "cell_type": "code",
   "execution_count": null,
   "id": "757a0b75",
   "metadata": {},
   "outputs": [],
   "source": [
    "#cool, so the 'columns' tells you what the 7 items are in the data block for each date: Date, Open, High, Low, Close,\n",
    "#Change, etc!"
   ]
  },
  {
   "cell_type": "code",
   "execution_count": null,
   "id": "fa688519",
   "metadata": {},
   "outputs": [],
   "source": [
    "#note that we had to go back in time bec it told us that the last available date was December 1st, 2020!\n",
    "\n",
    "#and so i guess even tho it's not showing my API key, it must be taking/going thru! cuz i replicated this in the browser\n",
    "#inputting the url w/ my actual key rather than the variable that represents it and it worked the same!"
   ]
  },
  {
   "cell_type": "code",
   "execution_count": 15,
   "id": "8809a6ad",
   "metadata": {},
   "outputs": [],
   "source": [
    "# Inspect the JSON structure of the object you created, and take note of how nested it is,\n",
    "# as well as the overall structure"
   ]
  },
  {
   "cell_type": "code",
   "execution_count": null,
   "id": "70fc98cc",
   "metadata": {},
   "outputs": [],
   "source": [
    "#so yeah, it's like a dictionary, w/ a dictionary in it, and then some values are in the form of lists\n",
    "#like the whole thing is a dictionary w/ one key and a BUNCH of values, but the values are a dictionary themselves/\n",
    "#set of key/value pairs!"
   ]
  },
  {
   "cell_type": "markdown",
   "id": "ac7af39e",
   "metadata": {},
   "source": [
    "These are your tasks for this mini project:\n",
    "\n",
    "1. Collect data from the Franfurt Stock Exchange, for the ticker AFX_X, for the whole year 2017 (keep in mind that the date format is YYYY-MM-DD).\n",
    "2. Convert the returned JSON object into a Python dictionary.\n",
    "3. Calculate what the highest and lowest opening prices were for the stock in this period.\n",
    "4. What was the largest change in any one day (based on High and Low price)?\n",
    "5. What was the largest change between any two days (based on Closing Price)?\n",
    "6. What was the average daily trading volume during this year?\n",
    "7. (Optional) What was the median trading volume during this year. (Note: you may need to implement your own function for calculating the median.)"
   ]
  },
  {
   "cell_type": "code",
   "execution_count": 9,
   "id": "49ed48df",
   "metadata": {},
   "outputs": [
    {
     "name": "stdout",
     "output_type": "stream",
     "text": [
      "{'dataset': {'id': 10095370, 'dataset_code': 'AFX_X', 'database_code': 'FSE', 'name': 'Carl Zeiss Meditec (AFX_X)', 'description': 'Stock Prices for Carl Zeiss Meditec (2020-11-02) from the Frankfurt Stock Exchange.<br><br>Trading System: Xetra<br><br>ISIN: DE0005313704', 'refreshed_at': '2020-12-01T14:48:09.907Z', 'newest_available_date': '2020-12-01', 'oldest_available_date': '2000-06-07', 'column_names': ['Date', 'Open', 'High', 'Low', 'Close', 'Change', 'Traded Volume', 'Turnover', 'Last Price of the Day', 'Daily Traded Units', 'Daily Turnover'], 'frequency': 'daily', 'type': 'Time Series', 'premium': False, 'database_id': 6129}}\n"
     ]
    }
   ],
   "source": [
    "#okay, so i guess we'll just do what we did above for/with start/end date for 2017:\n",
    "\n",
    "url17 = 'https://data.nasdaq.com/api/v3/datasets/FSE/AFX_X/metadata.json?apikey=API_KEY&start_date=2017-01-01&end_date=2017-12-31'\n",
    "\n",
    "#and i guess the API key worked even tho it doesn't return anything above?\n",
    "\n",
    "r17 = requests.get(url2)\n",
    "\n",
    "json_data17 = r17.json()\n",
    "\n",
    "print(json_data17)\n"
   ]
  }
 ],
 "metadata": {
  "kernelspec": {
   "display_name": "Python 3 (ipykernel)",
   "language": "python",
   "name": "python3"
  },
  "language_info": {
   "codemirror_mode": {
    "name": "ipython",
    "version": 3
   },
   "file_extension": ".py",
   "mimetype": "text/x-python",
   "name": "python",
   "nbconvert_exporter": "python",
   "pygments_lexer": "ipython3",
   "version": "3.8.8"
  }
 },
 "nbformat": 4,
 "nbformat_minor": 5
}
