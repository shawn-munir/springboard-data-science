{
 "cells": [
  {
   "cell_type": "code",
   "execution_count": 1,
   "id": "fb1656ff",
   "metadata": {},
   "outputs": [
    {
     "ename": "NameError",
     "evalue": "name 'Qjf31Bu1zyb_E' is not defined",
     "output_type": "error",
     "traceback": [
      "\u001b[0;31m---------------------------------------------------------------------------\u001b[0m",
      "\u001b[0;31mNameError\u001b[0m                                 Traceback (most recent call last)",
      "\u001b[0;32m/var/folders/cr/9gwdd0wn43d9d1db4xfhyvpc0000gn/T/ipykernel_3533/3105199661.py\u001b[0m in \u001b[0;36m<module>\u001b[0;34m\u001b[0m\n\u001b[0;32m----> 1\u001b[0;31m \u001b[0mNASDAQ_API_KEY\u001b[0m\u001b[0;34m=\u001b[0m\u001b[0mQjf31Bu1zyb_E\u001b[0m\u001b[0;34m-\u001b[0m\u001b[0mWnFiXm\u001b[0m\u001b[0;34m\u001b[0m\u001b[0;34m\u001b[0m\u001b[0m\n\u001b[0m",
      "\u001b[0;31mNameError\u001b[0m: name 'Qjf31Bu1zyb_E' is not defined"
     ]
    }
   ],
   "source": [
    "NASDAQ_API_KEY=Qjf31Bu1zyb_E-WnFiXm"
   ]
  },
  {
   "cell_type": "code",
   "execution_count": null,
   "id": "6313c898",
   "metadata": {},
   "outputs": [],
   "source": []
  }
 ],
 "metadata": {
  "kernelspec": {
   "display_name": "Python 3 (ipykernel)",
   "language": "python",
   "name": "python3"
  },
  "language_info": {
   "codemirror_mode": {
    "name": "ipython",
    "version": 3
   },
   "file_extension": ".py",
   "mimetype": "text/x-python",
   "name": "python",
   "nbconvert_exporter": "python",
   "pygments_lexer": "ipython3",
   "version": "3.8.8"
  }
 },
 "nbformat": 4,
 "nbformat_minor": 5
}
