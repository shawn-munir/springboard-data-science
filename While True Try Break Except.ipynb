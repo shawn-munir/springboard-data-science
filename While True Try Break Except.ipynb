{
 "cells": [
  {
   "cell_type": "code",
   "execution_count": 1,
   "id": "ba4b6987",
   "metadata": {},
   "outputs": [
    {
     "name": "stdout",
     "output_type": "stream",
     "text": [
      "You will input 2 numbers, n and m, and be given back the nth and mth Fibonacci numbers, as well as their greatest common factor.\n"
     ]
    }
   ],
   "source": [
    "print(\"You will input 2 numbers, n and m, and be given back the nth and mth Fibonacci numbers, as well as their greatest common factor.\")\n"
   ]
  },
  {
   "cell_type": "code",
   "execution_count": 3,
   "id": "8dd92144",
   "metadata": {},
   "outputs": [
    {
     "name": "stdout",
     "output_type": "stream",
     "text": [
      "Enter the first number: 2\n"
     ]
    }
   ],
   "source": [
    "while True:\n",
    "    try:\n",
    "        fib_1 = int(input(\"Enter the first number: \"))\n",
    "        if fib_1 <= 0:\n",
    "            print(\"Input must be a positive integer\")\n",
    "        break\n",
    "    except ValueError:\n",
    "        print(\"Input must be an integer\")"
   ]
  },
  {
   "cell_type": "code",
   "execution_count": 4,
   "id": "68f0ee20",
   "metadata": {},
   "outputs": [
    {
     "name": "stdout",
     "output_type": "stream",
     "text": [
      "Enter the second number: 3\n"
     ]
    }
   ],
   "source": [
    "while True:\n",
    "    try:\n",
    "        fib_2 = int(input(\"Enter the second number: \"))\n",
    "        if fib_2 <= 0:\n",
    "            print(\"Input must be a positive integer\")\n",
    "        break\n",
    "    except ValueError:\n",
    "        print(\"Input must be an integer\")"
   ]
  },
  {
   "cell_type": "code",
   "execution_count": 6,
   "id": "b9ad8fd6",
   "metadata": {},
   "outputs": [],
   "source": [
    "if fib_1 >= fib_2:\n",
    "    num2iterate2 = fib_1\n",
    "else:\n",
    "    num2iterate2 = fib_2"
   ]
  },
  {
   "cell_type": "code",
   "execution_count": 17,
   "id": "860bc5e2",
   "metadata": {},
   "outputs": [
    {
     "name": "stdout",
     "output_type": "stream",
     "text": [
      "[0, 1, 1]\n"
     ]
    }
   ],
   "source": [
    "fibonacci = [0,1]\n",
    "\n",
    "# if num2iterate2 > 2:\n",
    "\n",
    "for i in range(num2iterate2 - 2):\n",
    "    fibonacci.append(fibonacci[-2] + fibonacci[-1])\n",
    "\n",
    "    \n",
    "print(fibonacci)\n",
    "\n",
    "\n",
    "#ALHAMDULILLAH!!"
   ]
  },
  {
   "cell_type": "code",
   "execution_count": null,
   "id": "a253d1be",
   "metadata": {},
   "outputs": [],
   "source": [
    "#SUBHANALLAH!!! IT WORKED!!! so by default it's already got 2 terms. so we need 3 in this test case, so we're only gonna\n",
    "#run this append formula 1 time!!! which gives us the 3rd term!!"
   ]
  },
  {
   "cell_type": "code",
   "execution_count": 11,
   "id": "dddcd9ac",
   "metadata": {},
   "outputs": [],
   "source": [
    "#Now we got all the terms we need and in the right order!\n",
    "\n",
    "#show what those actual numbers of mth and nth terms are:\n",
    "\n",
    "fib_1_val = fibonacci[fib_1 - 1]  #gotta do -1 cuz it's index vs. ordinal\n",
    "\n",
    "fib_2_val = fibonacci[fib_2 - 1]\n"
   ]
  },
  {
   "cell_type": "code",
   "execution_count": 25,
   "id": "24a7df40",
   "metadata": {},
   "outputs": [
    {
     "name": "stdout",
     "output_type": "stream",
     "text": [
      "[1] \n",
      "\n",
      "[1]\n"
     ]
    }
   ],
   "source": [
    "#get the factors of each\n",
    "\n",
    "if fib_1<=1:\n",
    "    factors_1 = [0]\n",
    "else:\n",
    "    factors_1 = []\n",
    "\n",
    "    for i in range(1, fib_1_val + 1): #gotta do +1 in this case cuz it's gonna go up UNTIL the end value, i.e. exclusive\n",
    "        if fib_1_val % i == 0:\n",
    "            factors_1.append(i)\n",
    "\n",
    "if fib_2<=1:\n",
    "    factors_2 = [0]\n",
    "else:            \n",
    "    factors_2 = []\n",
    "\n",
    "    for i in range(1, fib_2_val + 1):\n",
    "        if fib_2_val % i == 0:\n",
    "            factors_2.append(i)\n",
    "        \n",
    "print(factors_1, '\\n')\n",
    "print(factors_2)"
   ]
  },
  {
   "cell_type": "code",
   "execution_count": 35,
   "id": "83e53b8f",
   "metadata": {},
   "outputs": [
    {
     "name": "stdout",
     "output_type": "stream",
     "text": [
      "1\n"
     ]
    }
   ],
   "source": [
    "#get the greatest common factor\n",
    "\n",
    "# for i in factors_1:\n",
    "#     if factors_1[i].isin(factors_2):\n",
    "#         gcf == i\n",
    "        \n",
    "# print(gcf)\n",
    "\n",
    "\n",
    "factors_1_set = set(factors_1)\n",
    "factors_2_set = set(factors_2)\n",
    "\n",
    "common_factors = factors_1_set.intersection(factors_2_set)\n",
    "\n",
    "gcf = max(common_factors)\n",
    "\n",
    "print(gcf)"
   ]
  },
  {
   "cell_type": "code",
   "execution_count": null,
   "id": "f85689bf",
   "metadata": {},
   "outputs": [],
   "source": [
    "print(\"You selected terms number {fib_1} and {fib_2} of the Fibonacci sequence, which correspond to {fib_1_val} \\n\n",
    "and {fib_2_val}, respecitvely. Their greatest factor is {gcf}.\")"
   ]
  }
 ],
 "metadata": {
  "kernelspec": {
   "display_name": "Python 3 (ipykernel)",
   "language": "python",
   "name": "python3"
  },
  "language_info": {
   "codemirror_mode": {
    "name": "ipython",
    "version": 3
   },
   "file_extension": ".py",
   "mimetype": "text/x-python",
   "name": "python",
   "nbconvert_exporter": "python",
   "pygments_lexer": "ipython3",
   "version": "3.8.12"
  }
 },
 "nbformat": 4,
 "nbformat_minor": 5
}
