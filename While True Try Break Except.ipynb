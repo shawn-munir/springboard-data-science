{
 "cells": [
  {
   "cell_type": "code",
   "execution_count": 1,
   "id": "ba4b6987",
   "metadata": {},
   "outputs": [
    {
     "name": "stdout",
     "output_type": "stream",
     "text": [
      "You will input 2 numbers, n and m, and be given back the nth and mth Fibonacci numbers, as well as their greatest common factor.\n"
     ]
    }
   ],
   "source": [
    "print(\"You will input 2 numbers, n and m, and be given back the nth and mth Fibonacci numbers, as well as their greatest common factor.\")\n"
   ]
  },
  {
   "cell_type": "code",
   "execution_count": 3,
   "id": "8dd92144",
   "metadata": {},
   "outputs": [
    {
     "name": "stdout",
     "output_type": "stream",
     "text": [
      "Enter the first number: 2\n"
     ]
    }
   ],
   "source": [
    "while True:\n",
    "    try:\n",
    "        fib_1 = int(input(\"Enter the first number: \"))\n",
    "        if fib_1 <= 0:\n",
    "            print(\"Input must be a positive integer\")\n",
    "        break\n",
    "    except ValueError:\n",
    "        print(\"Input must be an integer\")"
   ]
  },
  {
   "cell_type": "code",
   "execution_count": 4,
   "id": "68f0ee20",
   "metadata": {},
   "outputs": [
    {
     "name": "stdout",
     "output_type": "stream",
     "text": [
      "Enter the second number: 3\n"
     ]
    }
   ],
   "source": [
    "while True:\n",
    "    try:\n",
    "        fib_2 = int(input(\"Enter the second number: \"))\n",
    "        if fib_2 <= 0:\n",
    "            print(\"Input must be a positive integer\")\n",
    "        break\n",
    "    except ValueError:\n",
    "        print(\"Input must be an integer\")"
   ]
  },
  {
   "cell_type": "code",
   "execution_count": 9,
   "id": "17b35a7b",
   "metadata": {},
   "outputs": [
    {
     "data": {
      "text/plain": [
       "list"
      ]
     },
     "execution_count": 9,
     "metadata": {},
     "output_type": "execute_result"
    }
   ],
   "source": [
    "type(fibonacci)"
   ]
  },
  {
   "cell_type": "code",
   "execution_count": 5,
   "id": "b9ad8fd6",
   "metadata": {},
   "outputs": [],
   "source": [
    "if fib_1 >= fib_2:\n",
    "    num2iterate2 = fib_1\n",
    "else:\n",
    "    num2iterate2 = fib_2"
   ]
  },
  {
   "cell_type": "code",
   "execution_count": null,
   "id": "860bc5e2",
   "metadata": {},
   "outputs": [],
   "source": [
    "fibonacci = [0,1]\n",
    "\n",
    "for i <= num2iterate2:\n",
    "    fibonacci.append(fibonacci[-2] + fibonacci[-1])\n",
    "\n",
    "    \n",
    "    print(fibonacci)\n",
    "\n",
    "\n",
    "#ALHAMDULILLAH!!"
   ]
  }
 ],
 "metadata": {
  "kernelspec": {
   "display_name": "Python 3 (ipykernel)",
   "language": "python",
   "name": "python3"
  },
  "language_info": {
   "codemirror_mode": {
    "name": "ipython",
    "version": 3
   },
   "file_extension": ".py",
   "mimetype": "text/x-python",
   "name": "python",
   "nbconvert_exporter": "python",
   "pygments_lexer": "ipython3",
   "version": "3.8.12"
  }
 },
 "nbformat": 4,
 "nbformat_minor": 5
}
