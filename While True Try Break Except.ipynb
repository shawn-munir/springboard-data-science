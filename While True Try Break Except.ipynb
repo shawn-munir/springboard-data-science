{
 "cells": [
  {
   "cell_type": "code",
   "execution_count": null,
   "id": "0a3bed96",
   "metadata": {},
   "outputs": [],
   "source": [
    "def fibonacci():\n",
    "    while True:\n",
    "        number = input(\"Enter a number: \")\n",
    "        try:\n",
    "            val = int(amount) \n",
    "            if val >= 0:\n",
    "                break\n",
    "            else:\n",
    "                print(\"Amount can't be negative, try again\")\n",
    "        except ValueError:\n",
    "            print(\"Amount must be a number, try again\")\n",
    "    return val"
   ]
  },
  {
   "cell_type": "code",
   "execution_count": null,
   "id": "ba4b6987",
   "metadata": {},
   "outputs": [],
   "source": [
    "print(\"You will input 2 numbers, n and m, and be given back the nth and mth Fibonacci numbers, as well as their greatest common factor.\")\n",
    "\n",
    "fib_n = fibonacci()\n",
    "\n",
    "fib_m = fibonacci()"
   ]
  },
  {
   "cell_type": "code",
   "execution_count": null,
   "id": "98248f26",
   "metadata": {},
   "outputs": [],
   "source": [
    "while True:\n",
    "    try:\n",
    "        number = int(input(\"Enter the first number: \"))<=0\n",
    "    except ValueError:\n",
    "        print(\"The number must be a positive integer.\")"
   ]
  },
  {
   "cell_type": "code",
   "execution_count": 1,
   "id": "2d74420e",
   "metadata": {},
   "outputs": [
    {
     "name": "stdout",
     "output_type": "stream",
     "text": [
      "Enter a number: -8\n",
      "Sorry, input must be a positive integer, try again\n",
      "Enter a number: 5.5\n",
      "That's not an int!\n",
      "Enter a number: -4.4\n",
      "That's not an int!\n",
      "Enter a number: 7\n"
     ]
    }
   ],
   "source": [
    "while True:               #saying to keep trying to execute this code while (it's true that) there's an error\n",
    "                          #remem, the point of a try-except block is to test for errors. so True means there IS errors!\n",
    "    number = input(\"Enter a number: \")\n",
    "    try:                  #this tests this block of code for errors. then the except block below will tell it how\n",
    "                          #to handle those errors\n",
    "        val = int(number) #you're defining what's normal - an int. so if it's NOT an int, will raise exception\n",
    "        if val <= 0:      #further defining that it must be positive\n",
    "            print(\"Sorry, input must be a positive integer, try again\")\n",
    "            continue   #this needs to be here in case you input a negative number, it'll 'continue the loop'\n",
    "        break          #this needs to be there to END the loop once you enter in something valid!\n",
    "    except ValueError: #this needs to be there to complete the try-except statement bc you gotta tell it what's  means raise an error if it's the input is anything EXCEPT an int!\n",
    "        print(\"That's not an int!\") "
   ]
  },
  {
   "cell_type": "code",
   "execution_count": null,
   "id": "9a0cfdc5",
   "metadata": {},
   "outputs": [],
   "source": [
    "#so translation of the above -\n",
    "\n",
    "#Keep asking for the input of a number until you get something that's a positive integer\n",
    "\n",
    "#by setting the try to int(input), you're saying to break the loop, it's gotta be a valid input number\n",
    "\n",
    "#you're asking the user to put in an integer, but it also needs to be positive\n",
    "\n",
    "#if it's not even an integer, whether it's positive or negative, then that will raise the exception and try again\n",
    "\n",
    "#if it's an integer but it's positive it'll fail the first test\n",
    "\n",
    "#so, While True means keep looping this expression/code for as long as it evaluates to true\n",
    "#it keeps looping while the number input is invalid\n",
    "#so it's like saying: Keep looping this expression as long as number == invalid = True"
   ]
  },
  {
   "cell_type": "code",
   "execution_count": null,
   "id": "bcf5e2c7",
   "metadata": {},
   "outputs": [],
   "source": [
    "#so if you put in -5.5, or 5.5, that's not an integer which is not less than 0, so it'll break"
   ]
  },
  {
   "cell_type": "code",
   "execution_count": 4,
   "id": "89b1a7d4",
   "metadata": {},
   "outputs": [
    {
     "name": "stdout",
     "output_type": "stream",
     "text": [
      "Enter a number: -5.5\n",
      "That's not an int!\n",
      "Enter a number: 5.5\n",
      "That's not an int!\n",
      "Enter a number: 7\n"
     ]
    }
   ],
   "source": [
    "while True:\n",
    "    number = input(\"Enter a number: \")\n",
    "    try:\n",
    "        val = int(number)\n",
    "        break\n",
    "    except ValueError:\n",
    "        print(\"That's not an int!\") "
   ]
  },
  {
   "cell_type": "code",
   "execution_count": null,
   "id": "0f4c5ce8",
   "metadata": {},
   "outputs": [],
   "source": [
    "while True:\n",
    "    try:\n",
    "        val = int(input(\"Enter a number: \"))\n",
    "        break\n",
    "    except ValueError:\n",
    "        print(\"That's not an int!\")\n",
    "        \n",
    "        \n",
    "#while it's True that the try block throws an error/exception, keep running it! otherwise break it if it's good/false"
   ]
  },
  {
   "cell_type": "code",
   "execution_count": null,
   "id": "c18b816d",
   "metadata": {},
   "outputs": [],
   "source": [
    "print(\"You will input 2 numbers, m and n, and be given back the mth and nth Fibonacci numbers, as well as their greatest common factor.\")"
   ]
  },
  {
   "cell_type": "code",
   "execution_count": 1,
   "id": "8dd92144",
   "metadata": {},
   "outputs": [
    {
     "name": "stdout",
     "output_type": "stream",
     "text": [
      "Enter the first number: 2\n"
     ]
    }
   ],
   "source": [
    "while True:\n",
    "    try:\n",
    "        fib_1 = int(input(\"Enter the first number: \"))\n",
    "        if val <= 0:\n",
    "            print(\"Input must be a positive integer\")\n",
    "        break\n",
    "    except ValueError:\n",
    "        print(\"Input must be an integer\")"
   ]
  },
  {
   "cell_type": "code",
   "execution_count": 2,
   "id": "68f0ee20",
   "metadata": {},
   "outputs": [
    {
     "name": "stdout",
     "output_type": "stream",
     "text": [
      "Enter the second number: 3\n"
     ]
    }
   ],
   "source": [
    "while True:\n",
    "    try:\n",
    "        fib_2 = int(input(\"Enter the second number: \"))\n",
    "        if val <= 0:\n",
    "            print(\"Input must be a positive integer\")\n",
    "        break\n",
    "    except ValueError:\n",
    "        print(\"Input must be an integer\")"
   ]
  },
  {
   "cell_type": "code",
   "execution_count": 9,
   "id": "17b35a7b",
   "metadata": {},
   "outputs": [
    {
     "data": {
      "text/plain": [
       "list"
      ]
     },
     "execution_count": 9,
     "metadata": {},
     "output_type": "execute_result"
    }
   ],
   "source": [
    "type(fibonacci)"
   ]
  },
  {
   "cell_type": "code",
   "execution_count": 13,
   "id": "b9ad8fd6",
   "metadata": {},
   "outputs": [
    {
     "ename": "NameError",
     "evalue": "name 'fib_1' is not defined",
     "output_type": "error",
     "traceback": [
      "\u001b[0;31m---------------------------------------------------------------------------\u001b[0m",
      "\u001b[0;31mNameError\u001b[0m                                 Traceback (most recent call last)",
      "\u001b[0;32m/var/folders/cr/9gwdd0wn43d9d1db4xfhyvpc0000gn/T/ipykernel_24211/3156262439.py\u001b[0m in \u001b[0;36m<module>\u001b[0;34m\u001b[0m\n\u001b[0;32m----> 1\u001b[0;31m \u001b[0;32mif\u001b[0m \u001b[0mfib_1\u001b[0m \u001b[0;34m>\u001b[0m \u001b[0mfib_2\u001b[0m\u001b[0;34m:\u001b[0m\u001b[0;34m\u001b[0m\u001b[0;34m\u001b[0m\u001b[0m\n\u001b[0m\u001b[1;32m      2\u001b[0m     \u001b[0mnum2iterate2\u001b[0m \u001b[0;34m=\u001b[0m \u001b[0mfib_1\u001b[0m\u001b[0;34m\u001b[0m\u001b[0;34m\u001b[0m\u001b[0m\n\u001b[1;32m      3\u001b[0m \u001b[0;32melse\u001b[0m\u001b[0;34m:\u001b[0m\u001b[0;34m\u001b[0m\u001b[0;34m\u001b[0m\u001b[0m\n\u001b[1;32m      4\u001b[0m     \u001b[0mnum2iterate2\u001b[0m \u001b[0;34m=\u001b[0m \u001b[0mfib_2\u001b[0m\u001b[0;34m\u001b[0m\u001b[0;34m\u001b[0m\u001b[0m\n",
      "\u001b[0;31mNameError\u001b[0m: name 'fib_1' is not defined"
     ]
    }
   ],
   "source": [
    "if fib_1 > fib_2:\n",
    "    num2iterate2 = fib_1\n",
    "else:\n",
    "    num2iterate2 = fib_2"
   ]
  },
  {
   "cell_type": "code",
   "execution_count": null,
   "id": "860bc5e2",
   "metadata": {},
   "outputs": [],
   "source": [
    "fibonacci = [0,1]\n",
    "\n",
    "\n",
    "for i <= num2iterate2:\n",
    "    fibonacci.append(fibonacci[-2] + fibonacci[-1])\n",
    "\n",
    "    \n",
    "    print(fibonacci)\n",
    "\n",
    "\n",
    "#ALHAMDULILLAH!!"
   ]
  }
 ],
 "metadata": {
  "kernelspec": {
   "display_name": "Python 3 (ipykernel)",
   "language": "python",
   "name": "python3"
  },
  "language_info": {
   "codemirror_mode": {
    "name": "ipython",
    "version": 3
   },
   "file_extension": ".py",
   "mimetype": "text/x-python",
   "name": "python",
   "nbconvert_exporter": "python",
   "pygments_lexer": "ipython3",
   "version": "3.8.12"
  }
 },
 "nbformat": 4,
 "nbformat_minor": 5
}
