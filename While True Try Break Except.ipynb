{
 "cells": [
  {
   "cell_type": "code",
   "execution_count": 1,
   "id": "ba4b6987",
   "metadata": {},
   "outputs": [
    {
     "name": "stdout",
     "output_type": "stream",
     "text": [
      "You will input 2 numbers, n and m, and be given back the nth and mth Fibonacci numbers, as well as their greatest common factor.\n"
     ]
    }
   ],
   "source": [
    "print(\"You will input 2 numbers, n and m, and be given back the nth and mth Fibonacci numbers, as well as their greatest common factor.\")\n"
   ]
  },
  {
   "cell_type": "code",
   "execution_count": 3,
   "id": "8dd92144",
   "metadata": {},
   "outputs": [
    {
     "name": "stdout",
     "output_type": "stream",
     "text": [
      "Enter the first number: 2\n"
     ]
    }
   ],
   "source": [
    "while True:\n",
    "    try:\n",
    "        fib_1 = int(input(\"Enter the first number: \"))\n",
    "        if fib_1 <= 0:\n",
    "            print(\"Input must be a positive integer\")\n",
    "        break\n",
    "    except ValueError:\n",
    "        print(\"Input must be an integer\")"
   ]
  },
  {
   "cell_type": "code",
   "execution_count": 4,
   "id": "68f0ee20",
   "metadata": {},
   "outputs": [
    {
     "name": "stdout",
     "output_type": "stream",
     "text": [
      "Enter the second number: 3\n"
     ]
    }
   ],
   "source": [
    "while True:\n",
    "    try:\n",
    "        fib_2 = int(input(\"Enter the second number: \"))\n",
    "        if fib_2 <= 0:\n",
    "            print(\"Input must be a positive integer\")\n",
    "        break\n",
    "    except ValueError:\n",
    "        print(\"Input must be an integer\")"
   ]
  },
  {
   "cell_type": "code",
   "execution_count": 6,
   "id": "b9ad8fd6",
   "metadata": {},
   "outputs": [],
   "source": [
    "if fib_1 >= fib_2:\n",
    "    num2iterate2 = fib_1\n",
    "else:\n",
    "    num2iterate2 = fib_2"
   ]
  },
  {
   "cell_type": "code",
   "execution_count": 10,
   "id": "860bc5e2",
   "metadata": {},
   "outputs": [
    {
     "name": "stdout",
     "output_type": "stream",
     "text": [
      "[0, 1, 1]\n"
     ]
    }
   ],
   "source": [
    "fibonacci = [0,1]\n",
    "\n",
    "# if num2iterate2 > 2:\n",
    "\n",
    "for i in range(1, num2iterate2 - 2):\n",
    "    fibonacci.append(fibonacci[-2] + fibonacci[-1])\n",
    "\n",
    "    \n",
    "print(fibonacci)\n",
    "\n",
    "\n",
    "#ALHAMDULILLAH!!"
   ]
  },
  {
   "cell_type": "code",
   "execution_count": null,
   "id": "23a44e8b",
   "metadata": {},
   "outputs": [],
   "source": [
    "#SUBHANALLAH!!! IT WORKED!!! so by default it's already got 2 terms. so we need 3 in this test case, so we're only gonna\n",
    "#run this append formula 1 time!!! which gives us the 3rd term!!"
   ]
  },
  {
   "cell_type": "code",
   "execution_count": 11,
   "id": "d892b80a",
   "metadata": {},
   "outputs": [],
   "source": [
    "#Now we got all the terms we need and in the right order!\n",
    "\n",
    "#show what those actual numbers of mth and nth terms are:\n",
    "\n",
    "fib_1_val = fibonacci[fib_1 - 1]  #gotta do -1 cuz it's index vs. ordinal\n",
    "\n",
    "fib_2_val = fibonacci[fib_2 - 1]\n"
   ]
  },
  {
   "cell_type": "code",
   "execution_count": 15,
   "id": "cd24c2bc",
   "metadata": {},
   "outputs": [
    {
     "ename": "ZeroDivisionError",
     "evalue": "integer division or modulo by zero",
     "output_type": "error",
     "traceback": [
      "\u001b[0;31m---------------------------------------------------------------------------\u001b[0m",
      "\u001b[0;31mZeroDivisionError\u001b[0m                         Traceback (most recent call last)",
      "\u001b[0;32m/var/folders/cr/9gwdd0wn43d9d1db4xfhyvpc0000gn/T/ipykernel_30074/2821201869.py\u001b[0m in \u001b[0;36m<module>\u001b[0;34m\u001b[0m\n\u001b[1;32m      4\u001b[0m \u001b[0;34m\u001b[0m\u001b[0m\n\u001b[1;32m      5\u001b[0m \u001b[0;32mfor\u001b[0m \u001b[0mi\u001b[0m \u001b[0;32min\u001b[0m \u001b[0mrange\u001b[0m\u001b[0;34m(\u001b[0m\u001b[0mfib_1_val\u001b[0m\u001b[0;34m)\u001b[0m\u001b[0;34m:\u001b[0m\u001b[0;34m\u001b[0m\u001b[0;34m\u001b[0m\u001b[0m\n\u001b[0;32m----> 6\u001b[0;31m     \u001b[0;32mif\u001b[0m \u001b[0mfib_1_val\u001b[0m \u001b[0;34m%\u001b[0m \u001b[0mi\u001b[0m \u001b[0;34m==\u001b[0m \u001b[0;36m0\u001b[0m\u001b[0;34m:\u001b[0m\u001b[0;34m\u001b[0m\u001b[0;34m\u001b[0m\u001b[0m\n\u001b[0m\u001b[1;32m      7\u001b[0m         \u001b[0mfactors_1\u001b[0m\u001b[0;34m.\u001b[0m\u001b[0mappend\u001b[0m\u001b[0;34m(\u001b[0m\u001b[0mi\u001b[0m\u001b[0;34m)\u001b[0m\u001b[0;34m\u001b[0m\u001b[0;34m\u001b[0m\u001b[0m\n\u001b[1;32m      8\u001b[0m \u001b[0;34m\u001b[0m\u001b[0m\n",
      "\u001b[0;31mZeroDivisionError\u001b[0m: integer division or modulo by zero"
     ]
    }
   ],
   "source": [
    "#get the greatest common factor\n",
    "\n",
    "factors_1 = []\n",
    "\n",
    "for i in range(fib_1_val):\n",
    "    if fib_1_val % i == 0:\n",
    "        factors_1.append(i)\n",
    "        \n",
    "factors_2 = []\n",
    "\n",
    "for i in range(fib_1_val):\n",
    "    if fib_2_val % i == 0:\n",
    "        factors_1.append(i)\n",
    "        \n",
    "print(factors_1, '\\n')\n",
    "print(factors_2)"
   ]
  },
  {
   "cell_type": "code",
   "execution_count": null,
   "id": "07bd48c4",
   "metadata": {},
   "outputs": [],
   "source": [
    "print(\"The mth and nth Fibonacci terms you selected are {fib_1_val} and {fib_2_val}, respecitvely, and their greatest \\n\n",
    "factor is {gcf}\")"
   ]
  }
 ],
 "metadata": {
  "kernelspec": {
   "display_name": "Python 3 (ipykernel)",
   "language": "python",
   "name": "python3"
  },
  "language_info": {
   "codemirror_mode": {
    "name": "ipython",
    "version": 3
   },
   "file_extension": ".py",
   "mimetype": "text/x-python",
   "name": "python",
   "nbconvert_exporter": "python",
   "pygments_lexer": "ipython3",
   "version": "3.8.12"
  }
 },
 "nbformat": 4,
 "nbformat_minor": 5
}
