{
 "cells": [
  {
   "cell_type": "code",
   "execution_count": 2,
   "metadata": {
    "colab": {},
    "colab_type": "code",
    "id": "CfGkTcLvDuVQ"
   },
   "outputs": [],
   "source": [
    "import pandas as pd\n",
    "import numpy as np\n",
    "from sklearn import tree, metrics\n",
    "from sklearn.model_selection import train_test_split\n",
    "import seaborn as sns\n",
    "import matplotlib.pyplot as plt\n",
    "from io import StringIO  \n",
    "from IPython.display import Image\n",
    "import pydotplus\n",
    "from sklearn.tree import DecisionTreeClassifier\n",
    "from sklearn import tree\n",
    "import graphviz\n",
    "from sklearn.tree import export_text\n",
    "# from sklearn.inspection import DecisionBoundaryDisplay\n",
    "from sklearn.ensemble import RandomForestClassifier\n",
    "from sklearn.datasets import make_classification"
   ]
  },
  {
   "cell_type": "code",
   "execution_count": 3,
   "metadata": {},
   "outputs": [],
   "source": [
    "coffeeData = pd.read_csv('data/RRDinerCoffeeData.csv')"
   ]
  },
  {
   "cell_type": "code",
   "execution_count": 4,
   "metadata": {
    "colab": {},
    "colab_type": "code",
    "id": "cHEKFT4SDuVY"
   },
   "outputs": [
    {
     "data": {
      "text/html": [
       "<div>\n",
       "<style scoped>\n",
       "    .dataframe tbody tr th:only-of-type {\n",
       "        vertical-align: middle;\n",
       "    }\n",
       "\n",
       "    .dataframe tbody tr th {\n",
       "        vertical-align: top;\n",
       "    }\n",
       "\n",
       "    .dataframe thead th {\n",
       "        text-align: right;\n",
       "    }\n",
       "</style>\n",
       "<table border=\"1\" class=\"dataframe\">\n",
       "  <thead>\n",
       "    <tr style=\"text-align: right;\">\n",
       "      <th></th>\n",
       "      <th>Age</th>\n",
       "      <th>Gender</th>\n",
       "      <th>num_coffeeBags_per_year</th>\n",
       "      <th>spent_week</th>\n",
       "      <th>spent_month</th>\n",
       "      <th>SlrAY</th>\n",
       "      <th>Distance</th>\n",
       "      <th>Online</th>\n",
       "      <th>Decision</th>\n",
       "    </tr>\n",
       "  </thead>\n",
       "  <tbody>\n",
       "    <tr>\n",
       "      <th>0</th>\n",
       "      <td>36</td>\n",
       "      <td>Female</td>\n",
       "      <td>0</td>\n",
       "      <td>24</td>\n",
       "      <td>73</td>\n",
       "      <td>42789</td>\n",
       "      <td>0.003168</td>\n",
       "      <td>0</td>\n",
       "      <td>1.0</td>\n",
       "    </tr>\n",
       "    <tr>\n",
       "      <th>1</th>\n",
       "      <td>24</td>\n",
       "      <td>Male</td>\n",
       "      <td>0</td>\n",
       "      <td>44</td>\n",
       "      <td>164</td>\n",
       "      <td>74035</td>\n",
       "      <td>0.520906</td>\n",
       "      <td>0</td>\n",
       "      <td>NaN</td>\n",
       "    </tr>\n",
       "    <tr>\n",
       "      <th>2</th>\n",
       "      <td>24</td>\n",
       "      <td>Male</td>\n",
       "      <td>0</td>\n",
       "      <td>39</td>\n",
       "      <td>119</td>\n",
       "      <td>30563</td>\n",
       "      <td>0.916005</td>\n",
       "      <td>1</td>\n",
       "      <td>1.0</td>\n",
       "    </tr>\n",
       "    <tr>\n",
       "      <th>3</th>\n",
       "      <td>20</td>\n",
       "      <td>Male</td>\n",
       "      <td>0</td>\n",
       "      <td>30</td>\n",
       "      <td>107</td>\n",
       "      <td>13166</td>\n",
       "      <td>0.932098</td>\n",
       "      <td>1</td>\n",
       "      <td>NaN</td>\n",
       "    </tr>\n",
       "    <tr>\n",
       "      <th>4</th>\n",
       "      <td>24</td>\n",
       "      <td>Female</td>\n",
       "      <td>0</td>\n",
       "      <td>20</td>\n",
       "      <td>36</td>\n",
       "      <td>14244</td>\n",
       "      <td>0.965881</td>\n",
       "      <td>0</td>\n",
       "      <td>1.0</td>\n",
       "    </tr>\n",
       "  </tbody>\n",
       "</table>\n",
       "</div>"
      ],
      "text/plain": [
       "   Age  Gender  num_coffeeBags_per_year  spent_week  spent_month  SlrAY  \\\n",
       "0   36  Female                        0          24           73  42789   \n",
       "1   24    Male                        0          44          164  74035   \n",
       "2   24    Male                        0          39          119  30563   \n",
       "3   20    Male                        0          30          107  13166   \n",
       "4   24  Female                        0          20           36  14244   \n",
       "\n",
       "   Distance  Online  Decision  \n",
       "0  0.003168       0       1.0  \n",
       "1  0.520906       0       NaN  \n",
       "2  0.916005       1       1.0  \n",
       "3  0.932098       1       NaN  \n",
       "4  0.965881       0       1.0  "
      ]
     },
     "execution_count": 4,
     "metadata": {},
     "output_type": "execute_result"
    }
   ],
   "source": [
    "coffeeData.head()"
   ]
  },
  {
   "cell_type": "code",
   "execution_count": 5,
   "metadata": {
    "colab": {},
    "colab_type": "code",
    "id": "rDshwA7tDuVa"
   },
   "outputs": [
    {
     "data": {
      "text/plain": [
       "(702, 9)"
      ]
     },
     "execution_count": 5,
     "metadata": {},
     "output_type": "execute_result"
    }
   ],
   "source": [
    "coffeeData.shape"
   ]
  },
  {
   "cell_type": "code",
   "execution_count": 6,
   "metadata": {},
   "outputs": [
    {
     "name": "stdout",
     "output_type": "stream",
     "text": [
      "<class 'pandas.core.frame.DataFrame'>\n",
      "RangeIndex: 702 entries, 0 to 701\n",
      "Data columns (total 9 columns):\n",
      " #   Column                   Non-Null Count  Dtype  \n",
      "---  ------                   --------------  -----  \n",
      " 0   Age                      702 non-null    int64  \n",
      " 1   Gender                   702 non-null    object \n",
      " 2   num_coffeeBags_per_year  702 non-null    int64  \n",
      " 3   spent_week               702 non-null    int64  \n",
      " 4   spent_month              702 non-null    int64  \n",
      " 5   SlrAY                    702 non-null    int64  \n",
      " 6   Distance                 702 non-null    float64\n",
      " 7   Online                   702 non-null    int64  \n",
      " 8   Decision                 474 non-null    float64\n",
      "dtypes: float64(2), int64(6), object(1)\n",
      "memory usage: 49.5+ KB\n"
     ]
    }
   ],
   "source": [
    "coffeeData.info()"
   ]
  },
  {
   "cell_type": "code",
   "execution_count": 7,
   "metadata": {},
   "outputs": [
    {
     "data": {
      "text/html": [
       "<div>\n",
       "<style scoped>\n",
       "    .dataframe tbody tr th:only-of-type {\n",
       "        vertical-align: middle;\n",
       "    }\n",
       "\n",
       "    .dataframe tbody tr th {\n",
       "        vertical-align: top;\n",
       "    }\n",
       "\n",
       "    .dataframe thead th {\n",
       "        text-align: right;\n",
       "    }\n",
       "</style>\n",
       "<table border=\"1\" class=\"dataframe\">\n",
       "  <thead>\n",
       "    <tr style=\"text-align: right;\">\n",
       "      <th></th>\n",
       "      <th>Age</th>\n",
       "      <th>num_coffeeBags_per_year</th>\n",
       "      <th>spent_week</th>\n",
       "      <th>spent_month</th>\n",
       "      <th>SlrAY</th>\n",
       "      <th>Distance</th>\n",
       "      <th>Online</th>\n",
       "      <th>Decision</th>\n",
       "    </tr>\n",
       "  </thead>\n",
       "  <tbody>\n",
       "    <tr>\n",
       "      <th>count</th>\n",
       "      <td>702.000000</td>\n",
       "      <td>702.000000</td>\n",
       "      <td>702.000000</td>\n",
       "      <td>702.000000</td>\n",
       "      <td>702.000000</td>\n",
       "      <td>702.000000</td>\n",
       "      <td>702.000000</td>\n",
       "      <td>474.000000</td>\n",
       "    </tr>\n",
       "    <tr>\n",
       "      <th>mean</th>\n",
       "      <td>34.243590</td>\n",
       "      <td>2.710826</td>\n",
       "      <td>32.853276</td>\n",
       "      <td>107.923077</td>\n",
       "      <td>43819.843305</td>\n",
       "      <td>4.559186</td>\n",
       "      <td>0.531339</td>\n",
       "      <td>0.639241</td>\n",
       "    </tr>\n",
       "    <tr>\n",
       "      <th>std</th>\n",
       "      <td>13.927945</td>\n",
       "      <td>1.593629</td>\n",
       "      <td>15.731878</td>\n",
       "      <td>55.348485</td>\n",
       "      <td>26192.626943</td>\n",
       "      <td>3.116275</td>\n",
       "      <td>0.499373</td>\n",
       "      <td>0.480728</td>\n",
       "    </tr>\n",
       "    <tr>\n",
       "      <th>min</th>\n",
       "      <td>16.000000</td>\n",
       "      <td>0.000000</td>\n",
       "      <td>0.000000</td>\n",
       "      <td>0.000000</td>\n",
       "      <td>1617.000000</td>\n",
       "      <td>0.003168</td>\n",
       "      <td>0.000000</td>\n",
       "      <td>0.000000</td>\n",
       "    </tr>\n",
       "    <tr>\n",
       "      <th>25%</th>\n",
       "      <td>23.000000</td>\n",
       "      <td>1.000000</td>\n",
       "      <td>24.250000</td>\n",
       "      <td>62.000000</td>\n",
       "      <td>22812.250000</td>\n",
       "      <td>1.877812</td>\n",
       "      <td>0.000000</td>\n",
       "      <td>0.000000</td>\n",
       "    </tr>\n",
       "    <tr>\n",
       "      <th>50%</th>\n",
       "      <td>28.000000</td>\n",
       "      <td>3.000000</td>\n",
       "      <td>36.000000</td>\n",
       "      <td>113.500000</td>\n",
       "      <td>41975.000000</td>\n",
       "      <td>4.196167</td>\n",
       "      <td>1.000000</td>\n",
       "      <td>1.000000</td>\n",
       "    </tr>\n",
       "    <tr>\n",
       "      <th>75%</th>\n",
       "      <td>46.000000</td>\n",
       "      <td>4.000000</td>\n",
       "      <td>43.000000</td>\n",
       "      <td>150.750000</td>\n",
       "      <td>60223.000000</td>\n",
       "      <td>6.712022</td>\n",
       "      <td>1.000000</td>\n",
       "      <td>1.000000</td>\n",
       "    </tr>\n",
       "    <tr>\n",
       "      <th>max</th>\n",
       "      <td>90.000000</td>\n",
       "      <td>5.000000</td>\n",
       "      <td>62.000000</td>\n",
       "      <td>210.000000</td>\n",
       "      <td>182058.000000</td>\n",
       "      <td>10.986203</td>\n",
       "      <td>1.000000</td>\n",
       "      <td>1.000000</td>\n",
       "    </tr>\n",
       "  </tbody>\n",
       "</table>\n",
       "</div>"
      ],
      "text/plain": [
       "              Age  num_coffeeBags_per_year  spent_week  spent_month  \\\n",
       "count  702.000000               702.000000  702.000000   702.000000   \n",
       "mean    34.243590                 2.710826   32.853276   107.923077   \n",
       "std     13.927945                 1.593629   15.731878    55.348485   \n",
       "min     16.000000                 0.000000    0.000000     0.000000   \n",
       "25%     23.000000                 1.000000   24.250000    62.000000   \n",
       "50%     28.000000                 3.000000   36.000000   113.500000   \n",
       "75%     46.000000                 4.000000   43.000000   150.750000   \n",
       "max     90.000000                 5.000000   62.000000   210.000000   \n",
       "\n",
       "               SlrAY    Distance      Online    Decision  \n",
       "count     702.000000  702.000000  702.000000  474.000000  \n",
       "mean    43819.843305    4.559186    0.531339    0.639241  \n",
       "std     26192.626943    3.116275    0.499373    0.480728  \n",
       "min      1617.000000    0.003168    0.000000    0.000000  \n",
       "25%     22812.250000    1.877812    0.000000    0.000000  \n",
       "50%     41975.000000    4.196167    1.000000    1.000000  \n",
       "75%     60223.000000    6.712022    1.000000    1.000000  \n",
       "max    182058.000000   10.986203    1.000000    1.000000  "
      ]
     },
     "execution_count": 7,
     "metadata": {},
     "output_type": "execute_result"
    }
   ],
   "source": [
    "coffeeData.describe()"
   ]
  },
  {
   "cell_type": "code",
   "execution_count": 8,
   "metadata": {},
   "outputs": [
    {
     "data": {
      "text/plain": [
       "Index(['Age', 'Gender', 'num_coffeeBags_per_year', 'spent_week', 'spent_month',\n",
       "       'SlrAY', 'Distance', 'Online', 'Decision'],\n",
       "      dtype='object')"
      ]
     },
     "execution_count": 8,
     "metadata": {},
     "output_type": "execute_result"
    }
   ],
   "source": [
    "coffeeData.columns"
   ]
  },
  {
   "cell_type": "code",
   "execution_count": 9,
   "metadata": {},
   "outputs": [],
   "source": [
    "coffeeData.columns=['Age', 'Gender', 'num_coffeeBags_per_year', 'spent_last_week', 'spent_last_month',\n",
    "       'salary', 'Distance', 'Online', 'Decision']"
   ]
  },
  {
   "cell_type": "code",
   "execution_count": 10,
   "metadata": {},
   "outputs": [
    {
     "data": {
      "text/html": [
       "<div>\n",
       "<style scoped>\n",
       "    .dataframe tbody tr th:only-of-type {\n",
       "        vertical-align: middle;\n",
       "    }\n",
       "\n",
       "    .dataframe tbody tr th {\n",
       "        vertical-align: top;\n",
       "    }\n",
       "\n",
       "    .dataframe thead th {\n",
       "        text-align: right;\n",
       "    }\n",
       "</style>\n",
       "<table border=\"1\" class=\"dataframe\">\n",
       "  <thead>\n",
       "    <tr style=\"text-align: right;\">\n",
       "      <th></th>\n",
       "      <th>Age</th>\n",
       "      <th>Gender</th>\n",
       "      <th>num_coffeeBags_per_year</th>\n",
       "      <th>spent_last_week</th>\n",
       "      <th>spent_last_month</th>\n",
       "      <th>salary</th>\n",
       "      <th>Distance</th>\n",
       "      <th>Online</th>\n",
       "      <th>Decision</th>\n",
       "    </tr>\n",
       "  </thead>\n",
       "  <tbody>\n",
       "    <tr>\n",
       "      <th>0</th>\n",
       "      <td>36</td>\n",
       "      <td>Female</td>\n",
       "      <td>0</td>\n",
       "      <td>24</td>\n",
       "      <td>73</td>\n",
       "      <td>42789</td>\n",
       "      <td>0.003168</td>\n",
       "      <td>0</td>\n",
       "      <td>1.0</td>\n",
       "    </tr>\n",
       "    <tr>\n",
       "      <th>1</th>\n",
       "      <td>24</td>\n",
       "      <td>Male</td>\n",
       "      <td>0</td>\n",
       "      <td>44</td>\n",
       "      <td>164</td>\n",
       "      <td>74035</td>\n",
       "      <td>0.520906</td>\n",
       "      <td>0</td>\n",
       "      <td>NaN</td>\n",
       "    </tr>\n",
       "    <tr>\n",
       "      <th>2</th>\n",
       "      <td>24</td>\n",
       "      <td>Male</td>\n",
       "      <td>0</td>\n",
       "      <td>39</td>\n",
       "      <td>119</td>\n",
       "      <td>30563</td>\n",
       "      <td>0.916005</td>\n",
       "      <td>1</td>\n",
       "      <td>1.0</td>\n",
       "    </tr>\n",
       "    <tr>\n",
       "      <th>3</th>\n",
       "      <td>20</td>\n",
       "      <td>Male</td>\n",
       "      <td>0</td>\n",
       "      <td>30</td>\n",
       "      <td>107</td>\n",
       "      <td>13166</td>\n",
       "      <td>0.932098</td>\n",
       "      <td>1</td>\n",
       "      <td>NaN</td>\n",
       "    </tr>\n",
       "    <tr>\n",
       "      <th>4</th>\n",
       "      <td>24</td>\n",
       "      <td>Female</td>\n",
       "      <td>0</td>\n",
       "      <td>20</td>\n",
       "      <td>36</td>\n",
       "      <td>14244</td>\n",
       "      <td>0.965881</td>\n",
       "      <td>0</td>\n",
       "      <td>1.0</td>\n",
       "    </tr>\n",
       "  </tbody>\n",
       "</table>\n",
       "</div>"
      ],
      "text/plain": [
       "   Age  Gender  num_coffeeBags_per_year  spent_last_week  spent_last_month  \\\n",
       "0   36  Female                        0               24                73   \n",
       "1   24    Male                        0               44               164   \n",
       "2   24    Male                        0               39               119   \n",
       "3   20    Male                        0               30               107   \n",
       "4   24  Female                        0               20                36   \n",
       "\n",
       "   salary  Distance  Online  Decision  \n",
       "0   42789  0.003168       0       1.0  \n",
       "1   74035  0.520906       0       NaN  \n",
       "2   30563  0.916005       1       1.0  \n",
       "3   13166  0.932098       1       NaN  \n",
       "4   14244  0.965881       0       1.0  "
      ]
     },
     "execution_count": 10,
     "metadata": {},
     "output_type": "execute_result"
    }
   ],
   "source": [
    "coffeeData.head()"
   ]
  },
  {
   "cell_type": "code",
   "execution_count": 11,
   "metadata": {},
   "outputs": [
    {
     "data": {
      "text/plain": [
       "Index(['Age', 'Gender', 'num_coffeeBags_per_year', 'spent_last_week',\n",
       "       'spent_last_month', 'salary', 'Distance', 'Online', 'Decision'],\n",
       "      dtype='object')"
      ]
     },
     "execution_count": 11,
     "metadata": {},
     "output_type": "execute_result"
    }
   ],
   "source": [
    "coffeeData.columns"
   ]
  },
  {
   "cell_type": "code",
   "execution_count": 12,
   "metadata": {},
   "outputs": [
    {
     "data": {
      "text/plain": [
       "Male      355\n",
       "Female    340\n",
       "female      1\n",
       "F           1\n",
       "f           1\n",
       "FEMALE      1\n",
       "MALE        1\n",
       "male        1\n",
       "M           1\n",
       "Name: Gender, dtype: int64"
      ]
     },
     "execution_count": 12,
     "metadata": {},
     "output_type": "execute_result"
    }
   ],
   "source": [
    "coffeeData.Gender.value_counts()"
   ]
  },
  {
   "cell_type": "code",
   "execution_count": 13,
   "metadata": {},
   "outputs": [
    {
     "data": {
      "text/plain": [
       "array(['Female', 'Male', 'female', 'F', 'f ', 'FEMALE', 'MALE', 'male',\n",
       "       'M'], dtype=object)"
      ]
     },
     "execution_count": 13,
     "metadata": {},
     "output_type": "execute_result"
    }
   ],
   "source": [
    "coffeeData.Gender.unique()"
   ]
  },
  {
   "cell_type": "code",
   "execution_count": 14,
   "metadata": {},
   "outputs": [
    {
     "data": {
      "text/plain": [
       "array(['Female', 'Male'], dtype=object)"
      ]
     },
     "execution_count": 14,
     "metadata": {},
     "output_type": "execute_result"
    }
   ],
   "source": [
    "mapping={'female':'Female', 'F':'Female', 'f ':'Female', 'FEMALE':'Female', 'MALE':'Male', 'male':'Male',\n",
    "       'M':'Male'}\n",
    "\n",
    "coffeeData.Gender = coffeeData.Gender.replace(mapping)\n",
    "coffeeData.Gender.unique()"
   ]
  },
  {
   "cell_type": "code",
   "execution_count": 15,
   "metadata": {},
   "outputs": [
    {
     "data": {
      "text/plain": [
       "1.0    303\n",
       "0.0    171\n",
       "Name: Decision, dtype: int64"
      ]
     },
     "execution_count": 15,
     "metadata": {},
     "output_type": "execute_result"
    }
   ],
   "source": [
    "coffeeData.Decision.value_counts()"
   ]
  },
  {
   "cell_type": "code",
   "execution_count": 16,
   "metadata": {},
   "outputs": [
    {
     "data": {
      "text/plain": [
       "array([ 1., nan,  0.])"
      ]
     },
     "execution_count": 16,
     "metadata": {},
     "output_type": "execute_result"
    }
   ],
   "source": [
    "coffeeData.Decision.unique()"
   ]
  },
  {
   "cell_type": "code",
   "execution_count": 17,
   "metadata": {},
   "outputs": [
    {
     "data": {
      "text/plain": [
       "Yes    303\n",
       "No     171\n",
       "Name: Decision, dtype: int64"
      ]
     },
     "execution_count": 17,
     "metadata": {},
     "output_type": "execute_result"
    }
   ],
   "source": [
    "mapping = {1:'Yes', 0:'No'}\n",
    "coffeeData.Decision = coffeeData.Decision.replace(mapping)\n",
    "coffeeData.Decision.value_counts()"
   ]
  },
  {
   "cell_type": "code",
   "execution_count": 18,
   "metadata": {},
   "outputs": [
    {
     "data": {
      "text/plain": [
       "array(['Yes', nan, 'No'], dtype=object)"
      ]
     },
     "execution_count": 18,
     "metadata": {},
     "output_type": "execute_result"
    }
   ],
   "source": [
    "coffeeData.Decision.unique()"
   ]
  },
  {
   "cell_type": "code",
   "execution_count": 19,
   "metadata": {},
   "outputs": [
    {
     "data": {
      "text/plain": [
       "array(['Yes', 'No'], dtype=object)"
      ]
     },
     "execution_count": 19,
     "metadata": {},
     "output_type": "execute_result"
    }
   ],
   "source": [
    "NOPrediction = coffeeData.dropna()\n",
    "NOPrediction.Decision.unique()"
   ]
  },
  {
   "cell_type": "code",
   "execution_count": 20,
   "metadata": {},
   "outputs": [
    {
     "data": {
      "text/plain": [
       "array(['Yes', nan, 'No'], dtype=object)"
      ]
     },
     "execution_count": 20,
     "metadata": {},
     "output_type": "execute_result"
    }
   ],
   "source": [
    "coffeeData.Decision.unique()"
   ]
  },
  {
   "cell_type": "code",
   "execution_count": 21,
   "metadata": {},
   "outputs": [
    {
     "name": "stdout",
     "output_type": "stream",
     "text": [
      "<class 'pandas.core.frame.DataFrame'>\n",
      "Int64Index: 474 entries, 0 to 701\n",
      "Data columns (total 9 columns):\n",
      " #   Column                   Non-Null Count  Dtype  \n",
      "---  ------                   --------------  -----  \n",
      " 0   Age                      474 non-null    int64  \n",
      " 1   Gender                   474 non-null    object \n",
      " 2   num_coffeeBags_per_year  474 non-null    int64  \n",
      " 3   spent_last_week          474 non-null    int64  \n",
      " 4   spent_last_month         474 non-null    int64  \n",
      " 5   salary                   474 non-null    int64  \n",
      " 6   Distance                 474 non-null    float64\n",
      " 7   Online                   474 non-null    int64  \n",
      " 8   Decision                 474 non-null    object \n",
      "dtypes: float64(1), int64(6), object(2)\n",
      "memory usage: 37.0+ KB\n"
     ]
    }
   ],
   "source": [
    "NOPrediction.info()"
   ]
  },
  {
   "cell_type": "code",
   "execution_count": 22,
   "metadata": {},
   "outputs": [
    {
     "data": {
      "text/plain": [
       "228"
      ]
     },
     "execution_count": 22,
     "metadata": {},
     "output_type": "execute_result"
    }
   ],
   "source": [
    "coffeeData.Decision.isnull().sum()"
   ]
  },
  {
   "cell_type": "code",
   "execution_count": 23,
   "metadata": {},
   "outputs": [
    {
     "data": {
      "text/plain": [
       "228"
      ]
     },
     "execution_count": 23,
     "metadata": {},
     "output_type": "execute_result"
    }
   ],
   "source": [
    "len(coffeeData)-coffeeData.Decision.value_counts().sum()"
   ]
  },
  {
   "cell_type": "code",
   "execution_count": 24,
   "metadata": {},
   "outputs": [
    {
     "data": {
      "text/plain": [
       "474"
      ]
     },
     "execution_count": 24,
     "metadata": {},
     "output_type": "execute_result"
    }
   ],
   "source": [
    "coffeeData.Decision.value_counts().sum()"
   ]
  },
  {
   "cell_type": "code",
   "execution_count": 25,
   "metadata": {},
   "outputs": [
    {
     "data": {
      "text/plain": [
       "Index(['Age', 'Gender', 'num_coffeeBags_per_year', 'spent_last_week',\n",
       "       'spent_last_month', 'salary', 'Distance', 'Online', 'Decision'],\n",
       "      dtype='object')"
      ]
     },
     "execution_count": 25,
     "metadata": {},
     "output_type": "execute_result"
    }
   ],
   "source": [
    "NOPrediction.columns"
   ]
  },
  {
   "cell_type": "code",
   "execution_count": 26,
   "metadata": {},
   "outputs": [],
   "source": [
    "features=['Age', 'Gender', 'num_coffeeBags_per_year', 'spent_last_week',\n",
    "       'spent_last_month', 'salary', 'Distance', 'Online']"
   ]
  },
  {
   "cell_type": "code",
   "execution_count": 27,
   "metadata": {},
   "outputs": [
    {
     "data": {
      "image/png": "[encoded data removed]",
      "text/plain": [
       "<Figure size 432x288 with 1 Axes>"
      ]
     },
     "metadata": {
      "needs_background": "light"
     },
     "output_type": "display_data"
    },
    {
     "data": {
      "image/png": "[encoded data removed]",
      "text/plain": [
       "<Figure size 432x288 with 1 Axes>"
      ]
     },
     "metadata": {
      "needs_background": "light"
     },
     "output_type": "display_data"
    },
    {
     "data": {
      "image/png": "[encoded data removed]",
      "text/plain": [
       "<Figure size 432x288 with 1 Axes>"
      ]
     },
     "metadata": {
      "needs_background": "light"
     },
     "output_type": "display_data"
    },
    {
     "data": {
      "image/png": "[encoded data removed]",
      "text/plain": [
       "<Figure size 432x288 with 1 Axes>"
      ]
     },
     "metadata": {
      "needs_background": "light"
     },
     "output_type": "display_data"
    },
    {
     "data": {
      "image/png": "[encoded data removed]",
      "text/plain": [
       "<Figure size 432x288 with 1 Axes>"
      ]
     },
     "metadata": {
      "needs_background": "light"
     },
     "output_type": "display_data"
    },
    {
     "data": {
      "image/png": "[encoded data removed]",
      "text/plain": [
       "<Figure size 432x288 with 1 Axes>"
      ]
     },
     "metadata": {
      "needs_background": "light"
     },
     "output_type": "display_data"
    }
   ],
   "source": [
    "pali = ['g','r']\n",
    "\n",
    "features_cont=['Age', 'num_coffeeBags_per_year', 'spent_last_week',\n",
    "       'spent_last_month', 'salary', 'Distance']\n",
    "\n",
    "for feature in features_cont:\n",
    "    sns.boxplot(data=NOPrediction, x='Decision', y=feature, hue='Decision', palette=pali)\n",
    "    plt.show();"
   ]
  },
  {
   "cell_type": "code",
   "execution_count": 28,
   "metadata": {},
   "outputs": [
    {
     "data": {
      "text/plain": [
       "Female    0.508439\n",
       "Male      0.491561\n",
       "Name: Gender, dtype: float64"
      ]
     },
     "execution_count": 28,
     "metadata": {},
     "output_type": "execute_result"
    }
   ],
   "source": [
    "NOPrediction.Gender.value_counts(normalize=True)"
   ]
  },
  {
   "cell_type": "code",
   "execution_count": 29,
   "metadata": {},
   "outputs": [
    {
     "data": {
      "text/plain": [
       "Yes    0.639241\n",
       "No     0.360759\n",
       "Name: Decision, dtype: float64"
      ]
     },
     "execution_count": 29,
     "metadata": {},
     "output_type": "execute_result"
    }
   ],
   "source": [
    "NOPrediction.Decision.value_counts(normalize=True)"
   ]
  },
  {
   "cell_type": "code",
   "execution_count": 30,
   "metadata": {},
   "outputs": [
    {
     "data": {
      "text/plain": [
       "Yes    0.639241\n",
       "No     0.360759\n",
       "Name: Decision, dtype: float64"
      ]
     },
     "execution_count": 30,
     "metadata": {},
     "output_type": "execute_result"
    }
   ],
   "source": [
    "coffeeData.Decision.value_counts(normalize=True)"
   ]
  },
  {
   "cell_type": "code",
   "execution_count": 31,
   "metadata": {},
   "outputs": [
    {
     "data": {
      "text/plain": [
       "{'Gender', 'Online'}"
      ]
     },
     "execution_count": 31,
     "metadata": {},
     "output_type": "execute_result"
    }
   ],
   "source": [
    "set(features) - set(features_cont)"
   ]
  },
  {
   "cell_type": "code",
   "execution_count": 32,
   "metadata": {},
   "outputs": [
    {
     "data": {
      "text/plain": [
       "set"
      ]
     },
     "execution_count": 32,
     "metadata": {},
     "output_type": "execute_result"
    }
   ],
   "source": [
    "type(set(features) - set(features_cont))"
   ]
  },
  {
   "cell_type": "code",
   "execution_count": 33,
   "metadata": {},
   "outputs": [
    {
     "data": {
      "text/plain": [
       "['Online', 'Gender']"
      ]
     },
     "execution_count": 33,
     "metadata": {},
     "output_type": "execute_result"
    }
   ],
   "source": [
    "list(set(features) - set(features_cont))"
   ]
  },
  {
   "cell_type": "code",
   "execution_count": 34,
   "metadata": {},
   "outputs": [
    {
     "ename": "AttributeError",
     "evalue": "'list' object has no attribute 'difference'",
     "output_type": "error",
     "traceback": [
      "\u001b[0;31m---------------------------------------------------------------------------\u001b[0m",
      "\u001b[0;31mAttributeError\u001b[0m                            Traceback (most recent call last)",
      "\u001b[0;32m/var/folders/cr/9gwdd0wn43d9d1db4xfhyvpc0000gn/T/ipykernel_96680/1367860891.py\u001b[0m in \u001b[0;36m<module>\u001b[0;34m\u001b[0m\n\u001b[1;32m      1\u001b[0m \u001b[0;31m#won't work here! only for dicts? #although ironic cuz output of SET is curly braces so LOOKS like a dict!!\u001b[0m\u001b[0;34m\u001b[0m\u001b[0;34m\u001b[0m\u001b[0;34m\u001b[0m\u001b[0m\n\u001b[0;32m----> 2\u001b[0;31m \u001b[0mfeatures\u001b[0m\u001b[0;34m.\u001b[0m\u001b[0mdifference\u001b[0m\u001b[0;34m(\u001b[0m\u001b[0mfeatures_cont\u001b[0m\u001b[0;34m)\u001b[0m\u001b[0;34m\u001b[0m\u001b[0;34m\u001b[0m\u001b[0m\n\u001b[0m",
      "\u001b[0;31mAttributeError\u001b[0m: 'list' object has no attribute 'difference'"
     ]
    }
   ],
   "source": [
    "#won't work here! only for dicts? #although ironic cuz output of SET is curly braces so LOOKS like a dict!!\n",
    "features.difference(features_cont)"
   ]
  },
  {
   "cell_type": "code",
   "execution_count": 35,
   "metadata": {},
   "outputs": [
    {
     "data": {
      "text/plain": [
       "Index(['Age', 'Gender', 'num_coffeeBags_per_year', 'spent_last_week',\n",
       "       'spent_last_month', 'salary', 'Distance', 'Online', 'Decision'],\n",
       "      dtype='object')"
      ]
     },
     "execution_count": 35,
     "metadata": {},
     "output_type": "execute_result"
    }
   ],
   "source": [
    "NOPrediction.columns"
   ]
  },
  {
   "cell_type": "code",
   "execution_count": 36,
   "metadata": {},
   "outputs": [
    {
     "data": {
      "image/png": "[encoded data removed]",
      "text/plain": [
       "<Figure size 432x288 with 1 Axes>"
      ]
     },
     "metadata": {
      "needs_background": "light"
     },
     "output_type": "display_data"
    },
    {
     "data": {
      "image/png": "[encoded data removed]",
      "text/plain": [
       "<Figure size 432x288 with 1 Axes>"
      ]
     },
     "metadata": {
      "needs_background": "light"
     },
     "output_type": "display_data"
    }
   ],
   "source": [
    "#OH! and then we can show the BINARY ones w/ a diff way! simple bar charts!\n",
    "\n",
    "binary_features = list(set(features) - set(features_cont))\n",
    "\n",
    "for binary_feature in binary_features:\n",
    "    sns.countplot(data=NOPrediction,x=binary_feature, hue='Decision', palette=pali)\n",
    "    plt.show()\n",
    "\n",
    "#NOTE!!!! when X *IS* decision then we DON'T NEED HUE!!! just put in palette!!!\n",
    "#BUT THEN THE ONLY DIFF IS YOU WON'T GET THAT NICE *LEGEND*!!!!"
   ]
  },
  {
   "cell_type": "code",
   "execution_count": 37,
   "metadata": {},
   "outputs": [
    {
     "data": {
      "text/html": [
       "<div>\n",
       "<style scoped>\n",
       "    .dataframe tbody tr th:only-of-type {\n",
       "        vertical-align: middle;\n",
       "    }\n",
       "\n",
       "    .dataframe tbody tr th {\n",
       "        vertical-align: top;\n",
       "    }\n",
       "\n",
       "    .dataframe thead th {\n",
       "        text-align: right;\n",
       "    }\n",
       "</style>\n",
       "<table border=\"1\" class=\"dataframe\">\n",
       "  <thead>\n",
       "    <tr style=\"text-align: right;\">\n",
       "      <th></th>\n",
       "      <th>Age</th>\n",
       "      <th>Gender</th>\n",
       "      <th>num_coffeeBags_per_year</th>\n",
       "      <th>spent_last_week</th>\n",
       "      <th>spent_last_month</th>\n",
       "      <th>salary</th>\n",
       "      <th>Distance</th>\n",
       "      <th>Online</th>\n",
       "      <th>Decision</th>\n",
       "    </tr>\n",
       "  </thead>\n",
       "  <tbody>\n",
       "    <tr>\n",
       "      <th>1</th>\n",
       "      <td>24</td>\n",
       "      <td>Male</td>\n",
       "      <td>0</td>\n",
       "      <td>44</td>\n",
       "      <td>164</td>\n",
       "      <td>74035</td>\n",
       "      <td>0.520906</td>\n",
       "      <td>0</td>\n",
       "      <td>NaN</td>\n",
       "    </tr>\n",
       "    <tr>\n",
       "      <th>3</th>\n",
       "      <td>20</td>\n",
       "      <td>Male</td>\n",
       "      <td>0</td>\n",
       "      <td>30</td>\n",
       "      <td>107</td>\n",
       "      <td>13166</td>\n",
       "      <td>0.932098</td>\n",
       "      <td>1</td>\n",
       "      <td>NaN</td>\n",
       "    </tr>\n",
       "    <tr>\n",
       "      <th>7</th>\n",
       "      <td>24</td>\n",
       "      <td>Female</td>\n",
       "      <td>0</td>\n",
       "      <td>20</td>\n",
       "      <td>34</td>\n",
       "      <td>17425</td>\n",
       "      <td>1.193188</td>\n",
       "      <td>0</td>\n",
       "      <td>NaN</td>\n",
       "    </tr>\n",
       "    <tr>\n",
       "      <th>11</th>\n",
       "      <td>24</td>\n",
       "      <td>Female</td>\n",
       "      <td>0</td>\n",
       "      <td>40</td>\n",
       "      <td>153</td>\n",
       "      <td>84803</td>\n",
       "      <td>1.655096</td>\n",
       "      <td>1</td>\n",
       "      <td>NaN</td>\n",
       "    </tr>\n",
       "    <tr>\n",
       "      <th>12</th>\n",
       "      <td>21</td>\n",
       "      <td>Female</td>\n",
       "      <td>0</td>\n",
       "      <td>38</td>\n",
       "      <td>122</td>\n",
       "      <td>42338</td>\n",
       "      <td>1.714179</td>\n",
       "      <td>1</td>\n",
       "      <td>NaN</td>\n",
       "    </tr>\n",
       "    <tr>\n",
       "      <th>...</th>\n",
       "      <td>...</td>\n",
       "      <td>...</td>\n",
       "      <td>...</td>\n",
       "      <td>...</td>\n",
       "      <td>...</td>\n",
       "      <td>...</td>\n",
       "      <td>...</td>\n",
       "      <td>...</td>\n",
       "      <td>...</td>\n",
       "    </tr>\n",
       "    <tr>\n",
       "      <th>673</th>\n",
       "      <td>66</td>\n",
       "      <td>Female</td>\n",
       "      <td>5</td>\n",
       "      <td>0</td>\n",
       "      <td>52</td>\n",
       "      <td>55227</td>\n",
       "      <td>5.984716</td>\n",
       "      <td>0</td>\n",
       "      <td>NaN</td>\n",
       "    </tr>\n",
       "    <tr>\n",
       "      <th>677</th>\n",
       "      <td>67</td>\n",
       "      <td>Male</td>\n",
       "      <td>5</td>\n",
       "      <td>41</td>\n",
       "      <td>151</td>\n",
       "      <td>182058</td>\n",
       "      <td>6.288700</td>\n",
       "      <td>1</td>\n",
       "      <td>NaN</td>\n",
       "    </tr>\n",
       "    <tr>\n",
       "      <th>680</th>\n",
       "      <td>24</td>\n",
       "      <td>Female</td>\n",
       "      <td>5</td>\n",
       "      <td>62</td>\n",
       "      <td>205</td>\n",
       "      <td>55772</td>\n",
       "      <td>6.583449</td>\n",
       "      <td>1</td>\n",
       "      <td>NaN</td>\n",
       "    </tr>\n",
       "    <tr>\n",
       "      <th>682</th>\n",
       "      <td>33</td>\n",
       "      <td>Female</td>\n",
       "      <td>5</td>\n",
       "      <td>34</td>\n",
       "      <td>96</td>\n",
       "      <td>78058</td>\n",
       "      <td>6.723241</td>\n",
       "      <td>0</td>\n",
       "      <td>NaN</td>\n",
       "    </tr>\n",
       "    <tr>\n",
       "      <th>700</th>\n",
       "      <td>20</td>\n",
       "      <td>Female</td>\n",
       "      <td>5</td>\n",
       "      <td>41</td>\n",
       "      <td>159</td>\n",
       "      <td>12522</td>\n",
       "      <td>10.871566</td>\n",
       "      <td>0</td>\n",
       "      <td>NaN</td>\n",
       "    </tr>\n",
       "  </tbody>\n",
       "</table>\n",
       "<p>228 rows × 9 columns</p>\n",
       "</div>"
      ],
      "text/plain": [
       "     Age  Gender  num_coffeeBags_per_year  spent_last_week  spent_last_month  \\\n",
       "1     24    Male                        0               44               164   \n",
       "3     20    Male                        0               30               107   \n",
       "7     24  Female                        0               20                34   \n",
       "11    24  Female                        0               40               153   \n",
       "12    21  Female                        0               38               122   \n",
       "..   ...     ...                      ...              ...               ...   \n",
       "673   66  Female                        5                0                52   \n",
       "677   67    Male                        5               41               151   \n",
       "680   24  Female                        5               62               205   \n",
       "682   33  Female                        5               34                96   \n",
       "700   20  Female                        5               41               159   \n",
       "\n",
       "     salary   Distance  Online Decision  \n",
       "1     74035   0.520906       0      NaN  \n",
       "3     13166   0.932098       1      NaN  \n",
       "7     17425   1.193188       0      NaN  \n",
       "11    84803   1.655096       1      NaN  \n",
       "12    42338   1.714179       1      NaN  \n",
       "..      ...        ...     ...      ...  \n",
       "673   55227   5.984716       0      NaN  \n",
       "677  182058   6.288700       1      NaN  \n",
       "680   55772   6.583449       1      NaN  \n",
       "682   78058   6.723241       0      NaN  \n",
       "700   12522  10.871566       0      NaN  \n",
       "\n",
       "[228 rows x 9 columns]"
      ]
     },
     "execution_count": 37,
     "metadata": {},
     "output_type": "execute_result"
    }
   ],
   "source": [
    "Prediction = coffeeData[coffeeData['Decision'].isnull()]\n",
    "Prediction"
   ]
  },
  {
   "cell_type": "code",
   "execution_count": 38,
   "metadata": {},
   "outputs": [],
   "source": [
    "X = NOPrediction.drop('Decision',axis=1)\n",
    "y = NOPrediction.Decision"
   ]
  },
  {
   "cell_type": "code",
   "execution_count": 39,
   "metadata": {},
   "outputs": [
    {
     "data": {
      "text/html": [
       "<div>\n",
       "<style scoped>\n",
       "    .dataframe tbody tr th:only-of-type {\n",
       "        vertical-align: middle;\n",
       "    }\n",
       "\n",
       "    .dataframe tbody tr th {\n",
       "        vertical-align: top;\n",
       "    }\n",
       "\n",
       "    .dataframe thead th {\n",
       "        text-align: right;\n",
       "    }\n",
       "</style>\n",
       "<table border=\"1\" class=\"dataframe\">\n",
       "  <thead>\n",
       "    <tr style=\"text-align: right;\">\n",
       "      <th></th>\n",
       "      <th>Age</th>\n",
       "      <th>Gender</th>\n",
       "      <th>num_coffeeBags_per_year</th>\n",
       "      <th>spent_last_week</th>\n",
       "      <th>spent_last_month</th>\n",
       "      <th>salary</th>\n",
       "      <th>Distance</th>\n",
       "      <th>Online</th>\n",
       "    </tr>\n",
       "  </thead>\n",
       "  <tbody>\n",
       "    <tr>\n",
       "      <th>0</th>\n",
       "      <td>36</td>\n",
       "      <td>Female</td>\n",
       "      <td>0</td>\n",
       "      <td>24</td>\n",
       "      <td>73</td>\n",
       "      <td>42789</td>\n",
       "      <td>0.003168</td>\n",
       "      <td>0</td>\n",
       "    </tr>\n",
       "    <tr>\n",
       "      <th>2</th>\n",
       "      <td>24</td>\n",
       "      <td>Male</td>\n",
       "      <td>0</td>\n",
       "      <td>39</td>\n",
       "      <td>119</td>\n",
       "      <td>30563</td>\n",
       "      <td>0.916005</td>\n",
       "      <td>1</td>\n",
       "    </tr>\n",
       "    <tr>\n",
       "      <th>4</th>\n",
       "      <td>24</td>\n",
       "      <td>Female</td>\n",
       "      <td>0</td>\n",
       "      <td>20</td>\n",
       "      <td>36</td>\n",
       "      <td>14244</td>\n",
       "      <td>0.965881</td>\n",
       "      <td>0</td>\n",
       "    </tr>\n",
       "    <tr>\n",
       "      <th>5</th>\n",
       "      <td>20</td>\n",
       "      <td>Female</td>\n",
       "      <td>0</td>\n",
       "      <td>23</td>\n",
       "      <td>28</td>\n",
       "      <td>14293</td>\n",
       "      <td>1.036346</td>\n",
       "      <td>1</td>\n",
       "    </tr>\n",
       "    <tr>\n",
       "      <th>6</th>\n",
       "      <td>34</td>\n",
       "      <td>Female</td>\n",
       "      <td>0</td>\n",
       "      <td>55</td>\n",
       "      <td>202</td>\n",
       "      <td>91035</td>\n",
       "      <td>1.134851</td>\n",
       "      <td>0</td>\n",
       "    </tr>\n",
       "    <tr>\n",
       "      <th>...</th>\n",
       "      <td>...</td>\n",
       "      <td>...</td>\n",
       "      <td>...</td>\n",
       "      <td>...</td>\n",
       "      <td>...</td>\n",
       "      <td>...</td>\n",
       "      <td>...</td>\n",
       "      <td>...</td>\n",
       "    </tr>\n",
       "    <tr>\n",
       "      <th>696</th>\n",
       "      <td>29</td>\n",
       "      <td>Female</td>\n",
       "      <td>5</td>\n",
       "      <td>20</td>\n",
       "      <td>74</td>\n",
       "      <td>29799</td>\n",
       "      <td>10.455068</td>\n",
       "      <td>0</td>\n",
       "    </tr>\n",
       "    <tr>\n",
       "      <th>697</th>\n",
       "      <td>45</td>\n",
       "      <td>Female</td>\n",
       "      <td>5</td>\n",
       "      <td>61</td>\n",
       "      <td>201</td>\n",
       "      <td>80260</td>\n",
       "      <td>10.476341</td>\n",
       "      <td>0</td>\n",
       "    </tr>\n",
       "    <tr>\n",
       "      <th>698</th>\n",
       "      <td>54</td>\n",
       "      <td>Male</td>\n",
       "      <td>5</td>\n",
       "      <td>44</td>\n",
       "      <td>116</td>\n",
       "      <td>44077</td>\n",
       "      <td>10.693889</td>\n",
       "      <td>1</td>\n",
       "    </tr>\n",
       "    <tr>\n",
       "      <th>699</th>\n",
       "      <td>63</td>\n",
       "      <td>Male</td>\n",
       "      <td>5</td>\n",
       "      <td>33</td>\n",
       "      <td>117</td>\n",
       "      <td>43081</td>\n",
       "      <td>10.755194</td>\n",
       "      <td>1</td>\n",
       "    </tr>\n",
       "    <tr>\n",
       "      <th>701</th>\n",
       "      <td>90</td>\n",
       "      <td>Male</td>\n",
       "      <td>5</td>\n",
       "      <td>39</td>\n",
       "      <td>170</td>\n",
       "      <td>15098</td>\n",
       "      <td>10.891566</td>\n",
       "      <td>0</td>\n",
       "    </tr>\n",
       "  </tbody>\n",
       "</table>\n",
       "<p>474 rows × 8 columns</p>\n",
       "</div>"
      ],
      "text/plain": [
       "     Age  Gender  num_coffeeBags_per_year  spent_last_week  spent_last_month  \\\n",
       "0     36  Female                        0               24                73   \n",
       "2     24    Male                        0               39               119   \n",
       "4     24  Female                        0               20                36   \n",
       "5     20  Female                        0               23                28   \n",
       "6     34  Female                        0               55               202   \n",
       "..   ...     ...                      ...              ...               ...   \n",
       "696   29  Female                        5               20                74   \n",
       "697   45  Female                        5               61               201   \n",
       "698   54    Male                        5               44               116   \n",
       "699   63    Male                        5               33               117   \n",
       "701   90    Male                        5               39               170   \n",
       "\n",
       "     salary   Distance  Online  \n",
       "0     42789   0.003168       0  \n",
       "2     30563   0.916005       1  \n",
       "4     14244   0.965881       0  \n",
       "5     14293   1.036346       1  \n",
       "6     91035   1.134851       0  \n",
       "..      ...        ...     ...  \n",
       "696   29799  10.455068       0  \n",
       "697   80260  10.476341       0  \n",
       "698   44077  10.693889       1  \n",
       "699   43081  10.755194       1  \n",
       "701   15098  10.891566       0  \n",
       "\n",
       "[474 rows x 8 columns]"
      ]
     },
     "execution_count": 39,
     "metadata": {},
     "output_type": "execute_result"
    }
   ],
   "source": [
    "X"
   ]
  },
  {
   "cell_type": "code",
   "execution_count": 40,
   "metadata": {},
   "outputs": [
    {
     "data": {
      "text/plain": [
       "0      Yes\n",
       "2      Yes\n",
       "4      Yes\n",
       "5      Yes\n",
       "6      Yes\n",
       "      ... \n",
       "696     No\n",
       "697    Yes\n",
       "698     No\n",
       "699     No\n",
       "701    Yes\n",
       "Name: Decision, Length: 474, dtype: object"
      ]
     },
     "execution_count": 40,
     "metadata": {},
     "output_type": "execute_result"
    }
   ],
   "source": [
    "y"
   ]
  },
  {
   "cell_type": "code",
   "execution_count": 42,
   "metadata": {},
   "outputs": [
    {
     "data": {
      "text/html": [
       "<div>\n",
       "<style scoped>\n",
       "    .dataframe tbody tr th:only-of-type {\n",
       "        vertical-align: middle;\n",
       "    }\n",
       "\n",
       "    .dataframe tbody tr th {\n",
       "        vertical-align: top;\n",
       "    }\n",
       "\n",
       "    .dataframe thead th {\n",
       "        text-align: right;\n",
       "    }\n",
       "</style>\n",
       "<table border=\"1\" class=\"dataframe\">\n",
       "  <thead>\n",
       "    <tr style=\"text-align: right;\">\n",
       "      <th></th>\n",
       "      <th>Age</th>\n",
       "      <th>num_coffeeBags_per_year</th>\n",
       "      <th>spent_last_week</th>\n",
       "      <th>spent_last_month</th>\n",
       "      <th>salary</th>\n",
       "      <th>Distance</th>\n",
       "      <th>Online_1</th>\n",
       "      <th>Gender_Male</th>\n",
       "    </tr>\n",
       "  </thead>\n",
       "  <tbody>\n",
       "    <tr>\n",
       "      <th>0</th>\n",
       "      <td>36</td>\n",
       "      <td>0</td>\n",
       "      <td>24</td>\n",
       "      <td>73</td>\n",
       "      <td>42789</td>\n",
       "      <td>0.003168</td>\n",
       "      <td>0</td>\n",
       "      <td>0</td>\n",
       "    </tr>\n",
       "    <tr>\n",
       "      <th>2</th>\n",
       "      <td>24</td>\n",
       "      <td>0</td>\n",
       "      <td>39</td>\n",
       "      <td>119</td>\n",
       "      <td>30563</td>\n",
       "      <td>0.916005</td>\n",
       "      <td>1</td>\n",
       "      <td>1</td>\n",
       "    </tr>\n",
       "    <tr>\n",
       "      <th>4</th>\n",
       "      <td>24</td>\n",
       "      <td>0</td>\n",
       "      <td>20</td>\n",
       "      <td>36</td>\n",
       "      <td>14244</td>\n",
       "      <td>0.965881</td>\n",
       "      <td>0</td>\n",
       "      <td>0</td>\n",
       "    </tr>\n",
       "    <tr>\n",
       "      <th>5</th>\n",
       "      <td>20</td>\n",
       "      <td>0</td>\n",
       "      <td>23</td>\n",
       "      <td>28</td>\n",
       "      <td>14293</td>\n",
       "      <td>1.036346</td>\n",
       "      <td>1</td>\n",
       "      <td>0</td>\n",
       "    </tr>\n",
       "    <tr>\n",
       "      <th>6</th>\n",
       "      <td>34</td>\n",
       "      <td>0</td>\n",
       "      <td>55</td>\n",
       "      <td>202</td>\n",
       "      <td>91035</td>\n",
       "      <td>1.134851</td>\n",
       "      <td>0</td>\n",
       "      <td>0</td>\n",
       "    </tr>\n",
       "    <tr>\n",
       "      <th>...</th>\n",
       "      <td>...</td>\n",
       "      <td>...</td>\n",
       "      <td>...</td>\n",
       "      <td>...</td>\n",
       "      <td>...</td>\n",
       "      <td>...</td>\n",
       "      <td>...</td>\n",
       "      <td>...</td>\n",
       "    </tr>\n",
       "    <tr>\n",
       "      <th>696</th>\n",
       "      <td>29</td>\n",
       "      <td>5</td>\n",
       "      <td>20</td>\n",
       "      <td>74</td>\n",
       "      <td>29799</td>\n",
       "      <td>10.455068</td>\n",
       "      <td>0</td>\n",
       "      <td>0</td>\n",
       "    </tr>\n",
       "    <tr>\n",
       "      <th>697</th>\n",
       "      <td>45</td>\n",
       "      <td>5</td>\n",
       "      <td>61</td>\n",
       "      <td>201</td>\n",
       "      <td>80260</td>\n",
       "      <td>10.476341</td>\n",
       "      <td>0</td>\n",
       "      <td>0</td>\n",
       "    </tr>\n",
       "    <tr>\n",
       "      <th>698</th>\n",
       "      <td>54</td>\n",
       "      <td>5</td>\n",
       "      <td>44</td>\n",
       "      <td>116</td>\n",
       "      <td>44077</td>\n",
       "      <td>10.693889</td>\n",
       "      <td>1</td>\n",
       "      <td>1</td>\n",
       "    </tr>\n",
       "    <tr>\n",
       "      <th>699</th>\n",
       "      <td>63</td>\n",
       "      <td>5</td>\n",
       "      <td>33</td>\n",
       "      <td>117</td>\n",
       "      <td>43081</td>\n",
       "      <td>10.755194</td>\n",
       "      <td>1</td>\n",
       "      <td>1</td>\n",
       "    </tr>\n",
       "    <tr>\n",
       "      <th>701</th>\n",
       "      <td>90</td>\n",
       "      <td>5</td>\n",
       "      <td>39</td>\n",
       "      <td>170</td>\n",
       "      <td>15098</td>\n",
       "      <td>10.891566</td>\n",
       "      <td>0</td>\n",
       "      <td>1</td>\n",
       "    </tr>\n",
       "  </tbody>\n",
       "</table>\n",
       "<p>474 rows × 8 columns</p>\n",
       "</div>"
      ],
      "text/plain": [
       "     Age  num_coffeeBags_per_year  spent_last_week  spent_last_month  salary  \\\n",
       "0     36                        0               24                73   42789   \n",
       "2     24                        0               39               119   30563   \n",
       "4     24                        0               20                36   14244   \n",
       "5     20                        0               23                28   14293   \n",
       "6     34                        0               55               202   91035   \n",
       "..   ...                      ...              ...               ...     ...   \n",
       "696   29                        5               20                74   29799   \n",
       "697   45                        5               61               201   80260   \n",
       "698   54                        5               44               116   44077   \n",
       "699   63                        5               33               117   43081   \n",
       "701   90                        5               39               170   15098   \n",
       "\n",
       "      Distance  Online_1  Gender_Male  \n",
       "0     0.003168         0            0  \n",
       "2     0.916005         1            1  \n",
       "4     0.965881         0            0  \n",
       "5     1.036346         1            0  \n",
       "6     1.134851         0            0  \n",
       "..         ...       ...          ...  \n",
       "696  10.455068         0            0  \n",
       "697  10.476341         0            0  \n",
       "698  10.693889         1            1  \n",
       "699  10.755194         1            1  \n",
       "701  10.891566         0            1  \n",
       "\n",
       "[474 rows x 8 columns]"
      ]
     },
     "execution_count": 42,
     "metadata": {},
     "output_type": "execute_result"
    }
   ],
   "source": [
    "#keeping X's separate from y's since need it like that for train/test split!\n",
    "X_dum = pd.get_dummies(X, columns = binary_features, drop_first=True)\n",
    "\n",
    "X_dum"
   ]
  },
  {
   "cell_type": "code",
   "execution_count": 43,
   "metadata": {},
   "outputs": [],
   "source": [
    "#we could've just converted Online to string yes/no too like we did with Decision,\n",
    "#then it would've AUTOMATICALLY DETECTED IT and we could've left columns blank!\n",
    "#gender is already fine cuz string!\n",
    "#OR - since these are BOTH binary anyway, the other option is make them BOTH numerical\n",
    "#binary 0/1, so Online already is, so could've converted male/female to 1/0 too!\n",
    "#then wouldn't have to dummify???\n",
    "#################################################"
   ]
  },
  {
   "cell_type": "code",
   "execution_count": 44,
   "metadata": {},
   "outputs": [],
   "source": [
    "X_train, X_test, y_train, y_test = train_test_split(X_dum, y, random_state=33)"
   ]
  },
  {
   "cell_type": "code",
   "execution_count": 45,
   "metadata": {},
   "outputs": [
    {
     "data": {
      "text/html": [
       "<div>\n",
       "<style scoped>\n",
       "    .dataframe tbody tr th:only-of-type {\n",
       "        vertical-align: middle;\n",
       "    }\n",
       "\n",
       "    .dataframe tbody tr th {\n",
       "        vertical-align: top;\n",
       "    }\n",
       "\n",
       "    .dataframe thead th {\n",
       "        text-align: right;\n",
       "    }\n",
       "</style>\n",
       "<table border=\"1\" class=\"dataframe\">\n",
       "  <thead>\n",
       "    <tr style=\"text-align: right;\">\n",
       "      <th></th>\n",
       "      <th>Age</th>\n",
       "      <th>num_coffeeBags_per_year</th>\n",
       "      <th>spent_last_week</th>\n",
       "      <th>spent_last_month</th>\n",
       "      <th>salary</th>\n",
       "      <th>Distance</th>\n",
       "      <th>Online_1</th>\n",
       "      <th>Gender_Male</th>\n",
       "    </tr>\n",
       "  </thead>\n",
       "  <tbody>\n",
       "    <tr>\n",
       "      <th>450</th>\n",
       "      <td>25</td>\n",
       "      <td>3</td>\n",
       "      <td>54</td>\n",
       "      <td>170</td>\n",
       "      <td>51644</td>\n",
       "      <td>10.873763</td>\n",
       "      <td>1</td>\n",
       "      <td>1</td>\n",
       "    </tr>\n",
       "    <tr>\n",
       "      <th>129</th>\n",
       "      <td>23</td>\n",
       "      <td>1</td>\n",
       "      <td>21</td>\n",
       "      <td>51</td>\n",
       "      <td>80144</td>\n",
       "      <td>4.990330</td>\n",
       "      <td>1</td>\n",
       "      <td>1</td>\n",
       "    </tr>\n",
       "    <tr>\n",
       "      <th>565</th>\n",
       "      <td>59</td>\n",
       "      <td>4</td>\n",
       "      <td>30</td>\n",
       "      <td>112</td>\n",
       "      <td>69515</td>\n",
       "      <td>9.409150</td>\n",
       "      <td>1</td>\n",
       "      <td>1</td>\n",
       "    </tr>\n",
       "    <tr>\n",
       "      <th>341</th>\n",
       "      <td>16</td>\n",
       "      <td>3</td>\n",
       "      <td>31</td>\n",
       "      <td>70</td>\n",
       "      <td>3526</td>\n",
       "      <td>1.125406</td>\n",
       "      <td>1</td>\n",
       "      <td>0</td>\n",
       "    </tr>\n",
       "    <tr>\n",
       "      <th>523</th>\n",
       "      <td>23</td>\n",
       "      <td>4</td>\n",
       "      <td>41</td>\n",
       "      <td>148</td>\n",
       "      <td>59993</td>\n",
       "      <td>4.815908</td>\n",
       "      <td>1</td>\n",
       "      <td>0</td>\n",
       "    </tr>\n",
       "    <tr>\n",
       "      <th>...</th>\n",
       "      <td>...</td>\n",
       "      <td>...</td>\n",
       "      <td>...</td>\n",
       "      <td>...</td>\n",
       "      <td>...</td>\n",
       "      <td>...</td>\n",
       "      <td>...</td>\n",
       "      <td>...</td>\n",
       "    </tr>\n",
       "    <tr>\n",
       "      <th>193</th>\n",
       "      <td>35</td>\n",
       "      <td>1</td>\n",
       "      <td>0</td>\n",
       "      <td>41</td>\n",
       "      <td>16288</td>\n",
       "      <td>10.694807</td>\n",
       "      <td>0</td>\n",
       "      <td>0</td>\n",
       "    </tr>\n",
       "    <tr>\n",
       "      <th>101</th>\n",
       "      <td>54</td>\n",
       "      <td>1</td>\n",
       "      <td>51</td>\n",
       "      <td>165</td>\n",
       "      <td>56572</td>\n",
       "      <td>3.005885</td>\n",
       "      <td>0</td>\n",
       "      <td>0</td>\n",
       "    </tr>\n",
       "    <tr>\n",
       "      <th>307</th>\n",
       "      <td>53</td>\n",
       "      <td>2</td>\n",
       "      <td>39</td>\n",
       "      <td>129</td>\n",
       "      <td>44192</td>\n",
       "      <td>9.186539</td>\n",
       "      <td>0</td>\n",
       "      <td>1</td>\n",
       "    </tr>\n",
       "    <tr>\n",
       "      <th>568</th>\n",
       "      <td>40</td>\n",
       "      <td>4</td>\n",
       "      <td>25</td>\n",
       "      <td>95</td>\n",
       "      <td>71606</td>\n",
       "      <td>9.728074</td>\n",
       "      <td>0</td>\n",
       "      <td>0</td>\n",
       "    </tr>\n",
       "    <tr>\n",
       "      <th>34</th>\n",
       "      <td>31</td>\n",
       "      <td>0</td>\n",
       "      <td>19</td>\n",
       "      <td>35</td>\n",
       "      <td>16435</td>\n",
       "      <td>5.944409</td>\n",
       "      <td>1</td>\n",
       "      <td>1</td>\n",
       "    </tr>\n",
       "  </tbody>\n",
       "</table>\n",
       "<p>355 rows × 8 columns</p>\n",
       "</div>"
      ],
      "text/plain": [
       "     Age  num_coffeeBags_per_year  spent_last_week  spent_last_month  salary  \\\n",
       "450   25                        3               54               170   51644   \n",
       "129   23                        1               21                51   80144   \n",
       "565   59                        4               30               112   69515   \n",
       "341   16                        3               31                70    3526   \n",
       "523   23                        4               41               148   59993   \n",
       "..   ...                      ...              ...               ...     ...   \n",
       "193   35                        1                0                41   16288   \n",
       "101   54                        1               51               165   56572   \n",
       "307   53                        2               39               129   44192   \n",
       "568   40                        4               25                95   71606   \n",
       "34    31                        0               19                35   16435   \n",
       "\n",
       "      Distance  Online_1  Gender_Male  \n",
       "450  10.873763         1            1  \n",
       "129   4.990330         1            1  \n",
       "565   9.409150         1            1  \n",
       "341   1.125406         1            0  \n",
       "523   4.815908         1            0  \n",
       "..         ...       ...          ...  \n",
       "193  10.694807         0            0  \n",
       "101   3.005885         0            0  \n",
       "307   9.186539         0            1  \n",
       "568   9.728074         0            0  \n",
       "34    5.944409         1            1  \n",
       "\n",
       "[355 rows x 8 columns]"
      ]
     },
     "execution_count": 45,
     "metadata": {},
     "output_type": "execute_result"
    }
   ],
   "source": [
    "X_train"
   ]
  },
  {
   "cell_type": "code",
   "execution_count": 46,
   "metadata": {},
   "outputs": [
    {
     "data": {
      "text/plain": [
       "450    Yes\n",
       "129     No\n",
       "565     No\n",
       "341    Yes\n",
       "523    Yes\n",
       "      ... \n",
       "193     No\n",
       "101    Yes\n",
       "307     No\n",
       "568     No\n",
       "34      No\n",
       "Name: Decision, Length: 355, dtype: object"
      ]
     },
     "execution_count": 46,
     "metadata": {},
     "output_type": "execute_result"
    }
   ],
   "source": [
    "y_train"
   ]
  },
  {
   "cell_type": "code",
   "execution_count": 47,
   "metadata": {},
   "outputs": [
    {
     "data": {
      "text/plain": [
       "(355, 8)"
      ]
     },
     "execution_count": 47,
     "metadata": {},
     "output_type": "execute_result"
    }
   ],
   "source": [
    "X_train.shape"
   ]
  },
  {
   "cell_type": "code",
   "execution_count": 48,
   "metadata": {},
   "outputs": [
    {
     "data": {
      "text/html": [
       "<div>\n",
       "<style scoped>\n",
       "    .dataframe tbody tr th:only-of-type {\n",
       "        vertical-align: middle;\n",
       "    }\n",
       "\n",
       "    .dataframe tbody tr th {\n",
       "        vertical-align: top;\n",
       "    }\n",
       "\n",
       "    .dataframe thead th {\n",
       "        text-align: right;\n",
       "    }\n",
       "</style>\n",
       "<table border=\"1\" class=\"dataframe\">\n",
       "  <thead>\n",
       "    <tr style=\"text-align: right;\">\n",
       "      <th></th>\n",
       "      <th>Age</th>\n",
       "      <th>num_coffeeBags_per_year</th>\n",
       "      <th>spent_last_week</th>\n",
       "      <th>spent_last_month</th>\n",
       "      <th>salary</th>\n",
       "      <th>Distance</th>\n",
       "      <th>Online</th>\n",
       "    </tr>\n",
       "  </thead>\n",
       "  <tbody>\n",
       "    <tr>\n",
       "      <th>count</th>\n",
       "      <td>474.000000</td>\n",
       "      <td>474.000000</td>\n",
       "      <td>474.000000</td>\n",
       "      <td>474.000000</td>\n",
       "      <td>474.000000</td>\n",
       "      <td>474.000000</td>\n",
       "      <td>474.000000</td>\n",
       "    </tr>\n",
       "    <tr>\n",
       "      <th>mean</th>\n",
       "      <td>35.417722</td>\n",
       "      <td>2.590717</td>\n",
       "      <td>32.592827</td>\n",
       "      <td>106.727848</td>\n",
       "      <td>44731.892405</td>\n",
       "      <td>5.102898</td>\n",
       "      <td>0.512658</td>\n",
       "    </tr>\n",
       "    <tr>\n",
       "      <th>std</th>\n",
       "      <td>13.604135</td>\n",
       "      <td>1.585211</td>\n",
       "      <td>15.758109</td>\n",
       "      <td>56.101085</td>\n",
       "      <td>25567.674430</td>\n",
       "      <td>3.354891</td>\n",
       "      <td>0.500368</td>\n",
       "    </tr>\n",
       "    <tr>\n",
       "      <th>min</th>\n",
       "      <td>16.000000</td>\n",
       "      <td>0.000000</td>\n",
       "      <td>0.000000</td>\n",
       "      <td>0.000000</td>\n",
       "      <td>3150.000000</td>\n",
       "      <td>0.003168</td>\n",
       "      <td>0.000000</td>\n",
       "    </tr>\n",
       "    <tr>\n",
       "      <th>25%</th>\n",
       "      <td>25.000000</td>\n",
       "      <td>1.000000</td>\n",
       "      <td>24.000000</td>\n",
       "      <td>60.000000</td>\n",
       "      <td>27284.250000</td>\n",
       "      <td>2.077965</td>\n",
       "      <td>0.000000</td>\n",
       "    </tr>\n",
       "    <tr>\n",
       "      <th>50%</th>\n",
       "      <td>29.000000</td>\n",
       "      <td>3.000000</td>\n",
       "      <td>35.000000</td>\n",
       "      <td>113.500000</td>\n",
       "      <td>42791.500000</td>\n",
       "      <td>4.832168</td>\n",
       "      <td>1.000000</td>\n",
       "    </tr>\n",
       "    <tr>\n",
       "      <th>75%</th>\n",
       "      <td>49.000000</td>\n",
       "      <td>4.000000</td>\n",
       "      <td>43.000000</td>\n",
       "      <td>150.000000</td>\n",
       "      <td>61621.750000</td>\n",
       "      <td>7.869086</td>\n",
       "      <td>1.000000</td>\n",
       "    </tr>\n",
       "    <tr>\n",
       "      <th>max</th>\n",
       "      <td>90.000000</td>\n",
       "      <td>5.000000</td>\n",
       "      <td>62.000000</td>\n",
       "      <td>210.000000</td>\n",
       "      <td>172658.000000</td>\n",
       "      <td>10.986203</td>\n",
       "      <td>1.000000</td>\n",
       "    </tr>\n",
       "  </tbody>\n",
       "</table>\n",
       "</div>"
      ],
      "text/plain": [
       "              Age  num_coffeeBags_per_year  spent_last_week  spent_last_month  \\\n",
       "count  474.000000               474.000000       474.000000        474.000000   \n",
       "mean    35.417722                 2.590717        32.592827        106.727848   \n",
       "std     13.604135                 1.585211        15.758109         56.101085   \n",
       "min     16.000000                 0.000000         0.000000          0.000000   \n",
       "25%     25.000000                 1.000000        24.000000         60.000000   \n",
       "50%     29.000000                 3.000000        35.000000        113.500000   \n",
       "75%     49.000000                 4.000000        43.000000        150.000000   \n",
       "max     90.000000                 5.000000        62.000000        210.000000   \n",
       "\n",
       "              salary    Distance      Online  \n",
       "count     474.000000  474.000000  474.000000  \n",
       "mean    44731.892405    5.102898    0.512658  \n",
       "std     25567.674430    3.354891    0.500368  \n",
       "min      3150.000000    0.003168    0.000000  \n",
       "25%     27284.250000    2.077965    0.000000  \n",
       "50%     42791.500000    4.832168    1.000000  \n",
       "75%     61621.750000    7.869086    1.000000  \n",
       "max    172658.000000   10.986203    1.000000  "
      ]
     },
     "execution_count": 48,
     "metadata": {},
     "output_type": "execute_result"
    }
   ],
   "source": [
    "NOPrediction.describe()"
   ]
  },
  {
   "cell_type": "code",
   "execution_count": 49,
   "metadata": {},
   "outputs": [
    {
     "data": {
      "text/html": [
       "<div>\n",
       "<style scoped>\n",
       "    .dataframe tbody tr th:only-of-type {\n",
       "        vertical-align: middle;\n",
       "    }\n",
       "\n",
       "    .dataframe tbody tr th {\n",
       "        vertical-align: top;\n",
       "    }\n",
       "\n",
       "    .dataframe thead th {\n",
       "        text-align: right;\n",
       "    }\n",
       "</style>\n",
       "<table border=\"1\" class=\"dataframe\">\n",
       "  <thead>\n",
       "    <tr style=\"text-align: right;\">\n",
       "      <th></th>\n",
       "      <th>Age</th>\n",
       "      <th>num_coffeeBags_per_year</th>\n",
       "      <th>spent_last_week</th>\n",
       "      <th>spent_last_month</th>\n",
       "      <th>salary</th>\n",
       "      <th>Distance</th>\n",
       "      <th>Online</th>\n",
       "    </tr>\n",
       "  </thead>\n",
       "  <tbody>\n",
       "    <tr>\n",
       "      <th>count</th>\n",
       "      <td>228.000000</td>\n",
       "      <td>228.000000</td>\n",
       "      <td>228.000000</td>\n",
       "      <td>228.000000</td>\n",
       "      <td>228.000000</td>\n",
       "      <td>228.000000</td>\n",
       "      <td>228.000000</td>\n",
       "    </tr>\n",
       "    <tr>\n",
       "      <th>mean</th>\n",
       "      <td>31.802632</td>\n",
       "      <td>2.960526</td>\n",
       "      <td>33.394737</td>\n",
       "      <td>110.407895</td>\n",
       "      <td>41923.741228</td>\n",
       "      <td>3.428836</td>\n",
       "      <td>0.570175</td>\n",
       "    </tr>\n",
       "    <tr>\n",
       "      <th>std</th>\n",
       "      <td>14.302293</td>\n",
       "      <td>1.585514</td>\n",
       "      <td>15.697930</td>\n",
       "      <td>53.786536</td>\n",
       "      <td>27406.768360</td>\n",
       "      <td>2.153102</td>\n",
       "      <td>0.496140</td>\n",
       "    </tr>\n",
       "    <tr>\n",
       "      <th>min</th>\n",
       "      <td>16.000000</td>\n",
       "      <td>0.000000</td>\n",
       "      <td>0.000000</td>\n",
       "      <td>0.000000</td>\n",
       "      <td>1617.000000</td>\n",
       "      <td>0.010048</td>\n",
       "      <td>0.000000</td>\n",
       "    </tr>\n",
       "    <tr>\n",
       "      <th>25%</th>\n",
       "      <td>22.000000</td>\n",
       "      <td>2.000000</td>\n",
       "      <td>25.750000</td>\n",
       "      <td>65.000000</td>\n",
       "      <td>15911.500000</td>\n",
       "      <td>1.699408</td>\n",
       "      <td>0.000000</td>\n",
       "    </tr>\n",
       "    <tr>\n",
       "      <th>50%</th>\n",
       "      <td>25.000000</td>\n",
       "      <td>3.000000</td>\n",
       "      <td>37.000000</td>\n",
       "      <td>113.500000</td>\n",
       "      <td>40987.500000</td>\n",
       "      <td>3.208673</td>\n",
       "      <td>1.000000</td>\n",
       "    </tr>\n",
       "    <tr>\n",
       "      <th>75%</th>\n",
       "      <td>39.000000</td>\n",
       "      <td>4.000000</td>\n",
       "      <td>44.000000</td>\n",
       "      <td>151.250000</td>\n",
       "      <td>58537.000000</td>\n",
       "      <td>5.261184</td>\n",
       "      <td>1.000000</td>\n",
       "    </tr>\n",
       "    <tr>\n",
       "      <th>max</th>\n",
       "      <td>67.000000</td>\n",
       "      <td>5.000000</td>\n",
       "      <td>62.000000</td>\n",
       "      <td>210.000000</td>\n",
       "      <td>182058.000000</td>\n",
       "      <td>10.871566</td>\n",
       "      <td>1.000000</td>\n",
       "    </tr>\n",
       "  </tbody>\n",
       "</table>\n",
       "</div>"
      ],
      "text/plain": [
       "              Age  num_coffeeBags_per_year  spent_last_week  spent_last_month  \\\n",
       "count  228.000000               228.000000       228.000000        228.000000   \n",
       "mean    31.802632                 2.960526        33.394737        110.407895   \n",
       "std     14.302293                 1.585514        15.697930         53.786536   \n",
       "min     16.000000                 0.000000         0.000000          0.000000   \n",
       "25%     22.000000                 2.000000        25.750000         65.000000   \n",
       "50%     25.000000                 3.000000        37.000000        113.500000   \n",
       "75%     39.000000                 4.000000        44.000000        151.250000   \n",
       "max     67.000000                 5.000000        62.000000        210.000000   \n",
       "\n",
       "              salary    Distance      Online  \n",
       "count     228.000000  228.000000  228.000000  \n",
       "mean    41923.741228    3.428836    0.570175  \n",
       "std     27406.768360    2.153102    0.496140  \n",
       "min      1617.000000    0.010048    0.000000  \n",
       "25%     15911.500000    1.699408    0.000000  \n",
       "50%     40987.500000    3.208673    1.000000  \n",
       "75%     58537.000000    5.261184    1.000000  \n",
       "max    182058.000000   10.871566    1.000000  "
      ]
     },
     "execution_count": 49,
     "metadata": {},
     "output_type": "execute_result"
    }
   ],
   "source": [
    "Prediction.describe()"
   ]
  },
  {
   "cell_type": "code",
   "execution_count": 50,
   "metadata": {},
   "outputs": [],
   "source": [
    "#oh! notice gender is missing cuz it's *TEXT* AND NOT NUMERICAL!\n",
    "###############################################################################################"
   ]
  },
  {
   "cell_type": "code",
   "execution_count": 51,
   "metadata": {},
   "outputs": [
    {
     "data": {
      "image/png": "[encoded data removed]",
      "text/plain": [
       "<Figure size 432x288 with 1 Axes>"
      ]
     },
     "metadata": {
      "needs_background": "light"
     },
     "output_type": "display_data"
    }
   ],
   "source": [
    "sns.boxplot(data=NOPrediction, x='Decision', y='spent_last_week', hue='Decision', palette=pali);"
   ]
  },
  {
   "cell_type": "code",
   "execution_count": 52,
   "metadata": {},
   "outputs": [
    {
     "data": {
      "image/png": "[encoded data removed]",
      "text/plain": [
       "<Figure size 432x288 with 1 Axes>"
      ]
     },
     "metadata": {
      "needs_background": "light"
     },
     "output_type": "display_data"
    }
   ],
   "source": [
    "sns.scatterplot(data=NOPrediction, x='Distance', y='spent_last_month', hue='Decision', palette=pali);"
   ]
  },
  {
   "cell_type": "code",
   "execution_count": 54,
   "metadata": {},
   "outputs": [
    {
     "data": {
      "image/png": "[encoded data removed]",
      "text/plain": [
       "<Figure size 432x288 with 1 Axes>"
      ]
     },
     "metadata": {
      "needs_background": "light"
     },
     "output_type": "display_data"
    },
    {
     "data": {
      "image/png": "[encoded data removed]",
      "text/plain": [
       "<Figure size 432x288 with 1 Axes>"
      ]
     },
     "metadata": {
      "needs_background": "light"
     },
     "output_type": "display_data"
    },
    {
     "data": {
      "image/png": "[encoded data removed]",
      "text/plain": [
       "<Figure size 432x288 with 1 Axes>"
      ]
     },
     "metadata": {
      "needs_background": "light"
     },
     "output_type": "display_data"
    },
    {
     "data": {
      "image/png": "[encoded data removed]",
      "text/plain": [
       "<Figure size 432x288 with 1 Axes>"
      ]
     },
     "metadata": {
      "needs_background": "light"
     },
     "output_type": "display_data"
    }
   ],
   "source": [
    "features_focus=['spent_last_month', 'Distance', 'Age', 'salary']\n",
    "\n",
    "for feature in features_focus:\n",
    "    sns.boxplot(data=NOPrediction, x='Decision', y=feature, hue='Decision', palette=pali)\n",
    "    plt.show();"
   ]
  },
  {
   "cell_type": "code",
   "execution_count": 55,
   "metadata": {},
   "outputs": [
    {
     "data": {
      "text/plain": [
       "137"
      ]
     },
     "execution_count": 55,
     "metadata": {},
     "output_type": "execute_result"
    }
   ],
   "source": [
    "X_train[y_train=='No'].spent_last_month.max()"
   ]
  },
  {
   "cell_type": "code",
   "execution_count": 56,
   "metadata": {},
   "outputs": [
    {
     "data": {
      "text/plain": [
       "143.0"
      ]
     },
     "execution_count": 56,
     "metadata": {},
     "output_type": "execute_result"
    }
   ],
   "source": [
    "X_train[y_train=='Yes'].spent_last_month.median()"
   ]
  },
  {
   "cell_type": "code",
   "execution_count": 57,
   "metadata": {},
   "outputs": [],
   "source": [
    "#do another one for IQRs!!!"
   ]
  },
  {
   "cell_type": "code",
   "execution_count": 58,
   "metadata": {},
   "outputs": [],
   "source": [
    "####keep in mind that there's the OVERALL data, but then there's the TRAINING ONLY\n",
    "#data that our model is gonna see and fit on, perfectly in fact in unrestrained /\n",
    "#no max depth editions! thus, don't take the cuts/cutmarks TOO literally when you look\n",
    "#at the decision tree cuz it DEPENDS WHAT POINTS *TRAINING* SPLIT GOT!!!!!!\n",
    "#you can look at the boxplots & scatts of those separately if you want!\n",
    "#here's a start:\n",
    "# trainers = X_train.copy()\n",
    "# trainers['Decision']=y_train\n",
    "# trainers.head()\n",
    "# sns.boxplot(data=trainers, x='Decision', y='Distance', hue='Decision', palette=pali);"
   ]
  },
  {
   "cell_type": "code",
   "execution_count": 59,
   "metadata": {},
   "outputs": [
    {
     "data": {
      "image/png": "[encoded data removed]",
      "text/plain": [
       "<Figure size 432x288 with 1 Axes>"
      ]
     },
     "metadata": {
      "needs_background": "light"
     },
     "output_type": "display_data"
    }
   ],
   "source": [
    "#more scatts!\n",
    "sns.scatterplot(data=NOPrediction, x='spent_last_week', y='spent_last_month', hue='Decision', palette=pali);"
   ]
  },
  {
   "cell_type": "code",
   "execution_count": 60,
   "metadata": {},
   "outputs": [],
   "source": [
    "#ahhhh interesting! so yeah, like we said, THESE TWO ARE PROBABLY/EXPECTEDLY\n",
    "#HIGHLY CORRELATED!!! if you spent more last week, you probably spent more\n",
    "#last MONTH! in some cases, last week WAS last month LOL!\n",
    "#the separation you see is like the same you see in either ONE of them\n",
    "#individually! aka the more you spent, the more likely you were to indicate Yes!"
   ]
  },
  {
   "cell_type": "code",
   "execution_count": 61,
   "metadata": {},
   "outputs": [
    {
     "data": {
      "image/png": "[encoded data removed]",
      "text/plain": [
       "<Figure size 432x288 with 1 Axes>"
      ]
     },
     "metadata": {
      "needs_background": "light"
     },
     "output_type": "display_data"
    }
   ],
   "source": [
    "sns.scatterplot(data=NOPrediction, x='Age', y='spent_last_month', hue='Decision', palette=pali);"
   ]
  },
  {
   "cell_type": "code",
   "execution_count": 62,
   "metadata": {},
   "outputs": [],
   "source": [
    "#hmm interesting! it's like an upside down 'L' shape! like square within a square!\n",
    "#<age 23 & >$138 spent last month said Yes!!!"
   ]
  },
  {
   "cell_type": "code",
   "execution_count": 63,
   "metadata": {},
   "outputs": [
    {
     "data": {
      "image/png": "[encoded data removed]",
      "text/plain": [
       "<Figure size 432x288 with 1 Axes>"
      ]
     },
     "metadata": {
      "needs_background": "light"
     },
     "output_type": "display_data"
    }
   ],
   "source": [
    "sns.scatterplot(data=NOPrediction, x='Age', y='Distance', hue='Decision', palette=pali);"
   ]
  },
  {
   "cell_type": "code",
   "execution_count": 64,
   "metadata": {},
   "outputs": [],
   "source": [
    "#hmm interesting! like another L shape, but actually, mostly just the lower\n",
    "#left block said yes! you can box that up w/ only a few exceptions!\n",
    "#young & close!!!\n",
    "#the youngest ALL said yes, and the closest ALMOST all said yes!!!\n",
    "############################################################################"
   ]
  },
  {
   "cell_type": "code",
   "execution_count": 65,
   "metadata": {},
   "outputs": [
    {
     "data": {
      "image/png": "[encoded data removed]",
      "text/plain": [
       "<Figure size 432x288 with 1 Axes>"
      ]
     },
     "metadata": {
      "needs_background": "light"
     },
     "output_type": "display_data"
    }
   ],
   "source": [
    "sns.scatterplot(data=NOPrediction, x='salary', y='spent_last_month', hue='Decision', palette=pali);"
   ]
  },
  {
   "cell_type": "code",
   "execution_count": 66,
   "metadata": {},
   "outputs": [],
   "source": [
    "#okay so another 'L', the PISTOL FIGURE!!! so, from bottom left/origin,\n",
    "#like angling up and right, then SHARP right turn lol, so basically, ENTIRE TOP block,\n",
    "#without exception, so >$138 spent, *ALL* income brackets, regardless of how rich\n",
    "#or poor, said yes! ppl are mostly in the 25k to 80k range to begin with;\n",
    "#and then beneath that spenditure, interestingly it's the ones who make the LEAST\n",
    "#that said yes!!! makes sense tho that the less they make, the less they tend\n",
    "#to spend. lot of mixing, but the LOWEST earners said yes REGARDLESS OF HOW\n",
    "#MUCH THEY SPENT! seems a little strange that even those who didn't spend anything\n",
    "#in the last month were saying they would - but it was a mix; but as expected,\n",
    "#it was more common to say NO then yes for the low SPENDERS, but perhaps\n",
    "#more common to say yes than no for low EARNERS!!! but yeah, interestingly the\n",
    "#LOWEST spenders said yes!? too happy-go-lucky lol"
   ]
  },
  {
   "cell_type": "code",
   "execution_count": 67,
   "metadata": {},
   "outputs": [
    {
     "data": {
      "image/png": "[encoded data removed]",
      "text/plain": [
       "<Figure size 432x288 with 1 Axes>"
      ]
     },
     "metadata": {
      "needs_background": "light"
     },
     "output_type": "display_data"
    }
   ],
   "source": [
    "sns.scatterplot(data=NOPrediction, x='salary', y='Distance', hue='Decision', palette=pali);"
   ]
  },
  {
   "cell_type": "code",
   "execution_count": 68,
   "metadata": {},
   "outputs": [],
   "source": [
    "#okay cool - pretty good division! NE/SW line! would have to do a pixely\n",
    "#jagged back n forth chisel, up/right up/right lol TO BE UPRIGHT! upward & onward\n",
    "#but everyone >$85k salary, without exception, said yes. and then that block/box\n",
    "#to low-left of that line, like down to $35k salary and up to 4.1miles distance!"
   ]
  },
  {
   "cell_type": "code",
   "execution_count": 69,
   "metadata": {},
   "outputs": [
    {
     "data": {
      "text/plain": [
       "0.9495798319327731"
      ]
     },
     "execution_count": 69,
     "metadata": {},
     "output_type": "execute_result"
    }
   ],
   "source": [
    "from sklearn.tree import DecisionTreeClassifier\n",
    "entr_model = DecisionTreeClassifier(criterion='entropy')\n",
    "#max_depth default is None which is what we want!\n",
    "\n",
    "# Call fit() on entr_model\n",
    "entr_model.fit(X_train,y_train)\n",
    "\n",
    "# Call predict() on entr_model with X_test passed to it, and assign the result to a variable y_pred \n",
    "y_pred = entr_model.predict(X_test)\n",
    "\n",
    "# See how we did\n",
    "entr_model.score(X_test,y_test)"
   ]
  },
  {
   "cell_type": "code",
   "execution_count": 70,
   "metadata": {},
   "outputs": [
    {
     "data": {
      "text/plain": [
       "1.0"
      ]
     },
     "execution_count": 70,
     "metadata": {},
     "output_type": "execute_result"
    }
   ],
   "source": [
    "entr_model.score(X_train,y_train)"
   ]
  },
  {
   "cell_type": "code",
   "execution_count": 71,
   "metadata": {},
   "outputs": [],
   "source": [
    "#####################################################################################\n",
    "#OHHHHH DAANNNNNNNNGGGGGG DANIYAALLLL!!!!! sA so IT ACTUALLY DID COMPLETELY OVERFIT!!!\n",
    "#YET, DIDN'T SEEM TO BE AN ISSUE CUZ STILL GOT AMAZING SCORE!!!! sA!!!!! DIDN'T EVEN DO\n",
    "#OTHER TREES/ENSEMBLE/FOREST!!!!! no tweakers/averaging!!!! is this just a really easy case!?\n",
    "#so THAT'S WHY ENTROPY WAS 0 IN EACH LEAF/FINAL BUCKET!!!\n",
    "#####################################################################################"
   ]
  },
  {
   "cell_type": "code",
   "execution_count": 72,
   "metadata": {},
   "outputs": [
    {
     "data": {
      "image/png": "[encoded data removed]",
      "text/plain": [
       "<Figure size 432x288 with 1 Axes>"
      ]
     },
     "metadata": {
      "needs_background": "light"
     },
     "output_type": "display_data"
    }
   ],
   "source": [
    "#plain vanilla\n",
    "from sklearn import tree\n",
    "tree.plot_tree(entr_model);"
   ]
  },
  {
   "cell_type": "code",
   "execution_count": 73,
   "metadata": {},
   "outputs": [
    {
     "data": {
      "image/png": "[encoded data removed]",
      "text/plain": [
       "<Figure size 432x288 with 1 Axes>"
      ]
     },
     "metadata": {
      "needs_background": "light"
     },
     "output_type": "display_data"
    }
   ],
   "source": [
    "#colored in\n",
    "from sklearn import tree\n",
    "tree.plot_tree(entr_model,filled=True);"
   ]
  },
  {
   "cell_type": "code",
   "execution_count": 74,
   "metadata": {},
   "outputs": [
    {
     "data": {
      "text/plain": [
       "array(['No', 'Yes'], dtype=object)"
      ]
     },
     "execution_count": 74,
     "metadata": {},
     "output_type": "execute_result"
    }
   ],
   "source": [
    "entr_model.classes_"
   ]
  },
  {
   "cell_type": "code",
   "execution_count": 75,
   "metadata": {},
   "outputs": [
    {
     "data": {
      "text/plain": [
       "array(['Yes', 'No'], dtype=object)"
      ]
     },
     "execution_count": 75,
     "metadata": {},
     "output_type": "execute_result"
    }
   ],
   "source": [
    "y.unique()"
   ]
  },
  {
   "cell_type": "code",
   "execution_count": 76,
   "metadata": {},
   "outputs": [
    {
     "data": {
      "text/plain": [
       "Index(['Age', 'num_coffeeBags_per_year', 'spent_last_week', 'spent_last_month',\n",
       "       'salary', 'Distance', 'Online_1', 'Gender_Male'],\n",
       "      dtype='object')"
      ]
     },
     "execution_count": 76,
     "metadata": {},
     "output_type": "execute_result"
    }
   ],
   "source": [
    "X_dum.columns"
   ]
  },
  {
   "cell_type": "code",
   "execution_count": 77,
   "metadata": {},
   "outputs": [
    {
     "data": {
      "image/svg+xml": "<?xml version=\"1.0\" encoding=\"UTF-8\" standalone=\"no\"?>\n<!DOCTYPE svg PUBLIC \"-//W3C//DTD SVG 1.1//EN\"\n \"http://www.w3.org/Graphics/SVG/1.1/DTD/svg11.dtd\">\n<!-- Generated by graphviz version 7.0.1 (20221109.1506)\n -->\n<!-- Title: Tree Pages: 1 -->\n<svg width=\"787pt\" height=\"790pt\"\n viewBox=\"0.00 0.00 787.00 790.00\" xmlns=\"http://www.w3.org/2000/svg\" xmlns:xlink=\"http://www.w3.org/1999/xlink\">\n<g id=\"graph0\" class=\"graph\" transform=\"scale(1 1) rotate(0) translate(4 786)\">\n<title>Tree</title>\n<polygon fill=\"white\" stroke=\"none\" points=\"-4,4 -4,-786 783,-786 783,4 -4,4\"/>\n<!-- 0 -->\n<g id=\"node1\" class=\"node\">\n<title>0</title>\n<path fill=\"#aed7f4\" stroke=\"black\" d=\"M469.5,-782C469.5,-782 320.5,-782 320.5,-782 314.5,-782 308.5,-776 308.5,-770 308.5,-770 308.5,-711 308.5,-711 308.5,-705 314.5,-699 320.5,-699 320.5,-699 469.5,-699 469.5,-699 475.5,-699 481.5,-705 481.5,-711 481.5,-711 481.5,-770 481.5,-770 481.5,-776 475.5,-782 469.5,-782\"/>\n<text text-anchor=\"start\" x=\"316.5\" y=\"-766.8\" font-family=\"Helvetica,sans-Serif\" font-size=\"14.00\">spent_last_month ≤ 138.0</text>\n<text text-anchor=\"start\" x=\"347.5\" y=\"-751.8\" font-family=\"Helvetica,sans-Serif\" font-size=\"14.00\">entropy = 0.952</text>\n<text text-anchor=\"start\" x=\"350\" y=\"-736.8\" font-family=\"Helvetica,sans-Serif\" font-size=\"14.00\">samples = 355</text>\n<text text-anchor=\"start\" x=\"340.5\" y=\"-721.8\" font-family=\"Helvetica,sans-Serif\" font-size=\"14.00\">value = [132, 223]</text>\n<text text-anchor=\"start\" x=\"363\" y=\"-706.8\" font-family=\"Helvetica,sans-Serif\" font-size=\"14.00\">class = No</text>\n</g>\n<!-- 1 -->\n<g id=\"node2\" class=\"node\">\n<title>1</title>\n<path fill=\"#f9e3d4\" stroke=\"black\" d=\"M377.5,-663C377.5,-663 276.5,-663 276.5,-663 270.5,-663 264.5,-657 264.5,-651 264.5,-651 264.5,-592 264.5,-592 264.5,-586 270.5,-580 276.5,-580 276.5,-580 377.5,-580 377.5,-580 383.5,-580 389.5,-586 389.5,-592 389.5,-592 389.5,-651 389.5,-651 389.5,-657 383.5,-663 377.5,-663\"/>\n<text text-anchor=\"start\" x=\"276\" y=\"-647.8\" font-family=\"Helvetica,sans-Serif\" font-size=\"14.00\">Distance ≤ 3.524</text>\n<text text-anchor=\"start\" x=\"279.5\" y=\"-632.8\" font-family=\"Helvetica,sans-Serif\" font-size=\"14.00\">entropy = 0.989</text>\n<text text-anchor=\"start\" x=\"282\" y=\"-617.8\" font-family=\"Helvetica,sans-Serif\" font-size=\"14.00\">samples = 235</text>\n<text text-anchor=\"start\" x=\"272.5\" y=\"-602.8\" font-family=\"Helvetica,sans-Serif\" font-size=\"14.00\">value = [132, 103]</text>\n<text text-anchor=\"start\" x=\"292\" y=\"-587.8\" font-family=\"Helvetica,sans-Serif\" font-size=\"14.00\">class = Yes</text>\n</g>\n<!-- 0&#45;&gt;1 -->\n<g id=\"edge1\" class=\"edge\">\n<title>0&#45;&gt;1</title>\n<path fill=\"none\" stroke=\"black\" d=\"M371.22,-698.58C366.43,-690.34 361.34,-681.58 356.38,-673.06\"/>\n<polygon fill=\"black\" stroke=\"black\" points=\"359.47,-671.4 351.42,-664.51 353.41,-674.91 359.47,-671.4\"/>\n<text text-anchor=\"middle\" x=\"344.25\" y=\"-683.67\" font-family=\"Helvetica,sans-Serif\" font-size=\"14.00\">True</text>\n</g>\n<!-- 20 -->\n<g id=\"node21\" class=\"node\">\n<title>20</title>\n<path fill=\"#399de5\" stroke=\"black\" d=\"M506,-655.5C506,-655.5 420,-655.5 420,-655.5 414,-655.5 408,-649.5 408,-643.5 408,-643.5 408,-599.5 408,-599.5 408,-593.5 414,-587.5 420,-587.5 420,-587.5 506,-587.5 506,-587.5 512,-587.5 518,-593.5 518,-599.5 518,-599.5 518,-643.5 518,-643.5 518,-649.5 512,-655.5 506,-655.5\"/>\n<text text-anchor=\"start\" x=\"423\" y=\"-640.3\" font-family=\"Helvetica,sans-Serif\" font-size=\"14.00\">entropy = 0.0</text>\n<text text-anchor=\"start\" x=\"418\" y=\"-625.3\" font-family=\"Helvetica,sans-Serif\" font-size=\"14.00\">samples = 120</text>\n<text text-anchor=\"start\" x=\"416\" y=\"-610.3\" font-family=\"Helvetica,sans-Serif\" font-size=\"14.00\">value = [0, 120]</text>\n<text text-anchor=\"start\" x=\"431\" y=\"-595.3\" font-family=\"Helvetica,sans-Serif\" font-size=\"14.00\">class = No</text>\n</g>\n<!-- 0&#45;&gt;20 -->\n<g id=\"edge20\" class=\"edge\">\n<title>0&#45;&gt;20</title>\n<path fill=\"none\" stroke=\"black\" d=\"M418.78,-698.58C425,-687.88 431.72,-676.32 438,-665.52\"/>\n<polygon fill=\"black\" stroke=\"black\" points=\"440.85,-667.57 442.85,-657.17 434.8,-664.06 440.85,-667.57\"/>\n<text text-anchor=\"middle\" x=\"450.01\" y=\"-676.33\" font-family=\"Helvetica,sans-Serif\" font-size=\"14.00\">False</text>\n</g>\n<!-- 2 -->\n<g id=\"node3\" class=\"node\">\n<title>2</title>\n<path fill=\"#52a9e8\" stroke=\"black\" d=\"M304.5,-544C304.5,-544 163.5,-544 163.5,-544 157.5,-544 151.5,-538 151.5,-532 151.5,-532 151.5,-473 151.5,-473 151.5,-467 157.5,-461 163.5,-461 163.5,-461 304.5,-461 304.5,-461 310.5,-461 316.5,-467 316.5,-473 316.5,-473 316.5,-532 316.5,-532 316.5,-538 310.5,-544 304.5,-544\"/>\n<text text-anchor=\"start\" x=\"159.5\" y=\"-528.8\" font-family=\"Helvetica,sans-Serif\" font-size=\"14.00\">spent_last_month ≤ 22.5</text>\n<text text-anchor=\"start\" x=\"186.5\" y=\"-513.8\" font-family=\"Helvetica,sans-Serif\" font-size=\"14.00\">entropy = 0.507</text>\n<text text-anchor=\"start\" x=\"193\" y=\"-498.8\" font-family=\"Helvetica,sans-Serif\" font-size=\"14.00\">samples = 80</text>\n<text text-anchor=\"start\" x=\"191\" y=\"-483.8\" font-family=\"Helvetica,sans-Serif\" font-size=\"14.00\">value = [9, 71]</text>\n<text text-anchor=\"start\" x=\"202\" y=\"-468.8\" font-family=\"Helvetica,sans-Serif\" font-size=\"14.00\">class = No</text>\n</g>\n<!-- 1&#45;&gt;2 -->\n<g id=\"edge2\" class=\"edge\">\n<title>1&#45;&gt;2</title>\n<path fill=\"none\" stroke=\"black\" d=\"M294.47,-579.58C287.64,-570.98 280.36,-561.82 273.3,-552.95\"/>\n<polygon fill=\"black\" stroke=\"black\" points=\"276.26,-551.04 267.29,-545.39 270.78,-555.39 276.26,-551.04\"/>\n</g>\n<!-- 11 -->\n<g id=\"node12\" class=\"node\">\n<title>11</title>\n<path fill=\"#eca26d\" stroke=\"black\" d=\"M520.5,-544C520.5,-544 371.5,-544 371.5,-544 365.5,-544 359.5,-538 359.5,-532 359.5,-532 359.5,-473 359.5,-473 359.5,-467 365.5,-461 371.5,-461 371.5,-461 520.5,-461 520.5,-461 526.5,-461 532.5,-467 532.5,-473 532.5,-473 532.5,-532 532.5,-532 532.5,-538 526.5,-544 520.5,-544\"/>\n<text text-anchor=\"start\" x=\"367.5\" y=\"-528.8\" font-family=\"Helvetica,sans-Serif\" font-size=\"14.00\">spent_last_month ≤ 101.0</text>\n<text text-anchor=\"start\" x=\"398.5\" y=\"-513.8\" font-family=\"Helvetica,sans-Serif\" font-size=\"14.00\">entropy = 0.735</text>\n<text text-anchor=\"start\" x=\"401\" y=\"-498.8\" font-family=\"Helvetica,sans-Serif\" font-size=\"14.00\">samples = 155</text>\n<text text-anchor=\"start\" x=\"395.5\" y=\"-483.8\" font-family=\"Helvetica,sans-Serif\" font-size=\"14.00\">value = [123, 32]</text>\n<text text-anchor=\"start\" x=\"411\" y=\"-468.8\" font-family=\"Helvetica,sans-Serif\" font-size=\"14.00\">class = Yes</text>\n</g>\n<!-- 1&#45;&gt;11 -->\n<g id=\"edge11\" class=\"edge\">\n<title>1&#45;&gt;11</title>\n<path fill=\"none\" stroke=\"black\" d=\"M368.62,-579.58C377.64,-570.71 387.26,-561.25 396.55,-552.12\"/>\n<polygon fill=\"black\" stroke=\"black\" points=\"398.85,-554.77 403.52,-545.26 393.94,-549.78 398.85,-554.77\"/>\n</g>\n<!-- 3 -->\n<g id=\"node4\" class=\"node\">\n<title>3</title>\n<path fill=\"#e58139\" stroke=\"black\" d=\"M148,-417.5C148,-417.5 76,-417.5 76,-417.5 70,-417.5 64,-411.5 64,-405.5 64,-405.5 64,-361.5 64,-361.5 64,-355.5 70,-349.5 76,-349.5 76,-349.5 148,-349.5 148,-349.5 154,-349.5 160,-355.5 160,-361.5 160,-361.5 160,-405.5 160,-405.5 160,-411.5 154,-417.5 148,-417.5\"/>\n<text text-anchor=\"start\" x=\"72\" y=\"-402.3\" font-family=\"Helvetica,sans-Serif\" font-size=\"14.00\">entropy = 0.0</text>\n<text text-anchor=\"start\" x=\"74.5\" y=\"-387.3\" font-family=\"Helvetica,sans-Serif\" font-size=\"14.00\">samples = 7</text>\n<text text-anchor=\"start\" x=\"72.5\" y=\"-372.3\" font-family=\"Helvetica,sans-Serif\" font-size=\"14.00\">value = [7, 0]</text>\n<text text-anchor=\"start\" x=\"77\" y=\"-357.3\" font-family=\"Helvetica,sans-Serif\" font-size=\"14.00\">class = Yes</text>\n</g>\n<!-- 2&#45;&gt;3 -->\n<g id=\"edge3\" class=\"edge\">\n<title>2&#45;&gt;3</title>\n<path fill=\"none\" stroke=\"black\" d=\"M191.33,-460.58C179.49,-449.23 166.64,-436.9 154.8,-425.55\"/>\n<polygon fill=\"black\" stroke=\"black\" points=\"157.52,-423.3 147.88,-418.91 152.67,-428.36 157.52,-423.3\"/>\n</g>\n<!-- 4 -->\n<g id=\"node5\" class=\"node\">\n<title>4</title>\n<path fill=\"#3fa0e6\" stroke=\"black\" d=\"M277.5,-425C277.5,-425 190.5,-425 190.5,-425 184.5,-425 178.5,-419 178.5,-413 178.5,-413 178.5,-354 178.5,-354 178.5,-348 184.5,-342 190.5,-342 190.5,-342 277.5,-342 277.5,-342 283.5,-342 289.5,-348 289.5,-354 289.5,-354 289.5,-413 289.5,-413 289.5,-419 283.5,-425 277.5,-425\"/>\n<text text-anchor=\"start\" x=\"201\" y=\"-409.8\" font-family=\"Helvetica,sans-Serif\" font-size=\"14.00\">Age ≤ 50.5</text>\n<text text-anchor=\"start\" x=\"186.5\" y=\"-394.8\" font-family=\"Helvetica,sans-Serif\" font-size=\"14.00\">entropy = 0.181</text>\n<text text-anchor=\"start\" x=\"193\" y=\"-379.8\" font-family=\"Helvetica,sans-Serif\" font-size=\"14.00\">samples = 73</text>\n<text text-anchor=\"start\" x=\"191\" y=\"-364.8\" font-family=\"Helvetica,sans-Serif\" font-size=\"14.00\">value = [2, 71]</text>\n<text text-anchor=\"start\" x=\"202\" y=\"-349.8\" font-family=\"Helvetica,sans-Serif\" font-size=\"14.00\">class = No</text>\n</g>\n<!-- 2&#45;&gt;4 -->\n<g id=\"edge4\" class=\"edge\">\n<title>2&#45;&gt;4</title>\n<path fill=\"none\" stroke=\"black\" d=\"M234,-460.58C234,-452.79 234,-444.53 234,-436.45\"/>\n<polygon fill=\"black\" stroke=\"black\" points=\"237.5,-436.71 234,-426.71 230.5,-436.71 237.5,-436.71\"/>\n</g>\n<!-- 5 -->\n<g id=\"node6\" class=\"node\">\n<title>5</title>\n<path fill=\"#399de5\" stroke=\"black\" d=\"M148,-298.5C148,-298.5 70,-298.5 70,-298.5 64,-298.5 58,-292.5 58,-286.5 58,-286.5 58,-242.5 58,-242.5 58,-236.5 64,-230.5 70,-230.5 70,-230.5 148,-230.5 148,-230.5 154,-230.5 160,-236.5 160,-242.5 160,-242.5 160,-286.5 160,-286.5 160,-292.5 154,-298.5 148,-298.5\"/>\n<text text-anchor=\"start\" x=\"69\" y=\"-283.3\" font-family=\"Helvetica,sans-Serif\" font-size=\"14.00\">entropy = 0.0</text>\n<text text-anchor=\"start\" x=\"68\" y=\"-268.3\" font-family=\"Helvetica,sans-Serif\" font-size=\"14.00\">samples = 62</text>\n<text text-anchor=\"start\" x=\"66\" y=\"-253.3\" font-family=\"Helvetica,sans-Serif\" font-size=\"14.00\">value = [0, 62]</text>\n<text text-anchor=\"start\" x=\"77\" y=\"-238.3\" font-family=\"Helvetica,sans-Serif\" font-size=\"14.00\">class = No</text>\n</g>\n<!-- 4&#45;&gt;5 -->\n<g id=\"edge5\" class=\"edge\">\n<title>4&#45;&gt;5</title>\n<path fill=\"none\" stroke=\"black\" d=\"M190.28,-341.58C178.15,-330.23 164.99,-317.9 152.85,-306.55\"/>\n<polygon fill=\"black\" stroke=\"black\" points=\"155.44,-304.17 145.75,-299.9 150.66,-309.28 155.44,-304.17\"/>\n</g>\n<!-- 6 -->\n<g id=\"node7\" class=\"node\">\n<title>6</title>\n<path fill=\"#65b3eb\" stroke=\"black\" d=\"M277.5,-306C277.5,-306 190.5,-306 190.5,-306 184.5,-306 178.5,-300 178.5,-294 178.5,-294 178.5,-235 178.5,-235 178.5,-229 184.5,-223 190.5,-223 190.5,-223 277.5,-223 277.5,-223 283.5,-223 289.5,-229 289.5,-235 289.5,-235 289.5,-294 289.5,-294 289.5,-300 283.5,-306 277.5,-306\"/>\n<text text-anchor=\"start\" x=\"189.5\" y=\"-290.8\" font-family=\"Helvetica,sans-Serif\" font-size=\"14.00\">Online_1 ≤ 0.5</text>\n<text text-anchor=\"start\" x=\"186.5\" y=\"-275.8\" font-family=\"Helvetica,sans-Serif\" font-size=\"14.00\">entropy = 0.684</text>\n<text text-anchor=\"start\" x=\"193\" y=\"-260.8\" font-family=\"Helvetica,sans-Serif\" font-size=\"14.00\">samples = 11</text>\n<text text-anchor=\"start\" x=\"194.5\" y=\"-245.8\" font-family=\"Helvetica,sans-Serif\" font-size=\"14.00\">value = [2, 9]</text>\n<text text-anchor=\"start\" x=\"202\" y=\"-230.8\" font-family=\"Helvetica,sans-Serif\" font-size=\"14.00\">class = No</text>\n</g>\n<!-- 4&#45;&gt;6 -->\n<g id=\"edge6\" class=\"edge\">\n<title>4&#45;&gt;6</title>\n<path fill=\"none\" stroke=\"black\" d=\"M234,-341.58C234,-333.79 234,-325.53 234,-317.45\"/>\n<polygon fill=\"black\" stroke=\"black\" points=\"237.5,-317.71 234,-307.71 230.5,-317.71 237.5,-317.71\"/>\n</g>\n<!-- 7 -->\n<g id=\"node8\" class=\"node\">\n<title>7</title>\n<path fill=\"#ffffff\" stroke=\"black\" d=\"M160,-187C160,-187 50,-187 50,-187 44,-187 38,-181 38,-175 38,-175 38,-116 38,-116 38,-110 44,-104 50,-104 50,-104 160,-104 160,-104 166,-104 172,-110 172,-116 172,-116 172,-175 172,-175 172,-181 166,-187 160,-187\"/>\n<text text-anchor=\"start\" x=\"46\" y=\"-171.8\" font-family=\"Helvetica,sans-Serif\" font-size=\"14.00\">Gender_Male ≤ 0.5</text>\n<text text-anchor=\"start\" x=\"65\" y=\"-156.8\" font-family=\"Helvetica,sans-Serif\" font-size=\"14.00\">entropy = 1.0</text>\n<text text-anchor=\"start\" x=\"67.5\" y=\"-141.8\" font-family=\"Helvetica,sans-Serif\" font-size=\"14.00\">samples = 4</text>\n<text text-anchor=\"start\" x=\"65.5\" y=\"-126.8\" font-family=\"Helvetica,sans-Serif\" font-size=\"14.00\">value = [2, 2]</text>\n<text text-anchor=\"start\" x=\"70\" y=\"-111.8\" font-family=\"Helvetica,sans-Serif\" font-size=\"14.00\">class = Yes</text>\n</g>\n<!-- 6&#45;&gt;7 -->\n<g id=\"edge7\" class=\"edge\">\n<title>6&#45;&gt;7</title>\n<path fill=\"none\" stroke=\"black\" d=\"M188.88,-222.58C179.01,-213.62 168.46,-204.06 158.3,-194.84\"/>\n<polygon fill=\"black\" stroke=\"black\" points=\"160.75,-192.34 151,-188.22 156.05,-197.53 160.75,-192.34\"/>\n</g>\n<!-- 10 -->\n<g id=\"node11\" class=\"node\">\n<title>10</title>\n<path fill=\"#399de5\" stroke=\"black\" d=\"M274,-179.5C274,-179.5 202,-179.5 202,-179.5 196,-179.5 190,-173.5 190,-167.5 190,-167.5 190,-123.5 190,-123.5 190,-117.5 196,-111.5 202,-111.5 202,-111.5 274,-111.5 274,-111.5 280,-111.5 286,-117.5 286,-123.5 286,-123.5 286,-167.5 286,-167.5 286,-173.5 280,-179.5 274,-179.5\"/>\n<text text-anchor=\"start\" x=\"198\" y=\"-164.3\" font-family=\"Helvetica,sans-Serif\" font-size=\"14.00\">entropy = 0.0</text>\n<text text-anchor=\"start\" x=\"200.5\" y=\"-149.3\" font-family=\"Helvetica,sans-Serif\" font-size=\"14.00\">samples = 7</text>\n<text text-anchor=\"start\" x=\"198.5\" y=\"-134.3\" font-family=\"Helvetica,sans-Serif\" font-size=\"14.00\">value = [0, 7]</text>\n<text text-anchor=\"start\" x=\"206\" y=\"-119.3\" font-family=\"Helvetica,sans-Serif\" font-size=\"14.00\">class = No</text>\n</g>\n<!-- 6&#45;&gt;10 -->\n<g id=\"edge10\" class=\"edge\">\n<title>6&#45;&gt;10</title>\n<path fill=\"none\" stroke=\"black\" d=\"M235.4,-222.58C235.75,-212.43 236.12,-201.5 236.47,-191.18\"/>\n<polygon fill=\"black\" stroke=\"black\" points=\"239.96,-191.49 236.81,-181.37 232.97,-191.25 239.96,-191.49\"/>\n</g>\n<!-- 8 -->\n<g id=\"node9\" class=\"node\">\n<title>8</title>\n<path fill=\"#e58139\" stroke=\"black\" d=\"M84,-68C84,-68 12,-68 12,-68 6,-68 0,-62 0,-56 0,-56 0,-12 0,-12 0,-6 6,0 12,0 12,0 84,0 84,0 90,0 96,-6 96,-12 96,-12 96,-56 96,-56 96,-62 90,-68 84,-68\"/>\n<text text-anchor=\"start\" x=\"8\" y=\"-52.8\" font-family=\"Helvetica,sans-Serif\" font-size=\"14.00\">entropy = 0.0</text>\n<text text-anchor=\"start\" x=\"10.5\" y=\"-37.8\" font-family=\"Helvetica,sans-Serif\" font-size=\"14.00\">samples = 2</text>\n<text text-anchor=\"start\" x=\"8.5\" y=\"-22.8\" font-family=\"Helvetica,sans-Serif\" font-size=\"14.00\">value = [2, 0]</text>\n<text text-anchor=\"start\" x=\"13\" y=\"-7.8\" font-family=\"Helvetica,sans-Serif\" font-size=\"14.00\">class = Yes</text>\n</g>\n<!-- 7&#45;&gt;8 -->\n<g id=\"edge8\" class=\"edge\">\n<title>7&#45;&gt;8</title>\n<path fill=\"none\" stroke=\"black\" d=\"M83.78,-103.73C79.45,-95.43 74.9,-86.67 70.53,-78.28\"/>\n<polygon fill=\"black\" stroke=\"black\" points=\"73.75,-76.9 66.03,-69.64 67.55,-80.13 73.75,-76.9\"/>\n</g>\n<!-- 9 -->\n<g id=\"node10\" class=\"node\">\n<title>9</title>\n<path fill=\"#399de5\" stroke=\"black\" d=\"M198,-68C198,-68 126,-68 126,-68 120,-68 114,-62 114,-56 114,-56 114,-12 114,-12 114,-6 120,0 126,0 126,0 198,0 198,0 204,0 210,-6 210,-12 210,-12 210,-56 210,-56 210,-62 204,-68 198,-68\"/>\n<text text-anchor=\"start\" x=\"122\" y=\"-52.8\" font-family=\"Helvetica,sans-Serif\" font-size=\"14.00\">entropy = 0.0</text>\n<text text-anchor=\"start\" x=\"124.5\" y=\"-37.8\" font-family=\"Helvetica,sans-Serif\" font-size=\"14.00\">samples = 2</text>\n<text text-anchor=\"start\" x=\"122.5\" y=\"-22.8\" font-family=\"Helvetica,sans-Serif\" font-size=\"14.00\">value = [0, 2]</text>\n<text text-anchor=\"start\" x=\"130\" y=\"-7.8\" font-family=\"Helvetica,sans-Serif\" font-size=\"14.00\">class = No</text>\n</g>\n<!-- 7&#45;&gt;9 -->\n<g id=\"edge9\" class=\"edge\">\n<title>7&#45;&gt;9</title>\n<path fill=\"none\" stroke=\"black\" d=\"M126.22,-103.73C130.55,-95.43 135.1,-86.67 139.47,-78.28\"/>\n<polygon fill=\"black\" stroke=\"black\" points=\"142.45,-80.13 143.97,-69.64 136.25,-76.9 142.45,-80.13\"/>\n</g>\n<!-- 12 -->\n<g id=\"node13\" class=\"node\">\n<title>12</title>\n<path fill=\"#e5823b\" stroke=\"black\" d=\"M493,-425C493,-425 399,-425 399,-425 393,-425 387,-419 387,-413 387,-413 387,-354 387,-354 387,-348 393,-342 399,-342 399,-342 493,-342 493,-342 499,-342 505,-348 505,-354 505,-354 505,-413 505,-413 505,-419 499,-425 493,-425\"/>\n<text text-anchor=\"start\" x=\"395\" y=\"-409.8\" font-family=\"Helvetica,sans-Serif\" font-size=\"14.00\">Distance ≤ 3.754</text>\n<text text-anchor=\"start\" x=\"398.5\" y=\"-394.8\" font-family=\"Helvetica,sans-Serif\" font-size=\"14.00\">entropy = 0.081</text>\n<text text-anchor=\"start\" x=\"405\" y=\"-379.8\" font-family=\"Helvetica,sans-Serif\" font-size=\"14.00\">samples = 99</text>\n<text text-anchor=\"start\" x=\"403\" y=\"-364.8\" font-family=\"Helvetica,sans-Serif\" font-size=\"14.00\">value = [98, 1]</text>\n<text text-anchor=\"start\" x=\"411\" y=\"-349.8\" font-family=\"Helvetica,sans-Serif\" font-size=\"14.00\">class = Yes</text>\n</g>\n<!-- 11&#45;&gt;12 -->\n<g id=\"edge12\" class=\"edge\">\n<title>11&#45;&gt;12</title>\n<path fill=\"none\" stroke=\"black\" d=\"M446,-460.58C446,-452.79 446,-444.53 446,-436.45\"/>\n<polygon fill=\"black\" stroke=\"black\" points=\"449.5,-436.71 446,-426.71 442.5,-436.71 449.5,-436.71\"/>\n</g>\n<!-- 17 -->\n<g id=\"node18\" class=\"node\">\n<title>17</title>\n<path fill=\"#d9ecfa\" stroke=\"black\" d=\"M655,-425C655,-425 561,-425 561,-425 555,-425 549,-419 549,-413 549,-413 549,-354 549,-354 549,-348 555,-342 561,-342 561,-342 655,-342 655,-342 661,-342 667,-348 667,-354 667,-354 667,-413 667,-413 667,-419 661,-425 655,-425\"/>\n<text text-anchor=\"start\" x=\"557\" y=\"-409.8\" font-family=\"Helvetica,sans-Serif\" font-size=\"14.00\">Distance ≤ 8.518</text>\n<text text-anchor=\"start\" x=\"560.5\" y=\"-394.8\" font-family=\"Helvetica,sans-Serif\" font-size=\"14.00\">entropy = 0.992</text>\n<text text-anchor=\"start\" x=\"567\" y=\"-379.8\" font-family=\"Helvetica,sans-Serif\" font-size=\"14.00\">samples = 56</text>\n<text text-anchor=\"start\" x=\"561\" y=\"-364.8\" font-family=\"Helvetica,sans-Serif\" font-size=\"14.00\">value = [25, 31]</text>\n<text text-anchor=\"start\" x=\"576\" y=\"-349.8\" font-family=\"Helvetica,sans-Serif\" font-size=\"14.00\">class = No</text>\n</g>\n<!-- 11&#45;&gt;17 -->\n<g id=\"edge17\" class=\"edge\">\n<title>11&#45;&gt;17</title>\n<path fill=\"none\" stroke=\"black\" d=\"M502.66,-460.58C515.49,-451.32 529.21,-441.41 542.37,-431.9\"/>\n<polygon fill=\"black\" stroke=\"black\" points=\"544.09,-434.98 550.15,-426.28 539.99,-429.3 544.09,-434.98\"/>\n</g>\n<!-- 13 -->\n<g id=\"node14\" class=\"node\">\n<title>13</title>\n<path fill=\"#eeab7b\" stroke=\"black\" d=\"M406.5,-306C406.5,-306 319.5,-306 319.5,-306 313.5,-306 307.5,-300 307.5,-294 307.5,-294 307.5,-235 307.5,-235 307.5,-229 313.5,-223 319.5,-223 319.5,-223 406.5,-223 406.5,-223 412.5,-223 418.5,-229 418.5,-235 418.5,-235 418.5,-294 418.5,-294 418.5,-300 412.5,-306 406.5,-306\"/>\n<text text-anchor=\"start\" x=\"319.5\" y=\"-290.8\" font-family=\"Helvetica,sans-Serif\" font-size=\"14.00\">Distance ≤ 3.7</text>\n<text text-anchor=\"start\" x=\"315.5\" y=\"-275.8\" font-family=\"Helvetica,sans-Serif\" font-size=\"14.00\">entropy = 0.811</text>\n<text text-anchor=\"start\" x=\"325.5\" y=\"-260.8\" font-family=\"Helvetica,sans-Serif\" font-size=\"14.00\">samples = 4</text>\n<text text-anchor=\"start\" x=\"323.5\" y=\"-245.8\" font-family=\"Helvetica,sans-Serif\" font-size=\"14.00\">value = [3, 1]</text>\n<text text-anchor=\"start\" x=\"328\" y=\"-230.8\" font-family=\"Helvetica,sans-Serif\" font-size=\"14.00\">class = Yes</text>\n</g>\n<!-- 12&#45;&gt;13 -->\n<g id=\"edge13\" class=\"edge\">\n<title>12&#45;&gt;13</title>\n<path fill=\"none\" stroke=\"black\" d=\"M416.97,-341.58C411,-333.16 404.64,-324.2 398.47,-315.5\"/>\n<polygon fill=\"black\" stroke=\"black\" points=\"401.39,-313.57 392.75,-307.43 395.68,-317.62 401.39,-313.57\"/>\n</g>\n<!-- 16 -->\n<g id=\"node17\" class=\"node\">\n<title>16</title>\n<path fill=\"#e58139\" stroke=\"black\" d=\"M527,-298.5C527,-298.5 449,-298.5 449,-298.5 443,-298.5 437,-292.5 437,-286.5 437,-286.5 437,-242.5 437,-242.5 437,-236.5 443,-230.5 449,-230.5 449,-230.5 527,-230.5 527,-230.5 533,-230.5 539,-236.5 539,-242.5 539,-242.5 539,-286.5 539,-286.5 539,-292.5 533,-298.5 527,-298.5\"/>\n<text text-anchor=\"start\" x=\"448\" y=\"-283.3\" font-family=\"Helvetica,sans-Serif\" font-size=\"14.00\">entropy = 0.0</text>\n<text text-anchor=\"start\" x=\"447\" y=\"-268.3\" font-family=\"Helvetica,sans-Serif\" font-size=\"14.00\">samples = 95</text>\n<text text-anchor=\"start\" x=\"445\" y=\"-253.3\" font-family=\"Helvetica,sans-Serif\" font-size=\"14.00\">value = [95, 0]</text>\n<text text-anchor=\"start\" x=\"453\" y=\"-238.3\" font-family=\"Helvetica,sans-Serif\" font-size=\"14.00\">class = Yes</text>\n</g>\n<!-- 12&#45;&gt;16 -->\n<g id=\"edge16\" class=\"edge\">\n<title>12&#45;&gt;16</title>\n<path fill=\"none\" stroke=\"black\" d=\"M460.69,-341.58C464.41,-331.21 468.43,-320.03 472.2,-309.52\"/>\n<polygon fill=\"black\" stroke=\"black\" points=\"475.43,-310.88 475.51,-300.29 468.84,-308.52 475.43,-310.88\"/>\n</g>\n<!-- 14 -->\n<g id=\"node15\" class=\"node\">\n<title>14</title>\n<path fill=\"#e58139\" stroke=\"black\" d=\"M395,-179.5C395,-179.5 323,-179.5 323,-179.5 317,-179.5 311,-173.5 311,-167.5 311,-167.5 311,-123.5 311,-123.5 311,-117.5 317,-111.5 323,-111.5 323,-111.5 395,-111.5 395,-111.5 401,-111.5 407,-117.5 407,-123.5 407,-123.5 407,-167.5 407,-167.5 407,-173.5 401,-179.5 395,-179.5\"/>\n<text text-anchor=\"start\" x=\"319\" y=\"-164.3\" font-family=\"Helvetica,sans-Serif\" font-size=\"14.00\">entropy = 0.0</text>\n<text text-anchor=\"start\" x=\"321.5\" y=\"-149.3\" font-family=\"Helvetica,sans-Serif\" font-size=\"14.00\">samples = 3</text>\n<text text-anchor=\"start\" x=\"319.5\" y=\"-134.3\" font-family=\"Helvetica,sans-Serif\" font-size=\"14.00\">value = [3, 0]</text>\n<text text-anchor=\"start\" x=\"324\" y=\"-119.3\" font-family=\"Helvetica,sans-Serif\" font-size=\"14.00\">class = Yes</text>\n</g>\n<!-- 13&#45;&gt;14 -->\n<g id=\"edge14\" class=\"edge\">\n<title>13&#45;&gt;14</title>\n<path fill=\"none\" stroke=\"black\" d=\"M361.6,-222.58C361.25,-212.43 360.88,-201.5 360.53,-191.18\"/>\n<polygon fill=\"black\" stroke=\"black\" points=\"364.03,-191.25 360.19,-181.37 357.04,-191.49 364.03,-191.25\"/>\n</g>\n<!-- 15 -->\n<g id=\"node16\" class=\"node\">\n<title>15</title>\n<path fill=\"#399de5\" stroke=\"black\" d=\"M509,-179.5C509,-179.5 437,-179.5 437,-179.5 431,-179.5 425,-173.5 425,-167.5 425,-167.5 425,-123.5 425,-123.5 425,-117.5 431,-111.5 437,-111.5 437,-111.5 509,-111.5 509,-111.5 515,-111.5 521,-117.5 521,-123.5 521,-123.5 521,-167.5 521,-167.5 521,-173.5 515,-179.5 509,-179.5\"/>\n<text text-anchor=\"start\" x=\"433\" y=\"-164.3\" font-family=\"Helvetica,sans-Serif\" font-size=\"14.00\">entropy = 0.0</text>\n<text text-anchor=\"start\" x=\"435.5\" y=\"-149.3\" font-family=\"Helvetica,sans-Serif\" font-size=\"14.00\">samples = 1</text>\n<text text-anchor=\"start\" x=\"433.5\" y=\"-134.3\" font-family=\"Helvetica,sans-Serif\" font-size=\"14.00\">value = [0, 1]</text>\n<text text-anchor=\"start\" x=\"441\" y=\"-119.3\" font-family=\"Helvetica,sans-Serif\" font-size=\"14.00\">class = No</text>\n</g>\n<!-- 13&#45;&gt;15 -->\n<g id=\"edge15\" class=\"edge\">\n<title>13&#45;&gt;15</title>\n<path fill=\"none\" stroke=\"black\" d=\"M401.47,-222.58C411.94,-211.45 423.29,-199.38 433.79,-188.2\"/>\n<polygon fill=\"black\" stroke=\"black\" points=\"436.3,-190.65 440.6,-180.96 431.2,-185.85 436.3,-190.65\"/>\n</g>\n<!-- 18 -->\n<g id=\"node19\" class=\"node\">\n<title>18</title>\n<path fill=\"#399de5\" stroke=\"black\" d=\"M647,-298.5C647,-298.5 569,-298.5 569,-298.5 563,-298.5 557,-292.5 557,-286.5 557,-286.5 557,-242.5 557,-242.5 557,-236.5 563,-230.5 569,-230.5 569,-230.5 647,-230.5 647,-230.5 653,-230.5 659,-236.5 659,-242.5 659,-242.5 659,-286.5 659,-286.5 659,-292.5 653,-298.5 647,-298.5\"/>\n<text text-anchor=\"start\" x=\"568\" y=\"-283.3\" font-family=\"Helvetica,sans-Serif\" font-size=\"14.00\">entropy = 0.0</text>\n<text text-anchor=\"start\" x=\"567\" y=\"-268.3\" font-family=\"Helvetica,sans-Serif\" font-size=\"14.00\">samples = 31</text>\n<text text-anchor=\"start\" x=\"565\" y=\"-253.3\" font-family=\"Helvetica,sans-Serif\" font-size=\"14.00\">value = [0, 31]</text>\n<text text-anchor=\"start\" x=\"576\" y=\"-238.3\" font-family=\"Helvetica,sans-Serif\" font-size=\"14.00\">class = No</text>\n</g>\n<!-- 17&#45;&gt;18 -->\n<g id=\"edge18\" class=\"edge\">\n<title>17&#45;&gt;18</title>\n<path fill=\"none\" stroke=\"black\" d=\"M608,-341.58C608,-331.43 608,-320.5 608,-310.18\"/>\n<polygon fill=\"black\" stroke=\"black\" points=\"611.5,-310.37 608,-300.37 604.5,-310.37 611.5,-310.37\"/>\n</g>\n<!-- 19 -->\n<g id=\"node20\" class=\"node\">\n<title>19</title>\n<path fill=\"#e58139\" stroke=\"black\" d=\"M767,-298.5C767,-298.5 689,-298.5 689,-298.5 683,-298.5 677,-292.5 677,-286.5 677,-286.5 677,-242.5 677,-242.5 677,-236.5 683,-230.5 689,-230.5 689,-230.5 767,-230.5 767,-230.5 773,-230.5 779,-236.5 779,-242.5 779,-242.5 779,-286.5 779,-286.5 779,-292.5 773,-298.5 767,-298.5\"/>\n<text text-anchor=\"start\" x=\"688\" y=\"-283.3\" font-family=\"Helvetica,sans-Serif\" font-size=\"14.00\">entropy = 0.0</text>\n<text text-anchor=\"start\" x=\"687\" y=\"-268.3\" font-family=\"Helvetica,sans-Serif\" font-size=\"14.00\">samples = 25</text>\n<text text-anchor=\"start\" x=\"685\" y=\"-253.3\" font-family=\"Helvetica,sans-Serif\" font-size=\"14.00\">value = [25, 0]</text>\n<text text-anchor=\"start\" x=\"693\" y=\"-238.3\" font-family=\"Helvetica,sans-Serif\" font-size=\"14.00\">class = Yes</text>\n</g>\n<!-- 17&#45;&gt;19 -->\n<g id=\"edge19\" class=\"edge\">\n<title>17&#45;&gt;19</title>\n<path fill=\"none\" stroke=\"black\" d=\"M649.97,-341.58C661.5,-330.34 674.01,-318.14 685.57,-306.87\"/>\n<polygon fill=\"black\" stroke=\"black\" points=\"687.98,-309.4 692.7,-299.92 683.1,-304.39 687.98,-309.4\"/>\n</g>\n</g>\n</svg>\n",
      "text/plain": [
       "<graphviz.sources.Source at 0x12f6ad490>"
      ]
     },
     "execution_count": 77,
     "metadata": {},
     "output_type": "execute_result"
    }
   ],
   "source": [
    "import graphviz\n",
    "coffee_tree = tree.export_graphviz(entr_model, out_file=None, \n",
    "                     feature_names=X_dum.columns,  \n",
    "                     class_names=y.unique(),#>>OR entr_model.classes_!!!! gives exact same thing!\n",
    "                     filled=True, rounded=True,  \n",
    "                     special_characters=True)\n",
    "graph = graphviz.Source(coffee_tree)\n",
    "graph\n",
    "\n",
    "#LOL! coffee tree! is it a tree tho?? :P"
   ]
  },
  {
   "cell_type": "code",
   "execution_count": 78,
   "metadata": {},
   "outputs": [
    {
     "data": {
      "text/plain": [
       "'coffee.pdf'"
      ]
     },
     "execution_count": 78,
     "metadata": {},
     "output_type": "execute_result"
    }
   ],
   "source": [
    "graph.render(\"coffee\")"
   ]
  },
  {
   "cell_type": "code",
   "execution_count": 79,
   "metadata": {},
   "outputs": [
    {
     "data": {
      "text/plain": [
       "'|--- feature_3 <= 138.00\\n|   |--- feature_5 <= 3.52\\n|   |   |--- feature_3 <= 22.50\\n|   |   |   |--- class: No\\n|   |   |--- feature_3 >  22.50\\n|   |   |   |--- feature_0 <= 50.50\\n|   |   |   |   |--- class: Yes\\n|   |   |   |--- feature_0 >  50.50\\n|   |   |   |   |--- feature_6 <= 0.50\\n|   |   |   |   |   |--- feature_7 <= 0.50\\n|   |   |   |   |   |   |--- class: No\\n|   |   |   |   |   |--- feature_7 >  0.50\\n|   |   |   |   |   |   |--- class: Yes\\n|   |   |   |   |--- feature_6 >  0.50\\n|   |   |   |   |   |--- class: Yes\\n|   |--- feature_5 >  3.52\\n|   |   |--- feature_3 <= 101.00\\n|   |   |   |--- feature_5 <= 3.75\\n|   |   |   |   |--- feature_0 <= 26.50\\n|   |   |   |   |   |--- class: Yes\\n|   |   |   |   |--- feature_0 >  26.50\\n|   |   |   |   |   |--- class: No\\n|   |   |   |--- feature_5 >  3.75\\n|   |   |   |   |--- class: No\\n|   |   |--- feature_3 >  101.00\\n|   |   |   |--- feature_5 <= 8.52\\n|   |   |   |   |--- class: Yes\\n|   |   |   |--- feature_5 >  8.52\\n|   |   |   |   |--- class: No\\n|--- feature_3 >  138.00\\n|   |--- class: Yes\\n'"
      ]
     },
     "execution_count": 79,
     "metadata": {},
     "output_type": "execute_result"
    }
   ],
   "source": [
    "from sklearn.tree import export_text\n",
    "text_tree = export_text(entr_model.fit(X_train,y_train))#, feature_names=X_dum.columns) >> for some reason won't take this here, but worked in graphviz!?\n",
    "text_tree"
   ]
  },
  {
   "cell_type": "code",
   "execution_count": 80,
   "metadata": {},
   "outputs": [
    {
     "name": "stdout",
     "output_type": "stream",
     "text": [
      "Model Entropy - no max depth\n",
      "Accuracy: 0.9495798319327731\n",
      "Balanced accuracy: 0.9362179487179487\n",
      "Precision score for \"Yes\" 0.9512195121951219\n",
      "Precision score for \"No\" 0.9459459459459459\n",
      "Recall score for \"Yes\" 0.975\n",
      "Recall score for \"No\" 0.8974358974358975\n"
     ]
    }
   ],
   "source": [
    "# Run this block for model evaluation metrics \n",
    "print(\"Model Entropy - no max depth\")\n",
    "print(\"Accuracy:\", metrics.accuracy_score(y_test,y_pred))\n",
    "print(\"Balanced accuracy:\", metrics.balanced_accuracy_score(y_test,y_pred))\n",
    "print('Precision score for \"Yes\"' , metrics.precision_score(y_test,y_pred, pos_label = \"Yes\"))\n",
    "print('Precision score for \"No\"' , metrics.precision_score(y_test,y_pred, pos_label = \"No\"))\n",
    "print('Recall score for \"Yes\"' , metrics.recall_score(y_test,y_pred, pos_label = \"Yes\"))\n",
    "print('Recall score for \"No\"' , metrics.recall_score(y_test,y_pred, pos_label = \"No\"))"
   ]
  },
  {
   "cell_type": "code",
   "execution_count": 81,
   "metadata": {},
   "outputs": [],
   "source": [
    "#oh wait - how does it know we're talking about THIS model if it's never referenced here??\n",
    "#only say 'metrics'??? just assumes it's whatever thing we did last from the library??\n",
    "#OHHH, well, it's just going based off of y_test & y_pred!!! so whatever you have saved for/to\n",
    "#those!!!!!"
   ]
  },
  {
   "cell_type": "code",
   "execution_count": null,
   "metadata": {},
   "outputs": [],
   "source": []
  },
  {
   "cell_type": "code",
   "execution_count": 82,
   "metadata": {},
   "outputs": [
    {
     "data": {
      "text/plain": [
       "0.9327731092436975"
      ]
     },
     "execution_count": 82,
     "metadata": {},
     "output_type": "execute_result"
    }
   ],
   "source": [
    "gini_model = DecisionTreeClassifier() #default is gini!\n",
    "#max_depth default is None which is what we want!\n",
    "\n",
    "gini_model.fit(X_train,y_train)\n",
    "\n",
    "y_predg = gini_model.predict(X_test)\n",
    "#>>REALLY NO NEED FOR THIS IF WE'RE JUST GETTING SCORE ANYWAY!!?\n",
    "#oh it comes into play later just w/ the way they get the score metrics\n",
    "\n",
    "gini_model.score(X_test,y_test)"
   ]
  },
  {
   "cell_type": "code",
   "execution_count": 83,
   "metadata": {},
   "outputs": [
    {
     "data": {
      "image/svg+xml": "<?xml version=\"1.0\" encoding=\"UTF-8\" standalone=\"no\"?>\n<!DOCTYPE svg PUBLIC \"-//W3C//DTD SVG 1.1//EN\"\n \"http://www.w3.org/Graphics/SVG/1.1/DTD/svg11.dtd\">\n<!-- Generated by graphviz version 7.0.1 (20221109.1506)\n -->\n<!-- Title: Tree Pages: 1 -->\n<svg width=\"757pt\" height=\"552pt\"\n viewBox=\"0.00 0.00 757.00 552.00\" xmlns=\"http://www.w3.org/2000/svg\" xmlns:xlink=\"http://www.w3.org/1999/xlink\">\n<g id=\"graph0\" class=\"graph\" transform=\"scale(1 1) rotate(0) translate(4 548)\">\n<title>Tree</title>\n<polygon fill=\"white\" stroke=\"none\" points=\"-4,4 -4,-548 753,-548 753,4 -4,4\"/>\n<!-- 0 -->\n<g id=\"node1\" class=\"node\">\n<title>0</title>\n<path fill=\"#aed7f4\" stroke=\"black\" d=\"M454.5,-544C454.5,-544 305.5,-544 305.5,-544 299.5,-544 293.5,-538 293.5,-532 293.5,-532 293.5,-473 293.5,-473 293.5,-467 299.5,-461 305.5,-461 305.5,-461 454.5,-461 454.5,-461 460.5,-461 466.5,-467 466.5,-473 466.5,-473 466.5,-532 466.5,-532 466.5,-538 460.5,-544 454.5,-544\"/>\n<text text-anchor=\"start\" x=\"301.5\" y=\"-528.8\" font-family=\"Helvetica,sans-Serif\" font-size=\"14.00\">spent_last_month ≤ 100.5</text>\n<text text-anchor=\"start\" x=\"344.5\" y=\"-513.8\" font-family=\"Helvetica,sans-Serif\" font-size=\"14.00\">gini = 0.467</text>\n<text text-anchor=\"start\" x=\"335\" y=\"-498.8\" font-family=\"Helvetica,sans-Serif\" font-size=\"14.00\">samples = 355</text>\n<text text-anchor=\"start\" x=\"325.5\" y=\"-483.8\" font-family=\"Helvetica,sans-Serif\" font-size=\"14.00\">value = [132, 223]</text>\n<text text-anchor=\"start\" x=\"345\" y=\"-468.8\" font-family=\"Helvetica,sans-Serif\" font-size=\"14.00\">class = Yes</text>\n</g>\n<!-- 1 -->\n<g id=\"node2\" class=\"node\">\n<title>1</title>\n<path fill=\"#f0b58a\" stroke=\"black\" d=\"M359,-425C359,-425 265,-425 265,-425 259,-425 253,-419 253,-413 253,-413 253,-354 253,-354 253,-348 259,-342 265,-342 265,-342 359,-342 359,-342 365,-342 371,-348 371,-354 371,-354 371,-413 371,-413 371,-419 365,-425 359,-425\"/>\n<text text-anchor=\"start\" x=\"261\" y=\"-409.8\" font-family=\"Helvetica,sans-Serif\" font-size=\"14.00\">Distance ≤ 3.004</text>\n<text text-anchor=\"start\" x=\"276.5\" y=\"-394.8\" font-family=\"Helvetica,sans-Serif\" font-size=\"14.00\">gini = 0.413</text>\n<text text-anchor=\"start\" x=\"267\" y=\"-379.8\" font-family=\"Helvetica,sans-Serif\" font-size=\"14.00\">samples = 151</text>\n<text text-anchor=\"start\" x=\"261.5\" y=\"-364.8\" font-family=\"Helvetica,sans-Serif\" font-size=\"14.00\">value = [107, 44]</text>\n<text text-anchor=\"start\" x=\"280\" y=\"-349.8\" font-family=\"Helvetica,sans-Serif\" font-size=\"14.00\">class = No</text>\n</g>\n<!-- 0&#45;&gt;1 -->\n<g id=\"edge1\" class=\"edge\">\n<title>0&#45;&gt;1</title>\n<path fill=\"none\" stroke=\"black\" d=\"M356.22,-460.58C351.43,-452.34 346.34,-443.58 341.38,-435.06\"/>\n<polygon fill=\"black\" stroke=\"black\" points=\"344.47,-433.4 336.42,-426.51 338.41,-436.91 344.47,-433.4\"/>\n<text text-anchor=\"middle\" x=\"329.25\" y=\"-445.67\" font-family=\"Helvetica,sans-Serif\" font-size=\"14.00\">True</text>\n</g>\n<!-- 12 -->\n<g id=\"node13\" class=\"node\">\n<title>12</title>\n<path fill=\"#55abe9\" stroke=\"black\" d=\"M495,-425C495,-425 401,-425 401,-425 395,-425 389,-419 389,-413 389,-413 389,-354 389,-354 389,-348 395,-342 401,-342 401,-342 495,-342 495,-342 501,-342 507,-348 507,-354 507,-354 507,-413 507,-413 507,-419 501,-425 495,-425\"/>\n<text text-anchor=\"start\" x=\"397\" y=\"-409.8\" font-family=\"Helvetica,sans-Serif\" font-size=\"14.00\">Distance ≤ 9.135</text>\n<text text-anchor=\"start\" x=\"412.5\" y=\"-394.8\" font-family=\"Helvetica,sans-Serif\" font-size=\"14.00\">gini = 0.215</text>\n<text text-anchor=\"start\" x=\"403\" y=\"-379.8\" font-family=\"Helvetica,sans-Serif\" font-size=\"14.00\">samples = 204</text>\n<text text-anchor=\"start\" x=\"397.5\" y=\"-364.8\" font-family=\"Helvetica,sans-Serif\" font-size=\"14.00\">value = [25, 179]</text>\n<text text-anchor=\"start\" x=\"413\" y=\"-349.8\" font-family=\"Helvetica,sans-Serif\" font-size=\"14.00\">class = Yes</text>\n</g>\n<!-- 0&#45;&gt;12 -->\n<g id=\"edge12\" class=\"edge\">\n<title>0&#45;&gt;12</title>\n<path fill=\"none\" stroke=\"black\" d=\"M403.78,-460.58C408.57,-452.34 413.66,-443.58 418.62,-435.06\"/>\n<polygon fill=\"black\" stroke=\"black\" points=\"421.59,-436.91 423.58,-426.51 415.53,-433.4 421.59,-436.91\"/>\n<text text-anchor=\"middle\" x=\"430.75\" y=\"-445.67\" font-family=\"Helvetica,sans-Serif\" font-size=\"14.00\">False</text>\n</g>\n<!-- 2 -->\n<g id=\"node3\" class=\"node\">\n<title>2</title>\n<path fill=\"#5eafea\" stroke=\"black\" d=\"M223.5,-306C223.5,-306 82.5,-306 82.5,-306 76.5,-306 70.5,-300 70.5,-294 70.5,-294 70.5,-235 70.5,-235 70.5,-229 76.5,-223 82.5,-223 82.5,-223 223.5,-223 223.5,-223 229.5,-223 235.5,-229 235.5,-235 235.5,-235 235.5,-294 235.5,-294 235.5,-300 229.5,-306 223.5,-306\"/>\n<text text-anchor=\"start\" x=\"78.5\" y=\"-290.8\" font-family=\"Helvetica,sans-Serif\" font-size=\"14.00\">spent_last_month ≤ 22.5</text>\n<text text-anchor=\"start\" x=\"117.5\" y=\"-275.8\" font-family=\"Helvetica,sans-Serif\" font-size=\"14.00\">gini = 0.265</text>\n<text text-anchor=\"start\" x=\"112\" y=\"-260.8\" font-family=\"Helvetica,sans-Serif\" font-size=\"14.00\">samples = 51</text>\n<text text-anchor=\"start\" x=\"110\" y=\"-245.8\" font-family=\"Helvetica,sans-Serif\" font-size=\"14.00\">value = [8, 43]</text>\n<text text-anchor=\"start\" x=\"118\" y=\"-230.8\" font-family=\"Helvetica,sans-Serif\" font-size=\"14.00\">class = Yes</text>\n</g>\n<!-- 1&#45;&gt;2 -->\n<g id=\"edge2\" class=\"edge\">\n<title>1&#45;&gt;2</title>\n<path fill=\"none\" stroke=\"black\" d=\"M256.39,-341.58C243.92,-332.41 230.59,-322.6 217.79,-313.17\"/>\n<polygon fill=\"black\" stroke=\"black\" points=\"219.93,-310.4 209.8,-307.29 215.78,-316.04 219.93,-310.4\"/>\n</g>\n<!-- 7 -->\n<g id=\"node8\" class=\"node\">\n<title>7</title>\n<path fill=\"#e5823b\" stroke=\"black\" d=\"M360,-306C360,-306 266,-306 266,-306 260,-306 254,-300 254,-294 254,-294 254,-235 254,-235 254,-229 260,-223 266,-223 266,-223 360,-223 360,-223 366,-223 372,-229 372,-235 372,-235 372,-294 372,-294 372,-300 366,-306 360,-306\"/>\n<text text-anchor=\"start\" x=\"262\" y=\"-290.8\" font-family=\"Helvetica,sans-Serif\" font-size=\"14.00\">Distance ≤ 3.754</text>\n<text text-anchor=\"start\" x=\"281\" y=\"-275.8\" font-family=\"Helvetica,sans-Serif\" font-size=\"14.00\">gini = 0.02</text>\n<text text-anchor=\"start\" x=\"268\" y=\"-260.8\" font-family=\"Helvetica,sans-Serif\" font-size=\"14.00\">samples = 100</text>\n<text text-anchor=\"start\" x=\"270\" y=\"-245.8\" font-family=\"Helvetica,sans-Serif\" font-size=\"14.00\">value = [99, 1]</text>\n<text text-anchor=\"start\" x=\"281\" y=\"-230.8\" font-family=\"Helvetica,sans-Serif\" font-size=\"14.00\">class = No</text>\n</g>\n<!-- 1&#45;&gt;7 -->\n<g id=\"edge7\" class=\"edge\">\n<title>1&#45;&gt;7</title>\n<path fill=\"none\" stroke=\"black\" d=\"M312.35,-341.58C312.42,-333.79 312.49,-325.53 312.56,-317.45\"/>\n<polygon fill=\"black\" stroke=\"black\" points=\"316.05,-317.74 312.64,-307.71 309.05,-317.68 316.05,-317.74\"/>\n</g>\n<!-- 3 -->\n<g id=\"node4\" class=\"node\">\n<title>3</title>\n<path fill=\"#e58139\" stroke=\"black\" d=\"M83.5,-179.5C83.5,-179.5 12.5,-179.5 12.5,-179.5 6.5,-179.5 0.5,-173.5 0.5,-167.5 0.5,-167.5 0.5,-123.5 0.5,-123.5 0.5,-117.5 6.5,-111.5 12.5,-111.5 12.5,-111.5 83.5,-111.5 83.5,-111.5 89.5,-111.5 95.5,-117.5 95.5,-123.5 95.5,-123.5 95.5,-167.5 95.5,-167.5 95.5,-173.5 89.5,-179.5 83.5,-179.5\"/>\n<text text-anchor=\"start\" x=\"20\" y=\"-164.3\" font-family=\"Helvetica,sans-Serif\" font-size=\"14.00\">gini = 0.0</text>\n<text text-anchor=\"start\" x=\"10.5\" y=\"-149.3\" font-family=\"Helvetica,sans-Serif\" font-size=\"14.00\">samples = 7</text>\n<text text-anchor=\"start\" x=\"8.5\" y=\"-134.3\" font-family=\"Helvetica,sans-Serif\" font-size=\"14.00\">value = [7, 0]</text>\n<text text-anchor=\"start\" x=\"16\" y=\"-119.3\" font-family=\"Helvetica,sans-Serif\" font-size=\"14.00\">class = No</text>\n</g>\n<!-- 2&#45;&gt;3 -->\n<g id=\"edge3\" class=\"edge\">\n<title>2&#45;&gt;3</title>\n<path fill=\"none\" stroke=\"black\" d=\"M116.28,-222.58C106.29,-211.45 95.45,-199.38 85.43,-188.2\"/>\n<polygon fill=\"black\" stroke=\"black\" points=\"88.23,-186.09 78.95,-180.99 83.02,-190.77 88.23,-186.09\"/>\n</g>\n<!-- 4 -->\n<g id=\"node5\" class=\"node\">\n<title>4</title>\n<path fill=\"#3e9fe6\" stroke=\"black\" d=\"M204,-187C204,-187 126,-187 126,-187 120,-187 114,-181 114,-175 114,-175 114,-116 114,-116 114,-110 120,-104 126,-104 126,-104 204,-104 204,-104 210,-104 216,-110 216,-116 216,-116 216,-175 216,-175 216,-181 210,-187 204,-187\"/>\n<text text-anchor=\"start\" x=\"132\" y=\"-171.8\" font-family=\"Helvetica,sans-Serif\" font-size=\"14.00\">Age ≤ 59.0</text>\n<text text-anchor=\"start\" x=\"129.5\" y=\"-156.8\" font-family=\"Helvetica,sans-Serif\" font-size=\"14.00\">gini = 0.044</text>\n<text text-anchor=\"start\" x=\"124\" y=\"-141.8\" font-family=\"Helvetica,sans-Serif\" font-size=\"14.00\">samples = 44</text>\n<text text-anchor=\"start\" x=\"122\" y=\"-126.8\" font-family=\"Helvetica,sans-Serif\" font-size=\"14.00\">value = [1, 43]</text>\n<text text-anchor=\"start\" x=\"130\" y=\"-111.8\" font-family=\"Helvetica,sans-Serif\" font-size=\"14.00\">class = Yes</text>\n</g>\n<!-- 2&#45;&gt;4 -->\n<g id=\"edge4\" class=\"edge\">\n<title>2&#45;&gt;4</title>\n<path fill=\"none\" stroke=\"black\" d=\"M157.2,-222.58C158,-214.79 158.84,-206.53 159.67,-198.45\"/>\n<polygon fill=\"black\" stroke=\"black\" points=\"163.13,-199.01 160.67,-188.71 156.17,-198.3 163.13,-199.01\"/>\n</g>\n<!-- 5 -->\n<g id=\"node6\" class=\"node\">\n<title>5</title>\n<path fill=\"#399de5\" stroke=\"black\" d=\"M90,-68C90,-68 12,-68 12,-68 6,-68 0,-62 0,-56 0,-56 0,-12 0,-12 0,-6 6,0 12,0 12,0 90,0 90,0 96,0 102,-6 102,-12 102,-12 102,-56 102,-56 102,-62 96,-68 90,-68\"/>\n<text text-anchor=\"start\" x=\"23\" y=\"-52.8\" font-family=\"Helvetica,sans-Serif\" font-size=\"14.00\">gini = 0.0</text>\n<text text-anchor=\"start\" x=\"10\" y=\"-37.8\" font-family=\"Helvetica,sans-Serif\" font-size=\"14.00\">samples = 43</text>\n<text text-anchor=\"start\" x=\"8\" y=\"-22.8\" font-family=\"Helvetica,sans-Serif\" font-size=\"14.00\">value = [0, 43]</text>\n<text text-anchor=\"start\" x=\"16\" y=\"-7.8\" font-family=\"Helvetica,sans-Serif\" font-size=\"14.00\">class = Yes</text>\n</g>\n<!-- 4&#45;&gt;5 -->\n<g id=\"edge5\" class=\"edge\">\n<title>4&#45;&gt;5</title>\n<path fill=\"none\" stroke=\"black\" d=\"M122.55,-103.73C113.15,-94.7 103.18,-85.12 93.77,-76.08\"/>\n<polygon fill=\"black\" stroke=\"black\" points=\"96.4,-73.75 86.76,-69.35 91.55,-78.8 96.4,-73.75\"/>\n</g>\n<!-- 6 -->\n<g id=\"node7\" class=\"node\">\n<title>6</title>\n<path fill=\"#e58139\" stroke=\"black\" d=\"M203.5,-68C203.5,-68 132.5,-68 132.5,-68 126.5,-68 120.5,-62 120.5,-56 120.5,-56 120.5,-12 120.5,-12 120.5,-6 126.5,0 132.5,0 132.5,0 203.5,0 203.5,0 209.5,0 215.5,-6 215.5,-12 215.5,-12 215.5,-56 215.5,-56 215.5,-62 209.5,-68 203.5,-68\"/>\n<text text-anchor=\"start\" x=\"140\" y=\"-52.8\" font-family=\"Helvetica,sans-Serif\" font-size=\"14.00\">gini = 0.0</text>\n<text text-anchor=\"start\" x=\"130.5\" y=\"-37.8\" font-family=\"Helvetica,sans-Serif\" font-size=\"14.00\">samples = 1</text>\n<text text-anchor=\"start\" x=\"128.5\" y=\"-22.8\" font-family=\"Helvetica,sans-Serif\" font-size=\"14.00\">value = [1, 0]</text>\n<text text-anchor=\"start\" x=\"136\" y=\"-7.8\" font-family=\"Helvetica,sans-Serif\" font-size=\"14.00\">class = No</text>\n</g>\n<!-- 4&#45;&gt;6 -->\n<g id=\"edge6\" class=\"edge\">\n<title>4&#45;&gt;6</title>\n<path fill=\"none\" stroke=\"black\" d=\"M166.12,-103.73C166.33,-95.88 166.56,-87.63 166.78,-79.67\"/>\n<polygon fill=\"black\" stroke=\"black\" points=\"170.27,-79.9 167.05,-69.81 163.27,-79.71 170.27,-79.9\"/>\n</g>\n<!-- 8 -->\n<g id=\"node9\" class=\"node\">\n<title>8</title>\n<path fill=\"#eca06a\" stroke=\"black\" d=\"M346.5,-187C346.5,-187 267.5,-187 267.5,-187 261.5,-187 255.5,-181 255.5,-175 255.5,-175 255.5,-116 255.5,-116 255.5,-110 261.5,-104 267.5,-104 267.5,-104 346.5,-104 346.5,-104 352.5,-104 358.5,-110 358.5,-116 358.5,-116 358.5,-175 358.5,-175 358.5,-181 352.5,-187 346.5,-187\"/>\n<text text-anchor=\"start\" x=\"263.5\" y=\"-171.8\" font-family=\"Helvetica,sans-Serif\" font-size=\"14.00\">Distance ≤ 3.7</text>\n<text text-anchor=\"start\" x=\"275\" y=\"-156.8\" font-family=\"Helvetica,sans-Serif\" font-size=\"14.00\">gini = 0.32</text>\n<text text-anchor=\"start\" x=\"269.5\" y=\"-141.8\" font-family=\"Helvetica,sans-Serif\" font-size=\"14.00\">samples = 5</text>\n<text text-anchor=\"start\" x=\"267.5\" y=\"-126.8\" font-family=\"Helvetica,sans-Serif\" font-size=\"14.00\">value = [4, 1]</text>\n<text text-anchor=\"start\" x=\"275\" y=\"-111.8\" font-family=\"Helvetica,sans-Serif\" font-size=\"14.00\">class = No</text>\n</g>\n<!-- 7&#45;&gt;8 -->\n<g id=\"edge8\" class=\"edge\">\n<title>7&#45;&gt;8</title>\n<path fill=\"none\" stroke=\"black\" d=\"M310.9,-222.58C310.5,-214.79 310.08,-206.53 309.66,-198.45\"/>\n<polygon fill=\"black\" stroke=\"black\" points=\"313.17,-198.52 309.16,-188.71 306.18,-198.88 313.17,-198.52\"/>\n</g>\n<!-- 11 -->\n<g id=\"node12\" class=\"node\">\n<title>11</title>\n<path fill=\"#e58139\" stroke=\"black\" d=\"M467,-179.5C467,-179.5 389,-179.5 389,-179.5 383,-179.5 377,-173.5 377,-167.5 377,-167.5 377,-123.5 377,-123.5 377,-117.5 383,-111.5 389,-111.5 389,-111.5 467,-111.5 467,-111.5 473,-111.5 479,-117.5 479,-123.5 479,-123.5 479,-167.5 479,-167.5 479,-173.5 473,-179.5 467,-179.5\"/>\n<text text-anchor=\"start\" x=\"400\" y=\"-164.3\" font-family=\"Helvetica,sans-Serif\" font-size=\"14.00\">gini = 0.0</text>\n<text text-anchor=\"start\" x=\"387\" y=\"-149.3\" font-family=\"Helvetica,sans-Serif\" font-size=\"14.00\">samples = 95</text>\n<text text-anchor=\"start\" x=\"385\" y=\"-134.3\" font-family=\"Helvetica,sans-Serif\" font-size=\"14.00\">value = [95, 0]</text>\n<text text-anchor=\"start\" x=\"396\" y=\"-119.3\" font-family=\"Helvetica,sans-Serif\" font-size=\"14.00\">class = No</text>\n</g>\n<!-- 7&#45;&gt;11 -->\n<g id=\"edge11\" class=\"edge\">\n<title>7&#45;&gt;11</title>\n<path fill=\"none\" stroke=\"black\" d=\"M353.22,-222.58C364.27,-211.34 376.26,-199.14 387.33,-187.87\"/>\n<polygon fill=\"black\" stroke=\"black\" points=\"389.63,-190.53 394.15,-180.94 384.64,-185.62 389.63,-190.53\"/>\n</g>\n<!-- 9 -->\n<g id=\"node10\" class=\"node\">\n<title>9</title>\n<path fill=\"#e58139\" stroke=\"black\" d=\"M339.5,-68C339.5,-68 268.5,-68 268.5,-68 262.5,-68 256.5,-62 256.5,-56 256.5,-56 256.5,-12 256.5,-12 256.5,-6 262.5,0 268.5,0 268.5,0 339.5,0 339.5,0 345.5,0 351.5,-6 351.5,-12 351.5,-12 351.5,-56 351.5,-56 351.5,-62 345.5,-68 339.5,-68\"/>\n<text text-anchor=\"start\" x=\"276\" y=\"-52.8\" font-family=\"Helvetica,sans-Serif\" font-size=\"14.00\">gini = 0.0</text>\n<text text-anchor=\"start\" x=\"266.5\" y=\"-37.8\" font-family=\"Helvetica,sans-Serif\" font-size=\"14.00\">samples = 4</text>\n<text text-anchor=\"start\" x=\"264.5\" y=\"-22.8\" font-family=\"Helvetica,sans-Serif\" font-size=\"14.00\">value = [4, 0]</text>\n<text text-anchor=\"start\" x=\"272\" y=\"-7.8\" font-family=\"Helvetica,sans-Serif\" font-size=\"14.00\">class = No</text>\n</g>\n<!-- 8&#45;&gt;9 -->\n<g id=\"edge9\" class=\"edge\">\n<title>8&#45;&gt;9</title>\n<path fill=\"none\" stroke=\"black\" d=\"M305.88,-103.73C305.67,-95.88 305.44,-87.63 305.22,-79.67\"/>\n<polygon fill=\"black\" stroke=\"black\" points=\"308.73,-79.71 304.95,-69.81 301.73,-79.9 308.73,-79.71\"/>\n</g>\n<!-- 10 -->\n<g id=\"node11\" class=\"node\">\n<title>10</title>\n<path fill=\"#399de5\" stroke=\"black\" d=\"M452.5,-68C452.5,-68 381.5,-68 381.5,-68 375.5,-68 369.5,-62 369.5,-56 369.5,-56 369.5,-12 369.5,-12 369.5,-6 375.5,0 381.5,0 381.5,0 452.5,0 452.5,0 458.5,0 464.5,-6 464.5,-12 464.5,-12 464.5,-56 464.5,-56 464.5,-62 458.5,-68 452.5,-68\"/>\n<text text-anchor=\"start\" x=\"389\" y=\"-52.8\" font-family=\"Helvetica,sans-Serif\" font-size=\"14.00\">gini = 0.0</text>\n<text text-anchor=\"start\" x=\"379.5\" y=\"-37.8\" font-family=\"Helvetica,sans-Serif\" font-size=\"14.00\">samples = 1</text>\n<text text-anchor=\"start\" x=\"377.5\" y=\"-22.8\" font-family=\"Helvetica,sans-Serif\" font-size=\"14.00\">value = [0, 1]</text>\n<text text-anchor=\"start\" x=\"382\" y=\"-7.8\" font-family=\"Helvetica,sans-Serif\" font-size=\"14.00\">class = Yes</text>\n</g>\n<!-- 8&#45;&gt;10 -->\n<g id=\"edge10\" class=\"edge\">\n<title>8&#45;&gt;10</title>\n<path fill=\"none\" stroke=\"black\" d=\"M347.96,-103.73C356.94,-94.79 366.45,-85.32 375.46,-76.36\"/>\n<polygon fill=\"black\" stroke=\"black\" points=\"377.86,-78.9 382.48,-69.37 372.92,-73.94 377.86,-78.9\"/>\n</g>\n<!-- 13 -->\n<g id=\"node14\" class=\"node\">\n<title>13</title>\n<path fill=\"#399de5\" stroke=\"black\" d=\"M490,-298.5C490,-298.5 404,-298.5 404,-298.5 398,-298.5 392,-292.5 392,-286.5 392,-286.5 392,-242.5 392,-242.5 392,-236.5 398,-230.5 404,-230.5 404,-230.5 490,-230.5 490,-230.5 496,-230.5 502,-236.5 502,-242.5 502,-242.5 502,-286.5 502,-286.5 502,-292.5 496,-298.5 490,-298.5\"/>\n<text text-anchor=\"start\" x=\"419\" y=\"-283.3\" font-family=\"Helvetica,sans-Serif\" font-size=\"14.00\">gini = 0.0</text>\n<text text-anchor=\"start\" x=\"402\" y=\"-268.3\" font-family=\"Helvetica,sans-Serif\" font-size=\"14.00\">samples = 161</text>\n<text text-anchor=\"start\" x=\"400\" y=\"-253.3\" font-family=\"Helvetica,sans-Serif\" font-size=\"14.00\">value = [0, 161]</text>\n<text text-anchor=\"start\" x=\"412\" y=\"-238.3\" font-family=\"Helvetica,sans-Serif\" font-size=\"14.00\">class = Yes</text>\n</g>\n<!-- 12&#45;&gt;13 -->\n<g id=\"edge13\" class=\"edge\">\n<title>12&#45;&gt;13</title>\n<path fill=\"none\" stroke=\"black\" d=\"M447.65,-341.58C447.56,-331.43 447.47,-320.5 447.38,-310.18\"/>\n<polygon fill=\"black\" stroke=\"black\" points=\"450.88,-310.34 447.3,-300.37 443.88,-310.4 450.88,-310.34\"/>\n</g>\n<!-- 14 -->\n<g id=\"node15\" class=\"node\">\n<title>14</title>\n<path fill=\"#f8dcc8\" stroke=\"black\" d=\"M681.5,-306C681.5,-306 532.5,-306 532.5,-306 526.5,-306 520.5,-300 520.5,-294 520.5,-294 520.5,-235 520.5,-235 520.5,-229 526.5,-223 532.5,-223 532.5,-223 681.5,-223 681.5,-223 687.5,-223 693.5,-229 693.5,-235 693.5,-235 693.5,-294 693.5,-294 693.5,-300 687.5,-306 681.5,-306\"/>\n<text text-anchor=\"start\" x=\"528.5\" y=\"-290.8\" font-family=\"Helvetica,sans-Serif\" font-size=\"14.00\">spent_last_month ≤ 140.5</text>\n<text text-anchor=\"start\" x=\"571.5\" y=\"-275.8\" font-family=\"Helvetica,sans-Serif\" font-size=\"14.00\">gini = 0.487</text>\n<text text-anchor=\"start\" x=\"566\" y=\"-260.8\" font-family=\"Helvetica,sans-Serif\" font-size=\"14.00\">samples = 43</text>\n<text text-anchor=\"start\" x=\"560\" y=\"-245.8\" font-family=\"Helvetica,sans-Serif\" font-size=\"14.00\">value = [25, 18]</text>\n<text text-anchor=\"start\" x=\"575\" y=\"-230.8\" font-family=\"Helvetica,sans-Serif\" font-size=\"14.00\">class = No</text>\n</g>\n<!-- 12&#45;&gt;14 -->\n<g id=\"edge14\" class=\"edge\">\n<title>12&#45;&gt;14</title>\n<path fill=\"none\" stroke=\"black\" d=\"M503.61,-341.58C516.08,-332.41 529.41,-322.6 542.21,-313.17\"/>\n<polygon fill=\"black\" stroke=\"black\" points=\"544.22,-316.04 550.2,-307.29 540.07,-310.4 544.22,-316.04\"/>\n</g>\n<!-- 15 -->\n<g id=\"node16\" class=\"node\">\n<title>15</title>\n<path fill=\"#e58139\" stroke=\"black\" d=\"M617,-179.5C617,-179.5 539,-179.5 539,-179.5 533,-179.5 527,-173.5 527,-167.5 527,-167.5 527,-123.5 527,-123.5 527,-117.5 533,-111.5 539,-111.5 539,-111.5 617,-111.5 617,-111.5 623,-111.5 629,-117.5 629,-123.5 629,-123.5 629,-167.5 629,-167.5 629,-173.5 623,-179.5 617,-179.5\"/>\n<text text-anchor=\"start\" x=\"550\" y=\"-164.3\" font-family=\"Helvetica,sans-Serif\" font-size=\"14.00\">gini = 0.0</text>\n<text text-anchor=\"start\" x=\"537\" y=\"-149.3\" font-family=\"Helvetica,sans-Serif\" font-size=\"14.00\">samples = 25</text>\n<text text-anchor=\"start\" x=\"535\" y=\"-134.3\" font-family=\"Helvetica,sans-Serif\" font-size=\"14.00\">value = [25, 0]</text>\n<text text-anchor=\"start\" x=\"546\" y=\"-119.3\" font-family=\"Helvetica,sans-Serif\" font-size=\"14.00\">class = No</text>\n</g>\n<!-- 14&#45;&gt;15 -->\n<g id=\"edge15\" class=\"edge\">\n<title>14&#45;&gt;15</title>\n<path fill=\"none\" stroke=\"black\" d=\"M596.86,-222.58C594.31,-212.32 591.57,-201.27 588.99,-190.85\"/>\n<polygon fill=\"black\" stroke=\"black\" points=\"592.44,-190.19 586.63,-181.33 585.64,-191.88 592.44,-190.19\"/>\n</g>\n<!-- 16 -->\n<g id=\"node17\" class=\"node\">\n<title>16</title>\n<path fill=\"#399de5\" stroke=\"black\" d=\"M737,-179.5C737,-179.5 659,-179.5 659,-179.5 653,-179.5 647,-173.5 647,-167.5 647,-167.5 647,-123.5 647,-123.5 647,-117.5 653,-111.5 659,-111.5 659,-111.5 737,-111.5 737,-111.5 743,-111.5 749,-117.5 749,-123.5 749,-123.5 749,-167.5 749,-167.5 749,-173.5 743,-179.5 737,-179.5\"/>\n<text text-anchor=\"start\" x=\"670\" y=\"-164.3\" font-family=\"Helvetica,sans-Serif\" font-size=\"14.00\">gini = 0.0</text>\n<text text-anchor=\"start\" x=\"657\" y=\"-149.3\" font-family=\"Helvetica,sans-Serif\" font-size=\"14.00\">samples = 18</text>\n<text text-anchor=\"start\" x=\"655\" y=\"-134.3\" font-family=\"Helvetica,sans-Serif\" font-size=\"14.00\">value = [0, 18]</text>\n<text text-anchor=\"start\" x=\"663\" y=\"-119.3\" font-family=\"Helvetica,sans-Serif\" font-size=\"14.00\">class = Yes</text>\n</g>\n<!-- 14&#45;&gt;16 -->\n<g id=\"edge16\" class=\"edge\">\n<title>14&#45;&gt;16</title>\n<path fill=\"none\" stroke=\"black\" d=\"M638.83,-222.58C647.32,-211.66 656.51,-199.85 665.05,-188.86\"/>\n<polygon fill=\"black\" stroke=\"black\" points=\"667.75,-191.1 671.12,-181.06 662.22,-186.8 667.75,-191.1\"/>\n</g>\n</g>\n</svg>\n",
      "text/plain": [
       "<graphviz.sources.Source at 0x13fd7b430>"
      ]
     },
     "execution_count": 83,
     "metadata": {},
     "output_type": "execute_result"
    }
   ],
   "source": [
    "coffee_treeg = tree.export_graphviz(gini_model, out_file=None, \n",
    "                     feature_names=X_dum.columns,  \n",
    "                     class_names=gini_model.classes_,\n",
    "                     filled=True, rounded=True,\n",
    "                     special_characters=True)\n",
    "graphg = graphviz.Source(coffee_treeg)\n",
    "graphg"
   ]
  },
  {
   "cell_type": "code",
   "execution_count": 84,
   "metadata": {},
   "outputs": [
    {
     "data": {
      "text/plain": [
       "'coffee_tree_geenee.pdf'"
      ]
     },
     "execution_count": 84,
     "metadata": {},
     "output_type": "execute_result"
    }
   ],
   "source": [
    "graphg.render('coffee_tree_geenee')"
   ]
  },
  {
   "cell_type": "code",
   "execution_count": 85,
   "metadata": {},
   "outputs": [
    {
     "name": "stdout",
     "output_type": "stream",
     "text": [
      "Model Gini impurity model\n",
      "Accuracy: 0.9327731092436975\n",
      "Balanced accuracy: 0.9171474358974359\n",
      "Precision score 0.9390243902439024\n",
      "Recall score 0.8717948717948718\n"
     ]
    }
   ],
   "source": [
    "# Run this block for model evaluation\n",
    "print(\"Model Gini impurity model\") #add / clarify \"no max depth\" like case0?\n",
    "print(\"Accuracy:\", metrics.accuracy_score(y_test,y_predg))\n",
    "print(\"Balanced accuracy:\", metrics.balanced_accuracy_score(y_test,y_predg))\n",
    "print('Precision score' , metrics.precision_score(y_test,y_predg, pos_label = \"Yes\"))\n",
    "print('Recall score' , metrics.recall_score(y_test,y_predg, pos_label = \"No\"))"
   ]
  },
  {
   "cell_type": "code",
   "execution_count": null,
   "metadata": {},
   "outputs": [],
   "source": []
  },
  {
   "cell_type": "code",
   "execution_count": 86,
   "metadata": {},
   "outputs": [
    {
     "data": {
      "text/plain": [
       "0.9243697478991597"
      ]
     },
     "execution_count": 86,
     "metadata": {},
     "output_type": "execute_result"
    }
   ],
   "source": [
    "entr_model2 = DecisionTreeClassifier(criterion='entropy', max_depth=3)\n",
    "\n",
    "entr_model2.fit(X_train,y_train)\n",
    "\n",
    "y_pred_e2 = entr_model2.predict(X_test)\n",
    "\n",
    "entr_model2.score(X_test,y_test)"
   ]
  },
  {
   "cell_type": "code",
   "execution_count": 87,
   "metadata": {},
   "outputs": [
    {
     "data": {
      "image/svg+xml": "<?xml version=\"1.0\" encoding=\"UTF-8\" standalone=\"no\"?>\n<!DOCTYPE svg PUBLIC \"-//W3C//DTD SVG 1.1//EN\"\n \"http://www.w3.org/Graphics/SVG/1.1/DTD/svg11.dtd\">\n<!-- Generated by graphviz version 7.0.1 (20221109.1506)\n -->\n<!-- Title: Tree Pages: 1 -->\n<svg width=\"521pt\" height=\"433pt\"\n viewBox=\"0.00 0.00 520.50 433.00\" xmlns=\"http://www.w3.org/2000/svg\" xmlns:xlink=\"http://www.w3.org/1999/xlink\">\n<g id=\"graph0\" class=\"graph\" transform=\"scale(1 1) rotate(0) translate(4 429)\">\n<title>Tree</title>\n<polygon fill=\"white\" stroke=\"none\" points=\"-4,4 -4,-429 516.5,-429 516.5,4 -4,4\"/>\n<!-- 0 -->\n<g id=\"node1\" class=\"node\">\n<title>0</title>\n<path fill=\"#aed7f4\" stroke=\"black\" d=\"M390.5,-425C390.5,-425 241.5,-425 241.5,-425 235.5,-425 229.5,-419 229.5,-413 229.5,-413 229.5,-354 229.5,-354 229.5,-348 235.5,-342 241.5,-342 241.5,-342 390.5,-342 390.5,-342 396.5,-342 402.5,-348 402.5,-354 402.5,-354 402.5,-413 402.5,-413 402.5,-419 396.5,-425 390.5,-425\"/>\n<text text-anchor=\"start\" x=\"237.5\" y=\"-409.8\" font-family=\"Helvetica,sans-Serif\" font-size=\"14.00\">spent_last_month ≤ 138.0</text>\n<text text-anchor=\"start\" x=\"268.5\" y=\"-394.8\" font-family=\"Helvetica,sans-Serif\" font-size=\"14.00\">entropy = 0.952</text>\n<text text-anchor=\"start\" x=\"271\" y=\"-379.8\" font-family=\"Helvetica,sans-Serif\" font-size=\"14.00\">samples = 355</text>\n<text text-anchor=\"start\" x=\"261.5\" y=\"-364.8\" font-family=\"Helvetica,sans-Serif\" font-size=\"14.00\">value = [132, 223]</text>\n<text text-anchor=\"start\" x=\"284\" y=\"-349.8\" font-family=\"Helvetica,sans-Serif\" font-size=\"14.00\">class = No</text>\n</g>\n<!-- 1 -->\n<g id=\"node2\" class=\"node\">\n<title>1</title>\n<path fill=\"#f9e3d4\" stroke=\"black\" d=\"M298.5,-306C298.5,-306 197.5,-306 197.5,-306 191.5,-306 185.5,-300 185.5,-294 185.5,-294 185.5,-235 185.5,-235 185.5,-229 191.5,-223 197.5,-223 197.5,-223 298.5,-223 298.5,-223 304.5,-223 310.5,-229 310.5,-235 310.5,-235 310.5,-294 310.5,-294 310.5,-300 304.5,-306 298.5,-306\"/>\n<text text-anchor=\"start\" x=\"197\" y=\"-290.8\" font-family=\"Helvetica,sans-Serif\" font-size=\"14.00\">Distance ≤ 3.524</text>\n<text text-anchor=\"start\" x=\"200.5\" y=\"-275.8\" font-family=\"Helvetica,sans-Serif\" font-size=\"14.00\">entropy = 0.989</text>\n<text text-anchor=\"start\" x=\"203\" y=\"-260.8\" font-family=\"Helvetica,sans-Serif\" font-size=\"14.00\">samples = 235</text>\n<text text-anchor=\"start\" x=\"193.5\" y=\"-245.8\" font-family=\"Helvetica,sans-Serif\" font-size=\"14.00\">value = [132, 103]</text>\n<text text-anchor=\"start\" x=\"213\" y=\"-230.8\" font-family=\"Helvetica,sans-Serif\" font-size=\"14.00\">class = Yes</text>\n</g>\n<!-- 0&#45;&gt;1 -->\n<g id=\"edge1\" class=\"edge\">\n<title>0&#45;&gt;1</title>\n<path fill=\"none\" stroke=\"black\" d=\"M292.22,-341.58C287.43,-333.34 282.34,-324.58 277.38,-316.06\"/>\n<polygon fill=\"black\" stroke=\"black\" points=\"280.47,-314.4 272.42,-307.51 274.41,-317.91 280.47,-314.4\"/>\n<text text-anchor=\"middle\" x=\"265.25\" y=\"-326.67\" font-family=\"Helvetica,sans-Serif\" font-size=\"14.00\">True</text>\n</g>\n<!-- 8 -->\n<g id=\"node9\" class=\"node\">\n<title>8</title>\n<path fill=\"#399de5\" stroke=\"black\" d=\"M427,-298.5C427,-298.5 341,-298.5 341,-298.5 335,-298.5 329,-292.5 329,-286.5 329,-286.5 329,-242.5 329,-242.5 329,-236.5 335,-230.5 341,-230.5 341,-230.5 427,-230.5 427,-230.5 433,-230.5 439,-236.5 439,-242.5 439,-242.5 439,-286.5 439,-286.5 439,-292.5 433,-298.5 427,-298.5\"/>\n<text text-anchor=\"start\" x=\"344\" y=\"-283.3\" font-family=\"Helvetica,sans-Serif\" font-size=\"14.00\">entropy = 0.0</text>\n<text text-anchor=\"start\" x=\"339\" y=\"-268.3\" font-family=\"Helvetica,sans-Serif\" font-size=\"14.00\">samples = 120</text>\n<text text-anchor=\"start\" x=\"337\" y=\"-253.3\" font-family=\"Helvetica,sans-Serif\" font-size=\"14.00\">value = [0, 120]</text>\n<text text-anchor=\"start\" x=\"352\" y=\"-238.3\" font-family=\"Helvetica,sans-Serif\" font-size=\"14.00\">class = No</text>\n</g>\n<!-- 0&#45;&gt;8 -->\n<g id=\"edge8\" class=\"edge\">\n<title>0&#45;&gt;8</title>\n<path fill=\"none\" stroke=\"black\" d=\"M339.78,-341.58C346,-330.88 352.72,-319.32 359,-308.52\"/>\n<polygon fill=\"black\" stroke=\"black\" points=\"361.85,-310.57 363.85,-300.17 355.8,-307.06 361.85,-310.57\"/>\n<text text-anchor=\"middle\" x=\"371.01\" y=\"-319.33\" font-family=\"Helvetica,sans-Serif\" font-size=\"14.00\">False</text>\n</g>\n<!-- 2 -->\n<g id=\"node3\" class=\"node\">\n<title>2</title>\n<path fill=\"#52a9e8\" stroke=\"black\" d=\"M225.5,-187C225.5,-187 84.5,-187 84.5,-187 78.5,-187 72.5,-181 72.5,-175 72.5,-175 72.5,-116 72.5,-116 72.5,-110 78.5,-104 84.5,-104 84.5,-104 225.5,-104 225.5,-104 231.5,-104 237.5,-110 237.5,-116 237.5,-116 237.5,-175 237.5,-175 237.5,-181 231.5,-187 225.5,-187\"/>\n<text text-anchor=\"start\" x=\"80.5\" y=\"-171.8\" font-family=\"Helvetica,sans-Serif\" font-size=\"14.00\">spent_last_month ≤ 22.5</text>\n<text text-anchor=\"start\" x=\"107.5\" y=\"-156.8\" font-family=\"Helvetica,sans-Serif\" font-size=\"14.00\">entropy = 0.507</text>\n<text text-anchor=\"start\" x=\"114\" y=\"-141.8\" font-family=\"Helvetica,sans-Serif\" font-size=\"14.00\">samples = 80</text>\n<text text-anchor=\"start\" x=\"112\" y=\"-126.8\" font-family=\"Helvetica,sans-Serif\" font-size=\"14.00\">value = [9, 71]</text>\n<text text-anchor=\"start\" x=\"123\" y=\"-111.8\" font-family=\"Helvetica,sans-Serif\" font-size=\"14.00\">class = No</text>\n</g>\n<!-- 1&#45;&gt;2 -->\n<g id=\"edge2\" class=\"edge\">\n<title>1&#45;&gt;2</title>\n<path fill=\"none\" stroke=\"black\" d=\"M215.47,-222.58C208.64,-213.98 201.36,-204.82 194.3,-195.95\"/>\n<polygon fill=\"black\" stroke=\"black\" points=\"197.26,-194.04 188.29,-188.39 191.78,-198.39 197.26,-194.04\"/>\n</g>\n<!-- 5 -->\n<g id=\"node6\" class=\"node\">\n<title>5</title>\n<path fill=\"#eca26d\" stroke=\"black\" d=\"M416.5,-187C416.5,-187 267.5,-187 267.5,-187 261.5,-187 255.5,-181 255.5,-175 255.5,-175 255.5,-116 255.5,-116 255.5,-110 261.5,-104 267.5,-104 267.5,-104 416.5,-104 416.5,-104 422.5,-104 428.5,-110 428.5,-116 428.5,-116 428.5,-175 428.5,-175 428.5,-181 422.5,-187 416.5,-187\"/>\n<text text-anchor=\"start\" x=\"263.5\" y=\"-171.8\" font-family=\"Helvetica,sans-Serif\" font-size=\"14.00\">spent_last_month ≤ 101.0</text>\n<text text-anchor=\"start\" x=\"294.5\" y=\"-156.8\" font-family=\"Helvetica,sans-Serif\" font-size=\"14.00\">entropy = 0.735</text>\n<text text-anchor=\"start\" x=\"297\" y=\"-141.8\" font-family=\"Helvetica,sans-Serif\" font-size=\"14.00\">samples = 155</text>\n<text text-anchor=\"start\" x=\"291.5\" y=\"-126.8\" font-family=\"Helvetica,sans-Serif\" font-size=\"14.00\">value = [123, 32]</text>\n<text text-anchor=\"start\" x=\"307\" y=\"-111.8\" font-family=\"Helvetica,sans-Serif\" font-size=\"14.00\">class = Yes</text>\n</g>\n<!-- 1&#45;&gt;5 -->\n<g id=\"edge5\" class=\"edge\">\n<title>1&#45;&gt;5</title>\n<path fill=\"none\" stroke=\"black\" d=\"M280.88,-222.58C287.79,-213.98 295.14,-204.82 302.27,-195.95\"/>\n<polygon fill=\"black\" stroke=\"black\" points=\"304.82,-198.37 308.35,-188.38 299.36,-193.98 304.82,-198.37\"/>\n</g>\n<!-- 3 -->\n<g id=\"node4\" class=\"node\">\n<title>3</title>\n<path fill=\"#e58139\" stroke=\"black\" d=\"M84,-68C84,-68 12,-68 12,-68 6,-68 0,-62 0,-56 0,-56 0,-12 0,-12 0,-6 6,0 12,0 12,0 84,0 84,0 90,0 96,-6 96,-12 96,-12 96,-56 96,-56 96,-62 90,-68 84,-68\"/>\n<text text-anchor=\"start\" x=\"8\" y=\"-52.8\" font-family=\"Helvetica,sans-Serif\" font-size=\"14.00\">entropy = 0.0</text>\n<text text-anchor=\"start\" x=\"10.5\" y=\"-37.8\" font-family=\"Helvetica,sans-Serif\" font-size=\"14.00\">samples = 7</text>\n<text text-anchor=\"start\" x=\"8.5\" y=\"-22.8\" font-family=\"Helvetica,sans-Serif\" font-size=\"14.00\">value = [7, 0]</text>\n<text text-anchor=\"start\" x=\"13\" y=\"-7.8\" font-family=\"Helvetica,sans-Serif\" font-size=\"14.00\">class = Yes</text>\n</g>\n<!-- 2&#45;&gt;3 -->\n<g id=\"edge3\" class=\"edge\">\n<title>2&#45;&gt;3</title>\n<path fill=\"none\" stroke=\"black\" d=\"M115.16,-103.73C106.42,-94.79 97.17,-85.32 88.41,-76.36\"/>\n<polygon fill=\"black\" stroke=\"black\" points=\"91.09,-74.09 81.6,-69.38 86.08,-78.98 91.09,-74.09\"/>\n</g>\n<!-- 4 -->\n<g id=\"node5\" class=\"node\">\n<title>4</title>\n<path fill=\"#3fa0e6\" stroke=\"black\" d=\"M213.5,-68C213.5,-68 126.5,-68 126.5,-68 120.5,-68 114.5,-62 114.5,-56 114.5,-56 114.5,-12 114.5,-12 114.5,-6 120.5,0 126.5,0 126.5,0 213.5,0 213.5,0 219.5,0 225.5,-6 225.5,-12 225.5,-12 225.5,-56 225.5,-56 225.5,-62 219.5,-68 213.5,-68\"/>\n<text text-anchor=\"start\" x=\"122.5\" y=\"-52.8\" font-family=\"Helvetica,sans-Serif\" font-size=\"14.00\">entropy = 0.181</text>\n<text text-anchor=\"start\" x=\"129\" y=\"-37.8\" font-family=\"Helvetica,sans-Serif\" font-size=\"14.00\">samples = 73</text>\n<text text-anchor=\"start\" x=\"127\" y=\"-22.8\" font-family=\"Helvetica,sans-Serif\" font-size=\"14.00\">value = [2, 71]</text>\n<text text-anchor=\"start\" x=\"138\" y=\"-7.8\" font-family=\"Helvetica,sans-Serif\" font-size=\"14.00\">class = No</text>\n</g>\n<!-- 2&#45;&gt;4 -->\n<g id=\"edge4\" class=\"edge\">\n<title>2&#45;&gt;4</title>\n<path fill=\"none\" stroke=\"black\" d=\"M160.59,-103.73C161.66,-95.88 162.79,-87.63 163.88,-79.67\"/>\n<polygon fill=\"black\" stroke=\"black\" points=\"167.34,-80.18 165.23,-69.8 160.41,-79.23 167.34,-80.18\"/>\n</g>\n<!-- 6 -->\n<g id=\"node7\" class=\"node\">\n<title>6</title>\n<path fill=\"#e5823b\" stroke=\"black\" d=\"M371.5,-68C371.5,-68 284.5,-68 284.5,-68 278.5,-68 272.5,-62 272.5,-56 272.5,-56 272.5,-12 272.5,-12 272.5,-6 278.5,0 284.5,0 284.5,0 371.5,0 371.5,0 377.5,0 383.5,-6 383.5,-12 383.5,-12 383.5,-56 383.5,-56 383.5,-62 377.5,-68 371.5,-68\"/>\n<text text-anchor=\"start\" x=\"280.5\" y=\"-52.8\" font-family=\"Helvetica,sans-Serif\" font-size=\"14.00\">entropy = 0.081</text>\n<text text-anchor=\"start\" x=\"287\" y=\"-37.8\" font-family=\"Helvetica,sans-Serif\" font-size=\"14.00\">samples = 99</text>\n<text text-anchor=\"start\" x=\"285\" y=\"-22.8\" font-family=\"Helvetica,sans-Serif\" font-size=\"14.00\">value = [98, 1]</text>\n<text text-anchor=\"start\" x=\"293\" y=\"-7.8\" font-family=\"Helvetica,sans-Serif\" font-size=\"14.00\">class = Yes</text>\n</g>\n<!-- 5&#45;&gt;6 -->\n<g id=\"edge6\" class=\"edge\">\n<title>5&#45;&gt;6</title>\n<path fill=\"none\" stroke=\"black\" d=\"M336.79,-103.73C335.78,-95.88 334.73,-87.63 333.71,-79.67\"/>\n<polygon fill=\"black\" stroke=\"black\" points=\"337.19,-79.28 332.45,-69.8 330.25,-80.16 337.19,-79.28\"/>\n</g>\n<!-- 7 -->\n<g id=\"node8\" class=\"node\">\n<title>7</title>\n<path fill=\"#d9ecfa\" stroke=\"black\" d=\"M500.5,-68C500.5,-68 413.5,-68 413.5,-68 407.5,-68 401.5,-62 401.5,-56 401.5,-56 401.5,-12 401.5,-12 401.5,-6 407.5,0 413.5,0 413.5,0 500.5,0 500.5,0 506.5,0 512.5,-6 512.5,-12 512.5,-12 512.5,-56 512.5,-56 512.5,-62 506.5,-68 500.5,-68\"/>\n<text text-anchor=\"start\" x=\"409.5\" y=\"-52.8\" font-family=\"Helvetica,sans-Serif\" font-size=\"14.00\">entropy = 0.992</text>\n<text text-anchor=\"start\" x=\"416\" y=\"-37.8\" font-family=\"Helvetica,sans-Serif\" font-size=\"14.00\">samples = 56</text>\n<text text-anchor=\"start\" x=\"410\" y=\"-22.8\" font-family=\"Helvetica,sans-Serif\" font-size=\"14.00\">value = [25, 31]</text>\n<text text-anchor=\"start\" x=\"425\" y=\"-7.8\" font-family=\"Helvetica,sans-Serif\" font-size=\"14.00\">class = No</text>\n</g>\n<!-- 5&#45;&gt;7 -->\n<g id=\"edge7\" class=\"edge\">\n<title>5&#45;&gt;7</title>\n<path fill=\"none\" stroke=\"black\" d=\"M384.82,-103.73C394.3,-94.7 404.36,-85.12 413.85,-76.08\"/>\n<polygon fill=\"black\" stroke=\"black\" points=\"416.1,-78.77 420.93,-69.34 411.28,-73.7 416.1,-78.77\"/>\n</g>\n</g>\n</svg>\n",
      "text/plain": [
       "<graphviz.sources.Source at 0x13fe47a60>"
      ]
     },
     "execution_count": 87,
     "metadata": {},
     "output_type": "execute_result"
    }
   ],
   "source": [
    "coffee_tree_e2 = tree.export_graphviz(entr_model2, out_file=None, \n",
    "                     feature_names=X_dum.columns,  \n",
    "                     class_names=y.unique(),#>>OR entr_model.classes_!!!! gives exact same thing!\n",
    "                     filled=True, rounded=True,  \n",
    "                     special_characters=True)\n",
    "graph_e2 = graphviz.Source(coffee_tree_e2)\n",
    "graph_e2"
   ]
  },
  {
   "cell_type": "code",
   "execution_count": 88,
   "metadata": {},
   "outputs": [],
   "source": [
    "#okay aH so yeah i guess this is 3 levels of decisions! tree depth of 3!\n",
    "#note that it's 4 'levels' from the look of it, but you gotta look at the 'GAPS'! like it's\n",
    "#3 sets of DECISIONS!\n",
    "\n",
    "#btw, in unrestricted aka NO max depth specified, we had a depth of *6*, for\n",
    "#gini, aka 7 'apparent' levels & 6 levels of *decisions*!!!\n",
    "#for entropy, it was one less; depth of 5: 6 apparent, 5 decisions"
   ]
  },
  {
   "cell_type": "code",
   "execution_count": 89,
   "metadata": {},
   "outputs": [
    {
     "name": "stdout",
     "output_type": "stream",
     "text": [
      "Model Entropy model max depth 3\n",
      "Accuracy: 0.9243697478991597\n",
      "Balanced accuracy: 0.8977564102564102\n",
      "Precision score for \"Yes\" 0.9176470588235294\n",
      "Recall score for \"No\" 0.8205128205128205\n"
     ]
    }
   ],
   "source": [
    "# Run this block for model evaluation \n",
    "print(\"Model Entropy model max depth 3\")\n",
    "print(\"Accuracy:\", metrics.accuracy_score(y_test,y_pred_e2))\n",
    "print(\"Balanced accuracy:\", metrics.balanced_accuracy_score(y_test,y_pred_e2))\n",
    "print('Precision score for \"Yes\"' , metrics.precision_score(y_test,y_pred_e2, pos_label = \"Yes\"))\n",
    "print('Recall score for \"No\"' , metrics.recall_score(y_test,y_pred_e2, pos_label = \"No\"))"
   ]
  },
  {
   "cell_type": "code",
   "execution_count": null,
   "metadata": {},
   "outputs": [],
   "source": []
  },
  {
   "cell_type": "code",
   "execution_count": 90,
   "metadata": {},
   "outputs": [
    {
     "data": {
      "text/plain": [
       "0.9411764705882353"
      ]
     },
     "execution_count": 90,
     "metadata": {},
     "output_type": "execute_result"
    }
   ],
   "source": [
    "gini_model2 = DecisionTreeClassifier(max_depth=3)\n",
    "\n",
    "gini_model2.fit(X_train,y_train)\n",
    "\n",
    "y_predg2 = gini_model2.predict(X_test)\n",
    "\n",
    "gini_model2.score(X_test,y_test)"
   ]
  },
  {
   "cell_type": "code",
   "execution_count": 91,
   "metadata": {},
   "outputs": [
    {
     "data": {
      "image/svg+xml": "<?xml version=\"1.0\" encoding=\"UTF-8\" standalone=\"no\"?>\n<!DOCTYPE svg PUBLIC \"-//W3C//DTD SVG 1.1//EN\"\n \"http://www.w3.org/Graphics/SVG/1.1/DTD/svg11.dtd\">\n<!-- Generated by graphviz version 7.0.1 (20221109.1506)\n -->\n<!-- Title: Tree Pages: 1 -->\n<svg width=\"753pt\" height=\"433pt\"\n viewBox=\"0.00 0.00 752.50 433.00\" xmlns=\"http://www.w3.org/2000/svg\" xmlns:xlink=\"http://www.w3.org/1999/xlink\">\n<g id=\"graph0\" class=\"graph\" transform=\"scale(1 1) rotate(0) translate(4 429)\">\n<title>Tree</title>\n<polygon fill=\"white\" stroke=\"none\" points=\"-4,4 -4,-429 748.5,-429 748.5,4 -4,4\"/>\n<!-- 0 -->\n<g id=\"node1\" class=\"node\">\n<title>0</title>\n<path fill=\"#aed7f4\" stroke=\"black\" d=\"M455,-425C455,-425 306,-425 306,-425 300,-425 294,-419 294,-413 294,-413 294,-354 294,-354 294,-348 300,-342 306,-342 306,-342 455,-342 455,-342 461,-342 467,-348 467,-354 467,-354 467,-413 467,-413 467,-419 461,-425 455,-425\"/>\n<text text-anchor=\"start\" x=\"302\" y=\"-409.8\" font-family=\"Helvetica,sans-Serif\" font-size=\"14.00\">spent_last_month ≤ 100.5</text>\n<text text-anchor=\"start\" x=\"345\" y=\"-394.8\" font-family=\"Helvetica,sans-Serif\" font-size=\"14.00\">gini = 0.467</text>\n<text text-anchor=\"start\" x=\"335.5\" y=\"-379.8\" font-family=\"Helvetica,sans-Serif\" font-size=\"14.00\">samples = 355</text>\n<text text-anchor=\"start\" x=\"326\" y=\"-364.8\" font-family=\"Helvetica,sans-Serif\" font-size=\"14.00\">value = [132, 223]</text>\n<text text-anchor=\"start\" x=\"345.5\" y=\"-349.8\" font-family=\"Helvetica,sans-Serif\" font-size=\"14.00\">class = Yes</text>\n</g>\n<!-- 1 -->\n<g id=\"node2\" class=\"node\">\n<title>1</title>\n<path fill=\"#f0b58a\" stroke=\"black\" d=\"M359.5,-306C359.5,-306 265.5,-306 265.5,-306 259.5,-306 253.5,-300 253.5,-294 253.5,-294 253.5,-235 253.5,-235 253.5,-229 259.5,-223 265.5,-223 265.5,-223 359.5,-223 359.5,-223 365.5,-223 371.5,-229 371.5,-235 371.5,-235 371.5,-294 371.5,-294 371.5,-300 365.5,-306 359.5,-306\"/>\n<text text-anchor=\"start\" x=\"261.5\" y=\"-290.8\" font-family=\"Helvetica,sans-Serif\" font-size=\"14.00\">Distance ≤ 3.004</text>\n<text text-anchor=\"start\" x=\"277\" y=\"-275.8\" font-family=\"Helvetica,sans-Serif\" font-size=\"14.00\">gini = 0.413</text>\n<text text-anchor=\"start\" x=\"267.5\" y=\"-260.8\" font-family=\"Helvetica,sans-Serif\" font-size=\"14.00\">samples = 151</text>\n<text text-anchor=\"start\" x=\"262\" y=\"-245.8\" font-family=\"Helvetica,sans-Serif\" font-size=\"14.00\">value = [107, 44]</text>\n<text text-anchor=\"start\" x=\"280.5\" y=\"-230.8\" font-family=\"Helvetica,sans-Serif\" font-size=\"14.00\">class = No</text>\n</g>\n<!-- 0&#45;&gt;1 -->\n<g id=\"edge1\" class=\"edge\">\n<title>0&#45;&gt;1</title>\n<path fill=\"none\" stroke=\"black\" d=\"M356.72,-341.58C351.93,-333.34 346.84,-324.58 341.88,-316.06\"/>\n<polygon fill=\"black\" stroke=\"black\" points=\"344.97,-314.4 336.92,-307.51 338.91,-317.91 344.97,-314.4\"/>\n<text text-anchor=\"middle\" x=\"329.75\" y=\"-326.67\" font-family=\"Helvetica,sans-Serif\" font-size=\"14.00\">True</text>\n</g>\n<!-- 8 -->\n<g id=\"node9\" class=\"node\">\n<title>8</title>\n<path fill=\"#55abe9\" stroke=\"black\" d=\"M495.5,-306C495.5,-306 401.5,-306 401.5,-306 395.5,-306 389.5,-300 389.5,-294 389.5,-294 389.5,-235 389.5,-235 389.5,-229 395.5,-223 401.5,-223 401.5,-223 495.5,-223 495.5,-223 501.5,-223 507.5,-229 507.5,-235 507.5,-235 507.5,-294 507.5,-294 507.5,-300 501.5,-306 495.5,-306\"/>\n<text text-anchor=\"start\" x=\"397.5\" y=\"-290.8\" font-family=\"Helvetica,sans-Serif\" font-size=\"14.00\">Distance ≤ 9.135</text>\n<text text-anchor=\"start\" x=\"413\" y=\"-275.8\" font-family=\"Helvetica,sans-Serif\" font-size=\"14.00\">gini = 0.215</text>\n<text text-anchor=\"start\" x=\"403.5\" y=\"-260.8\" font-family=\"Helvetica,sans-Serif\" font-size=\"14.00\">samples = 204</text>\n<text text-anchor=\"start\" x=\"398\" y=\"-245.8\" font-family=\"Helvetica,sans-Serif\" font-size=\"14.00\">value = [25, 179]</text>\n<text text-anchor=\"start\" x=\"413.5\" y=\"-230.8\" font-family=\"Helvetica,sans-Serif\" font-size=\"14.00\">class = Yes</text>\n</g>\n<!-- 0&#45;&gt;8 -->\n<g id=\"edge8\" class=\"edge\">\n<title>0&#45;&gt;8</title>\n<path fill=\"none\" stroke=\"black\" d=\"M404.28,-341.58C409.07,-333.34 414.16,-324.58 419.12,-316.06\"/>\n<polygon fill=\"black\" stroke=\"black\" points=\"422.09,-317.91 424.08,-307.51 416.03,-314.4 422.09,-317.91\"/>\n<text text-anchor=\"middle\" x=\"431.25\" y=\"-326.67\" font-family=\"Helvetica,sans-Serif\" font-size=\"14.00\">False</text>\n</g>\n<!-- 2 -->\n<g id=\"node3\" class=\"node\">\n<title>2</title>\n<path fill=\"#5eafea\" stroke=\"black\" d=\"M224,-187C224,-187 83,-187 83,-187 77,-187 71,-181 71,-175 71,-175 71,-116 71,-116 71,-110 77,-104 83,-104 83,-104 224,-104 224,-104 230,-104 236,-110 236,-116 236,-116 236,-175 236,-175 236,-181 230,-187 224,-187\"/>\n<text text-anchor=\"start\" x=\"79\" y=\"-171.8\" font-family=\"Helvetica,sans-Serif\" font-size=\"14.00\">spent_last_month ≤ 22.5</text>\n<text text-anchor=\"start\" x=\"118\" y=\"-156.8\" font-family=\"Helvetica,sans-Serif\" font-size=\"14.00\">gini = 0.265</text>\n<text text-anchor=\"start\" x=\"112.5\" y=\"-141.8\" font-family=\"Helvetica,sans-Serif\" font-size=\"14.00\">samples = 51</text>\n<text text-anchor=\"start\" x=\"110.5\" y=\"-126.8\" font-family=\"Helvetica,sans-Serif\" font-size=\"14.00\">value = [8, 43]</text>\n<text text-anchor=\"start\" x=\"118.5\" y=\"-111.8\" font-family=\"Helvetica,sans-Serif\" font-size=\"14.00\">class = Yes</text>\n</g>\n<!-- 1&#45;&gt;2 -->\n<g id=\"edge2\" class=\"edge\">\n<title>1&#45;&gt;2</title>\n<path fill=\"none\" stroke=\"black\" d=\"M256.89,-222.58C244.42,-213.41 231.09,-203.6 218.29,-194.17\"/>\n<polygon fill=\"black\" stroke=\"black\" points=\"220.43,-191.4 210.3,-188.29 216.28,-197.04 220.43,-191.4\"/>\n</g>\n<!-- 5 -->\n<g id=\"node6\" class=\"node\">\n<title>5</title>\n<path fill=\"#e5823b\" stroke=\"black\" d=\"M360.5,-187C360.5,-187 266.5,-187 266.5,-187 260.5,-187 254.5,-181 254.5,-175 254.5,-175 254.5,-116 254.5,-116 254.5,-110 260.5,-104 266.5,-104 266.5,-104 360.5,-104 360.5,-104 366.5,-104 372.5,-110 372.5,-116 372.5,-116 372.5,-175 372.5,-175 372.5,-181 366.5,-187 360.5,-187\"/>\n<text text-anchor=\"start\" x=\"262.5\" y=\"-171.8\" font-family=\"Helvetica,sans-Serif\" font-size=\"14.00\">Distance ≤ 3.754</text>\n<text text-anchor=\"start\" x=\"281.5\" y=\"-156.8\" font-family=\"Helvetica,sans-Serif\" font-size=\"14.00\">gini = 0.02</text>\n<text text-anchor=\"start\" x=\"268.5\" y=\"-141.8\" font-family=\"Helvetica,sans-Serif\" font-size=\"14.00\">samples = 100</text>\n<text text-anchor=\"start\" x=\"270.5\" y=\"-126.8\" font-family=\"Helvetica,sans-Serif\" font-size=\"14.00\">value = [99, 1]</text>\n<text text-anchor=\"start\" x=\"281.5\" y=\"-111.8\" font-family=\"Helvetica,sans-Serif\" font-size=\"14.00\">class = No</text>\n</g>\n<!-- 1&#45;&gt;5 -->\n<g id=\"edge5\" class=\"edge\">\n<title>1&#45;&gt;5</title>\n<path fill=\"none\" stroke=\"black\" d=\"M312.85,-222.58C312.92,-214.79 312.99,-206.53 313.06,-198.45\"/>\n<polygon fill=\"black\" stroke=\"black\" points=\"316.55,-198.74 313.14,-188.71 309.55,-198.68 316.55,-198.74\"/>\n</g>\n<!-- 3 -->\n<g id=\"node4\" class=\"node\">\n<title>3</title>\n<path fill=\"#e58139\" stroke=\"black\" d=\"M83,-68C83,-68 12,-68 12,-68 6,-68 0,-62 0,-56 0,-56 0,-12 0,-12 0,-6 6,0 12,0 12,0 83,0 83,0 89,0 95,-6 95,-12 95,-12 95,-56 95,-56 95,-62 89,-68 83,-68\"/>\n<text text-anchor=\"start\" x=\"19.5\" y=\"-52.8\" font-family=\"Helvetica,sans-Serif\" font-size=\"14.00\">gini = 0.0</text>\n<text text-anchor=\"start\" x=\"10\" y=\"-37.8\" font-family=\"Helvetica,sans-Serif\" font-size=\"14.00\">samples = 7</text>\n<text text-anchor=\"start\" x=\"8\" y=\"-22.8\" font-family=\"Helvetica,sans-Serif\" font-size=\"14.00\">value = [7, 0]</text>\n<text text-anchor=\"start\" x=\"15.5\" y=\"-7.8\" font-family=\"Helvetica,sans-Serif\" font-size=\"14.00\">class = No</text>\n</g>\n<!-- 2&#45;&gt;3 -->\n<g id=\"edge3\" class=\"edge\">\n<title>2&#45;&gt;3</title>\n<path fill=\"none\" stroke=\"black\" d=\"M114.03,-103.73C105.38,-94.79 96.21,-85.32 87.53,-76.36\"/>\n<polygon fill=\"black\" stroke=\"black\" points=\"90.26,-74.14 80.79,-69.39 85.23,-79.01 90.26,-74.14\"/>\n</g>\n<!-- 4 -->\n<g id=\"node5\" class=\"node\">\n<title>4</title>\n<path fill=\"#3e9fe6\" stroke=\"black\" d=\"M203.5,-68C203.5,-68 125.5,-68 125.5,-68 119.5,-68 113.5,-62 113.5,-56 113.5,-56 113.5,-12 113.5,-12 113.5,-6 119.5,0 125.5,0 125.5,0 203.5,0 203.5,0 209.5,0 215.5,-6 215.5,-12 215.5,-12 215.5,-56 215.5,-56 215.5,-62 209.5,-68 203.5,-68\"/>\n<text text-anchor=\"start\" x=\"129\" y=\"-52.8\" font-family=\"Helvetica,sans-Serif\" font-size=\"14.00\">gini = 0.044</text>\n<text text-anchor=\"start\" x=\"123.5\" y=\"-37.8\" font-family=\"Helvetica,sans-Serif\" font-size=\"14.00\">samples = 44</text>\n<text text-anchor=\"start\" x=\"121.5\" y=\"-22.8\" font-family=\"Helvetica,sans-Serif\" font-size=\"14.00\">value = [1, 43]</text>\n<text text-anchor=\"start\" x=\"129.5\" y=\"-7.8\" font-family=\"Helvetica,sans-Serif\" font-size=\"14.00\">class = Yes</text>\n</g>\n<!-- 2&#45;&gt;4 -->\n<g id=\"edge4\" class=\"edge\">\n<title>2&#45;&gt;4</title>\n<path fill=\"none\" stroke=\"black\" d=\"M157.6,-103.73C158.38,-95.88 159.21,-87.63 160.01,-79.67\"/>\n<polygon fill=\"black\" stroke=\"black\" points=\"163.49,-80.11 161,-69.81 156.52,-79.41 163.49,-80.11\"/>\n</g>\n<!-- 6 -->\n<g id=\"node7\" class=\"node\">\n<title>6</title>\n<path fill=\"#eca06a\" stroke=\"black\" d=\"M338,-68C338,-68 267,-68 267,-68 261,-68 255,-62 255,-56 255,-56 255,-12 255,-12 255,-6 261,0 267,0 267,0 338,0 338,0 344,0 350,-6 350,-12 350,-12 350,-56 350,-56 350,-62 344,-68 338,-68\"/>\n<text text-anchor=\"start\" x=\"270.5\" y=\"-52.8\" font-family=\"Helvetica,sans-Serif\" font-size=\"14.00\">gini = 0.32</text>\n<text text-anchor=\"start\" x=\"265\" y=\"-37.8\" font-family=\"Helvetica,sans-Serif\" font-size=\"14.00\">samples = 5</text>\n<text text-anchor=\"start\" x=\"263\" y=\"-22.8\" font-family=\"Helvetica,sans-Serif\" font-size=\"14.00\">value = [4, 1]</text>\n<text text-anchor=\"start\" x=\"270.5\" y=\"-7.8\" font-family=\"Helvetica,sans-Serif\" font-size=\"14.00\">class = No</text>\n</g>\n<!-- 5&#45;&gt;6 -->\n<g id=\"edge6\" class=\"edge\">\n<title>5&#45;&gt;6</title>\n<path fill=\"none\" stroke=\"black\" d=\"M309.4,-103.73C308.62,-95.88 307.79,-87.63 306.99,-79.67\"/>\n<polygon fill=\"black\" stroke=\"black\" points=\"310.48,-79.41 306,-69.81 303.51,-80.11 310.48,-79.41\"/>\n</g>\n<!-- 7 -->\n<g id=\"node8\" class=\"node\">\n<title>7</title>\n<path fill=\"#e58139\" stroke=\"black\" d=\"M458.5,-68C458.5,-68 380.5,-68 380.5,-68 374.5,-68 368.5,-62 368.5,-56 368.5,-56 368.5,-12 368.5,-12 368.5,-6 374.5,0 380.5,0 380.5,0 458.5,0 458.5,0 464.5,0 470.5,-6 470.5,-12 470.5,-12 470.5,-56 470.5,-56 470.5,-62 464.5,-68 458.5,-68\"/>\n<text text-anchor=\"start\" x=\"391.5\" y=\"-52.8\" font-family=\"Helvetica,sans-Serif\" font-size=\"14.00\">gini = 0.0</text>\n<text text-anchor=\"start\" x=\"378.5\" y=\"-37.8\" font-family=\"Helvetica,sans-Serif\" font-size=\"14.00\">samples = 95</text>\n<text text-anchor=\"start\" x=\"376.5\" y=\"-22.8\" font-family=\"Helvetica,sans-Serif\" font-size=\"14.00\">value = [95, 0]</text>\n<text text-anchor=\"start\" x=\"387.5\" y=\"-7.8\" font-family=\"Helvetica,sans-Serif\" font-size=\"14.00\">class = No</text>\n</g>\n<!-- 5&#45;&gt;7 -->\n<g id=\"edge7\" class=\"edge\">\n<title>5&#45;&gt;7</title>\n<path fill=\"none\" stroke=\"black\" d=\"M352.97,-103.73C361.62,-94.79 370.79,-85.32 379.47,-76.36\"/>\n<polygon fill=\"black\" stroke=\"black\" points=\"381.77,-79.01 386.21,-69.39 376.74,-74.14 381.77,-79.01\"/>\n</g>\n<!-- 9 -->\n<g id=\"node10\" class=\"node\">\n<title>9</title>\n<path fill=\"#399de5\" stroke=\"black\" d=\"M490.5,-179.5C490.5,-179.5 404.5,-179.5 404.5,-179.5 398.5,-179.5 392.5,-173.5 392.5,-167.5 392.5,-167.5 392.5,-123.5 392.5,-123.5 392.5,-117.5 398.5,-111.5 404.5,-111.5 404.5,-111.5 490.5,-111.5 490.5,-111.5 496.5,-111.5 502.5,-117.5 502.5,-123.5 502.5,-123.5 502.5,-167.5 502.5,-167.5 502.5,-173.5 496.5,-179.5 490.5,-179.5\"/>\n<text text-anchor=\"start\" x=\"419.5\" y=\"-164.3\" font-family=\"Helvetica,sans-Serif\" font-size=\"14.00\">gini = 0.0</text>\n<text text-anchor=\"start\" x=\"402.5\" y=\"-149.3\" font-family=\"Helvetica,sans-Serif\" font-size=\"14.00\">samples = 161</text>\n<text text-anchor=\"start\" x=\"400.5\" y=\"-134.3\" font-family=\"Helvetica,sans-Serif\" font-size=\"14.00\">value = [0, 161]</text>\n<text text-anchor=\"start\" x=\"412.5\" y=\"-119.3\" font-family=\"Helvetica,sans-Serif\" font-size=\"14.00\">class = Yes</text>\n</g>\n<!-- 8&#45;&gt;9 -->\n<g id=\"edge9\" class=\"edge\">\n<title>8&#45;&gt;9</title>\n<path fill=\"none\" stroke=\"black\" d=\"M448.15,-222.58C448.06,-212.43 447.97,-201.5 447.88,-191.18\"/>\n<polygon fill=\"black\" stroke=\"black\" points=\"451.38,-191.34 447.8,-181.37 444.38,-191.4 451.38,-191.34\"/>\n</g>\n<!-- 10 -->\n<g id=\"node11\" class=\"node\">\n<title>10</title>\n<path fill=\"#f8dcc8\" stroke=\"black\" d=\"M682,-187C682,-187 533,-187 533,-187 527,-187 521,-181 521,-175 521,-175 521,-116 521,-116 521,-110 527,-104 533,-104 533,-104 682,-104 682,-104 688,-104 694,-110 694,-116 694,-116 694,-175 694,-175 694,-181 688,-187 682,-187\"/>\n<text text-anchor=\"start\" x=\"529\" y=\"-171.8\" font-family=\"Helvetica,sans-Serif\" font-size=\"14.00\">spent_last_month ≤ 140.5</text>\n<text text-anchor=\"start\" x=\"572\" y=\"-156.8\" font-family=\"Helvetica,sans-Serif\" font-size=\"14.00\">gini = 0.487</text>\n<text text-anchor=\"start\" x=\"566.5\" y=\"-141.8\" font-family=\"Helvetica,sans-Serif\" font-size=\"14.00\">samples = 43</text>\n<text text-anchor=\"start\" x=\"560.5\" y=\"-126.8\" font-family=\"Helvetica,sans-Serif\" font-size=\"14.00\">value = [25, 18]</text>\n<text text-anchor=\"start\" x=\"575.5\" y=\"-111.8\" font-family=\"Helvetica,sans-Serif\" font-size=\"14.00\">class = No</text>\n</g>\n<!-- 8&#45;&gt;10 -->\n<g id=\"edge10\" class=\"edge\">\n<title>8&#45;&gt;10</title>\n<path fill=\"none\" stroke=\"black\" d=\"M504.11,-222.58C516.58,-213.41 529.91,-203.6 542.71,-194.17\"/>\n<polygon fill=\"black\" stroke=\"black\" points=\"544.72,-197.04 550.7,-188.29 540.57,-191.4 544.72,-197.04\"/>\n</g>\n<!-- 11 -->\n<g id=\"node12\" class=\"node\">\n<title>11</title>\n<path fill=\"#e58139\" stroke=\"black\" d=\"M612.5,-68C612.5,-68 534.5,-68 534.5,-68 528.5,-68 522.5,-62 522.5,-56 522.5,-56 522.5,-12 522.5,-12 522.5,-6 528.5,0 534.5,0 534.5,0 612.5,0 612.5,0 618.5,0 624.5,-6 624.5,-12 624.5,-12 624.5,-56 624.5,-56 624.5,-62 618.5,-68 612.5,-68\"/>\n<text text-anchor=\"start\" x=\"545.5\" y=\"-52.8\" font-family=\"Helvetica,sans-Serif\" font-size=\"14.00\">gini = 0.0</text>\n<text text-anchor=\"start\" x=\"532.5\" y=\"-37.8\" font-family=\"Helvetica,sans-Serif\" font-size=\"14.00\">samples = 25</text>\n<text text-anchor=\"start\" x=\"530.5\" y=\"-22.8\" font-family=\"Helvetica,sans-Serif\" font-size=\"14.00\">value = [25, 0]</text>\n<text text-anchor=\"start\" x=\"541.5\" y=\"-7.8\" font-family=\"Helvetica,sans-Serif\" font-size=\"14.00\">class = No</text>\n</g>\n<!-- 10&#45;&gt;11 -->\n<g id=\"edge11\" class=\"edge\">\n<title>10&#45;&gt;11</title>\n<path fill=\"none\" stroke=\"black\" d=\"M594.84,-103.73C592.35,-95.7 589.72,-87.24 587.2,-79.11\"/>\n<polygon fill=\"black\" stroke=\"black\" points=\"590.6,-78.26 584.29,-69.75 583.91,-80.33 590.6,-78.26\"/>\n</g>\n<!-- 12 -->\n<g id=\"node13\" class=\"node\">\n<title>12</title>\n<path fill=\"#399de5\" stroke=\"black\" d=\"M732.5,-68C732.5,-68 654.5,-68 654.5,-68 648.5,-68 642.5,-62 642.5,-56 642.5,-56 642.5,-12 642.5,-12 642.5,-6 648.5,0 654.5,0 654.5,0 732.5,0 732.5,0 738.5,0 744.5,-6 744.5,-12 744.5,-12 744.5,-56 744.5,-56 744.5,-62 738.5,-68 732.5,-68\"/>\n<text text-anchor=\"start\" x=\"665.5\" y=\"-52.8\" font-family=\"Helvetica,sans-Serif\" font-size=\"14.00\">gini = 0.0</text>\n<text text-anchor=\"start\" x=\"652.5\" y=\"-37.8\" font-family=\"Helvetica,sans-Serif\" font-size=\"14.00\">samples = 18</text>\n<text text-anchor=\"start\" x=\"650.5\" y=\"-22.8\" font-family=\"Helvetica,sans-Serif\" font-size=\"14.00\">value = [0, 18]</text>\n<text text-anchor=\"start\" x=\"658.5\" y=\"-7.8\" font-family=\"Helvetica,sans-Serif\" font-size=\"14.00\">class = Yes</text>\n</g>\n<!-- 10&#45;&gt;12 -->\n<g id=\"edge12\" class=\"edge\">\n<title>10&#45;&gt;12</title>\n<path fill=\"none\" stroke=\"black\" d=\"M639.52,-103.73C646.33,-95.06 653.53,-85.9 660.37,-77.18\"/>\n<polygon fill=\"black\" stroke=\"black\" points=\"662.99,-79.52 666.41,-69.49 657.48,-75.19 662.99,-79.52\"/>\n</g>\n</g>\n</svg>\n",
      "text/plain": [
       "<graphviz.sources.Source at 0x12f6969a0>"
      ]
     },
     "execution_count": 91,
     "metadata": {},
     "output_type": "execute_result"
    }
   ],
   "source": [
    "coffee_treeg2 = tree.export_graphviz(gini_model2, out_file=None, \n",
    "                     feature_names=X_dum.columns,  \n",
    "                     class_names=gini_model2.classes_,\n",
    "                     filled=True, rounded=True,\n",
    "                     special_characters=True)\n",
    "graphg2 = graphviz.Source(coffee_treeg2)\n",
    "graphg2"
   ]
  },
  {
   "cell_type": "code",
   "execution_count": 92,
   "metadata": {},
   "outputs": [
    {
     "name": "stdout",
     "output_type": "stream",
     "text": [
      "Gini impurity model - max depth 3\n",
      "Accuracy: 0.9411764705882353\n",
      "Balanced accuracy: 0.9299679487179487\n",
      "Precision score: 0.9506172839506173\n",
      "Recall score: 0.8974358974358975\n"
     ]
    }
   ],
   "source": [
    "print(\"Gini impurity model - max depth 3\")\n",
    "print(\"Accuracy:\", metrics.accuracy_score(y_test,y_predg2))\n",
    "print(\"Balanced accuracy:\", metrics.balanced_accuracy_score(y_test,y_predg2))\n",
    "print('Precision score:', metrics.precision_score(y_test,y_predg2, pos_label = \"Yes\"))\n",
    "print('Recall score:', metrics.recall_score(y_test,y_predg2, pos_label = \"No\"))\n",
    "\n",
    "#lol man annoying, why is their formatting so inconsitent/sloppy? quotes, spaces, colons, etc! on top of other issues mentioned!"
   ]
  },
  {
   "cell_type": "code",
   "execution_count": 93,
   "metadata": {},
   "outputs": [],
   "source": [
    "#hain??? they don't even say anything about it??? naa before naa after??\n",
    "dot_data = StringIO()\n",
    "\n",
    "#docs: \"The StringIO module is an in-memory file-like object. This object can be used as input or output\n",
    "#to the most function that would expect a standard file object. When the StringIO object is\n",
    "#created it is initialized by passing a string to the constructor. If no string is passed the\n",
    "#StringIO will start empty. In both cases, the initial cursor on the file starts at zero.\"\n",
    "\n",
    "\n",
    "#DID WE EVER EVEN USE THIS?!?"
   ]
  },
  {
   "cell_type": "code",
   "execution_count": null,
   "metadata": {},
   "outputs": [],
   "source": []
  },
  {
   "cell_type": "code",
   "execution_count": 94,
   "metadata": {},
   "outputs": [],
   "source": [
    "#let's see the 'decision surface' plots!\n",
    "#aka the DC scatterplots of each combo of features!\n",
    "\n",
    "# #hmmmm not sure how to do w/ this...\n",
    "\n",
    "# from sklearn.inspection import DecisionBoundaryDisplay\n",
    "\n",
    "# # Parameters\n",
    "# n_classes = 2\n",
    "# plot_colors = \"ryb\"\n",
    "# plot_step = 0.02\n",
    "\n",
    "# for pairidx, pair in enumerate([[0, 1], [0, 2], [0, 3], [1, 2], [1, 3], [2, 3]]):\n",
    "#     # We only take the two corresponding features\n",
    "#     X = coffeeData.data[:, pair]\n",
    "#     y = coffeeData.Decision\n",
    "\n",
    "#     # Train\n",
    "#     gini2_fit = gini_model2.fit(X_train,y_train)\n",
    "\n",
    "#     # Plot the decision boundary\n",
    "#     ax = plt.subplot(2, 3, pairidx + 1)\n",
    "#     plt.tight_layout(h_pad=0.5, w_pad=0.5, pad=2.5)\n",
    "#     DecisionBoundaryDisplay.from_estimator(\n",
    "#         gini2_fit,\n",
    "#         X,\n",
    "#         cmap=plt.cm.RdYlBu,\n",
    "#         response_method=\"predict\",\n",
    "#         ax=ax,\n",
    "#         xlabel=iris.feature_names[pair[0]],\n",
    "#         ylabel=iris.feature_names[pair[1]],\n",
    "#     )\n",
    "\n",
    "#     # Plot the training points\n",
    "#     for i, color in zip(range(n_classes), plot_colors):\n",
    "#         idx = np.where(y == i)\n",
    "#         plt.scatter(\n",
    "#             X[idx, 0],\n",
    "#             X[idx, 1],\n",
    "#             c=color,\n",
    "#             label=iris.target_names[i],\n",
    "#             cmap=plt.cm.RdYlBu,\n",
    "#             edgecolor=\"black\",\n",
    "#             s=15,\n",
    "#         )\n",
    "\n",
    "# #lol \"sup\"title??\n",
    "# plt.suptitle(\"Decision surface of decision trees trained on pairs of features\")\n",
    "# plt.legend(loc=\"lower right\", borderpad=0, handletextpad=0)\n",
    "# _ = plt.axis(\"tight\")"
   ]
  },
  {
   "cell_type": "code",
   "execution_count": null,
   "metadata": {},
   "outputs": [],
   "source": []
  },
  {
   "cell_type": "code",
   "execution_count": 95,
   "metadata": {},
   "outputs": [
    {
     "data": {
      "text/plain": [
       "Yes    0.639241\n",
       "No     0.360759\n",
       "Name: Decision, dtype: float64"
      ]
     },
     "execution_count": 95,
     "metadata": {},
     "output_type": "execute_result"
    }
   ],
   "source": [
    "NOPrediction.Decision.value_counts(normalize=True)"
   ]
  },
  {
   "cell_type": "code",
   "execution_count": 96,
   "metadata": {},
   "outputs": [
    {
     "data": {
      "text/plain": [
       "Yes    0.639241\n",
       "No     0.360759\n",
       "Name: Decision, dtype: float64"
      ]
     },
     "execution_count": 96,
     "metadata": {},
     "output_type": "execute_result"
    }
   ],
   "source": [
    "coffeeData.Decision.value_counts(normalize=True)"
   ]
  },
  {
   "cell_type": "code",
   "execution_count": null,
   "metadata": {},
   "outputs": [],
   "source": []
  },
  {
   "cell_type": "code",
   "execution_count": 97,
   "metadata": {},
   "outputs": [
    {
     "data": {
      "text/html": [
       "<div>\n",
       "<style scoped>\n",
       "    .dataframe tbody tr th:only-of-type {\n",
       "        vertical-align: middle;\n",
       "    }\n",
       "\n",
       "    .dataframe tbody tr th {\n",
       "        vertical-align: top;\n",
       "    }\n",
       "\n",
       "    .dataframe thead th {\n",
       "        text-align: right;\n",
       "    }\n",
       "</style>\n",
       "<table border=\"1\" class=\"dataframe\">\n",
       "  <thead>\n",
       "    <tr style=\"text-align: right;\">\n",
       "      <th></th>\n",
       "      <th>Age</th>\n",
       "      <th>num_coffeeBags_per_year</th>\n",
       "      <th>spent_last_week</th>\n",
       "      <th>spent_last_month</th>\n",
       "      <th>salary</th>\n",
       "      <th>Distance</th>\n",
       "      <th>Online_1</th>\n",
       "      <th>Gender_Male</th>\n",
       "    </tr>\n",
       "  </thead>\n",
       "  <tbody>\n",
       "    <tr>\n",
       "      <th>1</th>\n",
       "      <td>24</td>\n",
       "      <td>0</td>\n",
       "      <td>44</td>\n",
       "      <td>164</td>\n",
       "      <td>74035</td>\n",
       "      <td>0.520906</td>\n",
       "      <td>0</td>\n",
       "      <td>1</td>\n",
       "    </tr>\n",
       "    <tr>\n",
       "      <th>3</th>\n",
       "      <td>20</td>\n",
       "      <td>0</td>\n",
       "      <td>30</td>\n",
       "      <td>107</td>\n",
       "      <td>13166</td>\n",
       "      <td>0.932098</td>\n",
       "      <td>1</td>\n",
       "      <td>1</td>\n",
       "    </tr>\n",
       "    <tr>\n",
       "      <th>7</th>\n",
       "      <td>24</td>\n",
       "      <td>0</td>\n",
       "      <td>20</td>\n",
       "      <td>34</td>\n",
       "      <td>17425</td>\n",
       "      <td>1.193188</td>\n",
       "      <td>0</td>\n",
       "      <td>0</td>\n",
       "    </tr>\n",
       "    <tr>\n",
       "      <th>11</th>\n",
       "      <td>24</td>\n",
       "      <td>0</td>\n",
       "      <td>40</td>\n",
       "      <td>153</td>\n",
       "      <td>84803</td>\n",
       "      <td>1.655096</td>\n",
       "      <td>1</td>\n",
       "      <td>0</td>\n",
       "    </tr>\n",
       "    <tr>\n",
       "      <th>12</th>\n",
       "      <td>21</td>\n",
       "      <td>0</td>\n",
       "      <td>38</td>\n",
       "      <td>122</td>\n",
       "      <td>42338</td>\n",
       "      <td>1.714179</td>\n",
       "      <td>1</td>\n",
       "      <td>0</td>\n",
       "    </tr>\n",
       "    <tr>\n",
       "      <th>...</th>\n",
       "      <td>...</td>\n",
       "      <td>...</td>\n",
       "      <td>...</td>\n",
       "      <td>...</td>\n",
       "      <td>...</td>\n",
       "      <td>...</td>\n",
       "      <td>...</td>\n",
       "      <td>...</td>\n",
       "    </tr>\n",
       "    <tr>\n",
       "      <th>673</th>\n",
       "      <td>66</td>\n",
       "      <td>5</td>\n",
       "      <td>0</td>\n",
       "      <td>52</td>\n",
       "      <td>55227</td>\n",
       "      <td>5.984716</td>\n",
       "      <td>0</td>\n",
       "      <td>0</td>\n",
       "    </tr>\n",
       "    <tr>\n",
       "      <th>677</th>\n",
       "      <td>67</td>\n",
       "      <td>5</td>\n",
       "      <td>41</td>\n",
       "      <td>151</td>\n",
       "      <td>182058</td>\n",
       "      <td>6.288700</td>\n",
       "      <td>1</td>\n",
       "      <td>1</td>\n",
       "    </tr>\n",
       "    <tr>\n",
       "      <th>680</th>\n",
       "      <td>24</td>\n",
       "      <td>5</td>\n",
       "      <td>62</td>\n",
       "      <td>205</td>\n",
       "      <td>55772</td>\n",
       "      <td>6.583449</td>\n",
       "      <td>1</td>\n",
       "      <td>0</td>\n",
       "    </tr>\n",
       "    <tr>\n",
       "      <th>682</th>\n",
       "      <td>33</td>\n",
       "      <td>5</td>\n",
       "      <td>34</td>\n",
       "      <td>96</td>\n",
       "      <td>78058</td>\n",
       "      <td>6.723241</td>\n",
       "      <td>0</td>\n",
       "      <td>0</td>\n",
       "    </tr>\n",
       "    <tr>\n",
       "      <th>700</th>\n",
       "      <td>20</td>\n",
       "      <td>5</td>\n",
       "      <td>41</td>\n",
       "      <td>159</td>\n",
       "      <td>12522</td>\n",
       "      <td>10.871566</td>\n",
       "      <td>0</td>\n",
       "      <td>0</td>\n",
       "    </tr>\n",
       "  </tbody>\n",
       "</table>\n",
       "<p>228 rows × 8 columns</p>\n",
       "</div>"
      ],
      "text/plain": [
       "     Age  num_coffeeBags_per_year  spent_last_week  spent_last_month  salary  \\\n",
       "1     24                        0               44               164   74035   \n",
       "3     20                        0               30               107   13166   \n",
       "7     24                        0               20                34   17425   \n",
       "11    24                        0               40               153   84803   \n",
       "12    21                        0               38               122   42338   \n",
       "..   ...                      ...              ...               ...     ...   \n",
       "673   66                        5                0                52   55227   \n",
       "677   67                        5               41               151  182058   \n",
       "680   24                        5               62               205   55772   \n",
       "682   33                        5               34                96   78058   \n",
       "700   20                        5               41               159   12522   \n",
       "\n",
       "      Distance  Online_1  Gender_Male  \n",
       "1     0.520906         0            1  \n",
       "3     0.932098         1            1  \n",
       "7     1.193188         0            0  \n",
       "11    1.655096         1            0  \n",
       "12    1.714179         1            0  \n",
       "..         ...       ...          ...  \n",
       "673   5.984716         0            0  \n",
       "677   6.288700         1            1  \n",
       "680   6.583449         1            0  \n",
       "682   6.723241         0            0  \n",
       "700  10.871566         0            0  \n",
       "\n",
       "[228 rows x 8 columns]"
      ]
     },
     "execution_count": 97,
     "metadata": {},
     "output_type": "execute_result"
    }
   ],
   "source": [
    "features_cols = features\n",
    "new_X = Prediction.drop('Decision',axis=1) #we did the same thing w/ NOPrediction when we made X!\n",
    "new_X = pd.get_dummies(new_X,columns=binary_features,drop_first=True)\n",
    "\n",
    "new_X"
   ]
  },
  {
   "cell_type": "code",
   "execution_count": 98,
   "metadata": {},
   "outputs": [
    {
     "data": {
      "text/plain": [
       "Yes    177\n",
       "No      51\n",
       "Name: potential_buyers, dtype: int64"
      ]
     },
     "execution_count": 98,
     "metadata": {},
     "output_type": "execute_result"
    }
   ],
   "source": [
    "#using our supposed 'best' model to predict the unknowns so we can tally up the\n",
    "#ENTIRE voting percentage for indication of YES will buy the new coffee if they get it!\n",
    "new_X['potential_buyers'] = gini_model2.predict(new_X)\n",
    "new_X.potential_buyers.value_counts()"
   ]
  },
  {
   "cell_type": "code",
   "execution_count": 99,
   "metadata": {},
   "outputs": [
    {
     "data": {
      "text/plain": [
       "Yes    480\n",
       "No     222\n",
       "dtype: int64"
      ]
     },
     "execution_count": 99,
     "metadata": {},
     "output_type": "execute_result"
    }
   ],
   "source": [
    "#let's put it all together!\n",
    "\n",
    "new_X.potential_buyers.value_counts() + NOPrediction.Decision.value_counts()"
   ]
  },
  {
   "cell_type": "code",
   "execution_count": 100,
   "metadata": {},
   "outputs": [
    {
     "data": {
      "text/plain": [
       "Yes    303\n",
       "No     171\n",
       "Name: Decision, dtype: int64"
      ]
     },
     "execution_count": 100,
     "metadata": {},
     "output_type": "execute_result"
    }
   ],
   "source": [
    "NOPrediction.Decision.value_counts()"
   ]
  },
  {
   "cell_type": "code",
   "execution_count": 101,
   "metadata": {},
   "outputs": [
    {
     "data": {
      "text/plain": [
       "Yes    0.683761\n",
       "No     0.316239\n",
       "dtype: float64"
      ]
     },
     "execution_count": 101,
     "metadata": {},
     "output_type": "execute_result"
    }
   ],
   "source": [
    "( new_X.potential_buyers.value_counts() + NOPrediction.Decision.value_counts() ) / len(coffeeData)"
   ]
  },
  {
   "cell_type": "code",
   "execution_count": 102,
   "metadata": {},
   "outputs": [],
   "source": [
    "#ohhhhhh shrimp! just under 70!!!!! what ever will they do!?!?!?"
   ]
  },
  {
   "cell_type": "code",
   "execution_count": 103,
   "metadata": {},
   "outputs": [
    {
     "data": {
      "text/plain": [
       "0.6837606837606838"
      ]
     },
     "execution_count": 103,
     "metadata": {},
     "output_type": "execute_result"
    }
   ],
   "source": [
    "#another way\n",
    "( sum(new_X.potential_buyers == 'Yes') + sum(NOPrediction.Decision == 'Yes' )) / len(coffeeData)"
   ]
  },
  {
   "cell_type": "code",
   "execution_count": 104,
   "metadata": {},
   "outputs": [
    {
     "ename": "TypeError",
     "evalue": "unique() got an unexpected keyword argument 'return_counts'",
     "output_type": "error",
     "traceback": [
      "\u001b[0;31m---------------------------------------------------------------------------\u001b[0m",
      "\u001b[0;31mTypeError\u001b[0m                                 Traceback (most recent call last)",
      "\u001b[0;32m/var/folders/cr/9gwdd0wn43d9d1db4xfhyvpc0000gn/T/ipykernel_96680/3658325776.py\u001b[0m in \u001b[0;36m<module>\u001b[0;34m\u001b[0m\n\u001b[1;32m      1\u001b[0m \u001b[0;31m#this is what they said to do but didn't work??\u001b[0m\u001b[0;34m\u001b[0m\u001b[0;34m\u001b[0m\u001b[0;34m\u001b[0m\u001b[0m\n\u001b[0;32m----> 2\u001b[0;31m \u001b[0mnew_X\u001b[0m\u001b[0;34m.\u001b[0m\u001b[0mpotential_buyers\u001b[0m\u001b[0;34m.\u001b[0m\u001b[0munique\u001b[0m\u001b[0;34m(\u001b[0m\u001b[0mreturn_counts\u001b[0m\u001b[0;34m=\u001b[0m\u001b[0;32mTrue\u001b[0m\u001b[0;34m)\u001b[0m\u001b[0;34m\u001b[0m\u001b[0;34m\u001b[0m\u001b[0m\n\u001b[0m\u001b[1;32m      3\u001b[0m \u001b[0;31m#weird... online it does confirm return counts is an arg... but doesn't recognize here...\u001b[0m\u001b[0;34m\u001b[0m\u001b[0;34m\u001b[0m\u001b[0;34m\u001b[0m\u001b[0m\n\u001b[1;32m      4\u001b[0m \u001b[0;31m#tried [''] column ref way too, same thing. also tried as .values but then says\u001b[0m\u001b[0;34m\u001b[0m\u001b[0;34m\u001b[0m\u001b[0;34m\u001b[0m\u001b[0m\n\u001b[1;32m      5\u001b[0m \u001b[0;31m#numpy.ndarray object has no attribute unique!!!\u001b[0m\u001b[0;34m\u001b[0m\u001b[0;34m\u001b[0m\u001b[0;34m\u001b[0m\u001b[0m\n",
      "\u001b[0;31mTypeError\u001b[0m: unique() got an unexpected keyword argument 'return_counts'"
     ]
    }
   ],
   "source": [
    "#this is what they said to do but didn't work??\n",
    "new_X.potential_buyers.unique(return_counts=True)\n",
    "#weird... online it does confirm return counts is an arg... but doesn't recognize here...\n",
    "#tried [''] column ref way too, same thing. also tried as .values but then says\n",
    "#numpy.ndarray object has no attribute unique!!!"
   ]
  },
  {
   "cell_type": "code",
   "execution_count": 105,
   "metadata": {},
   "outputs": [
    {
     "data": {
      "text/plain": [
       "array(['Yes', 'No'], dtype=object)"
      ]
     },
     "execution_count": 105,
     "metadata": {},
     "output_type": "execute_result"
    }
   ],
   "source": [
    "new_X.potential_buyers.unique()"
   ]
  },
  {
   "cell_type": "code",
   "execution_count": 106,
   "metadata": {},
   "outputs": [
    {
     "data": {
      "text/plain": [
       "'68.38% of customers want to buy Hidden Farm coffee, according to our best model.'"
      ]
     },
     "execution_count": 106,
     "metadata": {},
     "output_type": "execute_result"
    }
   ],
   "source": [
    "# Print the percentage of people who want to buy the Hidden Farm coffee, by our model \n",
    "rate = ( sum(new_X.potential_buyers == 'Yes') + sum(NOPrediction.Decision == 'Yes' )) / len(coffeeData)\n",
    "pct = rate*100\n",
    "\"{:.2f}% of customers want to buy Hidden Farm coffee, according to our best model.\".format(pct)"
   ]
  },
  {
   "cell_type": "code",
   "execution_count": null,
   "metadata": {},
   "outputs": [],
   "source": []
  },
  {
   "cell_type": "code",
   "execution_count": 107,
   "metadata": {},
   "outputs": [],
   "source": [
    "#decision trees tell you about each INDIVIDUAL case\n",
    "\n",
    "#but we technically ALREADY MADE a decision tree lol for ourselves! for this - if >70% say yes -\n",
    "#actual and predicted - then STRIKE THE DEAL!! if less/equal, THEN NO DEAL!!!!!!"
   ]
  },
  {
   "cell_type": "code",
   "execution_count": 108,
   "metadata": {},
   "outputs": [],
   "source": [
    "#but wait - so it's not like a marble drop down the shutes & ladders... like for a GIVEN decision\n",
    "#tree, and a GIVEN set of test data, it IS deterministic no?? like it's got a HARD, DEFINED set of\n",
    "#rules right so it MUST give the SAME answers every time!!!????\n",
    "################################################################################################"
   ]
  },
  {
   "cell_type": "code",
   "execution_count": 109,
   "metadata": {},
   "outputs": [],
   "source": [
    "#so let's do random forest aka an ensemble method and average a BUNCH of different overfit models?!\n",
    "#let's see what AVERAGE percentage we get from SEVERAL models!! then we can much more confidently\n",
    "#make a hard decision from THAT average of MANY models/simulations!!! rather than putting all our eggs\n",
    "#in one basket!"
   ]
  },
  {
   "cell_type": "code",
   "execution_count": 110,
   "metadata": {},
   "outputs": [
    {
     "data": {
      "text/html": [
       "<div>\n",
       "<style scoped>\n",
       "    .dataframe tbody tr th:only-of-type {\n",
       "        vertical-align: middle;\n",
       "    }\n",
       "\n",
       "    .dataframe tbody tr th {\n",
       "        vertical-align: top;\n",
       "    }\n",
       "\n",
       "    .dataframe thead th {\n",
       "        text-align: right;\n",
       "    }\n",
       "</style>\n",
       "<table border=\"1\" class=\"dataframe\">\n",
       "  <thead>\n",
       "    <tr style=\"text-align: right;\">\n",
       "      <th></th>\n",
       "      <th>Age</th>\n",
       "      <th>num_coffeeBags_per_year</th>\n",
       "      <th>spent_last_week</th>\n",
       "      <th>spent_last_month</th>\n",
       "      <th>salary</th>\n",
       "      <th>Distance</th>\n",
       "      <th>Online_1</th>\n",
       "      <th>Gender_Male</th>\n",
       "    </tr>\n",
       "  </thead>\n",
       "  <tbody>\n",
       "    <tr>\n",
       "      <th>450</th>\n",
       "      <td>25</td>\n",
       "      <td>3</td>\n",
       "      <td>54</td>\n",
       "      <td>170</td>\n",
       "      <td>51644</td>\n",
       "      <td>10.873763</td>\n",
       "      <td>1</td>\n",
       "      <td>1</td>\n",
       "    </tr>\n",
       "    <tr>\n",
       "      <th>129</th>\n",
       "      <td>23</td>\n",
       "      <td>1</td>\n",
       "      <td>21</td>\n",
       "      <td>51</td>\n",
       "      <td>80144</td>\n",
       "      <td>4.990330</td>\n",
       "      <td>1</td>\n",
       "      <td>1</td>\n",
       "    </tr>\n",
       "    <tr>\n",
       "      <th>565</th>\n",
       "      <td>59</td>\n",
       "      <td>4</td>\n",
       "      <td>30</td>\n",
       "      <td>112</td>\n",
       "      <td>69515</td>\n",
       "      <td>9.409150</td>\n",
       "      <td>1</td>\n",
       "      <td>1</td>\n",
       "    </tr>\n",
       "    <tr>\n",
       "      <th>341</th>\n",
       "      <td>16</td>\n",
       "      <td>3</td>\n",
       "      <td>31</td>\n",
       "      <td>70</td>\n",
       "      <td>3526</td>\n",
       "      <td>1.125406</td>\n",
       "      <td>1</td>\n",
       "      <td>0</td>\n",
       "    </tr>\n",
       "    <tr>\n",
       "      <th>523</th>\n",
       "      <td>23</td>\n",
       "      <td>4</td>\n",
       "      <td>41</td>\n",
       "      <td>148</td>\n",
       "      <td>59993</td>\n",
       "      <td>4.815908</td>\n",
       "      <td>1</td>\n",
       "      <td>0</td>\n",
       "    </tr>\n",
       "    <tr>\n",
       "      <th>...</th>\n",
       "      <td>...</td>\n",
       "      <td>...</td>\n",
       "      <td>...</td>\n",
       "      <td>...</td>\n",
       "      <td>...</td>\n",
       "      <td>...</td>\n",
       "      <td>...</td>\n",
       "      <td>...</td>\n",
       "    </tr>\n",
       "    <tr>\n",
       "      <th>193</th>\n",
       "      <td>35</td>\n",
       "      <td>1</td>\n",
       "      <td>0</td>\n",
       "      <td>41</td>\n",
       "      <td>16288</td>\n",
       "      <td>10.694807</td>\n",
       "      <td>0</td>\n",
       "      <td>0</td>\n",
       "    </tr>\n",
       "    <tr>\n",
       "      <th>101</th>\n",
       "      <td>54</td>\n",
       "      <td>1</td>\n",
       "      <td>51</td>\n",
       "      <td>165</td>\n",
       "      <td>56572</td>\n",
       "      <td>3.005885</td>\n",
       "      <td>0</td>\n",
       "      <td>0</td>\n",
       "    </tr>\n",
       "    <tr>\n",
       "      <th>307</th>\n",
       "      <td>53</td>\n",
       "      <td>2</td>\n",
       "      <td>39</td>\n",
       "      <td>129</td>\n",
       "      <td>44192</td>\n",
       "      <td>9.186539</td>\n",
       "      <td>0</td>\n",
       "      <td>1</td>\n",
       "    </tr>\n",
       "    <tr>\n",
       "      <th>568</th>\n",
       "      <td>40</td>\n",
       "      <td>4</td>\n",
       "      <td>25</td>\n",
       "      <td>95</td>\n",
       "      <td>71606</td>\n",
       "      <td>9.728074</td>\n",
       "      <td>0</td>\n",
       "      <td>0</td>\n",
       "    </tr>\n",
       "    <tr>\n",
       "      <th>34</th>\n",
       "      <td>31</td>\n",
       "      <td>0</td>\n",
       "      <td>19</td>\n",
       "      <td>35</td>\n",
       "      <td>16435</td>\n",
       "      <td>5.944409</td>\n",
       "      <td>1</td>\n",
       "      <td>1</td>\n",
       "    </tr>\n",
       "  </tbody>\n",
       "</table>\n",
       "<p>355 rows × 8 columns</p>\n",
       "</div>"
      ],
      "text/plain": [
       "     Age  num_coffeeBags_per_year  spent_last_week  spent_last_month  salary  \\\n",
       "450   25                        3               54               170   51644   \n",
       "129   23                        1               21                51   80144   \n",
       "565   59                        4               30               112   69515   \n",
       "341   16                        3               31                70    3526   \n",
       "523   23                        4               41               148   59993   \n",
       "..   ...                      ...              ...               ...     ...   \n",
       "193   35                        1                0                41   16288   \n",
       "101   54                        1               51               165   56572   \n",
       "307   53                        2               39               129   44192   \n",
       "568   40                        4               25                95   71606   \n",
       "34    31                        0               19                35   16435   \n",
       "\n",
       "      Distance  Online_1  Gender_Male  \n",
       "450  10.873763         1            1  \n",
       "129   4.990330         1            1  \n",
       "565   9.409150         1            1  \n",
       "341   1.125406         1            0  \n",
       "523   4.815908         1            0  \n",
       "..         ...       ...          ...  \n",
       "193  10.694807         0            0  \n",
       "101   3.005885         0            0  \n",
       "307   9.186539         0            1  \n",
       "568   9.728074         0            0  \n",
       "34    5.944409         1            1  \n",
       "\n",
       "[355 rows x 8 columns]"
      ]
     },
     "execution_count": 110,
     "metadata": {},
     "output_type": "execute_result"
    }
   ],
   "source": [
    "#reminder\n",
    "X_train"
   ]
  },
  {
   "cell_type": "code",
   "execution_count": 111,
   "metadata": {},
   "outputs": [
    {
     "data": {
      "text/plain": [
       "0.6951566951566952"
      ]
     },
     "execution_count": 111,
     "metadata": {},
     "output_type": "execute_result"
    }
   ],
   "source": [
    "firstRFModel = RandomForestClassifier(max_depth=3,random_state=33) #default gini\n",
    "firstRFModel.fit(X_train,y_train)\n",
    "new_X_rf = new_X.drop('potential_buyers',axis=1)\n",
    "new_X_rf['potential_buyers_rf'] = firstRFModel.predict(new_X_rf)\n",
    "( sum(new_X_rf.potential_buyers_rf == 'Yes') + sum(NOPrediction.Decision == 'Yes' )) / len(coffeeData)\n",
    "\n",
    "#wait just realized - why random state for the model? we didn't do that before\n",
    "#w/ any of the other models???\n",
    "#OHHH! CUZ *RANDOM* FOREST RIGHT!!! LOL! so w/ random forest, it's doing like\n",
    "#bootstrapping so it's gonna be different every time!!! so if you save the random\n",
    "#state then it can REPLICATE those results!!!\n",
    "####################################################################################\n",
    "#ohh wait! also just realized tho - i thought the idea in random forest WAS for us\n",
    "#to like perfectly overfit since we're gonna be bootstrapping & averaging!?!\n",
    "#so then why put a max depth??? i guess then we DON'T wanna perfectly overfit??\n",
    "#but rather still do what we'd do on a normal, SINGLE decision tree??\n",
    "####################################################################################"
   ]
  },
  {
   "cell_type": "code",
   "execution_count": 112,
   "metadata": {},
   "outputs": [],
   "source": [
    "#lol owh KAAAAAMMMMMM AANNNNNNN!!!!!"
   ]
  },
  {
   "cell_type": "code",
   "execution_count": 113,
   "metadata": {},
   "outputs": [
    {
     "data": {
      "text/plain": [
       "Yes    185\n",
       "No      43\n",
       "Name: potential_buyers_rf, dtype: int64"
      ]
     },
     "execution_count": 113,
     "metadata": {},
     "output_type": "execute_result"
    }
   ],
   "source": [
    "#let's see how many more were predicted as yessirs!\n",
    "new_X_rf.potential_buyers_rf.value_counts()\n",
    "#JUST 5 MORE!!!"
   ]
  },
  {
   "cell_type": "code",
   "execution_count": 114,
   "metadata": {},
   "outputs": [],
   "source": [
    "#and i guess there's no like SINGLE tree then ofc we can view cuz it's a FOREST\n",
    "\n",
    "#BUT HOW DOES IT COME UP WITH THE INDIVIDUAL TREES??? LIKE IS IT DOING A KIND OF 'kFold\n",
    "#Cross-Validation'??? where it breaks it up into several different subsets (aka NO OVERLAP)?\n",
    "#OR WAIT NO! that would only do a few. i mean we could do that if we're comparing like dif\n",
    "#models like gini vs entropy2 etc, but this remem does all ONE way/method! so this must do what\n",
    "#we learned in the video of BOOTSTRAPPING!!!!! so it overfits each INDIVIDUAL one and then AVERAGES\n",
    "#THEM OUT! to get a very accurate predictor!\n",
    "\n",
    "#is there any way to see these individual trees? i guess it'd be too many\n",
    "\n",
    "#and how many trees is it making for this forest??\n",
    "\n",
    "\n",
    "##################################################################################################"
   ]
  },
  {
   "cell_type": "code",
   "execution_count": 115,
   "metadata": {},
   "outputs": [
    {
     "data": {
      "text/plain": [
       "0.9159663865546218"
      ]
     },
     "execution_count": 115,
     "metadata": {},
     "output_type": "execute_result"
    }
   ],
   "source": [
    "#oh wait! but what's our score of this rf predictor??\n",
    "\n",
    "firstRFModel.score(X_test,y_test)"
   ]
  },
  {
   "cell_type": "code",
   "execution_count": 116,
   "metadata": {},
   "outputs": [],
   "source": [
    "#ummm.... they made it sound like this would be 1000% accuracy... lol... again, the first / simplest one did best!..."
   ]
  },
  {
   "cell_type": "code",
   "execution_count": null,
   "metadata": {},
   "outputs": [],
   "source": []
  },
  {
   "cell_type": "code",
   "execution_count": null,
   "metadata": {},
   "outputs": [],
   "source": [
    "#All In One\n",
    "import pandas as pd\n",
    "import numpy as np\n",
    "from sklearn import tree, metrics\n",
    "from sklearn.model_selection import train_test_split\n",
    "import seaborn as sns\n",
    "import matplotlib.pyplot as plt\n",
    "from io import StringIO  \n",
    "from IPython.display import Image\n",
    "import pydotplus\n",
    "from sklearn.tree import DecisionTreeClassifier\n",
    "from sklearn import tree\n",
    "import graphviz\n",
    "from sklearn.tree import export_text\n",
    "from sklearn.inspection import DecisionBoundaryDisplay\n",
    "from sklearn.ensemble import RandomForestClassifier\n",
    "from sklearn.datasets import make_classification\n",
    "coffeeData = pd.read_csv('data/RRDinerCoffeeData.csv')\n",
    "coffeeData.head()\n",
    "coffeeData.shape\n",
    "coffeeData.info()\n",
    "coffeeData.describe()\n",
    "coffeeData.columns\n",
    "coffeeData.columns=['Age', 'Gender', 'num_coffeeBags_per_year', 'spent_last_week', 'spent_last_month',\n",
    "       'salary', 'Distance', 'Online', 'Decision']\n",
    "coffeeData.head()\n",
    "coffeeData.columns\n",
    "coffeeData.Gender.value_counts()\n",
    "coffeeData.Gender.unique()\n",
    "mapping={'female':'Female', 'F':'Female', 'f ':'Female', 'FEMALE':'Female', 'MALE':'Male', 'male':'Male',\n",
    "       'M':'Male'}\n",
    "\n",
    "coffeeData.Gender = coffeeData.Gender.replace(mapping)\n",
    "coffeeData.Gender.unique()\n",
    "coffeeData.Decision.value_counts()\n",
    "coffeeData.Decision.unique()\n",
    "mapping = {1:'Yes', 0:'No'}\n",
    "coffeeData.Decision = coffeeData.Decision.replace(mapping)\n",
    "coffeeData.Decision.value_counts()\n",
    "coffeeData.Decision.unique()\n",
    "NOPrediction = coffeeData.dropna()\n",
    "NOPrediction.Decision.unique()\n",
    "coffeeData.Decision.unique()\n",
    "NOPrediction.info()\n",
    "coffeeData.Decision.isnull().sum()\n",
    "len(coffeeData)-coffeeData.Decision.value_counts().sum()\n",
    "coffeeData.Decision.value_counts().sum()\n",
    "NOPrediction.columns\n",
    "features=['Age', 'Gender', 'num_coffeeBags_per_year', 'spent_last_week',\n",
    "       'spent_last_month', 'salary', 'Distance', 'Online']\n",
    "pali = ['g','r']\n",
    "\n",
    "features_cont=['Age', 'num_coffeeBags_per_year', 'spent_last_week',\n",
    "       'spent_last_month', 'salary', 'Distance']\n",
    "\n",
    "for feature in features_cont:\n",
    "    sns.boxplot(data=NOPrediction, x='Decision', y=feature, hue='Decision', palette=pali)\n",
    "    plt.show();\n",
    "NOPrediction.Gender.value_counts(normalize=True)\n",
    "NOPrediction.Decision.value_counts(normalize=True)\n",
    "coffeeData.Decision.value_counts(normalize=True)\n",
    "set(features) - set(features_cont)\n",
    "type(set(features) - set(features_cont))\n",
    "list(set(features) - set(features_cont))\n",
    "#won't work here! only for dicts? #although ironic cuz output of SET is curly braces so LOOKS like a dict!!\n",
    "features.difference(features_cont)\n",
    "NOPrediction.columns\n",
    "#OH! and then we can show the BINARY ones w/ a diff way! simple bar charts!\n",
    "\n",
    "binary_features = list(set(features) - set(features_cont))\n",
    "\n",
    "for binary_feature in binary_features:\n",
    "    sns.countplot(data=NOPrediction,x=binary_feature, hue='Decision', palette=pali)\n",
    "    plt.show()\n",
    "\n",
    "#NOTE!!!! when X *IS* decision then we DON'T NEED HUE!!! just put in palette!!!\n",
    "#BUT THEN THE ONLY DIFF IS YOU WON'T GET THAT NICE *LEGEND*!!!!\n",
    "Prediction = coffeeData[coffeeData['Decision'].isnull()]\n",
    "Prediction\n",
    "X = NOPrediction.drop('Decision',axis=1)\n",
    "y = NOPrediction.Decision\n",
    "X\n",
    "y\n",
    "#keeping X's separate from y's since need it like that for train/test split!\n",
    "X_dum = pd.get_dummies(X, columns = binary_features, drop_first=True)\n",
    "\n",
    "X_dum\n",
    "#we could've just converted Online to string yes/no too like we did with Decision,\n",
    "#then it would've AUTOMATICALLY DETECTED IT and we could've left columns blank!\n",
    "#gender is already fine cuz string!\n",
    "#OR - since these are BOTH binary anyway, the other option is make them BOTH numerical\n",
    "#binary 0/1, so Online already is, so could've converted male/female to 1/0 too!\n",
    "#then wouldn't have to dummify???\n",
    "#################################################\n",
    "X_train, X_test, y_train, y_test = train_test_split(X_dum, y, random_state=33)\n",
    "X_train\n",
    "y_train\n",
    "X_train.shape\n",
    "NOPrediction.describe()\n",
    "Prediction.describe()\n",
    "#oh! notice gender is missing cuz it's *TEXT* AND NOT NUMERICAL!\n",
    "###############################################################################################\n",
    "sns.boxplot(data=NOPrediction, x='Decision', y='spent_last_week', hue='Decision', palette=pali);\n",
    "sns.scatterplot(data=NOPrediction, x='Distance', y='spent_last_month', hue='Decision', palette=pali);\n",
    "features_focus=['spent_last_month', 'Distance', 'Age', 'salary']\n",
    "\n",
    "for feature in features_focus:\n",
    "    sns.boxplot(data=NOPrediction, x='Decision', y=feature, hue='Decision', palette=pali)\n",
    "    plt.show();\n",
    "X_train[y_train=='No'].spent_last_month.max()\n",
    "X_train[y_train=='Yes'].spent_last_month.median()\n",
    "#do another one for IQRs!!!\n",
    "####keep in mind that there's the OVERALL data, but then there's the TRAINING ONLY\n",
    "#data that our model is gonna see and fit on, perfectly in fact in unrestrained /\n",
    "#no max depth editions! thus, don't take the cuts/cutmarks TOO literally when you look\n",
    "#at the decision tree cuz it DEPENDS WHAT POINTS *TRAINING* SPLIT GOT!!!!!!\n",
    "#you can look at the boxplots & scatts of those separately if you want!\n",
    "#here's a start:\n",
    "# trainers = X_train.copy()\n",
    "# trainers['Decision']=y_train\n",
    "# trainers.head()\n",
    "# sns.boxplot(data=trainers, x='Decision', y='Distance', hue='Decision', palette=pali);\n",
    "#more scatts!\n",
    "sns.scatterplot(data=NOPrediction, x='spent_last_week', y='spent_last_month', hue='Decision', palette=pali);\n",
    "#ahhhh interesting! so yeah, like we said, THESE TWO ARE PROBABLY/EXPECTEDLY\n",
    "#HIGHLY CORRELATED!!! if you spent more last week, you probably spent more\n",
    "#last MONTH! in some cases, last week WAS last month LOL!\n",
    "#the separation you see is like the same you see in either ONE of them\n",
    "#individually! aka the more you spent, the more likely you were to indicate Yes!\n",
    "sns.scatterplot(data=NOPrediction, x='Age', y='spent_last_month', hue='Decision', palette=pali);\n",
    "#hmm interesting! it's like an upside down 'L' shape! like square within a square!\n",
    "#<age 23 & >$138 spent last month said Yes!!!\n",
    "sns.scatterplot(data=NOPrediction, x='Age', y='Distance', hue='Decision', palette=pali);\n",
    "#hmm interesting! like another L shape, but actually, mostly just the lower\n",
    "#left block said yes! you can box that up w/ only a few exceptions!\n",
    "#young & close!!!\n",
    "#the youngest ALL said yes, and the closest ALMOST all said yes!!!\n",
    "############################################################################\n",
    "sns.scatterplot(data=NOPrediction, x='salary', y='spent_last_month', hue='Decision', palette=pali);\n",
    "#okay so another 'L', the PISTOL FIGURE!!! so, from bottom left/origin,\n",
    "#like angling up and right, then SHARP right turn lol, so basically, ENTIRE TOP block,\n",
    "#without exception, so >$138 spent, *ALL* income brackets, regardless of how rich\n",
    "#or poor, said yes! ppl are mostly in the 25k to 80k range to begin with;\n",
    "#and then beneath that spenditure, interestingly it's the ones who make the LEAST\n",
    "#that said yes!!! makes sense tho that the less they make, the less they tend\n",
    "#to spend. lot of mixing, but the LOWEST earners said yes REGARDLESS OF HOW\n",
    "#MUCH THEY SPENT! seems a little strange that even those who didn't spend anything\n",
    "#in the last month were saying they would - but it was a mix; but as expected,\n",
    "#it was more common to say NO then yes for the low SPENDERS, but perhaps\n",
    "#more common to say yes than no for low EARNERS!!! but yeah, interestingly the\n",
    "#LOWEST spenders said yes!? too happy-go-lucky lol\n",
    "sns.scatterplot(data=NOPrediction, x='salary', y='Distance', hue='Decision', palette=pali);\n",
    "#okay cool - pretty good division! NE/SW line! would have to do a pixely\n",
    "#jagged back n forth chisel, up/right up/right lol TO BE UPRIGHT! upward & onward\n",
    "#but everyone >$85k salary, without exception, said yes. and then that block/box\n",
    "#to low-left of that line, like down to $35k salary and up to 4.1miles distance!\n",
    "from sklearn.tree import DecisionTreeClassifier\n",
    "entr_model = DecisionTreeClassifier(criterion='entropy')\n",
    "#max_depth default is None which is what we want!\n",
    "\n",
    "# Call fit() on entr_model\n",
    "entr_model.fit(X_train,y_train)\n",
    "\n",
    "# Call predict() on entr_model with X_test passed to it, and assign the result to a variable y_pred \n",
    "y_pred = entr_model.predict(X_test)\n",
    "\n",
    "# See how we did\n",
    "entr_model.score(X_test,y_test)\n",
    "entr_model.score(X_train,y_train)\n",
    "#####################################################################################\n",
    "#OHHHHH DAANNNNNNNNGGGGGG DANIYAALLLL!!!!! sA so IT ACTUALLY DID COMPLETELY OVERFIT!!!\n",
    "#YET, DIDN'T SEEM TO BE AN ISSUE CUZ STILL GOT AMAZING SCORE!!!! sA!!!!! DIDN'T EVEN DO\n",
    "#OTHER TREES/ENSEMBLE/FOREST!!!!! no tweakers/averaging!!!! is this just a really easy case!?\n",
    "#so THAT'S WHY ENTROPY WAS 0 IN EACH LEAF/FINAL BUCKET!!!\n",
    "#####################################################################################\n",
    "#plain vanilla\n",
    "from sklearn import tree\n",
    "tree.plot_tree(entr_model);\n",
    "#colored in\n",
    "from sklearn import tree\n",
    "tree.plot_tree(entr_model,filled=True);\n",
    "entr_model.classes_\n",
    "y.unique()\n",
    "X_dum.columns\n",
    "import graphviz\n",
    "coffee_tree = tree.export_graphviz(entr_model, out_file=None, \n",
    "                     feature_names=X_dum.columns,  \n",
    "                     class_names=y.unique(),#>>OR entr_model.classes_!!!! gives exact same thing!\n",
    "                     filled=True, rounded=True,  \n",
    "                     special_characters=True)\n",
    "graph = graphviz.Source(coffee_tree)\n",
    "graph\n",
    "\n",
    "#LOL! coffee tree! is it a tree tho?? :P\n",
    "graph.render(\"coffee\")\n",
    "from sklearn.tree import export_text\n",
    "text_tree = export_text(entr_model.fit(X_train,y_train))#, feature_names=X_dum.columns) >> for some reason won't take this here, but worked in graphviz!?\n",
    "text_tree\n",
    "# Run this block for model evaluation metrics \n",
    "print(\"Model Entropy - no max depth\")\n",
    "print(\"Accuracy:\", metrics.accuracy_score(y_test,y_pred))\n",
    "print(\"Balanced accuracy:\", metrics.balanced_accuracy_score(y_test,y_pred))\n",
    "print('Precision score for \"Yes\"' , metrics.precision_score(y_test,y_pred, pos_label = \"Yes\"))\n",
    "print('Precision score for \"No\"' , metrics.precision_score(y_test,y_pred, pos_label = \"No\"))\n",
    "print('Recall score for \"Yes\"' , metrics.recall_score(y_test,y_pred, pos_label = \"Yes\"))\n",
    "print('Recall score for \"No\"' , metrics.recall_score(y_test,y_pred, pos_label = \"No\"))\n",
    "#oh wait - how does it know we're talking about THIS model if it's never referenced here??\n",
    "#only say 'metrics'??? just assumes it's whatever thing we did last from the library??\n",
    "#OHHH, well, it's just going based off of y_test & y_pred!!! so whatever you have saved for/to\n",
    "#those!!!!!\n",
    "\n",
    "gini_model = DecisionTreeClassifier() #default is gini!\n",
    "#max_depth default is None which is what we want!\n",
    "\n",
    "gini_model.fit(X_train,y_train)\n",
    "\n",
    "y_predg = gini_model.predict(X_test)\n",
    "#>>REALLY NO NEED FOR THIS IF WE'RE JUST GETTING SCORE ANYWAY!!?\n",
    "#oh it comes into play later just w/ the way they get the score metrics\n",
    "\n",
    "gini_model.score(X_test,y_test)\n",
    "coffee_treeg = tree.export_graphviz(gini_model, out_file=None, \n",
    "                     feature_names=X_dum.columns,  \n",
    "                     class_names=gini_model.classes_,\n",
    "                     filled=True, rounded=True,\n",
    "                     special_characters=True)\n",
    "graphg = graphviz.Source(coffee_treeg)\n",
    "graphg\n",
    "graphg.render('coffee_tree_geenee')\n",
    "# Run this block for model evaluation\n",
    "print(\"Model Gini impurity model\") #add / clarify \"no max depth\" like case0?\n",
    "print(\"Accuracy:\", metrics.accuracy_score(y_test,y_predg))\n",
    "print(\"Balanced accuracy:\", metrics.balanced_accuracy_score(y_test,y_predg))\n",
    "print('Precision score' , metrics.precision_score(y_test,y_predg, pos_label = \"Yes\"))\n",
    "print('Recall score' , metrics.recall_score(y_test,y_predg, pos_label = \"No\"))\n",
    "\n",
    "entr_model2 = DecisionTreeClassifier(criterion='entropy', max_depth=3)\n",
    "\n",
    "entr_model2.fit(X_train,y_train)\n",
    "\n",
    "y_pred_e2 = entr_model2.predict(X_test)\n",
    "\n",
    "entr_model2.score(X_test,y_test)\n",
    "coffee_tree_e2 = tree.export_graphviz(entr_model2, out_file=None, \n",
    "                     feature_names=X_dum.columns,  \n",
    "                     class_names=y.unique(),#>>OR entr_model.classes_!!!! gives exact same thing!\n",
    "                     filled=True, rounded=True,  \n",
    "                     special_characters=True)\n",
    "graph_e2 = graphviz.Source(coffee_tree_e2)\n",
    "graph_e2\n",
    "#okay aH so yeah i guess this is 3 levels of decisions! tree depth of 3!\n",
    "#note that it's 4 'levels' from the look of it, but you gotta look at the 'GAPS'! like it's\n",
    "#3 sets of DECISIONS!\n",
    "\n",
    "#btw, in unrestricted aka NO max depth specified, we had a depth of *6*, for\n",
    "#gini, aka 7 'apparent' levels & 6 levels of *decisions*!!!\n",
    "#for entropy, it was one less; depth of 5: 6 apparent, 5 decisions\n",
    "# Run this block for model evaluation \n",
    "print(\"Model Entropy model max depth 3\")\n",
    "print(\"Accuracy:\", metrics.accuracy_score(y_test,y_pred_e2))\n",
    "print(\"Balanced accuracy:\", metrics.balanced_accuracy_score(y_test,y_pred_e2))\n",
    "print('Precision score for \"Yes\"' , metrics.precision_score(y_test,y_pred_e2, pos_label = \"Yes\"))\n",
    "print('Recall score for \"No\"' , metrics.recall_score(y_test,y_pred_e2, pos_label = \"No\"))\n",
    "\n",
    "gini_model2 = DecisionTreeClassifier(max_depth=3)\n",
    "\n",
    "gini_model2.fit(X_train,y_train)\n",
    "\n",
    "y_predg2 = gini_model2.predict(X_test)\n",
    "\n",
    "gini_model2.score(X_test,y_test)\n",
    "coffee_treeg2 = tree.export_graphviz(gini_model2, out_file=None, \n",
    "                     feature_names=X_dum.columns,  \n",
    "                     class_names=gini_model2.classes_,\n",
    "                     filled=True, rounded=True,\n",
    "                     special_characters=True)\n",
    "graphg2 = graphviz.Source(coffee_treeg2)\n",
    "graphg2\n",
    "print(\"Gini impurity model - max depth 3\")\n",
    "print(\"Accuracy:\", metrics.accuracy_score(y_test,y_predg2))\n",
    "print(\"Balanced accuracy:\", metrics.balanced_accuracy_score(y_test,y_predg2))\n",
    "print('Precision score:', metrics.precision_score(y_test,y_predg2, pos_label = \"Yes\"))\n",
    "print('Recall score:', metrics.recall_score(y_test,y_predg2, pos_label = \"No\"))\n",
    "\n",
    "#lol man annoying, why is their formatting so inconsitent/sloppy? quotes, spaces, colons, etc! on top of other issues mentioned!\n",
    "#hain??? they don't even say anything about it??? naa before naa after??\n",
    "dot_data = StringIO()\n",
    "\n",
    "#docs: \"The StringIO module is an in-memory file-like object. This object can be used as input or output\n",
    "#to the most function that would expect a standard file object. When the StringIO object is\n",
    "#created it is initialized by passing a string to the constructor. If no string is passed the\n",
    "#StringIO will start empty. In both cases, the initial cursor on the file starts at zero.\"\n",
    "\n",
    "\n",
    "#DID WE EVER EVEN USE THIS?!?\n",
    "\n",
    "#let's see the 'decision surface' plots!\n",
    "#aka the DC scatterplots of each combo of features!\n",
    "\n",
    "# #hmmmm not sure how to do w/ this...\n",
    "\n",
    "# from sklearn.inspection import DecisionBoundaryDisplay\n",
    "\n",
    "# # Parameters\n",
    "# n_classes = 2\n",
    "# plot_colors = \"ryb\"\n",
    "# plot_step = 0.02\n",
    "\n",
    "# for pairidx, pair in enumerate([[0, 1], [0, 2], [0, 3], [1, 2], [1, 3], [2, 3]]):\n",
    "#     # We only take the two corresponding features\n",
    "#     X = coffeeData.data[:, pair]\n",
    "#     y = coffeeData.Decision\n",
    "\n",
    "#     # Train\n",
    "#     gini2_fit = gini_model2.fit(X_train,y_train)\n",
    "\n",
    "#     # Plot the decision boundary\n",
    "#     ax = plt.subplot(2, 3, pairidx + 1)\n",
    "#     plt.tight_layout(h_pad=0.5, w_pad=0.5, pad=2.5)\n",
    "#     DecisionBoundaryDisplay.from_estimator(\n",
    "#         gini2_fit,\n",
    "#         X,\n",
    "#         cmap=plt.cm.RdYlBu,\n",
    "#         response_method=\"predict\",\n",
    "#         ax=ax,\n",
    "#         xlabel=iris.feature_names[pair[0]],\n",
    "#         ylabel=iris.feature_names[pair[1]],\n",
    "#     )\n",
    "\n",
    "#     # Plot the training points\n",
    "#     for i, color in zip(range(n_classes), plot_colors):\n",
    "#         idx = np.where(y == i)\n",
    "#         plt.scatter(\n",
    "#             X[idx, 0],\n",
    "#             X[idx, 1],\n",
    "#             c=color,\n",
    "#             label=iris.target_names[i],\n",
    "#             cmap=plt.cm.RdYlBu,\n",
    "#             edgecolor=\"black\",\n",
    "#             s=15,\n",
    "#         )\n",
    "\n",
    "# #lol \"sup\"title??\n",
    "# plt.suptitle(\"Decision surface of decision trees trained on pairs of features\")\n",
    "# plt.legend(loc=\"lower right\", borderpad=0, handletextpad=0)\n",
    "# _ = plt.axis(\"tight\")\n",
    "\n",
    "NOPrediction.Decision.value_counts(normalize=True)\n",
    "coffeeData.Decision.value_counts(normalize=True)\n",
    "\n",
    "features_cols = features\n",
    "new_X = Prediction.drop('Decision',axis=1) #we did the same thing w/ NOPrediction when we made X!\n",
    "new_X = pd.get_dummies(new_X,columns=binary_features,drop_first=True)\n",
    "\n",
    "new_X\n",
    "#using our supposed 'best' model to predict the unknowns so we can tally up the\n",
    "#ENTIRE voting percentage for indication of YES will buy the new coffee if they get it!\n",
    "new_X['potential_buyers'] = gini_model2.predict(new_X)\n",
    "new_X.potential_buyers.value_counts()\n",
    "#let's put it all together!\n",
    "\n",
    "new_X.potential_buyers.value_counts() + NOPrediction.Decision.value_counts()\n",
    "NOPrediction.Decision.value_counts()\n",
    "( new_X.potential_buyers.value_counts() + NOPrediction.Decision.value_counts() ) / len(coffeeData)\n",
    "#ohhhhhh shrimp! just under 70!!!!! what ever will they do!?!?!?\n",
    "#another way\n",
    "( sum(new_X.potential_buyers == 'Yes') + sum(NOPrediction.Decision == 'Yes' )) / len(coffeeData)\n",
    "#this is what they said to do but didn't work??\n",
    "new_X.potential_buyers.unique(return_counts=True)\n",
    "#weird... online it does confirm return counts is an arg... but doesn't recognize here...\n",
    "#tried [''] column ref way too, same thing. also tried as .values but then says\n",
    "#numpy.ndarray object has no attribute unique!!!\n",
    "new_X.potential_buyers.unique()\n",
    "# Print the percentage of people who want to buy the Hidden Farm coffee, by our model \n",
    "rate = ( sum(new_X.potential_buyers == 'Yes') + sum(NOPrediction.Decision == 'Yes' )) / len(coffeeData)\n",
    "pct = rate*100\n",
    "\"{:.2f}% of customers want to buy Hidden Farm coffee, according to our best model.\".format(pct)\n",
    "\n",
    "#decision trees tell you about each INDIVIDUAL case\n",
    "\n",
    "#but we technically ALREADY MADE a decision tree lol for ourselves! for this - if >70% say yes -\n",
    "#actual and predicted - then STRIKE THE DEAL!! if less/equal, THEN NO DEAL!!!!!!\n",
    "#but wait - so it's not like a marble drop down the shutes & ladders... like for a GIVEN decision\n",
    "#tree, and a GIVEN set of test data, it IS deterministic no?? like it's got a HARD, DEFINED set of\n",
    "#rules right so it MUST give the SAME answers every time!!!????\n",
    "################################################################################################\n",
    "#so let's do random forest aka an ensemble method and average a BUNCH of different overfit models?!\n",
    "#let's see what AVERAGE percentage we get from SEVERAL models!! then we can much more confidently\n",
    "#make a hard decision from THAT average of MANY models/simulations!!! rather than putting all our eggs\n",
    "#in one basket!\n",
    "#reminder\n",
    "X_train\n",
    "firstRFModel = RandomForestClassifier(max_depth=3,random_state=33) #default gini\n",
    "firstRFModel.fit(X_train,y_train)\n",
    "new_X_rf = new_X.drop('potential_buyers',axis=1)\n",
    "new_X_rf['potential_buyers_rf'] = firstRFModel.predict(new_X_rf)\n",
    "( sum(new_X_rf.potential_buyers_rf == 'Yes') + sum(NOPrediction.Decision == 'Yes' )) / len(coffeeData)\n",
    "\n",
    "#wait just realized - why random state for the model? we didn't do that before\n",
    "#w/ any of the other models???\n",
    "#OHHH! CUZ *RANDOM* FOREST RIGHT!!! LOL! so w/ random forest, it's doing like\n",
    "#bootstrapping so it's gonna be different every time!!! so if you save the random\n",
    "#state then it can REPLICATE those results!!!\n",
    "####################################################################################\n",
    "#ohh wait! also just realized tho - i thought the idea in random forest WAS for us\n",
    "#to like perfectly overfit since we're gonna be bootstrapping & averaging!?!\n",
    "#so then why put a max depth??? i guess then we DON'T wanna perfectly overfit??\n",
    "#but rather still do what we'd do on a normal, SINGLE decision tree??\n",
    "####################################################################################\n",
    "#lol owh KAAAAAMMMMMM AANNNNNNN!!!!!\n",
    "#let's see how many more were predicted as yessirs!\n",
    "new_X_rf.potential_buyers_rf.value_counts()\n",
    "#JUST 5 MORE!!!\n",
    "#and i guess there's no like SINGLE tree then ofc we can view cuz it's a FOREST\n",
    "\n",
    "#BUT HOW DOES IT COME UP WITH THE INDIVIDUAL TREES??? LIKE IS IT DOING A KIND OF 'kFold\n",
    "#Cross-Validation'??? where it breaks it up into several different subsets (aka NO OVERLAP)?\n",
    "#OR WAIT NO! that would only do a few. i mean we could do that if we're comparing like dif\n",
    "#models like gini vs entropy2 etc, but this remem does all ONE way/method! so this must do what\n",
    "#we learned in the video of BOOTSTRAPPING!!!!! so it overfits each INDIVIDUAL one and then AVERAGES\n",
    "#THEM OUT! to get a very accurate predictor!\n",
    "\n",
    "#is there any way to see these individual trees? i guess it'd be too many\n",
    "\n",
    "#and how many trees is it making for this forest??\n",
    "\n",
    "\n",
    "##################################################################################################\n",
    "#oh wait! but what's our score of this rf predictor??\n",
    "\n",
    "firstRFModel.score(X_test,y_test)\n",
    "#ummm.... they made it sound like this would be 1000% accuracy... lol... again, the first / simplest one did best!..."
   ]
  }
 ],
 "metadata": {
  "kernelspec": {
   "display_name": "Python 3.8.12 ('tf_m1')",
   "language": "python",
   "name": "python3"
  },
  "language_info": {
   "codemirror_mode": {
    "name": "ipython",
    "version": 3
   },
   "file_extension": ".py",
   "mimetype": "text/x-python",
   "name": "python",
   "nbconvert_exporter": "python",
   "pygments_lexer": "ipython3",
   "version": "3.8.12"
  },
  "orig_nbformat": 4,
  "vscode": {
   "interpreter": {
    "hash": "c476d5be062af8c53c5a2e4f951b2f07aa9c47f05899e43528a06f0dd12534bb"
   }
  }
 },
 "nbformat": 4,
 "nbformat_minor": 2
}
