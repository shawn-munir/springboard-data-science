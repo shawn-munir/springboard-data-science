{
 "cells": [
  {
   "attachments": {},
   "cell_type": "markdown",
   "metadata": {},
   "source": [
    "## Grid Search Hyperparameter Optimization"
   ]
  },
  {
   "cell_type": "markdown",
   "metadata": {},
   "source": [
    "This case study is all about using grid searches to identify the optimal parameters for a machine learning algorithm. To complere this case study, you'll use the Pima Indian diabetes dataset from Kaggle and KNN. Follow along with the preprocessing steps of this case study."
   ]
  },
  {
   "cell_type": "markdown",
   "metadata": {
    "tags": []
   },
   "source": [
    "Load the necessary packages"
   ]
  },
  {
   "cell_type": "code",
   "execution_count": 3,
   "metadata": {},
   "outputs": [],
   "source": [
    "import numpy as np\n",
    "import pandas as pd\n",
    "import matplotlib.pyplot as plt\n",
    "import seaborn as sns\n",
    "sns.set()\n",
    "\n",
    "# set random seed to try make this exercise and solutions reproducible (NB: this is just for teaching purpose and not something you would do in real life)\n",
    "random_seed_number = 33\n",
    "np.random.seed(random_seed_number)\n",
    "##################################################\n",
    "#wait what does this second part of random seed do???\n",
    "#OHHHHH! So it seems that this is like a permanent setting for the notebook where it’ll automatically use this random seed ANY TIME there’s an option to USE a random seed, so that way you don’t have to input it every time and it’ll be GUARANTEED CONSISTENT AND SIMPLIFY YOUR LIFE!!!!\n",
    "#so for here that’s in making the TRAIN/TEST SPLIT!\n",
    "##################################################\n"
   ]
  },
  {
   "cell_type": "markdown",
   "metadata": {
    "tags": []
   },
   "source": [
    "#### Load the diabetes data"
   ]
  },
  {
   "cell_type": "code",
   "execution_count": 5,
   "metadata": {},
   "outputs": [
    {
     "data": {
      "text/html": [
       "<div>\n",
       "<style scoped>\n",
       "    .dataframe tbody tr th:only-of-type {\n",
       "        vertical-align: middle;\n",
       "    }\n",
       "\n",
       "    .dataframe tbody tr th {\n",
       "        vertical-align: top;\n",
       "    }\n",
       "\n",
       "    .dataframe thead th {\n",
       "        text-align: right;\n",
       "    }\n",
       "</style>\n",
       "<table border=\"1\" class=\"dataframe\">\n",
       "  <thead>\n",
       "    <tr style=\"text-align: right;\">\n",
       "      <th></th>\n",
       "      <th>Pregnancies</th>\n",
       "      <th>Glucose</th>\n",
       "      <th>BloodPressure</th>\n",
       "      <th>SkinThickness</th>\n",
       "      <th>Insulin</th>\n",
       "      <th>BMI</th>\n",
       "      <th>DiabetesPedigreeFunction</th>\n",
       "      <th>Age</th>\n",
       "      <th>Outcome</th>\n",
       "    </tr>\n",
       "  </thead>\n",
       "  <tbody>\n",
       "    <tr>\n",
       "      <th>0</th>\n",
       "      <td>6</td>\n",
       "      <td>148</td>\n",
       "      <td>72</td>\n",
       "      <td>35</td>\n",
       "      <td>0</td>\n",
       "      <td>33.6</td>\n",
       "      <td>0.627</td>\n",
       "      <td>50</td>\n",
       "      <td>1</td>\n",
       "    </tr>\n",
       "    <tr>\n",
       "      <th>1</th>\n",
       "      <td>1</td>\n",
       "      <td>85</td>\n",
       "      <td>66</td>\n",
       "      <td>29</td>\n",
       "      <td>0</td>\n",
       "      <td>26.6</td>\n",
       "      <td>0.351</td>\n",
       "      <td>31</td>\n",
       "      <td>0</td>\n",
       "    </tr>\n",
       "    <tr>\n",
       "      <th>2</th>\n",
       "      <td>8</td>\n",
       "      <td>183</td>\n",
       "      <td>64</td>\n",
       "      <td>0</td>\n",
       "      <td>0</td>\n",
       "      <td>23.3</td>\n",
       "      <td>0.672</td>\n",
       "      <td>32</td>\n",
       "      <td>1</td>\n",
       "    </tr>\n",
       "    <tr>\n",
       "      <th>3</th>\n",
       "      <td>1</td>\n",
       "      <td>89</td>\n",
       "      <td>66</td>\n",
       "      <td>23</td>\n",
       "      <td>94</td>\n",
       "      <td>28.1</td>\n",
       "      <td>0.167</td>\n",
       "      <td>21</td>\n",
       "      <td>0</td>\n",
       "    </tr>\n",
       "    <tr>\n",
       "      <th>4</th>\n",
       "      <td>0</td>\n",
       "      <td>137</td>\n",
       "      <td>40</td>\n",
       "      <td>35</td>\n",
       "      <td>168</td>\n",
       "      <td>43.1</td>\n",
       "      <td>2.288</td>\n",
       "      <td>33</td>\n",
       "      <td>1</td>\n",
       "    </tr>\n",
       "  </tbody>\n",
       "</table>\n",
       "</div>"
      ],
      "text/plain": [
       "   Pregnancies  Glucose  BloodPressure  SkinThickness  Insulin   BMI  \\\n",
       "0            6      148             72             35        0  33.6   \n",
       "1            1       85             66             29        0  26.6   \n",
       "2            8      183             64              0        0  23.3   \n",
       "3            1       89             66             23       94  28.1   \n",
       "4            0      137             40             35      168  43.1   \n",
       "\n",
       "   DiabetesPedigreeFunction  Age  Outcome  \n",
       "0                     0.627   50        1  \n",
       "1                     0.351   31        0  \n",
       "2                     0.672   32        1  \n",
       "3                     0.167   21        0  \n",
       "4                     2.288   33        1  "
      ]
     },
     "execution_count": 5,
     "metadata": {},
     "output_type": "execute_result"
    }
   ],
   "source": [
    "diabetes_data = pd.read_csv('data/diabetes.csv')\n",
    "diabetes_data.head()"
   ]
  },
  {
   "cell_type": "markdown",
   "metadata": {
    "tags": []
   },
   "source": [
    "**<font color='teal'> Start by reviewing the data info.</font>**"
   ]
  },
  {
   "cell_type": "code",
   "execution_count": 3,
   "metadata": {},
   "outputs": [
    {
     "name": "stdout",
     "output_type": "stream",
     "text": [
      "<class 'pandas.core.frame.DataFrame'>\n",
      "RangeIndex: 768 entries, 0 to 767\n",
      "Data columns (total 9 columns):\n",
      " #   Column                    Non-Null Count  Dtype  \n",
      "---  ------                    --------------  -----  \n",
      " 0   Pregnancies               768 non-null    int64  \n",
      " 1   Glucose                   768 non-null    int64  \n",
      " 2   BloodPressure             768 non-null    int64  \n",
      " 3   SkinThickness             768 non-null    int64  \n",
      " 4   Insulin                   768 non-null    int64  \n",
      " 5   BMI                       768 non-null    float64\n",
      " 6   DiabetesPedigreeFunction  768 non-null    float64\n",
      " 7   Age                       768 non-null    int64  \n",
      " 8   Outcome                   768 non-null    int64  \n",
      "dtypes: float64(2), int64(7)\n",
      "memory usage: 54.1 KB\n"
     ]
    }
   ],
   "source": [
    "diabetes_data.info()"
   ]
  },
  {
   "cell_type": "code",
   "execution_count": 63,
   "metadata": {},
   "outputs": [
    {
     "data": {
      "text/plain": [
       "Pregnancies                  17\n",
       "Glucose                     136\n",
       "BloodPressure                47\n",
       "SkinThickness                51\n",
       "Insulin                     186\n",
       "BMI                         248\n",
       "DiabetesPedigreeFunction    517\n",
       "Age                          52\n",
       "Outcome                       2\n",
       "dtype: int64"
      ]
     },
     "execution_count": 63,
     "metadata": {},
     "output_type": "execute_result"
    }
   ],
   "source": [
    "#only numbers - ints & floats\n",
    "#note! outcome is BINARY - didn't we have this dataset before? or similar\n",
    "\n",
    "# diabetes_data.unique()\n",
    "#oh lol, doesn't do it for ALL columns like i thought it would\n",
    "#OH YEAH! that's what *N*UNIQUE IS FOR!!!!!\n",
    "diabetes_data.nunique()"
   ]
  },
  {
   "cell_type": "code",
   "execution_count": 6,
   "metadata": {},
   "outputs": [
    {
     "data": {
      "text/plain": [
       "(768, 9)"
      ]
     },
     "execution_count": 6,
     "metadata": {},
     "output_type": "execute_result"
    }
   ],
   "source": [
    "diabetes_data.shape"
   ]
  },
  {
   "cell_type": "code",
   "execution_count": null,
   "metadata": {},
   "outputs": [],
   "source": [
    "#no nulls...*APPARENTLY!*"
   ]
  },
  {
   "cell_type": "markdown",
   "metadata": {
    "tags": []
   },
   "source": [
    "**<font color='teal'> Apply the describe function to the data.</font>**"
   ]
  },
  {
   "cell_type": "code",
   "execution_count": 9,
   "metadata": {},
   "outputs": [
    {
     "data": {
      "text/html": [
       "<div>\n",
       "<style scoped>\n",
       "    .dataframe tbody tr th:only-of-type {\n",
       "        vertical-align: middle;\n",
       "    }\n",
       "\n",
       "    .dataframe tbody tr th {\n",
       "        vertical-align: top;\n",
       "    }\n",
       "\n",
       "    .dataframe thead th {\n",
       "        text-align: right;\n",
       "    }\n",
       "</style>\n",
       "<table border=\"1\" class=\"dataframe\">\n",
       "  <thead>\n",
       "    <tr style=\"text-align: right;\">\n",
       "      <th></th>\n",
       "      <th>Pregnancies</th>\n",
       "      <th>Glucose</th>\n",
       "      <th>BloodPressure</th>\n",
       "      <th>SkinThickness</th>\n",
       "      <th>Insulin</th>\n",
       "      <th>BMI</th>\n",
       "      <th>DiabetesPedigreeFunction</th>\n",
       "      <th>Age</th>\n",
       "      <th>Outcome</th>\n",
       "    </tr>\n",
       "  </thead>\n",
       "  <tbody>\n",
       "    <tr>\n",
       "      <th>count</th>\n",
       "      <td>768.0</td>\n",
       "      <td>768.0</td>\n",
       "      <td>768.0</td>\n",
       "      <td>768.0</td>\n",
       "      <td>768.0</td>\n",
       "      <td>768.0</td>\n",
       "      <td>768.0</td>\n",
       "      <td>768.0</td>\n",
       "      <td>768.0</td>\n",
       "    </tr>\n",
       "    <tr>\n",
       "      <th>mean</th>\n",
       "      <td>3.8</td>\n",
       "      <td>120.9</td>\n",
       "      <td>69.1</td>\n",
       "      <td>20.5</td>\n",
       "      <td>79.8</td>\n",
       "      <td>32.0</td>\n",
       "      <td>0.5</td>\n",
       "      <td>33.2</td>\n",
       "      <td>0.3</td>\n",
       "    </tr>\n",
       "    <tr>\n",
       "      <th>std</th>\n",
       "      <td>3.4</td>\n",
       "      <td>32.0</td>\n",
       "      <td>19.4</td>\n",
       "      <td>16.0</td>\n",
       "      <td>115.2</td>\n",
       "      <td>7.9</td>\n",
       "      <td>0.3</td>\n",
       "      <td>11.8</td>\n",
       "      <td>0.5</td>\n",
       "    </tr>\n",
       "    <tr>\n",
       "      <th>min</th>\n",
       "      <td>0.0</td>\n",
       "      <td>0.0</td>\n",
       "      <td>0.0</td>\n",
       "      <td>0.0</td>\n",
       "      <td>0.0</td>\n",
       "      <td>0.0</td>\n",
       "      <td>0.1</td>\n",
       "      <td>21.0</td>\n",
       "      <td>0.0</td>\n",
       "    </tr>\n",
       "    <tr>\n",
       "      <th>25%</th>\n",
       "      <td>1.0</td>\n",
       "      <td>99.0</td>\n",
       "      <td>62.0</td>\n",
       "      <td>0.0</td>\n",
       "      <td>0.0</td>\n",
       "      <td>27.3</td>\n",
       "      <td>0.2</td>\n",
       "      <td>24.0</td>\n",
       "      <td>0.0</td>\n",
       "    </tr>\n",
       "    <tr>\n",
       "      <th>50%</th>\n",
       "      <td>3.0</td>\n",
       "      <td>117.0</td>\n",
       "      <td>72.0</td>\n",
       "      <td>23.0</td>\n",
       "      <td>30.5</td>\n",
       "      <td>32.0</td>\n",
       "      <td>0.4</td>\n",
       "      <td>29.0</td>\n",
       "      <td>0.0</td>\n",
       "    </tr>\n",
       "    <tr>\n",
       "      <th>75%</th>\n",
       "      <td>6.0</td>\n",
       "      <td>140.2</td>\n",
       "      <td>80.0</td>\n",
       "      <td>32.0</td>\n",
       "      <td>127.2</td>\n",
       "      <td>36.6</td>\n",
       "      <td>0.6</td>\n",
       "      <td>41.0</td>\n",
       "      <td>1.0</td>\n",
       "    </tr>\n",
       "    <tr>\n",
       "      <th>max</th>\n",
       "      <td>17.0</td>\n",
       "      <td>199.0</td>\n",
       "      <td>122.0</td>\n",
       "      <td>99.0</td>\n",
       "      <td>846.0</td>\n",
       "      <td>67.1</td>\n",
       "      <td>2.4</td>\n",
       "      <td>81.0</td>\n",
       "      <td>1.0</td>\n",
       "    </tr>\n",
       "  </tbody>\n",
       "</table>\n",
       "</div>"
      ],
      "text/plain": [
       "       Pregnancies  Glucose  BloodPressure  SkinThickness  Insulin    BMI  \\\n",
       "count        768.0    768.0          768.0          768.0    768.0  768.0   \n",
       "mean           3.8    120.9           69.1           20.5     79.8   32.0   \n",
       "std            3.4     32.0           19.4           16.0    115.2    7.9   \n",
       "min            0.0      0.0            0.0            0.0      0.0    0.0   \n",
       "25%            1.0     99.0           62.0            0.0      0.0   27.3   \n",
       "50%            3.0    117.0           72.0           23.0     30.5   32.0   \n",
       "75%            6.0    140.2           80.0           32.0    127.2   36.6   \n",
       "max           17.0    199.0          122.0           99.0    846.0   67.1   \n",
       "\n",
       "       DiabetesPedigreeFunction    Age  Outcome  \n",
       "count                     768.0  768.0    768.0  \n",
       "mean                        0.5   33.2      0.3  \n",
       "std                         0.3   11.8      0.5  \n",
       "min                         0.1   21.0      0.0  \n",
       "25%                         0.2   24.0      0.0  \n",
       "50%                         0.4   29.0      0.0  \n",
       "75%                         0.6   41.0      1.0  \n",
       "max                         2.4   81.0      1.0  "
      ]
     },
     "execution_count": 9,
     "metadata": {},
     "output_type": "execute_result"
    }
   ],
   "source": [
    "# round(diabetes_data.describe()) #can you put a number for decimal places? this had one decimal place but was always 0, so was just basically rounding to nearest int? confusing\n",
    "\n",
    "diabetes_data.describe().round(1)\n",
    "#nice use of round! to clean this up!"
   ]
  },
  {
   "cell_type": "markdown",
   "metadata": {
    "tags": []
   },
   "source": [
    "**<font color='teal'> Currently, the missing values in the dataset are represented as zeros. Replace the zero values in the following columns ['Glucose','BloodPressure','SkinThickness','Insulin','BMI'] with nan .</font>**"
   ]
  },
  {
   "cell_type": "code",
   "execution_count": 61,
   "metadata": {},
   "outputs": [
    {
     "name": "stdout",
     "output_type": "stream",
     "text": [
      "Number of 0 values for each column:\n",
      "     Pregnancies: 111\n",
      "     Glucose: 5\n",
      "     BloodPressure: 35\n",
      "     SkinThickness: 227\n",
      "     Insulin: 374\n",
      "     BMI: 11\n",
      "     DiabetesPedigreeFunction: 0\n",
      "     Age: 0\n",
      "     Outcome: 500\n"
     ]
    }
   ],
   "source": [
    "#############################################\n",
    "feats = diabetes_data.columns\n",
    "\n",
    "print(\"Number of 0 values for each column:\")\n",
    "for feature in feats:\n",
    "    zeros = (diabetes_data[feature] == 0).sum()\n",
    "    # print(\"There are %d\" %zero) + feature #>>doesn't work w/ strings?!\n",
    "    print(\"     {}: {}\".format(feature, zeros))"
   ]
  },
  {
   "cell_type": "code",
   "execution_count": 64,
   "metadata": {},
   "outputs": [
    {
     "data": {
      "image/png": "[encoded data removed]",
      "text/plain": [
       "<Figure size 432x288 with 1 Axes>"
      ]
     },
     "metadata": {},
     "output_type": "display_data"
    }
   ],
   "source": [
    "#ALHAMDULILLAHI RABBIL 'AALAMEEN!!!!!! BINGO!!!!!!\n",
    "\n",
    "#and remember, OUTCOME is the one that FOR SURE we EXPECT there to be zeros!!!! cuz only 0/1\n",
    "\n",
    "#So we gotta wonder/ask ourselves, for which of these would/could 0 be legit, and\n",
    "#for which is it probably an error/blank/missing??\n",
    "\n",
    "#MORE THAN LIKELY FOR *INTEGER* VALUE FIELDS ESPECIALLY - specifically things that HAVE to be\n",
    "#integers, like Pregnancy, IT COULD VERY WELL BE LEGIT 0s!!!! esp since there are SO MANY!\n",
    "#So note this probably doesn't go for things that are integers but don't NEED to be -\n",
    "#examples we have here of that are *skin thickness & insulin*! integers and have many zeros.....\n",
    "#so those might ACTUALLY be missings!!!!! cuz no reason / doesn't make sense for those to be 0's!\n",
    "#BMI OF 11 OBVY DOESN'T MAKE SENSE!\n",
    "\n",
    "#THESE ARE ALL IN THE COLUMNS THEY TELL US TO REPLACE THE ZEROS WITH NAN!!!!!!\n",
    "\n",
    "#their list also includes BMI & PedigreeFunction which actually *ARE* decimals/floats - the only ones\n",
    "#out of all columns in fact, so those DEFINITELY must be bogeys!!!!!\n",
    "\n",
    "#a BIG CLUE to that is to look at the *DIST* or ordered layout of these!!!!!! if there's a BIG\n",
    "#GAP between 0 and the next smallest value, then 0's probably are blanks!!! ESP IF THERE\n",
    "#ARE THIS MANY YOU CAN PRETTY MUCH BE SURE!!!!!!\n",
    "\n",
    "diabetes_data['Insulin'].hist();"
   ]
  },
  {
   "cell_type": "code",
   "execution_count": 67,
   "metadata": {},
   "outputs": [
    {
     "data": {
      "image/png": "[encoded data removed]",
      "text/plain": [
       "<Figure size 432x288 with 1 Axes>"
      ]
     },
     "metadata": {},
     "output_type": "display_data"
    }
   ],
   "source": [
    "#okay so, problem w/ hists is it's gonna BUCKETIZE range from 0 to next set/density of values!\n",
    "#so not useful - so better to look at either very small buckets, or just ORDERED LIST!\n",
    "\n",
    "diabetes_data['Insulin'].hist(bins=50);"
   ]
  },
  {
   "cell_type": "code",
   "execution_count": 69,
   "metadata": {},
   "outputs": [
    {
     "data": {
      "text/plain": [
       "array([  0,   0,   0,   0,   0,   0,   0,   0,   0,   0,   0,   0,   0,\n",
       "         0,   0,   0,   0,   0,   0,   0,   0,   0,   0,   0,   0,   0,\n",
       "         0,   0,   0,   0,   0,   0,   0,   0,   0,   0,   0,   0,   0,\n",
       "         0,   0,   0,   0,   0,   0,   0,   0,   0,   0,   0,   0,   0,\n",
       "         0,   0,   0,   0,   0,   0,   0,   0,   0,   0,   0,   0,   0,\n",
       "         0,   0,   0,   0,   0,   0,   0,   0,   0,   0,   0,   0,   0,\n",
       "         0,   0,   0,   0,   0,   0,   0,   0,   0,   0,   0,   0,   0,\n",
       "         0,   0,   0,   0,   0,   0,   0,   0,   0,   0,   0,   0,   0,\n",
       "         0,   0,   0,   0,   0,   0,   0,   0,   0,   0,   0,   0,   0,\n",
       "         0,   0,   0,   0,   0,   0,   0,   0,   0,   0,   0,   0,   0,\n",
       "         0,   0,   0,   0,   0,   0,   0,   0,   0,   0,   0,   0,   0,\n",
       "         0,   0,   0,   0,   0,   0,   0,   0,   0,   0,   0,   0,   0,\n",
       "         0,   0,   0,   0,   0,   0,   0,   0,   0,   0,   0,   0,   0,\n",
       "         0,   0,   0,   0,   0,   0,   0,   0,   0,   0,   0,   0,   0,\n",
       "         0,   0,   0,   0,   0,   0,   0,   0,   0,   0,   0,   0,   0,\n",
       "         0,   0,   0,   0,   0,   0,   0,   0,   0,   0,   0,   0,   0,\n",
       "         0,   0,   0,   0,   0,   0,   0,   0,   0,   0,   0,   0,   0,\n",
       "         0,   0,   0,   0,   0,   0,   0,   0,   0,   0,   0,   0,   0,\n",
       "         0,   0,   0,   0,   0,   0,   0,   0,   0,   0,   0,   0,   0,\n",
       "         0,   0,   0,   0,   0,   0,   0,   0,   0,   0,   0,   0,   0,\n",
       "         0,   0,   0,   0,   0,   0,   0,   0,   0,   0,   0,   0,   0,\n",
       "         0,   0,   0,   0,   0,   0,   0,   0,   0,   0,   0,   0,   0,\n",
       "         0,   0,   0,   0,   0,   0,   0,   0,   0,   0,   0,   0,   0,\n",
       "         0,   0,   0,   0,   0,   0,   0,   0,   0,   0,   0,   0,   0,\n",
       "         0,   0,   0,   0,   0,   0,   0,   0,   0,   0,   0,   0,   0,\n",
       "         0,   0,   0,   0,   0,   0,   0,   0,   0,   0,   0,   0,   0,\n",
       "         0,   0,   0,   0,   0,   0,   0,   0,   0,   0,   0,   0,   0,\n",
       "         0,   0,   0,   0,   0,   0,   0,   0,   0,   0,   0,   0,   0,\n",
       "         0,   0,   0,   0,   0,   0,   0,   0,   0,   0,  14,  15,  16,\n",
       "        18,  18,  22,  23,  23,  25,  29,  32,  36,  36,  36,  37,  37,\n",
       "        38,  40,  40,  41,  42,  43,  44,  44,  44,  45,  45,  45,  46,\n",
       "        48,  48,  48,  49,  49,  49,  49,  49,  50,  50,  50,  51,  52,\n",
       "        53,  53,  54,  54,  54,  54,  55,  55,  56,  56,  56,  56,  56,\n",
       "        57,  57,  58,  58,  59,  60,  60,  61,  63,  63,  63,  64,  64,\n",
       "        64,  64,  65,  66,  66,  66,  66,  66,  67,  67,  68,  70,  70,\n",
       "        70,  71,  71,  71,  71,  72,  73,  74,  74,  74,  75,  75,  75,\n",
       "        76,  76,  76,  76,  76,  77,  77,  78,  78,  79,  79,  81,  82,\n",
       "        82,  82,  83,  83,  83,  84,  85,  85,  86,  87,  87,  88,  88,\n",
       "        88,  88,  89,  90,  90,  90,  90,  91,  92,  92,  92,  94,  94,\n",
       "        94,  94,  94,  94,  94,  95,  95,  96,  96,  99,  99, 100, 100,\n",
       "       100, 100, 100, 100, 100, 105, 105, 105, 105, 105, 105, 105, 105,\n",
       "       105, 105, 105, 106, 106, 106, 108, 110, 110, 110, 110, 110, 110,\n",
       "       112, 114, 114, 115, 115, 115, 115, 115, 115, 116, 116, 119, 120,\n",
       "       120, 120, 120, 120, 120, 120, 120, 122, 122, 125, 125, 125, 125,\n",
       "       126, 126, 126, 127, 128, 129, 130, 130, 130, 130, 130, 130, 130,\n",
       "       130, 130, 132, 132, 135, 135, 135, 135, 135, 135, 140, 140, 140,\n",
       "       140, 140, 140, 140, 140, 140, 142, 144, 144, 145, 145, 145, 146,\n",
       "       148, 148, 150, 150, 152, 152, 155, 155, 155, 155, 156, 156, 156,\n",
       "       158, 158, 159, 160, 160, 160, 160, 165, 165, 165, 165, 166, 167,\n",
       "       167, 168, 168, 168, 168, 170, 170, 171, 175, 175, 175, 176, 176,\n",
       "       176, 178, 180, 180, 180, 180, 180, 180, 180, 182, 182, 182, 183,\n",
       "       184, 185, 185, 188, 190, 190, 190, 190, 191, 192, 192, 193, 194,\n",
       "       194, 194, 196, 200, 200, 200, 200, 204, 205, 205, 207, 207, 210,\n",
       "       210, 210, 210, 210, 215, 215, 215, 220, 220, 225, 225, 228, 230,\n",
       "       230, 231, 231, 235, 237, 240, 240, 245, 249, 250, 255, 258, 265,\n",
       "       265, 270, 271, 272, 274, 275, 277, 278, 280, 284, 285, 285, 291,\n",
       "       293, 293, 300, 304, 310, 318, 321, 325, 325, 325, 326, 328, 330,\n",
       "       335, 342, 360, 370, 375, 387, 392, 402, 415, 440, 465, 474, 478,\n",
       "       480, 480, 485, 495, 495, 510, 540, 543, 545, 579, 600, 680, 744,\n",
       "       846])"
      ]
     },
     "execution_count": 69,
     "metadata": {},
     "output_type": "execute_result"
    }
   ],
   "source": [
    "#nuff said. case closed lol\n",
    "#wasn't expecting to have to go nearly this far out! crazy range!!!\n",
    "#but just to show list:\n",
    "diabetes_data['Insulin'].sort_values().values"
   ]
  },
  {
   "cell_type": "code",
   "execution_count": 70,
   "metadata": {},
   "outputs": [
    {
     "data": {
      "text/plain": [
       "0      374\n",
       "105     11\n",
       "130      9\n",
       "140      9\n",
       "120      8\n",
       "      ... \n",
       "73       1\n",
       "171      1\n",
       "255      1\n",
       "52       1\n",
       "112      1\n",
       "Name: Insulin, Length: 186, dtype: int64"
      ]
     },
     "execution_count": 70,
     "metadata": {},
     "output_type": "execute_result"
    }
   ],
   "source": [
    "#yep, there you have it.\n",
    "#but i wanna see next biggest val lol, so guess have to do values_count\n",
    "\n",
    "diabetes_data['Insulin'].value_counts()"
   ]
  },
  {
   "cell_type": "code",
   "execution_count": null,
   "metadata": {},
   "outputs": [],
   "source": [
    "#WOW!!! yeah so next smallest value is *105*!!!!!!!"
   ]
  },
  {
   "cell_type": "code",
   "execution_count": 71,
   "metadata": {},
   "outputs": [
    {
     "data": {
      "image/png": "[encoded data removed]",
      "text/plain": [
       "<Figure size 432x288 with 1 Axes>"
      ]
     },
     "metadata": {},
     "output_type": "display_data"
    }
   ],
   "source": [
    "#now skin thickness!\n",
    "diabetes_data['SkinThickness'].hist(bins=50);"
   ]
  },
  {
   "cell_type": "code",
   "execution_count": 72,
   "metadata": {},
   "outputs": [
    {
     "data": {
      "text/plain": [
       "0     227\n",
       "32     31\n",
       "30     27\n",
       "27     23\n",
       "23     22\n",
       "33     20\n",
       "28     20\n",
       "18     20\n",
       "31     19\n",
       "19     18\n",
       "39     18\n",
       "29     17\n",
       "40     16\n",
       "25     16\n",
       "26     16\n",
       "22     16\n",
       "37     16\n",
       "41     15\n",
       "35     15\n",
       "36     14\n",
       "15     14\n",
       "17     14\n",
       "20     13\n",
       "24     12\n",
       "42     11\n",
       "13     11\n",
       "21     10\n",
       "46      8\n",
       "34      8\n",
       "12      7\n",
       "38      7\n",
       "11      6\n",
       "43      6\n",
       "16      6\n",
       "45      6\n",
       "14      6\n",
       "44      5\n",
       "10      5\n",
       "48      4\n",
       "47      4\n",
       "49      3\n",
       "50      3\n",
       "8       2\n",
       "7       2\n",
       "52      2\n",
       "54      2\n",
       "63      1\n",
       "60      1\n",
       "56      1\n",
       "51      1\n",
       "99      1\n",
       "Name: SkinThickness, dtype: int64"
      ]
     },
     "execution_count": 72,
     "metadata": {},
     "output_type": "execute_result"
    }
   ],
   "source": [
    "#no doubt!\n",
    "diabetes_data['SkinThickness'].value_counts()"
   ]
  },
  {
   "cell_type": "code",
   "execution_count": null,
   "metadata": {},
   "outputs": [],
   "source": [
    "#yepperooo! next highest thirty-twoooo! ;P\n",
    "#AH"
   ]
  },
  {
   "cell_type": "markdown",
   "metadata": {
    "tags": []
   },
   "source": [
    "**<font color='teal'> Plot histograms of each column. </font>**"
   ]
  },
  {
   "cell_type": "code",
   "execution_count": null,
   "metadata": {},
   "outputs": [],
   "source": [
    "#####\n",
    "#*THIS IS PRE-REPLACING 0'S WITH NANS!*#\n",
    "#####"
   ]
  },
  {
   "cell_type": "code",
   "execution_count": 15,
   "metadata": {},
   "outputs": [],
   "source": [
    "# sns.displot(diabetes_data,row=diabetes_data.columns)#.values)"
   ]
  },
  {
   "cell_type": "code",
   "execution_count": 22,
   "metadata": {},
   "outputs": [
    {
     "data": {
      "image/png": "[encoded data removed]",
      "text/plain": [
       "<Figure size 432x288 with 9 Axes>"
      ]
     },
     "metadata": {},
     "output_type": "display_data"
    }
   ],
   "source": [
    "# plt.figure(figsize=(40,20)); #why not working?\n",
    "diabetes_data.hist();"
   ]
  },
  {
   "cell_type": "code",
   "execution_count": null,
   "metadata": {},
   "outputs": [],
   "source": [
    "#okay, good quick hit / fix aH"
   ]
  },
  {
   "cell_type": "code",
   "execution_count": 6,
   "metadata": {},
   "outputs": [],
   "source": [
    "#Replace 0's in following columns w/ nanas\n",
    "\n",
    "#but first!\n",
    "diabetes_data_restore0 = diabetes_data.copy()\n",
    "\n",
    "replacees = ['Glucose','BloodPressure','SkinThickness','Insulin','BMI']"
   ]
  },
  {
   "cell_type": "code",
   "execution_count": 78,
   "metadata": {},
   "outputs": [
    {
     "data": {
      "text/html": [
       "<div>\n",
       "<style scoped>\n",
       "    .dataframe tbody tr th:only-of-type {\n",
       "        vertical-align: middle;\n",
       "    }\n",
       "\n",
       "    .dataframe tbody tr th {\n",
       "        vertical-align: top;\n",
       "    }\n",
       "\n",
       "    .dataframe thead th {\n",
       "        text-align: right;\n",
       "    }\n",
       "</style>\n",
       "<table border=\"1\" class=\"dataframe\">\n",
       "  <thead>\n",
       "    <tr style=\"text-align: right;\">\n",
       "      <th></th>\n",
       "      <th>Glucose</th>\n",
       "      <th>BloodPressure</th>\n",
       "      <th>SkinThickness</th>\n",
       "      <th>Insulin</th>\n",
       "      <th>BMI</th>\n",
       "    </tr>\n",
       "  </thead>\n",
       "  <tbody>\n",
       "    <tr>\n",
       "      <th>0</th>\n",
       "      <td>148</td>\n",
       "      <td>72</td>\n",
       "      <td>35</td>\n",
       "      <td>0</td>\n",
       "      <td>33.6</td>\n",
       "    </tr>\n",
       "    <tr>\n",
       "      <th>1</th>\n",
       "      <td>85</td>\n",
       "      <td>66</td>\n",
       "      <td>29</td>\n",
       "      <td>0</td>\n",
       "      <td>26.6</td>\n",
       "    </tr>\n",
       "    <tr>\n",
       "      <th>2</th>\n",
       "      <td>183</td>\n",
       "      <td>64</td>\n",
       "      <td>0</td>\n",
       "      <td>0</td>\n",
       "      <td>23.3</td>\n",
       "    </tr>\n",
       "    <tr>\n",
       "      <th>3</th>\n",
       "      <td>89</td>\n",
       "      <td>66</td>\n",
       "      <td>23</td>\n",
       "      <td>94</td>\n",
       "      <td>28.1</td>\n",
       "    </tr>\n",
       "    <tr>\n",
       "      <th>4</th>\n",
       "      <td>137</td>\n",
       "      <td>40</td>\n",
       "      <td>35</td>\n",
       "      <td>168</td>\n",
       "      <td>43.1</td>\n",
       "    </tr>\n",
       "    <tr>\n",
       "      <th>...</th>\n",
       "      <td>...</td>\n",
       "      <td>...</td>\n",
       "      <td>...</td>\n",
       "      <td>...</td>\n",
       "      <td>...</td>\n",
       "    </tr>\n",
       "    <tr>\n",
       "      <th>763</th>\n",
       "      <td>101</td>\n",
       "      <td>76</td>\n",
       "      <td>48</td>\n",
       "      <td>180</td>\n",
       "      <td>32.9</td>\n",
       "    </tr>\n",
       "    <tr>\n",
       "      <th>764</th>\n",
       "      <td>122</td>\n",
       "      <td>70</td>\n",
       "      <td>27</td>\n",
       "      <td>0</td>\n",
       "      <td>36.8</td>\n",
       "    </tr>\n",
       "    <tr>\n",
       "      <th>765</th>\n",
       "      <td>121</td>\n",
       "      <td>72</td>\n",
       "      <td>23</td>\n",
       "      <td>112</td>\n",
       "      <td>26.2</td>\n",
       "    </tr>\n",
       "    <tr>\n",
       "      <th>766</th>\n",
       "      <td>126</td>\n",
       "      <td>60</td>\n",
       "      <td>0</td>\n",
       "      <td>0</td>\n",
       "      <td>30.1</td>\n",
       "    </tr>\n",
       "    <tr>\n",
       "      <th>767</th>\n",
       "      <td>93</td>\n",
       "      <td>70</td>\n",
       "      <td>31</td>\n",
       "      <td>0</td>\n",
       "      <td>30.4</td>\n",
       "    </tr>\n",
       "  </tbody>\n",
       "</table>\n",
       "<p>768 rows × 5 columns</p>\n",
       "</div>"
      ],
      "text/plain": [
       "     Glucose  BloodPressure  SkinThickness  Insulin   BMI\n",
       "0        148             72             35        0  33.6\n",
       "1         85             66             29        0  26.6\n",
       "2        183             64              0        0  23.3\n",
       "3         89             66             23       94  28.1\n",
       "4        137             40             35      168  43.1\n",
       "..       ...            ...            ...      ...   ...\n",
       "763      101             76             48      180  32.9\n",
       "764      122             70             27        0  36.8\n",
       "765      121             72             23      112  26.2\n",
       "766      126             60              0        0  30.1\n",
       "767       93             70             31        0  30.4\n",
       "\n",
       "[768 rows x 5 columns]"
      ]
     },
     "execution_count": 78,
     "metadata": {},
     "output_type": "execute_result"
    }
   ],
   "source": [
    "diabetes_data[replacees]"
   ]
  },
  {
   "cell_type": "code",
   "execution_count": 7,
   "metadata": {},
   "outputs": [
    {
     "data": {
      "text/html": [
       "<div>\n",
       "<style scoped>\n",
       "    .dataframe tbody tr th:only-of-type {\n",
       "        vertical-align: middle;\n",
       "    }\n",
       "\n",
       "    .dataframe tbody tr th {\n",
       "        vertical-align: top;\n",
       "    }\n",
       "\n",
       "    .dataframe thead th {\n",
       "        text-align: right;\n",
       "    }\n",
       "</style>\n",
       "<table border=\"1\" class=\"dataframe\">\n",
       "  <thead>\n",
       "    <tr style=\"text-align: right;\">\n",
       "      <th></th>\n",
       "      <th>Pregnancies</th>\n",
       "      <th>Glucose</th>\n",
       "      <th>BloodPressure</th>\n",
       "      <th>SkinThickness</th>\n",
       "      <th>Insulin</th>\n",
       "      <th>BMI</th>\n",
       "      <th>DiabetesPedigreeFunction</th>\n",
       "      <th>Age</th>\n",
       "      <th>Outcome</th>\n",
       "    </tr>\n",
       "  </thead>\n",
       "  <tbody>\n",
       "    <tr>\n",
       "      <th>0</th>\n",
       "      <td>6</td>\n",
       "      <td>148.0</td>\n",
       "      <td>72.0</td>\n",
       "      <td>35.0</td>\n",
       "      <td>NaN</td>\n",
       "      <td>33.6</td>\n",
       "      <td>0.627</td>\n",
       "      <td>50</td>\n",
       "      <td>1</td>\n",
       "    </tr>\n",
       "    <tr>\n",
       "      <th>1</th>\n",
       "      <td>1</td>\n",
       "      <td>85.0</td>\n",
       "      <td>66.0</td>\n",
       "      <td>29.0</td>\n",
       "      <td>NaN</td>\n",
       "      <td>26.6</td>\n",
       "      <td>0.351</td>\n",
       "      <td>31</td>\n",
       "      <td>0</td>\n",
       "    </tr>\n",
       "    <tr>\n",
       "      <th>2</th>\n",
       "      <td>8</td>\n",
       "      <td>183.0</td>\n",
       "      <td>64.0</td>\n",
       "      <td>NaN</td>\n",
       "      <td>NaN</td>\n",
       "      <td>23.3</td>\n",
       "      <td>0.672</td>\n",
       "      <td>32</td>\n",
       "      <td>1</td>\n",
       "    </tr>\n",
       "    <tr>\n",
       "      <th>3</th>\n",
       "      <td>1</td>\n",
       "      <td>89.0</td>\n",
       "      <td>66.0</td>\n",
       "      <td>23.0</td>\n",
       "      <td>94.0</td>\n",
       "      <td>28.1</td>\n",
       "      <td>0.167</td>\n",
       "      <td>21</td>\n",
       "      <td>0</td>\n",
       "    </tr>\n",
       "    <tr>\n",
       "      <th>4</th>\n",
       "      <td>0</td>\n",
       "      <td>137.0</td>\n",
       "      <td>40.0</td>\n",
       "      <td>35.0</td>\n",
       "      <td>168.0</td>\n",
       "      <td>43.1</td>\n",
       "      <td>2.288</td>\n",
       "      <td>33</td>\n",
       "      <td>1</td>\n",
       "    </tr>\n",
       "    <tr>\n",
       "      <th>...</th>\n",
       "      <td>...</td>\n",
       "      <td>...</td>\n",
       "      <td>...</td>\n",
       "      <td>...</td>\n",
       "      <td>...</td>\n",
       "      <td>...</td>\n",
       "      <td>...</td>\n",
       "      <td>...</td>\n",
       "      <td>...</td>\n",
       "    </tr>\n",
       "    <tr>\n",
       "      <th>763</th>\n",
       "      <td>10</td>\n",
       "      <td>101.0</td>\n",
       "      <td>76.0</td>\n",
       "      <td>48.0</td>\n",
       "      <td>180.0</td>\n",
       "      <td>32.9</td>\n",
       "      <td>0.171</td>\n",
       "      <td>63</td>\n",
       "      <td>0</td>\n",
       "    </tr>\n",
       "    <tr>\n",
       "      <th>764</th>\n",
       "      <td>2</td>\n",
       "      <td>122.0</td>\n",
       "      <td>70.0</td>\n",
       "      <td>27.0</td>\n",
       "      <td>NaN</td>\n",
       "      <td>36.8</td>\n",
       "      <td>0.340</td>\n",
       "      <td>27</td>\n",
       "      <td>0</td>\n",
       "    </tr>\n",
       "    <tr>\n",
       "      <th>765</th>\n",
       "      <td>5</td>\n",
       "      <td>121.0</td>\n",
       "      <td>72.0</td>\n",
       "      <td>23.0</td>\n",
       "      <td>112.0</td>\n",
       "      <td>26.2</td>\n",
       "      <td>0.245</td>\n",
       "      <td>30</td>\n",
       "      <td>0</td>\n",
       "    </tr>\n",
       "    <tr>\n",
       "      <th>766</th>\n",
       "      <td>1</td>\n",
       "      <td>126.0</td>\n",
       "      <td>60.0</td>\n",
       "      <td>NaN</td>\n",
       "      <td>NaN</td>\n",
       "      <td>30.1</td>\n",
       "      <td>0.349</td>\n",
       "      <td>47</td>\n",
       "      <td>1</td>\n",
       "    </tr>\n",
       "    <tr>\n",
       "      <th>767</th>\n",
       "      <td>1</td>\n",
       "      <td>93.0</td>\n",
       "      <td>70.0</td>\n",
       "      <td>31.0</td>\n",
       "      <td>NaN</td>\n",
       "      <td>30.4</td>\n",
       "      <td>0.315</td>\n",
       "      <td>23</td>\n",
       "      <td>0</td>\n",
       "    </tr>\n",
       "  </tbody>\n",
       "</table>\n",
       "<p>768 rows × 9 columns</p>\n",
       "</div>"
      ],
      "text/plain": [
       "     Pregnancies  Glucose  BloodPressure  SkinThickness  Insulin   BMI  \\\n",
       "0              6    148.0           72.0           35.0      NaN  33.6   \n",
       "1              1     85.0           66.0           29.0      NaN  26.6   \n",
       "2              8    183.0           64.0            NaN      NaN  23.3   \n",
       "3              1     89.0           66.0           23.0     94.0  28.1   \n",
       "4              0    137.0           40.0           35.0    168.0  43.1   \n",
       "..           ...      ...            ...            ...      ...   ...   \n",
       "763           10    101.0           76.0           48.0    180.0  32.9   \n",
       "764            2    122.0           70.0           27.0      NaN  36.8   \n",
       "765            5    121.0           72.0           23.0    112.0  26.2   \n",
       "766            1    126.0           60.0            NaN      NaN  30.1   \n",
       "767            1     93.0           70.0           31.0      NaN  30.4   \n",
       "\n",
       "     DiabetesPedigreeFunction  Age  Outcome  \n",
       "0                       0.627   50        1  \n",
       "1                       0.351   31        0  \n",
       "2                       0.672   32        1  \n",
       "3                       0.167   21        0  \n",
       "4                       2.288   33        1  \n",
       "..                        ...  ...      ...  \n",
       "763                     0.171   63        0  \n",
       "764                     0.340   27        0  \n",
       "765                     0.245   30        0  \n",
       "766                     0.349   47        1  \n",
       "767                     0.315   23        0  \n",
       "\n",
       "[768 rows x 9 columns]"
      ]
     },
     "execution_count": 7,
     "metadata": {},
     "output_type": "execute_result"
    }
   ],
   "source": [
    "diabetes_data[replacees] = diabetes_data[replacees].replace(0,np.nan)\n",
    "diabetes_data"
   ]
  },
  {
   "cell_type": "code",
   "execution_count": 87,
   "metadata": {},
   "outputs": [
    {
     "data": {
      "image/png": "[encoded data removed]",
      "text/plain": [
       "<Figure size 432x288 with 9 Axes>"
      ]
     },
     "metadata": {},
     "output_type": "display_data"
    }
   ],
   "source": [
    "#now let's check the dist again! remem - *ZEROS* show up, but NANS *DON'T*!!!!!\n",
    "\n",
    "diabetes_data.hist();"
   ]
  },
  {
   "cell_type": "code",
   "execution_count": null,
   "metadata": {},
   "outputs": [],
   "source": [
    "#OH lol just realized, it's *5 in a row*! so easy to remember which ones we worked on!"
   ]
  },
  {
   "cell_type": "code",
   "execution_count": null,
   "metadata": {},
   "outputs": [],
   "source": [
    "#okay aH! so you have to look closely, but the 5 features we removed the non-legit\n",
    "#0's from's dists have now changed! note - for some there IS still a bar ALL the way on the\n",
    "#the left, which you might think means there's still 0's but remem these are BINS, so it\n",
    "#could be just small values, or DECIMALS especially! like PedigreeFunc - but yeah like BMI\n",
    "#are you know like start in the 20's or high teens typically so might just be that\n",
    "#they start w/ the lowest values and shove those all to the left!\n",
    "#you see the first hash/label/tick is *25! not to mean that's the '0' line of course\n",
    "#blood pressure doesn't start all the way to the left, but maybe that's cuz those tend to be\n",
    "#def higher values than BMI, like in 60's+, or at least like 40s (in fact *VERY* least is\n",
    "#24 which would be a *HIGH* BMI!!!!!) but 25th pct is *64*!!!!!! so yeah 24 is prob EXTREME!!!"
   ]
  },
  {
   "attachments": {},
   "cell_type": "markdown",
   "metadata": {
    "tags": []
   },
   "source": [
    "#### Replace the NaNs with mean and median values."
   ]
  },
  {
   "cell_type": "code",
   "execution_count": 88,
   "metadata": {},
   "outputs": [],
   "source": [
    "####NOTE!!! they wrote replace the 'zeros', but we replaced the zeros w/ Nans, now,\n",
    "#if you look at the code they put below, they want us to replace those nans w/ me(di)ans!\n",
    "#BUT THEN WE COULDA JUST DONE THAT *DIRECTLY*!!!!????\n",
    "#but yeah - if we replaced ZEROS now, the only zeros there would be left to replace would\n",
    "#be the LEGIT ones that we obvy DIDN'T CHANGE TO NANS!!!!!"
   ]
  },
  {
   "cell_type": "code",
   "execution_count": 8,
   "metadata": {},
   "outputs": [],
   "source": [
    "#lol not so fast partner!\n",
    "diabetes_data_restore1 = diabetes_data.copy()"
   ]
  },
  {
   "cell_type": "code",
   "execution_count": 95,
   "metadata": {},
   "outputs": [
    {
     "name": "stdout",
     "output_type": "stream",
     "text": [
      "<class 'pandas.core.frame.DataFrame'>\n",
      "RangeIndex: 768 entries, 0 to 767\n",
      "Data columns (total 9 columns):\n",
      " #   Column                    Non-Null Count  Dtype  \n",
      "---  ------                    --------------  -----  \n",
      " 0   Pregnancies               768 non-null    int64  \n",
      " 1   Glucose                   763 non-null    float64\n",
      " 2   BloodPressure             733 non-null    float64\n",
      " 3   SkinThickness             541 non-null    float64\n",
      " 4   Insulin                   394 non-null    float64\n",
      " 5   BMI                       757 non-null    float64\n",
      " 6   DiabetesPedigreeFunction  768 non-null    float64\n",
      " 7   Age                       768 non-null    int64  \n",
      " 8   Outcome                   768 non-null    int64  \n",
      "dtypes: float64(6), int64(3)\n",
      "memory usage: 54.1 KB\n"
     ]
    }
   ],
   "source": [
    "diabetes_data.info()"
   ]
  },
  {
   "cell_type": "code",
   "execution_count": 9,
   "metadata": {},
   "outputs": [],
   "source": [
    "#means\n",
    "diabetes_data['Glucose'].fillna(diabetes_data['Glucose'].mean(), inplace = True)\n",
    "diabetes_data['BloodPressure'].fillna(diabetes_data['BloodPressure'].mean(), inplace = True)\n",
    "\n",
    "#medians\n",
    "diabetes_data['SkinThickness'].fillna(diabetes_data['SkinThickness'].median(), inplace = True)\n",
    "diabetes_data['Insulin'].fillna(diabetes_data['Insulin'].median(), inplace = True)\n",
    "diabetes_data['BMI'].fillna(diabetes_data['BMI'].median(), inplace = True)"
   ]
  },
  {
   "cell_type": "code",
   "execution_count": 97,
   "metadata": {},
   "outputs": [
    {
     "name": "stdout",
     "output_type": "stream",
     "text": [
      "<class 'pandas.core.frame.DataFrame'>\n",
      "RangeIndex: 768 entries, 0 to 767\n",
      "Data columns (total 9 columns):\n",
      " #   Column                    Non-Null Count  Dtype  \n",
      "---  ------                    --------------  -----  \n",
      " 0   Pregnancies               768 non-null    int64  \n",
      " 1   Glucose                   768 non-null    float64\n",
      " 2   BloodPressure             768 non-null    float64\n",
      " 3   SkinThickness             768 non-null    float64\n",
      " 4   Insulin                   768 non-null    float64\n",
      " 5   BMI                       768 non-null    float64\n",
      " 6   DiabetesPedigreeFunction  768 non-null    float64\n",
      " 7   Age                       768 non-null    int64  \n",
      " 8   Outcome                   768 non-null    int64  \n",
      "dtypes: float64(6), int64(3)\n",
      "memory usage: 54.1 KB\n"
     ]
    }
   ],
   "source": [
    "diabetes_data.info()"
   ]
  },
  {
   "cell_type": "code",
   "execution_count": null,
   "metadata": {},
   "outputs": [],
   "source": [
    "#AH!!!"
   ]
  },
  {
   "cell_type": "markdown",
   "metadata": {
    "tags": []
   },
   "source": [
    "**<font color='teal'> Plot histograms of each column after replacing nan. </font>**"
   ]
  },
  {
   "cell_type": "code",
   "execution_count": 98,
   "metadata": {},
   "outputs": [
    {
     "data": {
      "image/png": "[encoded data removed]",
      "text/plain": [
       "<Figure size 432x288 with 9 Axes>"
      ]
     },
     "metadata": {},
     "output_type": "display_data"
    }
   ],
   "source": [
    "diabetes_data.hist();"
   ]
  },
  {
   "cell_type": "code",
   "execution_count": null,
   "metadata": {},
   "outputs": [],
   "source": [
    "#so note some's dist didn't change a whole lot, maybe cuz very few 0/nans like Glucose,\n",
    "#and/or relatively EVEN/SYMMETRICAL to begin with, like BP & BMI, so adding a bunch of means\n",
    "#i guess KEEPS it even, just beefs up MIDDLE more? >> #OH!! notice these are the ones we\n",
    "#did MEAN to vs. median!!!!\n",
    "\n",
    "#and ones that were skewed in some way - like i guess SkinThick & Insulin - so\n",
    "#skinthick was 'symmetrical' but just VERY mean/median heavy, and interestingly... adding MORE\n",
    "#medians somehow evened it out??? lolf\n",
    "#and insulin was def ONE-sided skewed, w/ a LOW mean & median, so makes sense that we'd add to\n",
    "#its middle to attempt to even out - it's still skewed but better i guess?\n",
    "\n",
    "#what goes behind the decision whether to use mean vs. median to fill? i know outliers,\n",
    "#which we didn't specifically look at here. but from quick look - seems like breakdown\n",
    "#was maybe 'even' dist vs. SKEWED dist????\n",
    "############################################################################################"
   ]
  },
  {
   "cell_type": "code",
   "execution_count": 99,
   "metadata": {},
   "outputs": [],
   "source": [
    "diabetes_data_restore2 = diabetes_data.copy()"
   ]
  },
  {
   "cell_type": "code",
   "execution_count": 104,
   "metadata": {},
   "outputs": [
    {
     "data": {
      "text/plain": [
       "count    768.0\n",
       "mean      33.2\n",
       "std       11.8\n",
       "min       21.0\n",
       "25%       24.0\n",
       "50%       29.0\n",
       "75%       41.0\n",
       "max       81.0\n",
       "Name: Age, dtype: float64"
      ]
     },
     "execution_count": 104,
     "metadata": {},
     "output_type": "execute_result"
    }
   ],
   "source": [
    "diabetes_data.Age.describe().round(1)"
   ]
  },
  {
   "cell_type": "markdown",
   "metadata": {
    "tags": []
   },
   "source": [
    "#### Plot the correlation matrix heatmap"
   ]
  },
  {
   "cell_type": "code",
   "execution_count": 102,
   "metadata": {},
   "outputs": [
    {
     "data": {
      "image/png": "[encoded data removed]",
      "text/plain": [
       "<Figure size 864x720 with 2 Axes>"
      ]
     },
     "metadata": {},
     "output_type": "display_data"
    }
   ],
   "source": [
    "plt.figure(figsize=(12,10))\n",
    "plt.title('Correlation between various features',fontsize=17)\n",
    "p=sns.heatmap(diabetes_data.corr(), annot=True,cmap ='Blues')\n",
    "#eyyyy! finally using SEABORN!!!! atta boy!"
   ]
  },
  {
   "cell_type": "code",
   "execution_count": null,
   "metadata": {},
   "outputs": [],
   "source": [
    "#okay so like Age & Pregnancies vary together - that's the HIGHEST - actually,\n",
    "#that's tied w/ BMI & SkinThiqq @ .54!!!!\n",
    "#Note these correlations are ONLY positive, so we don't\n",
    "#know from looking if positive or NEGATIVE correlation - but for Age vs. Pregnancy, obvy\n",
    "#assumably tends to go UP with age!!!! like older women will tend to have\n",
    "#more pregnancies under their belt!\n",
    "#but wait - so are ALL THESE *WOMEN* THEN?!?! cuz if there's MEN, then the 0\n",
    "#pregnancies will REALLY THROW THINGS OFF!!!!!\n",
    "\n",
    "#i guess makes sense to LITERALLY lol have thicker SKIN cuz of more fat if higher BMI!\n",
    "\n",
    "#glucose & outcome (aka diabetes diagnosis) pretty closely tied together - makes sense\n",
    "\n",
    "#glucose & insulin ofc close-ish-ly tied, though you'd expect higher?"
   ]
  },
  {
   "cell_type": "markdown",
   "metadata": {
    "tags": []
   },
   "source": [
    "**<font color='teal'> Define the `y` variable as the `Outcome` column.</font>**"
   ]
  },
  {
   "cell_type": "code",
   "execution_count": 10,
   "metadata": {},
   "outputs": [],
   "source": [
    "y = diabetes_data['Outcome']"
   ]
  },
  {
   "cell_type": "code",
   "execution_count": 11,
   "metadata": {},
   "outputs": [],
   "source": [
    "#lol what about X honey?? ;P\n",
    "X = diabetes_data.drop('Outcome',axis=1)"
   ]
  },
  {
   "cell_type": "markdown",
   "metadata": {
    "tags": []
   },
   "source": [
    "**<font color='teal'> Create a 70/30 train and test split. </font>**"
   ]
  },
  {
   "cell_type": "code",
   "execution_count": 12,
   "metadata": {},
   "outputs": [
    {
     "name": "stdout",
     "output_type": "stream",
     "text": [
      "The top-performing k-value was 7 with a score of 0.754\n"
     ]
    }
   ],
   "source": [
    "#LEMME TRY TO DO EVERYTHING THEY WANT US TO DO IN 1!!!!\n",
    "\n",
    "from sklearn.pipeline import Pipeline\n",
    "from sklearn.preprocessing import StandardScaler\n",
    "from sklearn.neighbors import KNeighborsClassifier\n",
    "from sklearn.model_selection import GridSearchCV\n",
    "from sklearn.model_selection import train_test_split\n",
    "\n",
    "steps = [('scaler', StandardScaler()), ('knn', KNeighborsClassifier())]\n",
    "pipeline = Pipeline(steps)\n",
    "\n",
    "parameters = {\"knn__n_neighbors\": np.arange(1,11)} #exclusyv\n",
    "\n",
    "X_train, X_test, y_train, y_test = train_test_split(X,y,test_size=.3,random_state=random_seed_number,stratify=y)\n",
    "\n",
    "gs = GridSearchCV(pipeline, param_grid=parameters)\n",
    "#good job! didn't bother specifying cv as integer OR as kf!!!\n",
    "\n",
    "gs.fit(X_train, y_train)\n",
    "\n",
    "y_pred = gs.predict(X_test) #do we even need this for our use? dep. on which score we use\n",
    "\n",
    "print(\"The top-performing k-value was {} with a score of {}\".format(str(gs.best_params_).split(\": \")[1].split(\"}\")[0], gs.best_score_.round(3)))\n",
    "                                                                #OR USE gs.best_index_ + 1\n",
    "################################################################################################"
   ]
  },
  {
   "cell_type": "code",
   "execution_count": null,
   "metadata": {},
   "outputs": [],
   "source": [
    "#ALHAMDULILLAHI RABBIL 'AALAMEEN!!!!!!"
   ]
  },
  {
   "cell_type": "code",
   "execution_count": 123,
   "metadata": {},
   "outputs": [
    {
     "data": {
      "text/plain": [
       "'7'"
      ]
     },
     "execution_count": 123,
     "metadata": {},
     "output_type": "execute_result"
    }
   ],
   "source": [
    "str(gs.best_params_).split(\": \")[1].split(\"}\")[0]\n"
   ]
  },
  {
   "cell_type": "code",
   "execution_count": 161,
   "metadata": {},
   "outputs": [
    {
     "data": {
      "text/plain": [
       "7"
      ]
     },
     "execution_count": 161,
     "metadata": {},
     "output_type": "execute_result"
    }
   ],
   "source": [
    "gs.best_index_ + 1"
   ]
  },
  {
   "cell_type": "code",
   "execution_count": null,
   "metadata": {},
   "outputs": [],
   "source": [
    "##########################################################################################\n",
    "#so, this is a case where we only cycled thru ONE hyper param, and also DIDN'T opt for\n",
    "#kfCV, yet still used GridSearch\n",
    "#So remem - normally we think of using GridSearch because we wanna try out values for MULTIPLE\n",
    "#hyperparameters. But remem - we said that we can still use GS even if only looking at\n",
    "#*ONE* hyperparam, because w/ the alternative of kfCV ALONE/ONLY/ALONELY/ALONLY lol\n",
    "#you gotta use a manual FOR-LOOP and it's def ALOT MORE WORK! we'll see how the code compares\n",
    "#but yeah much much easier all around to just let GridSearch do all the work for you!\n",
    "#GS HAS *(stratified/)kfCV BUILT-IN!!!! DON'T EVEN HAVE TO SPECIFY ANYTHING!!!!!\n",
    "#another big part of GS's advantage is when it comes to the keeping track of scores -\n",
    "#w/ GS you simply call .best_score_! w/ manual kfCV you gotta make lists, append, make into\n",
    "#a df, subset that!!!!!\n",
    "###PLUS WITH GRIDSEARCH YOU CAN COMBINE/INCLUDE IT IN YOUR PIPELINE!!!!!!!\n",
    "#SO THE ADVANTAGES STRETCH EVEN MUCH FURTHER!!! PIPELINE AUTOMATICALLY HANDLES ALL\n",
    "#THE TRANSFORMING/SCALING/IMPUTING, FITTING, ETC OF EVERYTHING ALL-IN-ONE!!!!!\n",
    "\n",
    "#SO YEAH IT'D STILL MAKE SENSE TO USE GS CUZ THAT'D SAVE US FROM USING A FOR-LOOP!!!!\n",
    "#lol it's like using the moving walkway or elevator EVEN IF you don't have bags -\n",
    "#IT'S STILL QUICKER / EASIER / SAVES YOU TIME/ENERGY!!!!!!!\n",
    "\n",
    "##########################################################################################"
   ]
  },
  {
   "cell_type": "markdown",
   "metadata": {
    "tags": []
   },
   "source": [
    "**<font color='teal'> Using Sklearn, standarize the magnitude of the features by scaling the values. </font>**"
   ]
  },
  {
   "cell_type": "markdown",
   "metadata": {},
   "source": [
    "Note: Don't forget to fit() your scaler on X_train and then use that fitted scaler to transform() X_test. This is to avoid data leakage while you standardize your data."
   ]
  },
  {
   "cell_type": "code",
   "execution_count": 18,
   "metadata": {},
   "outputs": [],
   "source": [
    "#So since i did automated way using Pipeline... IT TOOK CARE OF THAT FOR ME AUTOMATICALLY!!!\n",
    "##########################################################################################"
   ]
  },
  {
   "cell_type": "code",
   "execution_count": 127,
   "metadata": {},
   "outputs": [
    {
     "data": {
      "text/plain": [
       "{'mean_fit_time': array([0.00136824, 0.00133343, 0.00135365, 0.00118499, 0.0012002 ,\n",
       "        0.00128207, 0.00130763, 0.00129776, 0.00125546, 0.00127439]),\n",
       " 'std_fit_time': array([1.10643422e-04, 1.13474961e-04, 1.71587955e-04, 6.00647146e-05,\n",
       "        5.39081226e-05, 2.00184656e-04, 1.53837349e-04, 7.35928911e-05,\n",
       "        1.37784273e-04, 4.54612155e-05]),\n",
       " 'mean_score_time': array([0.00177622, 0.00180659, 0.00183778, 0.00176015, 0.00179901,\n",
       "        0.00183759, 0.00206175, 0.00189505, 0.00202103, 0.0019258 ]),\n",
       " 'std_score_time': array([4.26226809e-05, 1.12668720e-04, 1.31729870e-04, 5.03995899e-05,\n",
       "        6.02274967e-05, 1.09641402e-04, 2.04656353e-04, 3.47563592e-05,\n",
       "        2.34723322e-04, 1.74646125e-05]),\n",
       " 'param_knn__n_neighbors': masked_array(data=[1, 2, 3, 4, 5, 6, 7, 8, 9, 10],\n",
       "              mask=[False, False, False, False, False, False, False, False,\n",
       "                    False, False],\n",
       "        fill_value='?',\n",
       "             dtype=object),\n",
       " 'params': [{'knn__n_neighbors': 1},\n",
       "  {'knn__n_neighbors': 2},\n",
       "  {'knn__n_neighbors': 3},\n",
       "  {'knn__n_neighbors': 4},\n",
       "  {'knn__n_neighbors': 5},\n",
       "  {'knn__n_neighbors': 6},\n",
       "  {'knn__n_neighbors': 7},\n",
       "  {'knn__n_neighbors': 8},\n",
       "  {'knn__n_neighbors': 9},\n",
       "  {'knn__n_neighbors': 10}],\n",
       " 'split0_test_score': array([0.69444444, 0.71296296, 0.69444444, 0.69444444, 0.67592593,\n",
       "        0.71296296, 0.71296296, 0.69444444, 0.74074074, 0.71296296]),\n",
       " 'split1_test_score': array([0.58333333, 0.63888889, 0.65740741, 0.67592593, 0.71296296,\n",
       "        0.73148148, 0.72222222, 0.68518519, 0.68518519, 0.71296296]),\n",
       " 'split2_test_score': array([0.70093458, 0.75700935, 0.74766355, 0.74766355, 0.73831776,\n",
       "        0.75700935, 0.77570093, 0.74766355, 0.77570093, 0.75700935]),\n",
       " 'split3_test_score': array([0.73831776, 0.75700935, 0.74766355, 0.75700935, 0.78504673,\n",
       "        0.75700935, 0.78504673, 0.80373832, 0.78504673, 0.76635514]),\n",
       " 'split4_test_score': array([0.74766355, 0.74766355, 0.78504673, 0.77570093, 0.79439252,\n",
       "        0.79439252, 0.77570093, 0.74766355, 0.75700935, 0.76635514]),\n",
       " 'mean_test_score': array([0.69293873, 0.72270682, 0.72644514, 0.73014884, 0.74132918,\n",
       "        0.75057113, 0.75432676, 0.73573901, 0.74873659, 0.74312911]),\n",
       " 'std_test_score': array([0.0585382 , 0.04493674, 0.04499965, 0.03825748, 0.04431307,\n",
       "        0.02750274, 0.03032851, 0.04282342, 0.0352609 , 0.02486584]),\n",
       " 'rank_test_score': array([10,  9,  8,  7,  5,  2,  1,  6,  3,  4], dtype=int32)}"
      ]
     },
     "execution_count": 127,
     "metadata": {},
     "output_type": "execute_result"
    }
   ],
   "source": [
    "#they wanna see lists of both test scores AND train scores, like we've seen a couple times\n",
    "#normally we don't do this / no need / confuses, but fine let's do it for practice, some benefit\n",
    "\n",
    "#but first, check out our full results\n",
    "gs.cv_results_"
   ]
  },
  {
   "cell_type": "code",
   "execution_count": 131,
   "metadata": {},
   "outputs": [
    {
     "data": {
      "text/plain": [
       "array([0.74766355, 0.74766355, 0.78504673, 0.77570093, 0.79439252,\n",
       "       0.79439252, 0.77570093, 0.74766355, 0.75700935, 0.76635514])"
      ]
     },
     "execution_count": 131,
     "metadata": {},
     "output_type": "execute_result"
    }
   ],
   "source": [
    "gs.cv_results_['split4_test_score']"
   ]
  },
  {
   "cell_type": "code",
   "execution_count": null,
   "metadata": {},
   "outputs": [],
   "source": [
    "#5 SPLITS, SPLIT0->SPLIT4 FOR THE DEFAULT 5-kFOLD CROSSVALIDATION!!!!!\n",
    "#without us specifying\n",
    "#did 5 splits for EACH of the 10 k values??????\n",
    "#so this list of 10 values is the score for each hyperparameter value for the 5th split!"
   ]
  },
  {
   "cell_type": "code",
   "execution_count": 128,
   "metadata": {},
   "outputs": [
    {
     "data": {
      "text/plain": [
       "array([0.69293873, 0.72270682, 0.72644514, 0.73014884, 0.74132918,\n",
       "       0.75057113, 0.75432676, 0.73573901, 0.74873659, 0.74312911])"
      ]
     },
     "execution_count": 128,
     "metadata": {},
     "output_type": "execute_result"
    }
   ],
   "source": [
    "#and here we can see the MEAN scores from the 5 rounds/splits for all 10 k values!\n",
    "#remem, we tried k=1 thru k=10!\n",
    "gs.cv_results_['mean_test_score']"
   ]
  },
  {
   "cell_type": "code",
   "execution_count": null,
   "metadata": {},
   "outputs": [],
   "source": [
    "#but yeah! we see the .754 topper @ k=7!!!!!!"
   ]
  },
  {
   "cell_type": "code",
   "execution_count": null,
   "metadata": {},
   "outputs": [],
   "source": [
    "#to show TRAIN scores in this cv_results w/ gs, you gotta do/set 'return_train_score = True'\n",
    "#in the GridSearch() call!!!! lol I guess it’s like no one ever really usually asks for it /\n",
    "# wants it / looks at it, so it’s just wasting time/resources, so they’ll only give it to you\n",
    "#if you ask!!!\n"
   ]
  },
  {
   "cell_type": "code",
   "execution_count": 139,
   "metadata": {},
   "outputs": [
    {
     "data": {
      "text/html": [
       "<style type=\"text/css\">\n",
       "</style>\n",
       "<table id=\"T_cb300_\">\n",
       "  <thead>\n",
       "    <tr>\n",
       "      <th class=\"col_heading level0 col0\" >k</th>\n",
       "      <th class=\"col_heading level0 col1\" >train_score</th>\n",
       "      <th class=\"col_heading level0 col2\" >test_score</th>\n",
       "    </tr>\n",
       "  </thead>\n",
       "  <tbody>\n",
       "    <tr>\n",
       "      <td id=\"T_cb300_row0_col0\" class=\"data row0 col0\" >1</td>\n",
       "      <td id=\"T_cb300_row0_col1\" class=\"data row0 col1\" >1.000000</td>\n",
       "      <td id=\"T_cb300_row0_col2\" class=\"data row0 col2\" >0.692939</td>\n",
       "    </tr>\n",
       "    <tr>\n",
       "      <td id=\"T_cb300_row1_col0\" class=\"data row1 col0\" >2</td>\n",
       "      <td id=\"T_cb300_row1_col1\" class=\"data row1 col1\" >0.846838</td>\n",
       "      <td id=\"T_cb300_row1_col2\" class=\"data row1 col2\" >0.722707</td>\n",
       "    </tr>\n",
       "    <tr>\n",
       "      <td id=\"T_cb300_row2_col0\" class=\"data row2 col0\" >3</td>\n",
       "      <td id=\"T_cb300_row2_col1\" class=\"data row2 col1\" >0.852420</td>\n",
       "      <td id=\"T_cb300_row2_col2\" class=\"data row2 col2\" >0.726445</td>\n",
       "    </tr>\n",
       "    <tr>\n",
       "      <td id=\"T_cb300_row3_col0\" class=\"data row3 col0\" >4</td>\n",
       "      <td id=\"T_cb300_row3_col1\" class=\"data row3 col1\" >0.821228</td>\n",
       "      <td id=\"T_cb300_row3_col2\" class=\"data row3 col2\" >0.730149</td>\n",
       "    </tr>\n",
       "    <tr>\n",
       "      <td id=\"T_cb300_row4_col0\" class=\"data row4 col0\" >5</td>\n",
       "      <td id=\"T_cb300_row4_col1\" class=\"data row4 col1\" >0.838928</td>\n",
       "      <td id=\"T_cb300_row4_col2\" class=\"data row4 col2\" >0.741329</td>\n",
       "    </tr>\n",
       "    <tr>\n",
       "      <td id=\"T_cb300_row5_col0\" class=\"data row5 col0\" >6</td>\n",
       "      <td id=\"T_cb300_row5_col1\" class=\"data row5 col1\" >0.820298</td>\n",
       "      <td id=\"T_cb300_row5_col2\" class=\"data row5 col2\" >0.750571</td>\n",
       "    </tr>\n",
       "    <tr>\n",
       "      <td id=\"T_cb300_row6_col0\" class=\"data row6 col0\" >7</td>\n",
       "      <td id=\"T_cb300_row6_col1\" class=\"data row6 col1\" >0.829151</td>\n",
       "      <td id=\"T_cb300_row6_col2\" class=\"data row6 col2\" >0.754327</td>\n",
       "    </tr>\n",
       "    <tr>\n",
       "      <td id=\"T_cb300_row7_col0\" class=\"data row7 col0\" >8</td>\n",
       "      <td id=\"T_cb300_row7_col1\" class=\"data row7 col1\" >0.811459</td>\n",
       "      <td id=\"T_cb300_row7_col2\" class=\"data row7 col2\" >0.735739</td>\n",
       "    </tr>\n",
       "    <tr>\n",
       "      <td id=\"T_cb300_row8_col0\" class=\"data row8 col0\" >9</td>\n",
       "      <td id=\"T_cb300_row8_col1\" class=\"data row8 col1\" >0.814262</td>\n",
       "      <td id=\"T_cb300_row8_col2\" class=\"data row8 col2\" >0.748737</td>\n",
       "    </tr>\n",
       "    <tr>\n",
       "      <td id=\"T_cb300_row9_col0\" class=\"data row9 col0\" >10</td>\n",
       "      <td id=\"T_cb300_row9_col1\" class=\"data row9 col1\" >0.800759</td>\n",
       "      <td id=\"T_cb300_row9_col2\" class=\"data row9 col2\" >0.743129</td>\n",
       "    </tr>\n",
       "  </tbody>\n",
       "</table>\n"
      ],
      "text/plain": [
       "<pandas.io.formats.style.Styler at 0x16e6f19d0>"
      ]
     },
     "execution_count": 139,
     "metadata": {},
     "output_type": "execute_result"
    }
   ],
   "source": [
    "#So let's redo giving them what they want\n",
    "\n",
    "steps = [('scaler', StandardScaler()), ('knn', KNeighborsClassifier())]\n",
    "pipeline = Pipeline(steps)\n",
    "\n",
    "parameters = {\"knn__n_neighbors\": np.arange(1,11)}\n",
    "\n",
    "X_train, X_test, y_train, y_test = train_test_split(X,y,test_size=.3,random_state=random_seed_number,stratify=y)\n",
    "\n",
    "gs = GridSearchCV(pipeline, param_grid=parameters, return_train_score=True)\n",
    "\n",
    "gs.fit(X_train, y_train)\n",
    "\n",
    "# y_pred = gs.predict(X_test)\n",
    "\n",
    "# print(\"The top-performing k-value was {} with a score of {}\".format(str(gs.best_params_).split(\": \")[1].split(\"}\")[0], gs.best_score_.round(3)))\n",
    "\n",
    "ks = range(1,11)\n",
    "\n",
    "train_scores = gs.cv_results_['mean_train_score']\n",
    "\n",
    "test_scores = gs.cv_results_['mean_test_score']\n",
    "\n",
    "results_df = pd.DataFrame({'k': ks, 'train_score': train_scores, 'test_score': test_scores})\n",
    "#more work to truncate many columns at once lol – we’ll see/do\n",
    "#################################################\n",
    "\n",
    "results_df.style.hide_index() #for display only!!! don't SAVE with this!"
   ]
  },
  {
   "cell_type": "code",
   "execution_count": 143,
   "metadata": {},
   "outputs": [
    {
     "data": {
      "text/plain": [
       "pandas.io.formats.style.Styler"
      ]
     },
     "execution_count": 143,
     "metadata": {},
     "output_type": "execute_result"
    }
   ],
   "source": [
    "######\n",
    "#okay so INITIALLY i saved the ending '.style hide index' thing to overwrite the results df i made,\n",
    "#which i initially only called 'results', then when i tried doing anything on it, i couldn't\n",
    "#cuz APPARENTLY THAT CHANGES THE *TYPE* AND IT JUST GETS REDUCED TO LIKE A *STYLER* OBJECT or smth\n",
    "#as seen here?!?!\n",
    "type(results)\n",
    "#lol by removing the index i changed its identity lolll!\n",
    "#i thought i was just 'hiding' it for DISPLAY PURPOSES ONLY?!?!\n",
    "#so i redid it above where now i didn't SAVE the hide index style but merely used it for display!\n",
    "########################################"
   ]
  },
  {
   "cell_type": "code",
   "execution_count": 156,
   "metadata": {},
   "outputs": [
    {
     "data": {
      "image/png": "[encoded data removed]",
      "text/plain": [
       "<Figure size 432x288 with 1 Axes>"
      ]
     },
     "metadata": {},
     "output_type": "display_data"
    }
   ],
   "source": [
    "# plt.figure(figsize=(20,10)) #hain? how come didn't work... but works for them...\n",
    "results_df.plot(x='k') #nice easy way to do!!!\n",
    "#would be much better to make the xlabels match the k's!:\n",
    "plt.xticks(range(1,11));\n",
    "#ALHAMDULILLAH!!!!!\n",
    "#man first it started putting gridlines, now it added GRAY background too! -_-"
   ]
  },
  {
   "cell_type": "code",
   "execution_count": 17,
   "metadata": {},
   "outputs": [
    {
     "data": {
      "image/png": "[encoded data removed]",
      "text/plain": [
       "<Figure size 432x288 with 1 Axes>"
      ]
     },
     "metadata": {},
     "output_type": "display_data"
    }
   ],
   "source": [
    "#ALHAMDULILLAHI RABBIL 'AALAMEEN!!!!!\n",
    "\n",
    "#BUT DO WE DO LIKE *ELBOW* / TRADE-OFF W/ KNN??\n",
    "\n",
    "#>>NO!!! JUST GO FOR STRAIGHT HIGHEST! this isn't like an 'overfit/underfit' type deal\n",
    "#tradeoff - that's why we only look at *TEST* PERFORMANCE!\n",
    "#the elbow thing is w/ kMeans CLUSTERING which is UNSUPERVISED and there we DON'T (usually)\n",
    "#do test/train split so thus why we have to look at tradeoff!!!\n",
    "\n",
    "#but how about bias-variance tradeoff? (biance lol) wasn't that with Supervised?\n",
    "#that was more for like regression and when we were talking about TRAINING fit i think -\n",
    "#but to get around that we'd still do this same kind of TRAIN/TEST splits w/ CROSS-VALIDATION\n",
    "#and pick the one that had the best TEST/unseen performance as an indicator of GENERALIZABILITY!!!!!!\n",
    "\n",
    "#BUT YEAH! AS WE SHOWED! BEST TEST PERFORMANCE IS ON/@ k=7 NEAREST NEIGHBORS!!!!!!\n",
    "\n",
    "#the reason you're confused/it's in question here is cuz we only tried a LIMITED RANGE of\n",
    "#k's - but if we extend it out more, YOU'LL SEE HOW THE SCORES *DIP BACK DOWN*!!!!\n",
    "#THUS WHY WE TAKE THE *PEAK*!!! not continuously 1-directional thus no trade-off!\n",
    "#if you look back to lesson images you'll find! but we'll stretch this out and show here!\n",
    "\n",
    "steps = [('scaler', StandardScaler()), ('knn', KNeighborsClassifier())]\n",
    "pipeline = Pipeline(steps)\n",
    "\n",
    "parameters = {\"knn__n_neighbors\": np.arange(1,51)}\n",
    "\n",
    "X_train, X_test, y_train, y_test = train_test_split(X,y,test_size=.3,random_state=random_seed_number,stratify=y)\n",
    "\n",
    "gs = GridSearchCV(pipeline, param_grid=parameters, return_train_score=True)\n",
    "\n",
    "gs.fit(X_train, y_train)\n",
    "\n",
    "ks = range(1,51)\n",
    "\n",
    "train_scores = gs.cv_results_['mean_train_score']\n",
    "\n",
    "test_scores = gs.cv_results_['mean_test_score']\n",
    "\n",
    "results_df = pd.DataFrame({'k': ks, 'train_score': train_scores, 'test_score': test_scores})\n",
    "\n",
    "# plt.figure(figsize=(40,20))\n",
    "results_df.plot(x='k')\n",
    "plt.xticks(range(1,51));\n",
    "\n",
    "##########################################################################################"
   ]
  },
  {
   "cell_type": "code",
   "execution_count": 18,
   "metadata": {},
   "outputs": [
    {
     "data": {
      "text/html": [
       "<style type=\"text/css\">\n",
       "</style>\n",
       "<table id=\"T_c80ad_\">\n",
       "  <thead>\n",
       "    <tr>\n",
       "      <th class=\"col_heading level0 col0\" >k</th>\n",
       "      <th class=\"col_heading level0 col1\" >train_score</th>\n",
       "      <th class=\"col_heading level0 col2\" >test_score</th>\n",
       "    </tr>\n",
       "  </thead>\n",
       "  <tbody>\n",
       "    <tr>\n",
       "      <td id=\"T_c80ad_row0_col0\" class=\"data row0 col0\" >15</td>\n",
       "      <td id=\"T_c80ad_row0_col1\" class=\"data row0 col1\" >0.797967</td>\n",
       "      <td id=\"T_c80ad_row0_col2\" class=\"data row0 col2\" >0.767428</td>\n",
       "    </tr>\n",
       "  </tbody>\n",
       "</table>\n"
      ],
      "text/plain": [
       "<pandas.io.formats.style.Styler at 0x179390070>"
      ]
     },
     "execution_count": 18,
     "metadata": {},
     "output_type": "execute_result"
    }
   ],
   "source": [
    "#topper\n",
    "results_df.query('test_score == test_score.max()').style.hide_index()"
   ]
  },
  {
   "cell_type": "code",
   "execution_count": null,
   "metadata": {},
   "outputs": [],
   "source": [
    "#ofc figsize isn't working -___-\n",
    "#INTERESTING!!!!! SO PLOT TWIST!!!!\n",
    "#so yeah, i guess they gave us only a small range of k's to start with, so turns out the\n",
    "#ACTUAL peak is k=15!!!!! if we go out farther\n",
    "# aH but the PRINCIPLE WE SAID STILL HOLDS TRUE!!!!\n",
    "#WHICH IS THAT - THERE WILL BE AN *OVERALL* PEAK AFTER WHICH THE SCORE *GOES BACK DOWN AGAIN!!!!\n",
    "#so the beginning / too few neighbors is too OVERFIT, and too MANY neighbors is too broad/*UNDERFIT*!!!!!\n",
    "#SO THE SWEETSPOT IS SOMEWHERE IN THE MIDDLE!!!!!!\n",
    "#####################################################################################"
   ]
  },
  {
   "cell_type": "markdown",
   "metadata": {
    "tags": []
   },
   "source": [
    "#### Using a range of neighbor values of 1-10, apply the KNearestNeighbor classifier to classify the the data."
   ]
  },
  {
   "cell_type": "code",
   "execution_count": 28,
   "metadata": {},
   "outputs": [],
   "source": [
    "from sklearn.neighbors import KNeighborsClassifier\n",
    "\n",
    "\n",
    "test_scores = []\n",
    "train_scores = []\n",
    "\n",
    "for i in range(1,10):\n",
    "\n",
    "    knn = KNeighborsClassifier(i)\n",
    "    knn.fit(X_train,y_train)\n",
    "    \n",
    "    train_scores.append(knn.score(X_train,y_train))\n",
    "    test_scores.append(knn.score(X_test,y_test))\n",
    "\n",
    "\n",
    "#WOOOOW! BUT YOU DIDN'T EVEN SCALE/STANDARDIZE *OR* USE GRIDSEARCH/kFOLD!!!!! just straight iteration!"
   ]
  },
  {
   "cell_type": "markdown",
   "metadata": {
    "tags": []
   },
   "source": [
    "**<font color='teal'> Print the train and test scores for each iteration.</font>**"
   ]
  },
  {
   "cell_type": "code",
   "execution_count": 29,
   "metadata": {},
   "outputs": [],
   "source": [
    "#did"
   ]
  },
  {
   "cell_type": "markdown",
   "metadata": {
    "tags": []
   },
   "source": [
    "**<font color='teal'> Identify the number of neighbors that resulted in the max score in the training dataset. </font>**"
   ]
  },
  {
   "cell_type": "code",
   "execution_count": 30,
   "metadata": {},
   "outputs": [],
   "source": [
    "########################################################################################## \n",
    "#of course max score of *TRAINING* will always be at k=1 for PERFECT SCORE OF 1.0! (Accuracy?)\n",
    "#Because PERFECTLY OVERFIT! aka it means that we literally drew the boundary HOWEVER WAS\n",
    "#NECESSARY to make sure everything was CATEGORIZED RIGHT!!!!! EVEN IF THAT MEANT MAKING\n",
    "#O'HARE STYLE DISCONNECTED *ISLANDS*!!!!! AKA THE VORONOI!!! EVERY POINT GOT ITS SHARD\n",
    "#OF TERRITORY SHOWING WHERE ***IT WAS THE 1ST-NEAREST-NEIGHBOR SUCH THAT IF A NEW POINT WERE\n",
    "#TO LAND IN THAT ZONE, THAT NEW POINT WOULD GET CATEGORIZED AS THAT EXISTING/REIGNING POINT'S\n",
    "#CATEGORY!!!!!!/CLASS! AND THE OVERALL 2-TONE PICTURE (FOR 2 CLASSES) SHOWING THE *OVERALL\n",
    "#DECISION BOUNDARY* IS SIMPLY THE *CONNECTION/AGGLOMERATION/CONGLOMERATION OF *ALL*\n",
    "#THE INDIVIDUAL VORONOI SHARDS PUT TOGETHER!!!!! INTO JUST THE 2 (assuming/example) CLASSES!!!!!\n",
    "##########################################################################################"
   ]
  },
  {
   "cell_type": "markdown",
   "metadata": {
    "tags": []
   },
   "source": [
    "**<font color='teal'> Identify the number of neighbors that resulted in the max score in the testing dataset. </font>**"
   ]
  },
  {
   "cell_type": "code",
   "execution_count": 31,
   "metadata": {},
   "outputs": [],
   "source": [
    "#7"
   ]
  },
  {
   "cell_type": "markdown",
   "metadata": {
    "tags": []
   },
   "source": [
    "Plot the train and test model performance by number of neighbors."
   ]
  },
  {
   "cell_type": "code",
   "execution_count": 33,
   "metadata": {},
   "outputs": [
    {
     "data": {
      "image/png": "[encoded data removed]",
      "text/plain": [
       "<Figure size 864x360 with 1 Axes>"
      ]
     },
     "metadata": {},
     "output_type": "display_data"
    }
   ],
   "source": [
    "plt.figure(figsize=(12,5))\n",
    "p = sns.lineplot(range(1,10),train_scores,marker='*',label='Train Score')\n",
    "p = sns.lineplot(range(1,10),test_scores,marker='o',label='Test Score')"
   ]
  },
  {
   "cell_type": "code",
   "execution_count": null,
   "metadata": {},
   "outputs": [],
   "source": [
    "#WOOOOOOW! lol the ONE time i don't use sns!!!! they do!!!!\n",
    "#i like this better w/ the DOTS pronounced!"
   ]
  },
  {
   "cell_type": "code",
   "execution_count": null,
   "metadata": {},
   "outputs": [],
   "source": [
    "#NOTE! theirs does look a little different, BUT THAT'S CUZ DIFFERENT RANDOM STATE!!!\n",
    "#lol oops - shoulda stuck to that - didn't think of that, for comparing results EXACTLY!\n",
    "#even tho as we know normally we don't look at TRAINING results/perf cuz want\n",
    "#MAX *GENERALIZABILITY*!!!!!! that's what it's all about!!!!!"
   ]
  },
  {
   "cell_type": "code",
   "execution_count": 157,
   "metadata": {},
   "outputs": [
    {
     "data": {
      "text/plain": [
       "Pipeline(steps=[('scaler', StandardScaler()),\n",
       "                ('knn', KNeighborsClassifier(n_neighbors=7))])"
      ]
     },
     "execution_count": 157,
     "metadata": {},
     "output_type": "execute_result"
    }
   ],
   "source": [
    "gs.best_estimator_"
   ]
  },
  {
   "cell_type": "code",
   "execution_count": 158,
   "metadata": {},
   "outputs": [
    {
     "data": {
      "text/plain": [
       "{'knn__n_neighbors': 7}"
      ]
     },
     "execution_count": 158,
     "metadata": {},
     "output_type": "execute_result"
    }
   ],
   "source": [
    "gs.best_params_"
   ]
  },
  {
   "cell_type": "code",
   "execution_count": 159,
   "metadata": {},
   "outputs": [
    {
     "data": {
      "text/plain": [
       "6"
      ]
     },
     "execution_count": 159,
     "metadata": {},
     "output_type": "execute_result"
    }
   ],
   "source": [
    "gs.best_index_"
   ]
  },
  {
   "cell_type": "code",
   "execution_count": 160,
   "metadata": {},
   "outputs": [
    {
     "data": {
      "text/plain": [
       "7"
      ]
     },
     "execution_count": 160,
     "metadata": {},
     "output_type": "execute_result"
    }
   ],
   "source": [
    "gs.best_index_ + 1"
   ]
  },
  {
   "cell_type": "markdown",
   "metadata": {
    "tags": []
   },
   "source": [
    "**<font color='teal'> Fit and score the best number of neighbors based on the plot. </font>**"
   ]
  },
  {
   "cell_type": "code",
   "execution_count": 162,
   "metadata": {},
   "outputs": [
    {
     "data": {
      "text/plain": [
       "0.70995670995671"
      ]
     },
     "execution_count": 162,
     "metadata": {},
     "output_type": "execute_result"
    }
   ],
   "source": [
    "#oh okay so this is using the WINNER like we did! for final performance in our FINAL RESERVE ACTUAL TEST SET!!!\n",
    "#THIS ROUND/UNSEEN DATA SET IS *EXCLUSIVELY* FOR THE kFOLD PRELIMINARY ELIMINATION ROUND WINNER/FINALIST!!!!!\n",
    "#but also lol, the/another point of this is that we just needa redo the WINNER so that we ONLY have ITS fit so we can do other stuff w/ it like see its specific performance on diff metrics! cuz remem – in iteration we went thru ALL of the hyperparam values so the one stored in MEMORY right now is obvy only the LAST one we tested!!! so most likely that’s not the winner, so we gotta RE-RUN things JUST for the winner so we can use it on/for final performance metrics! so yeah, really just doing the same thing as above, but for the winner, and on a FINAL / different dataset, RESERVED ESPECIALLY FOR IT! never before seen! kept secret in a case / in that room service dish, served only NOW!\n",
    "\n",
    "#real simple!\n",
    "\n",
    "best_k = gs.best_index_ + 1\n",
    "\n",
    "steps = [('scaler', StandardScaler()), ('knn', KNeighborsClassifier(n_neighbors=best_k))]\n",
    "pipeline = Pipeline(steps)\n",
    "pipeline.fit(X_train,y_train)\n",
    "\n",
    "pipeline.score(X_test,y_test)"
   ]
  },
  {
   "cell_type": "code",
   "execution_count": null,
   "metadata": {},
   "outputs": [],
   "source": [
    "#so obviously this is different than the VALIDATION TRAINING RESULTS! "
   ]
  },
  {
   "cell_type": "code",
   "execution_count": 175,
   "metadata": {},
   "outputs": [
    {
     "data": {
      "image/png": "[encoded data removed]",
      "text/plain": [
       "<Figure size 432x288 with 2 Axes>"
      ]
     },
     "metadata": {},
     "output_type": "display_data"
    }
   ],
   "source": [
    "from sklearn.metrics import confusion_matrix, ConfusionMatrixDisplay, classification_report\n",
    "y_pred = pipeline.predict(X_test) #yes! need for this!\n",
    "confmx = confusion_matrix(y_test,y_pred)\n",
    "\n",
    "ConfusionMatrixDisplay(confmx,display_labels=['No Diabetes', 'Diabetes']).plot();"
   ]
  },
  {
   "cell_type": "code",
   "execution_count": 176,
   "metadata": {},
   "outputs": [
    {
     "name": "stdout",
     "output_type": "stream",
     "text": [
      "              precision    recall  f1-score   support\n",
      "\n",
      "           0       0.75      0.83      0.79       150\n",
      "           1       0.61      0.48      0.54        81\n",
      "\n",
      "    accuracy                           0.71       231\n",
      "   macro avg       0.68      0.66      0.66       231\n",
      "weighted avg       0.70      0.71      0.70       231\n",
      "\n"
     ]
    }
   ],
   "source": [
    "print(classification_report(y_test,y_pred))"
   ]
  },
  {
   "cell_type": "markdown",
   "metadata": {
    "tags": []
   },
   "source": [
    "**<font color='teal'> Plot the confusion matrix for the model fit above. </font>**"
   ]
  },
  {
   "cell_type": "code",
   "execution_count": 36,
   "metadata": {},
   "outputs": [],
   "source": [
    "#done"
   ]
  },
  {
   "cell_type": "markdown",
   "metadata": {
    "tags": []
   },
   "source": [
    "**<font color='teal'> Print the classification report </font>**"
   ]
  },
  {
   "cell_type": "code",
   "execution_count": 37,
   "metadata": {},
   "outputs": [],
   "source": [
    "#done"
   ]
  },
  {
   "cell_type": "markdown",
   "metadata": {
    "tags": []
   },
   "source": [
    "#### In the case of the K nearest neighbors algorithm, the K parameter is one of the most important parameters affecting the model performance.  The model performance isn't horrible, but what if we didn't consider a wide enough range of values in our neighbors for the KNN? An alternative to fitting a loop of models is to use a grid search to identify the proper number. It is common practice to use a grid search method for all adjustable parameters in any type of machine learning algorithm. First, you define the grid — aka the range of values — to test in the parameter being optimized, and then compare the model outcome performance based on the different values in the grid."
   ]
  },
  {
   "cell_type": "markdown",
   "metadata": {
    "tags": []
   },
   "source": [
    "#### Run the code in the next cell to see how to implement the grid search method for identifying the best parameter value for the n_neighbors parameter. Notice the param_grid is the range value to test and we apply cross validation with five folds to score each possible value of n_neighbors."
   ]
  },
  {
   "cell_type": "code",
   "execution_count": 38,
   "metadata": {},
   "outputs": [
    {
     "data": {
      "text/plain": [
       "GridSearchCV(cv=5, error_score=nan,\n",
       "             estimator=KNeighborsClassifier(algorithm='auto', leaf_size=30,\n",
       "                                            metric='minkowski',\n",
       "                                            metric_params=None, n_jobs=None,\n",
       "                                            n_neighbors=5, p=2,\n",
       "                                            weights='uniform'),\n",
       "             iid='deprecated', n_jobs=None,\n",
       "             param_grid={'n_neighbors': array([ 1,  2,  3,  4,  5,  6,  7,  8,  9, 10, 11, 12, 13, 14, 15, 16, 17,\n",
       "       18, 19, 20, 21, 22, 23, 24, 25, 26, 27, 28, 29, 30, 31, 32, 33, 34,\n",
       "       35, 36, 37, 38, 39, 40, 41, 42, 43, 44, 45, 46, 47, 48, 49])},\n",
       "             pre_dispatch='2*n_jobs', refit=True, return_train_score=False,\n",
       "             scoring=None, verbose=0)"
      ]
     },
     "execution_count": 38,
     "metadata": {},
     "output_type": "execute_result"
    }
   ],
   "source": [
    "from sklearn.model_selection import GridSearchCV\n",
    "param_grid = {'n_neighbors':np.arange(1,50)}\n",
    "knn = KNeighborsClassifier()\n",
    "knn_cv= GridSearchCV(knn,param_grid,cv=5)\n",
    "knn_cv.fit(X,y)"
   ]
  },
  {
   "cell_type": "code",
   "execution_count": null,
   "metadata": {},
   "outputs": [],
   "source": [
    "#wait why is there an 'n_neighbors' arg within GridSearchCV() and why is it 5??\n",
    "############################################################################"
   ]
  },
  {
   "cell_type": "code",
   "execution_count": 197,
   "metadata": {},
   "outputs": [
    {
     "data": {
      "text/html": [
       "<style type=\"text/css\">\n",
       "</style>\n",
       "<table id=\"T_ee7dd_\">\n",
       "  <thead>\n",
       "    <tr>\n",
       "      <th class=\"col_heading level0 col0\" >k</th>\n",
       "      <th class=\"col_heading level0 col1\" >score</th>\n",
       "    </tr>\n",
       "  </thead>\n",
       "  <tbody>\n",
       "    <tr>\n",
       "      <td id=\"T_ee7dd_row0_col0\" class=\"data row0 col0\" >21</td>\n",
       "      <td id=\"T_ee7dd_row0_col1\" class=\"data row0 col1\" >0.759761</td>\n",
       "    </tr>\n",
       "  </tbody>\n",
       "</table>\n"
      ],
      "text/plain": [
       "<pandas.io.formats.style.Styler at 0x16ddd1700>"
      ]
     },
     "execution_count": 197,
     "metadata": {},
     "output_type": "execute_result"
    }
   ],
   "source": [
    "#0: NO K-FOLD CROSS-VALIDATION! *JUST* OVERALL TRAIN/TEST SPLIT, using manual iteration for diff k's - what they did the first time!\n",
    "    #so like just ONE overall training set/fit, then ONE test!!!\n",
    "    #JUST 'ONE-N-DONE'!\n",
    "\n",
    "#but ofc now we're gonna do w/ the FULL range!\n",
    "\n",
    "test_scores = []\n",
    "ks = []\n",
    "\n",
    "for k in range(1,51):\n",
    "\n",
    "    knn = KNeighborsClassifier(k) #oh nice! didn't even need to write out arg!\n",
    "    knn.fit(X_train,y_train)\n",
    "    ks.append(k)\n",
    "    test_scores.append(knn.score(X_test,y_test))\n",
    "    #NOTE THIS IS JUST '.SCORE' AKA A *SINGLE SCORE* AND *NOT* '.CROSS_VAL_SCORE'\n",
    "    #CUZ WE'RE *NOT DOING THAT KIND OF CROSS-VALIDATION*!!!!! JUST STRAIGHT UP TRYING\n",
    "    #EACH PARAM VALUE *ONCE*!!!!!!\n",
    "\n",
    "scores_df = pd.DataFrame({'k':ks,'score':scores})\n",
    "\n",
    "scores_df.query('score == score.max()').style.hide_index()"
   ]
  },
  {
   "cell_type": "code",
   "execution_count": 190,
   "metadata": {},
   "outputs": [
    {
     "data": {
      "text/html": [
       "<style type=\"text/css\">\n",
       "</style>\n",
       "<table id=\"T_18d59_\">\n",
       "  <thead>\n",
       "    <tr>\n",
       "      <th class=\"col_heading level0 col0\" >k</th>\n",
       "      <th class=\"col_heading level0 col1\" >score</th>\n",
       "    </tr>\n",
       "  </thead>\n",
       "  <tbody>\n",
       "    <tr>\n",
       "      <td id=\"T_18d59_row0_col0\" class=\"data row0 col0\" >29</td>\n",
       "      <td id=\"T_18d59_row0_col1\" class=\"data row0 col1\" >0.752704</td>\n",
       "    </tr>\n",
       "  </tbody>\n",
       "</table>\n"
      ],
      "text/plain": [
       "<pandas.io.formats.style.Styler at 0x179ab1df0>"
      ]
     },
     "execution_count": 190,
     "metadata": {},
     "output_type": "execute_result"
    }
   ],
   "source": [
    "#diff ways of doing cross-validation for comparing diff parameter values of ONE hyperparameter, in theory\n",
    "\n",
    "\n",
    "# 0. NO CROSS-VALIDATION! *JUST* OVERALL TRAIN/TEST SPLIT, using manual iteration for diff k's - what they did the first time!\n",
    "    #so like just ONE overall training set/fit, then ONE test!!!\n",
    "# THEN THESE OTHER 3 OPTIONS ARE *WITH* CROSS-VALIDATION!\n",
    "# 1. use kfold by itself (with manual iteration) - could do overall X/y or train/test\n",
    "# 2. use gridsearch WITH kfold - saw this in datacamp - this SHOULD be the same as #3?!?! &#1 too?!\n",
    "# 3. use gridsearch BY ITSELF - what we both did, except i didn't specify cv=5, but IT SHOULD HAVE DEFAULTED TO THAT ANYWAY!!!!!\n",
    "    #BUT ALSO!!!!!! I TOOK EXTRA STEP OF KEEPING A *RESERVE* FINAL TEST SET AND *THEY DIDN'T*!!!!!! USED THE *WHOLE THING* FOR KFCV!!!\n",
    "\n",
    "#but now it seems like MUCH OF IT IS ALL THE SAME THING!!!!!!!\n",
    "\n",
    "#so what we did above was #3, but again, it seems like the DEFAULT for gscv is 5-fold kfCV!!!!\n",
    "#so if we try it with #1 & #3, we should get the same thing??\n",
    "\n",
    "\n",
    "#1: kfold by itself - you need MANUAL iteration - i'm just gonna use WHOLE dataset\n",
    "# this SHOULD be the same as using grid search or gridsearch + kfCV! we'll see!\n",
    "\n",
    "from sklearn.model_selection import KFold, cross_val_score\n",
    "\n",
    "kf = KFold(shuffle=True,random_state=33)\n",
    "\n",
    "#OH - but remem - we may not get exact same results cuz there's RANDOMNESS INVOLVED!!!\n",
    "#and unless doing EXACT SAME model, WON'T GET EXACT SAME RESULTS W/ SAME RANDOM SEED!!!!!\n",
    "\n",
    "scores = []\n",
    "ks = []\n",
    "\n",
    "for k in range(1,51):\n",
    "    knn = KNeighborsClassifier(n_neighbors=k)\n",
    "    scores.append(cross_val_score(knn,X,y,cv=kf).mean())\n",
    "    ks.append(k)\n",
    "    #to make it easy we're just doing OVERALL X/y!!!\n",
    "    #but strictly speaking you should just do this on X_TRAIN/y_TRAIN!!!!!\n",
    "\n",
    "scores_df = pd.DataFrame({'k':ks,'score':scores})\n",
    "\n",
    "scores_df.query('score == score.max()').style.hide_index()"
   ]
  },
  {
   "cell_type": "code",
   "execution_count": 196,
   "metadata": {},
   "outputs": [
    {
     "data": {
      "text/html": [
       "<style type=\"text/css\">\n",
       "</style>\n",
       "<table id=\"T_d188b_\">\n",
       "  <thead>\n",
       "    <tr>\n",
       "      <th class=\"col_heading level0 col0\" >k</th>\n",
       "      <th class=\"col_heading level0 col1\" >score</th>\n",
       "    </tr>\n",
       "  </thead>\n",
       "  <tbody>\n",
       "    <tr>\n",
       "      <td id=\"T_d188b_row0_col0\" class=\"data row0 col0\" >21</td>\n",
       "      <td id=\"T_d188b_row0_col1\" class=\"data row0 col1\" >0.759761</td>\n",
       "    </tr>\n",
       "  </tbody>\n",
       "</table>\n"
      ],
      "text/plain": [
       "<pandas.io.formats.style.Styler at 0x179b4db50>"
      ]
     },
     "execution_count": 196,
     "metadata": {},
     "output_type": "execute_result"
    }
   ],
   "source": [
    "#1B: let's try w/ just train to see in case any diff?\n",
    "\n",
    "from sklearn.model_selection import KFold, cross_val_score\n",
    "\n",
    "kf = KFold(shuffle=True,random_state=33)\n",
    "\n",
    "scores = []\n",
    "ks = []\n",
    "\n",
    "for k in range(1,51):\n",
    "    knn = KNeighborsClassifier(n_neighbors=k)\n",
    "    scores.append(cross_val_score(knn,X_train,y_train,cv=kf).mean()) #they MOSTLY did this on train!!!\n",
    "    ks.append(k)\n",
    "\n",
    "scores_df = pd.DataFrame({'k':ks,'score':scores})\n",
    "\n",
    "scores_df.query('score == score.max()').style.hide_index()"
   ]
  },
  {
   "cell_type": "code",
   "execution_count": null,
   "metadata": {},
   "outputs": [],
   "source": [
    "#BTW! NOTE ALL THIS IS WITHOUT SCALING!!! skipping that part for now!"
   ]
  },
  {
   "cell_type": "code",
   "execution_count": 195,
   "metadata": {},
   "outputs": [
    {
     "data": {
      "text/plain": [
       "({'n_neighbors': 21}, 0.759761163032191)"
      ]
     },
     "execution_count": 195,
     "metadata": {},
     "output_type": "execute_result"
    }
   ],
   "source": [
    "# 2. use gridsearch WITH kfold - saw this in datacamp - this SHOULD be the same as #3?!?!\n",
    "\n",
    "from sklearn.model_selection import KFold\n",
    "\n",
    "knn = KNeighborsClassifier()\n",
    "\n",
    "kf = KFold(shuffle=True,random_state=33)\n",
    "\n",
    "params = {\"n_neighbors\": np.arange(1, 51)}\n",
    "\n",
    "gskcv = GridSearchCV(knn, params, cv=kf)\n",
    "\n",
    "gskcv.fit(X_train,y_train) #they ALWAYS did this on train!\n",
    "\n",
    "gskcv.best_params_, gskcv.best_score_\n"
   ]
  },
  {
   "cell_type": "code",
   "execution_count": null,
   "metadata": {},
   "outputs": [],
   "source": [
    "#ALHAMDULILLAHI RABBIL 'AALAMEEN!!!!!!! EXACT SAME RESULTS AS #1B!!!!!!"
   ]
  },
  {
   "cell_type": "code",
   "execution_count": null,
   "metadata": {},
   "outputs": [],
   "source": [
    "#OHHHHHHH! SO IF WE'RE USING GRIDSEARCH *WITHOUT* A PIPELINE THEN WE DON'T NEEDA WRITE\n",
    "#'knn__n_neighbors' but rather JUST 'n_neighbors'!!!!! cuz that 'knn' is referencing the\n",
    "#'knn' name we give in *STEPS*!!!!!!!!!!!!!!!!!!!!!!!!!!!"
   ]
  },
  {
   "cell_type": "code",
   "execution_count": 203,
   "metadata": {},
   "outputs": [
    {
     "data": {
      "text/plain": [
       "({'n_neighbors': 40}, 0.7412945655936309)"
      ]
     },
     "execution_count": 203,
     "metadata": {},
     "output_type": "execute_result"
    }
   ],
   "source": [
    "#okay and finally, #3! which is what we already did, but this time just gonna expand the range! iA\n",
    "#OH! and also this time gonna SKIP SCALING!!!!! to keep consistent w/ these 2 so can compare!\n",
    "\n",
    "#3: GridSearch BY ITSELF! - should be the same as the above 2, aka USING 5-FOLD kFoldCV!!!!!!\n",
    "\n",
    "params = {\"n_neighbors\": np.arange(1,51)}\n",
    "\n",
    "knn = KNeighborsClassifier()\n",
    "\n",
    "gs = GridSearchCV(knn, params)\n",
    "\n",
    "gs.fit(X_train, y_train) #seems like they ALWAYS did this on train!!!\n",
    "\n",
    "gs.best_params_, gs.best_score_"
   ]
  },
  {
   "cell_type": "code",
   "execution_count": 202,
   "metadata": {},
   "outputs": [
    {
     "data": {
      "text/plain": [
       "({'n_neighbors': 40}, 0.7412945655936309)"
      ]
     },
     "execution_count": 202,
     "metadata": {},
     "output_type": "execute_result"
    }
   ],
   "source": [
    "#SO THE REASON THIS ONE TURNED OUT DIFFERENTLY IS CUZ WE LET GRIDSEARCH\n",
    "#USE ITS *AUTOMATIC* METHOD FOR OUR SITUATION WHICH WAS TO USE *STRATIFIED*KFOLD\n",
    "#AND *WITHOUT* SHUFFLING!!!!!! we did regular, NON-stratified KFold and WITH shuffling!!!!\n",
    "#so if we manually try to match THESE, we should expect to see the same results INSHA'ALLAH!!!!!!\n",
    "\n",
    "#let's finally try what THEY did in the end, of the same thing but specifying cv!\n",
    "\n",
    "#3A - OH! but we're gonna use Xtrain/ytrain again - remem, THEY USED *WHOLE* X/y FOR SOME REASON!??!\n",
    "\n",
    "params = {\"n_neighbors\": np.arange(1,51)}\n",
    "\n",
    "knn = KNeighborsClassifier()\n",
    "\n",
    "gs = GridSearchCV(knn, params, cv=5)\n",
    "\n",
    "gs.fit(X_train, y_train) #seems like they ALWAYS did this on train!!!\n",
    "\n",
    "gs.best_params_, gs.best_score_\n",
    "\n"
   ]
  },
  {
   "cell_type": "code",
   "execution_count": null,
   "metadata": {},
   "outputs": [],
   "source": [
    "#yep!!!!!! EXACT SAME THING! SO YEAH - CV=5 BY DEFAULT! so yeah they really didn't\n",
    "#need to write it out but maybe did so just to show what it was in any case"
   ]
  },
  {
   "cell_type": "code",
   "execution_count": 201,
   "metadata": {},
   "outputs": [
    {
     "data": {
      "text/plain": [
       "({'n_neighbors': 31}, 0.7526440879382056)"
      ]
     },
     "execution_count": 201,
     "metadata": {},
     "output_type": "execute_result"
    }
   ],
   "source": [
    "#3B - autogridsearch, WHOLE X/y\n",
    "\n",
    "#Lastly, let's see if we get their result by using WHOLE X/y!\n",
    "\n",
    "params = {\"n_neighbors\": np.arange(1,51)}\n",
    "\n",
    "knn = KNeighborsClassifier()\n",
    "\n",
    "gs = GridSearchCV(knn, params)\n",
    "\n",
    "gs.fit(X, y) #seems like they ALWAYS did this on train!!!\n",
    "\n",
    "gs.best_params_, gs.best_score_"
   ]
  },
  {
   "cell_type": "code",
   "execution_count": 204,
   "metadata": {},
   "outputs": [
    {
     "data": {
      "text/plain": [
       "({'n_neighbors': 31}, 0.7526440879382056)"
      ]
     },
     "execution_count": 204,
     "metadata": {},
     "output_type": "execute_result"
    }
   ],
   "source": [
    "#wait this is diff than what they got...\n",
    "\n",
    "#let's confirm that this is same as specifying cv=5, like they did? cuz that seems\n",
    "#to be only difference?\n",
    "\n",
    "#3B2\n",
    "\n",
    "params = {\"n_neighbors\": np.arange(1,51)}\n",
    "\n",
    "knn = KNeighborsClassifier()\n",
    "\n",
    "gs = GridSearchCV(knn, params, cv=5)\n",
    "\n",
    "gs.fit(X, y) #seems like they ALWAYS did this on train!!!\n",
    "\n",
    "gs.best_params_, gs.best_score_"
   ]
  },
  {
   "cell_type": "code",
   "execution_count": null,
   "metadata": {},
   "outputs": [],
   "source": [
    "#hmm yeah - stayed the same. so it must be different cuz of DIFFERENT RANDOM STATE!!!\n",
    "#in fact,... LET'S TRY THEIR RANDOM STATE!!!!\n",
    "\n",
    "#OHHHHHHHH! JUST REALIZED!!!!! THEY NEVER ACTUALLY SPECIFY A RANDOM STATE IN ANY OF THE\n",
    "#CODE BLOCKS!!!!! THEY ONLY DID THAT THING IN THE VERY BEGINNING!!!!!\n",
    "#MY GUESS IS THAT WAS TO SET THAT AS THE RANDOM STATE FOR ANY CODE WHERE A RANDOM STATE\n",
    "#WAS APPLICABLE?!?!?!??!?!!?!? AS LIKE A PERMANENT SETTING?!?!!??!!?!?\n",
    "\n",
    "#and i changed it lol from the original *AND* i set it anyway lol, or atleast REFERENCED\n",
    "#IT as a variable, which i also didn't even need to do! but they used 42, so i'm gonna\n",
    "#MANUALLY try using that to see if we can match/reproduce their results!!!!!\n",
    "\n",
    "#OH SHOOT AND THEY PROBABLY ALSO DIDN'T STRATIFY LIKE I DID?!?!?!?!?!?!!?\n",
    "\n",
    "#going back to #3B:\n",
    "\n",
    "#3B-3\n",
    "\n",
    "X_train2, X_test2, y_train2, y_test2 = train_test_split(X,y,test_size=.3,random_state=42)\n",
    "\n",
    "params = {\"n_neighbors\": np.arange(1,51)}\n",
    "\n",
    "knn = KNeighborsClassifier()\n",
    "\n",
    "gs = GridSearchCV(knn, params)\n",
    "\n",
    "gs.fit(X, y)\n",
    "\n",
    "#OHHHHHHHHHHHHHHHHHH WAIT! so they ONLY used X & y, not like train, so...\n",
    "#that would mean it DIDN'T MATTER if we used a different random state & did stratify....\n",
    "#CUZ THAT ONLY APPLIES TO TRAIN/TEST SPLITTING AND THEY DIDN'T DO THAT FOR THIS!!!!!\n",
    "#THEY ONLY DID THAT FOR THE 1ST WAY W/ UP TO K=11!!!!!!!!!\n",
    "#SO THEN, WHY WOULD WE HAVE DIFFERENT RESULTS?!!?!? WHAT'S DIFFERENT THEN?!?!?!!?\n",
    "#OUR X'S & y's SHOULD BE THE SAME AS EACH OTHER!!!!\n",
    "#other than that, we can see that everything else IS the same as each other!!!!!!\n",
    "####################################################################################\n",
    "\n",
    "gs.best_params_, gs.best_score_"
   ]
  },
  {
   "cell_type": "code",
   "execution_count": 208,
   "metadata": {},
   "outputs": [
    {
     "data": {
      "text/plain": [
       "({'n_neighbors': 31}, 0.7526440879382056)"
      ]
     },
     "execution_count": 208,
     "metadata": {},
     "output_type": "execute_result"
    }
   ],
   "source": [
    "#now that we figured out the stratify thing! should be able to match 3B/2 results:\n",
    "\n",
    "#3X\n",
    "\n",
    "params = {\"n_neighbors\": np.arange(1,51)}\n",
    "\n",
    "skf = StratifiedKFold()\n",
    "\n",
    "knn = KNeighborsClassifier()\n",
    "\n",
    "gs = GridSearchCV(knn, params, cv=skf)\n",
    "\n",
    "gs.fit(X, y) #seems like they ALWAYS did this on train!!!\n",
    "\n",
    "gs.best_params_, gs.best_score_"
   ]
  },
  {
   "cell_type": "code",
   "execution_count": null,
   "metadata": {},
   "outputs": [],
   "source": [
    "#THERE IT IS ALHAMDULILLAHI RABBIL 'AALAMEEN!!!!!"
   ]
  },
  {
   "cell_type": "code",
   "execution_count": null,
   "metadata": {},
   "outputs": [],
   "source": [
    "#okay at least that's same - so i guess just random state issue...\n",
    "#but how could the k's vary that drastically?!?!?!\n",
    "######################################################################"
   ]
  },
  {
   "cell_type": "code",
   "execution_count": 206,
   "metadata": {},
   "outputs": [
    {
     "data": {
      "text/plain": [
       "({'n_neighbors': 37}, 0.7468847352024922)"
      ]
     },
     "execution_count": 206,
     "metadata": {},
     "output_type": "execute_result"
    }
   ],
   "source": [
    "#4X\n",
    "\n",
    "#okay, so last thing is - let's try matching the results of #3 manually\n",
    "#by doing kfold WITHOUT stratifying & shuffling! rest same. so will build using #2! but modified from that\n",
    "\n",
    "\n",
    "from sklearn.model_selection import KFold\n",
    "\n",
    "knn = KNeighborsClassifier()\n",
    "\n",
    "kf = KFold()\n",
    "\n",
    "params = {\"n_neighbors\": np.arange(1, 51)}\n",
    "\n",
    "gskcv = GridSearchCV(knn, params, cv=kf)\n",
    "\n",
    "gskcv.fit(X_train,y_train) #they ALWAYS did this on train!\n",
    "\n",
    "gskcv.best_params_, gskcv.best_score_\n",
    "\n"
   ]
  },
  {
   "cell_type": "code",
   "execution_count": null,
   "metadata": {},
   "outputs": [],
   "source": [
    "#okay this doesn't match any situation cuz  it's reg nonstrat kf, WITHOUT shuffling,\n",
    "#AND we're using train/test"
   ]
  },
  {
   "cell_type": "code",
   "execution_count": 207,
   "metadata": {},
   "outputs": [
    {
     "data": {
      "text/plain": [
       "({'n_neighbors': 40}, 0.7412945655936309)"
      ]
     },
     "execution_count": 207,
     "metadata": {},
     "output_type": "execute_result"
    }
   ],
   "source": [
    "#okay, so:\n",
    "    #so if you use GridSearch WITHOUT specifying anything for cv, it's the same as specifying\n",
    "    #cv=5 - we confirmed that\n",
    "    #but we saw it's NOT the same as kfold=5 w/ shuffle OR without shuffle\n",
    "    #DOC says the integer you put in cv= for GridSearch arg will use STRATIFIED KFold\n",
    "    #if y is BINARY or MULTICLASS, aka *DISCRETE/CATEGORICAL*!\n",
    "    #AND IN THIS CASE IT IS!!!!! (otherwise, for CONTINUOUS y, it'll use REGULAR kfold!)\n",
    "    #but in EITHER of those cases it DOESN'T shuffle!!!\n",
    "\n",
    "#OHHH, so we gotta use STRATIFIED Kfold!!!!\n",
    "\n",
    "#so this is SEPARATE from stratifying the TRAIN/TEST SPLIT!!!!!\n",
    "#remem, kfold is splitting the TRAINING split!!!!!\n",
    "\n",
    "#let's give it a whirl!!!!!\n",
    "\n",
    "#4 (Really the method of #2 from earlier/above, but w/ STRAT and NO SHUFFLE!)\n",
    "\n",
    "from sklearn.model_selection import StratifiedKFold\n",
    "\n",
    "knn = KNeighborsClassifier()\n",
    "\n",
    "skf = StratifiedKFold() #shuffle False by default here too like reg KFold\n",
    "\n",
    "params = {\"n_neighbors\": np.arange(1, 51)}\n",
    "\n",
    "gskcv = GridSearchCV(knn, params, cv=skf)\n",
    "\n",
    "gskcv.fit(X_train,y_train) #they ALWAYS did this on train!\n",
    "\n",
    "gskcv.best_params_, gskcv.best_score_\n"
   ]
  },
  {
   "cell_type": "code",
   "execution_count": 194,
   "metadata": {},
   "outputs": [
    {
     "data": {
      "text/plain": [
       "dict_keys(['algorithm', 'leaf_size', 'metric', 'metric_params', 'n_jobs', 'n_neighbors', 'p', 'weights'])"
      ]
     },
     "execution_count": 194,
     "metadata": {},
     "output_type": "execute_result"
    }
   ],
   "source": [
    "####################################################################################\n",
    "#ran this cuz at first got the error message from the above about 'knn' and it said check\n",
    "#these keys to see which are legit calls, then realized it was talking about how in\n",
    "#params i had put 'knn__n_neighbors' cuz that's what i was used to doing, but realized\n",
    "#THAT'S ONLY FOR IF YOU'RE USING *PIPELINE* cuz that's how we instantiated knn!!!!!\n",
    "#aka WITHIN/SIDE THE PIPELINE! but here w/o pipeline, it's standalone. so yeah, that knn\n",
    "#was to refer to the name we gave it inside the pipeline instantiater. and reason we're not\n",
    "#doing pipeline here is cuz not doing TRANSFORMATION like standardization/impute etc!\n",
    "\n",
    "knn.get_params().keys()"
   ]
  },
  {
   "cell_type": "code",
   "execution_count": 185,
   "metadata": {},
   "outputs": [
    {
     "data": {
      "text/html": [
       "<div>\n",
       "<style scoped>\n",
       "    .dataframe tbody tr th:only-of-type {\n",
       "        vertical-align: middle;\n",
       "    }\n",
       "\n",
       "    .dataframe tbody tr th {\n",
       "        vertical-align: top;\n",
       "    }\n",
       "\n",
       "    .dataframe thead th {\n",
       "        text-align: right;\n",
       "    }\n",
       "</style>\n",
       "<table border=\"1\" class=\"dataframe\">\n",
       "  <thead>\n",
       "    <tr style=\"text-align: right;\">\n",
       "      <th></th>\n",
       "      <th>k</th>\n",
       "      <th>score</th>\n",
       "    </tr>\n",
       "  </thead>\n",
       "  <tbody>\n",
       "    <tr>\n",
       "      <th>0</th>\n",
       "      <td>1</td>\n",
       "      <td>0.716145</td>\n",
       "    </tr>\n",
       "    <tr>\n",
       "      <th>1</th>\n",
       "      <td>2</td>\n",
       "      <td>0.720058</td>\n",
       "    </tr>\n",
       "    <tr>\n",
       "      <th>2</th>\n",
       "      <td>3</td>\n",
       "      <td>0.716136</td>\n",
       "    </tr>\n",
       "    <tr>\n",
       "      <th>3</th>\n",
       "      <td>4</td>\n",
       "      <td>0.734411</td>\n",
       "    </tr>\n",
       "    <tr>\n",
       "      <th>4</th>\n",
       "      <td>5</td>\n",
       "      <td>0.738358</td>\n",
       "    </tr>\n",
       "    <tr>\n",
       "      <th>5</th>\n",
       "      <td>6</td>\n",
       "      <td>0.742212</td>\n",
       "    </tr>\n",
       "    <tr>\n",
       "      <th>6</th>\n",
       "      <td>7</td>\n",
       "      <td>0.737043</td>\n",
       "    </tr>\n",
       "    <tr>\n",
       "      <th>7</th>\n",
       "      <td>8</td>\n",
       "      <td>0.746185</td>\n",
       "    </tr>\n",
       "    <tr>\n",
       "      <th>8</th>\n",
       "      <td>9</td>\n",
       "      <td>0.746185</td>\n",
       "    </tr>\n",
       "    <tr>\n",
       "      <th>9</th>\n",
       "      <td>10</td>\n",
       "      <td>0.750081</td>\n",
       "    </tr>\n",
       "    <tr>\n",
       "      <th>10</th>\n",
       "      <td>11</td>\n",
       "      <td>0.747483</td>\n",
       "    </tr>\n",
       "    <tr>\n",
       "      <th>11</th>\n",
       "      <td>12</td>\n",
       "      <td>0.748799</td>\n",
       "    </tr>\n",
       "    <tr>\n",
       "      <th>12</th>\n",
       "      <td>13</td>\n",
       "      <td>0.742297</td>\n",
       "    </tr>\n",
       "    <tr>\n",
       "      <th>13</th>\n",
       "      <td>14</td>\n",
       "      <td>0.739666</td>\n",
       "    </tr>\n",
       "    <tr>\n",
       "      <th>14</th>\n",
       "      <td>15</td>\n",
       "      <td>0.742288</td>\n",
       "    </tr>\n",
       "    <tr>\n",
       "      <th>15</th>\n",
       "      <td>16</td>\n",
       "      <td>0.739691</td>\n",
       "    </tr>\n",
       "    <tr>\n",
       "      <th>16</th>\n",
       "      <td>17</td>\n",
       "      <td>0.743604</td>\n",
       "    </tr>\n",
       "    <tr>\n",
       "      <th>17</th>\n",
       "      <td>18</td>\n",
       "      <td>0.744894</td>\n",
       "    </tr>\n",
       "    <tr>\n",
       "      <th>18</th>\n",
       "      <td>19</td>\n",
       "      <td>0.744911</td>\n",
       "    </tr>\n",
       "    <tr>\n",
       "      <th>19</th>\n",
       "      <td>20</td>\n",
       "      <td>0.748833</td>\n",
       "    </tr>\n",
       "    <tr>\n",
       "      <th>20</th>\n",
       "      <td>21</td>\n",
       "      <td>0.748799</td>\n",
       "    </tr>\n",
       "    <tr>\n",
       "      <th>21</th>\n",
       "      <td>22</td>\n",
       "      <td>0.744894</td>\n",
       "    </tr>\n",
       "    <tr>\n",
       "      <th>22</th>\n",
       "      <td>23</td>\n",
       "      <td>0.746193</td>\n",
       "    </tr>\n",
       "    <tr>\n",
       "      <th>23</th>\n",
       "      <td>24</td>\n",
       "      <td>0.744894</td>\n",
       "    </tr>\n",
       "    <tr>\n",
       "      <th>24</th>\n",
       "      <td>25</td>\n",
       "      <td>0.744886</td>\n",
       "    </tr>\n",
       "    <tr>\n",
       "      <th>25</th>\n",
       "      <td>26</td>\n",
       "      <td>0.739700</td>\n",
       "    </tr>\n",
       "    <tr>\n",
       "      <th>26</th>\n",
       "      <td>27</td>\n",
       "      <td>0.740973</td>\n",
       "    </tr>\n",
       "    <tr>\n",
       "      <th>27</th>\n",
       "      <td>28</td>\n",
       "      <td>0.744886</td>\n",
       "    </tr>\n",
       "    <tr>\n",
       "      <th>28</th>\n",
       "      <td>29</td>\n",
       "      <td>0.752704</td>\n",
       "    </tr>\n",
       "    <tr>\n",
       "      <th>29</th>\n",
       "      <td>30</td>\n",
       "      <td>0.748807</td>\n",
       "    </tr>\n",
       "    <tr>\n",
       "      <th>30</th>\n",
       "      <td>31</td>\n",
       "      <td>0.747500</td>\n",
       "    </tr>\n",
       "    <tr>\n",
       "      <th>31</th>\n",
       "      <td>32</td>\n",
       "      <td>0.750106</td>\n",
       "    </tr>\n",
       "    <tr>\n",
       "      <th>32</th>\n",
       "      <td>33</td>\n",
       "      <td>0.744894</td>\n",
       "    </tr>\n",
       "    <tr>\n",
       "      <th>33</th>\n",
       "      <td>34</td>\n",
       "      <td>0.746210</td>\n",
       "    </tr>\n",
       "    <tr>\n",
       "      <th>34</th>\n",
       "      <td>35</td>\n",
       "      <td>0.746202</td>\n",
       "    </tr>\n",
       "    <tr>\n",
       "      <th>35</th>\n",
       "      <td>36</td>\n",
       "      <td>0.748816</td>\n",
       "    </tr>\n",
       "    <tr>\n",
       "      <th>36</th>\n",
       "      <td>37</td>\n",
       "      <td>0.744894</td>\n",
       "    </tr>\n",
       "    <tr>\n",
       "      <th>37</th>\n",
       "      <td>38</td>\n",
       "      <td>0.738384</td>\n",
       "    </tr>\n",
       "    <tr>\n",
       "      <th>38</th>\n",
       "      <td>39</td>\n",
       "      <td>0.734479</td>\n",
       "    </tr>\n",
       "    <tr>\n",
       "      <th>39</th>\n",
       "      <td>40</td>\n",
       "      <td>0.734496</td>\n",
       "    </tr>\n",
       "    <tr>\n",
       "      <th>40</th>\n",
       "      <td>41</td>\n",
       "      <td>0.733214</td>\n",
       "    </tr>\n",
       "    <tr>\n",
       "      <th>41</th>\n",
       "      <td>42</td>\n",
       "      <td>0.735795</td>\n",
       "    </tr>\n",
       "    <tr>\n",
       "      <th>42</th>\n",
       "      <td>43</td>\n",
       "      <td>0.739708</td>\n",
       "    </tr>\n",
       "    <tr>\n",
       "      <th>43</th>\n",
       "      <td>44</td>\n",
       "      <td>0.744920</td>\n",
       "    </tr>\n",
       "    <tr>\n",
       "      <th>44</th>\n",
       "      <td>45</td>\n",
       "      <td>0.739691</td>\n",
       "    </tr>\n",
       "    <tr>\n",
       "      <th>45</th>\n",
       "      <td>46</td>\n",
       "      <td>0.743613</td>\n",
       "    </tr>\n",
       "    <tr>\n",
       "      <th>46</th>\n",
       "      <td>47</td>\n",
       "      <td>0.742297</td>\n",
       "    </tr>\n",
       "    <tr>\n",
       "      <th>47</th>\n",
       "      <td>48</td>\n",
       "      <td>0.737102</td>\n",
       "    </tr>\n",
       "    <tr>\n",
       "      <th>48</th>\n",
       "      <td>49</td>\n",
       "      <td>0.731890</td>\n",
       "    </tr>\n",
       "    <tr>\n",
       "      <th>49</th>\n",
       "      <td>50</td>\n",
       "      <td>0.739691</td>\n",
       "    </tr>\n",
       "  </tbody>\n",
       "</table>\n",
       "</div>"
      ],
      "text/plain": [
       "     k     score\n",
       "0    1  0.716145\n",
       "1    2  0.720058\n",
       "2    3  0.716136\n",
       "3    4  0.734411\n",
       "4    5  0.738358\n",
       "5    6  0.742212\n",
       "6    7  0.737043\n",
       "7    8  0.746185\n",
       "8    9  0.746185\n",
       "9   10  0.750081\n",
       "10  11  0.747483\n",
       "11  12  0.748799\n",
       "12  13  0.742297\n",
       "13  14  0.739666\n",
       "14  15  0.742288\n",
       "15  16  0.739691\n",
       "16  17  0.743604\n",
       "17  18  0.744894\n",
       "18  19  0.744911\n",
       "19  20  0.748833\n",
       "20  21  0.748799\n",
       "21  22  0.744894\n",
       "22  23  0.746193\n",
       "23  24  0.744894\n",
       "24  25  0.744886\n",
       "25  26  0.739700\n",
       "26  27  0.740973\n",
       "27  28  0.744886\n",
       "28  29  0.752704\n",
       "29  30  0.748807\n",
       "30  31  0.747500\n",
       "31  32  0.750106\n",
       "32  33  0.744894\n",
       "33  34  0.746210\n",
       "34  35  0.746202\n",
       "35  36  0.748816\n",
       "36  37  0.744894\n",
       "37  38  0.738384\n",
       "38  39  0.734479\n",
       "39  40  0.734496\n",
       "40  41  0.733214\n",
       "41  42  0.735795\n",
       "42  43  0.739708\n",
       "43  44  0.744920\n",
       "44  45  0.739691\n",
       "45  46  0.743613\n",
       "46  47  0.742297\n",
       "47  48  0.737102\n",
       "48  49  0.731890\n",
       "49  50  0.739691"
      ]
     },
     "execution_count": 185,
     "metadata": {},
     "output_type": "execute_result"
    }
   ],
   "source": [
    "scores_df"
   ]
  },
  {
   "cell_type": "code",
   "execution_count": null,
   "metadata": {},
   "outputs": [],
   "source": [
    "#ohhh.. but they said to go only till 10? and also THEY STILL DIDN'T STANDARDIZE?!\n",
    "#and did they ever show that they avoided data leakage?!\n",
    "################################################################################"
   ]
  },
  {
   "cell_type": "code",
   "execution_count": 210,
   "metadata": {},
   "outputs": [
    {
     "data": {
      "text/html": [
       "<style type=\"text/css\">\n",
       "</style>\n",
       "<table id=\"T_5419f_\">\n",
       "  <thead>\n",
       "    <tr>\n",
       "      <th class=\"col_heading level0 col0\" >k</th>\n",
       "      <th class=\"col_heading level0 col1\" >score</th>\n",
       "    </tr>\n",
       "  </thead>\n",
       "  <tbody>\n",
       "    <tr>\n",
       "      <td id=\"T_5419f_row0_col0\" class=\"data row0 col0\" >40</td>\n",
       "      <td id=\"T_5419f_row0_col1\" class=\"data row0 col1\" >0.741295</td>\n",
       "    </tr>\n",
       "  </tbody>\n",
       "</table>\n"
      ],
      "text/plain": [
       "<pandas.io.formats.style.Styler at 0x16dcc2310>"
      ]
     },
     "execution_count": 210,
     "metadata": {},
     "output_type": "execute_result"
    }
   ],
   "source": [
    "########################################################################\n",
    "#Okay so verdict is:\n",
    "#GridSearch DOES ALWAYS use kfold cross validation\n",
    "#but there are TWO DIFFERENT KINDS OF KFOLD!!!!!!\n",
    "#there's regular, which is UNSTRATIFIED\n",
    "#then there's a special STRATIFIED ONE!\n",
    "#in either case, it will do it *UNSHUFFLED*!!!!!!\n",
    "\n",
    "#What dictates which one to use is whether your y is DISCRETE OR CONTINUOUS!!!!\n",
    "#if discrete, LIKE WE HAVE HERE, you use STRATIFIEDKFold\n",
    "#you don't have to specify it - you can make it easy and simply leave it BLANK\n",
    "#AND LET IT DO THAT FOR YOU!!!! don't even do cv=5! CUZ THAT'S DEFAULT!\n",
    "\n",
    "#if continuous, then you needa use REGULAR KFold\n",
    "#but again, if that's your situation, it'll do that for you\n",
    "\n",
    "#so bottom line is - YOU REALLY SHOULD NEVER BOTHER SPECIFYING KFOLDCV!!!!!!\n",
    "#JUST DON'T RISK IT!!!!! PLUS IT'S JUST MORE WORK FOR YOU!!!!\n",
    "#LET IT HANDLE IT FOR YOU AUTOMATICALLY!!!!!\n",
    "#like you can specify the CV *INTEGER* IF YOU LIKE, and it'll pass that on\n",
    "#to the appropriate (Stratified)KFold for n_folds >> AHHHHHH! OKAY GET IT NOW WHY THEY WROTE IT LIKE THAT IN PARENTHS!!!!!!\n",
    "\n",
    "#So yeah - confirmed that there's no such thing as using GridSearch with NO folds!!!\n",
    "#you can do the WHOLE X/y i guess but that's not technically the right way! shame on them lol\n",
    "\n",
    "#it'll ALWAYS do folds, it's just a matter of stratified vs. not\n",
    "\n",
    "#so yeah, bottom line: *DON'T BOTHER SPECIFYING/INSTANTIATING (STRATIFIED/)KFOLD\n",
    "#WITH GRIDSEARCH!!!!! IN FACT, DON'T EVEN SPECIFY CV!!!!! LEAVE THAT ALONE!!!!\n",
    "#this will make sure the shuffling is right too\n",
    "#but WAIT... so is it that you're NOT SUPPOSED TO SHUFFLE when using GridSearch....\n",
    "#cuz it sounds like in EITHER case it turns shuffle off...\n",
    "#whereas with kfold you actually have the choice...\n",
    "#cuz so like if we use shuffle - whether manual iteration kfold or GRIDSEARCH kfold -\n",
    "#GridSearch works and gives us the same answer as manual kfold iteration\n",
    "#but when we DON'T shuffle / use native GSCV, it's a different answer...\n",
    "#SO WHAT'S \"RIGHT\"?!?!?!??!?!??!?!?!?!?!?!?!?!?!?!??!?!??!??!?!??!??!!?!??!?!?!?!?!?!?!?!?!?!?\n",
    "\n",
    "#note they didn't use Kfold.....\n",
    "#So like - i def don't remember being taught this - but when we did manual iteration\n",
    "#kfold, like why is it offered to set shuffle=True then?!\n",
    "#cuz if you do manual iteration single score way (0) or manual kfold iteration way (1),\n",
    "#obvy in 0 shuffling's not applicable cuz no folds, but in 1, like are we supposed to NOT\n",
    "#use reg kfold but rather StratKFOLD?!\n",
    "#in fact, let's try now!!!\n",
    "\n",
    "#1B-StratKFold, No Shuffle! and ofc no random state cuz NOT APPLICABLE IF NO SHUFFLE! random state's whole purpose/existence is only for/contingent on shuffle!!!!! to retain/replicate!\n",
    "skf = StratifiedKFold()\n",
    "\n",
    "scores = []\n",
    "ks = []\n",
    "\n",
    "for k in range(1,51):\n",
    "    knn = KNeighborsClassifier(n_neighbors=k)\n",
    "    scores.append(cross_val_score(knn,X_train,y_train,cv=skf).mean()) #they MOSTLY did this on train!!!\n",
    "    ks.append(k)\n",
    "\n",
    "scores_df = pd.DataFrame({'k':ks,'score':scores})\n",
    "\n",
    "scores_df.query('score == score.max()').style.hide_index()\n",
    "\n",
    "\n",
    "################################################################################\n",
    "#YOU JUST FOCUS ON YOUR SCALING/IMPUTING/TRANSFORMATION & MODELING PARAMS GRID/MATRIX!!!!!!\n",
    "\n",
    "#OH WOW!!!!!! so yeah just realized we coulda solved this WHOLE PROBLEM just in a few lines\n",
    "#w/ pipeline building in IMPUTER!!!!!! to take care of nans! Oh wait - not quite tho - we\n",
    "#stil woulda had to do first step manually of RECOGNIZING WHICH 0'S WERE LEGIT AND WHICH\n",
    "#WERE PHONY!!!!! THAT'S WHERE THE DATA SCIENTIST'S MIND/JUDGEMENT COMES INTO PLAY!!!!!\n",
    "#THEN THE REST IS SMOOTH SAILING, JUST PUSHING A FEW BUTTONS TO PUT/SLATE EVERYTHING INTO PLACE!!!!!\n",
    "\n",
    "############################################################################################\n"
   ]
  },
  {
   "cell_type": "markdown",
   "metadata": {
    "tags": []
   },
   "source": [
    "#### Print the best score and best parameter for n_neighbors."
   ]
  },
  {
   "cell_type": "code",
   "execution_count": 93,
   "metadata": {},
   "outputs": [
    {
     "name": "stdout",
     "output_type": "stream",
     "text": [
      "Best Score:0.7578125\n",
      "Best Parameters: {'n_neighbors': 14}\n"
     ]
    }
   ],
   "source": [
    "print(\"Best Score:\" + str(knn_cv.best_score_))\n",
    "print(\"Best Parameters: \" + str(knn_cv.best_params_))"
   ]
  },
  {
   "cell_type": "markdown",
   "metadata": {},
   "source": [
    "Here you can see that the ideal number of n_neighbors for this model is 14 based on the grid search performed. "
   ]
  },
  {
   "attachments": {},
   "cell_type": "markdown",
   "metadata": {
    "tags": []
   },
   "source": [
    "**<font color='teal'> Now, following the KNN example, apply this grid search method to find the optimal number of estimators in a Random Forest model.\n",
    "</font>**"
   ]
  },
  {
   "cell_type": "code",
   "execution_count": 211,
   "metadata": {},
   "outputs": [
    {
     "name": "stdout",
     "output_type": "stream",
     "text": [
      "The ideal number of estimators out of the ones tested is 109, with a score of 0.78\n"
     ]
    }
   ],
   "source": [
    "#follow the example in notes where we did the grand finale competition lol using 3 diff\n",
    "#models\n",
    "\n",
    "#******SO I BELIEVE WE DON'T HAVE TO BOTHER SCALING IN FOREST RIGHT!!! cuz all features INDEPENDENT!!!!!******\n",
    "\n",
    "from sklearn.ensemble import RandomForestClassifier\n",
    "\n",
    "steps = [('scaler', StandardScaler()), ('rf', RandomForestClassifier())]\n",
    "\n",
    "pipeline = Pipeline(steps)\n",
    "\n",
    "params = {\"rf__n_estimators\": np.arange(1,333)}\n",
    "#HOW DO YOU KNOW HOW MANY TO TRY?!\n",
    "#################################################\n",
    "\n",
    "gs = GridSearchCV(pipeline, param_grid=params)\n",
    "#nice cuz this takes care of the scaling / fitting / transforming for you and in the right way\n",
    "#SO YOU DON'T HAVE TO WORRY ABOUT IT!!!!!\n",
    "\n",
    "gs.fit(X_train,y_train)\n",
    "\n",
    "print(\"The ideal number of estimators out of the ones tested is {}, with a score of {}\".format(str(gs.best_params_).split(\": \")[1].split(\"}\")[0], gs.best_score_.round(3)))\n",
    "                                                                #OR USE gs.best_index_ + 1\n"
   ]
  },
  {
   "cell_type": "code",
   "execution_count": 212,
   "metadata": {
    "tags": []
   },
   "outputs": [
    {
     "name": "stdout",
     "output_type": "stream",
     "text": [
      "The ideal number of estimators out of the ones tested is 109, with a score of 0.78\n"
     ]
    }
   ],
   "source": [
    "print(\"The ideal number of estimators out of the ones tested is {}, with a score of {}\".format(gs.best_index_ + 1, gs.best_score_.round(3)))\n"
   ]
  },
  {
   "cell_type": "code",
   "execution_count": null,
   "metadata": {},
   "outputs": [],
   "source": [
    "#Alhamdulillahi Rabbil 'Aalameen\n",
    "#Allahumma Sallee 'Ala Sayyiduna Muhammad, Wa 'Ala Aly Sayyiduna Muhammad, Wa Barik Wa Sallim\n",
    "#Laa Illaha Illa Ant, Subhanak, Innee Kuntu Minadh-Dhaalimeen"
   ]
  }
 ],
 "metadata": {
  "kernelspec": {
   "display_name": "tf_m1",
   "language": "python",
   "name": "python3"
  },
  "language_info": {
   "codemirror_mode": {
    "name": "ipython",
    "version": 3
   },
   "file_extension": ".py",
   "mimetype": "text/x-python",
   "name": "python",
   "nbconvert_exporter": "python",
   "pygments_lexer": "ipython3",
   "version": "3.8.12"
  },
  "vscode": {
   "interpreter": {
    "hash": "c476d5be062af8c53c5a2e4f951b2f07aa9c47f05899e43528a06f0dd12534bb"
   }
  }
 },
 "nbformat": 4,
 "nbformat_minor": 4
}
